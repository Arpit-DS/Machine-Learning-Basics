{
 "cells": [
  {
   "cell_type": "markdown",
   "metadata": {},
   "source": [
    "## Problem Statement:\n",
    "### Construct a model with Logistic Regression that uses available data about the passengers to predict their survival."
   ]
  },
  {
   "cell_type": "markdown",
   "metadata": {},
   "source": [
    "#### Importing Packages"
   ]
  },
  {
   "cell_type": "code",
   "execution_count": 2,
   "metadata": {},
   "outputs": [],
   "source": [
    "import warnings\n",
    "warnings.filterwarnings('ignore')\n",
    "import os\n",
    "import pandas as pd\n",
    "from pandas import DataFrame\n",
    "import pylab as pl\n",
    "import numpy as np\n",
    "import seaborn as sns\n",
    "from scipy import stats\n",
    "import matplotlib.pyplot as plt\n",
    "%matplotlib inline"
   ]
  },
  {
   "cell_type": "markdown",
   "metadata": {},
   "source": [
    "#### Reading the file for Analysis "
   ]
  },
  {
   "cell_type": "code",
   "execution_count": 3,
   "metadata": {},
   "outputs": [],
   "source": [
    "titanic=pd.read_csv(\"C:\\\\Users\\\\ARPIT\\\\Desktop\\\\UC-14000\\\\titanic.csv\") #Importing Data"
   ]
  },
  {
   "cell_type": "code",
   "execution_count": 4,
   "metadata": {},
   "outputs": [
    {
     "data": {
      "text/html": [
       "<div>\n",
       "<style scoped>\n",
       "    .dataframe tbody tr th:only-of-type {\n",
       "        vertical-align: middle;\n",
       "    }\n",
       "\n",
       "    .dataframe tbody tr th {\n",
       "        vertical-align: top;\n",
       "    }\n",
       "\n",
       "    .dataframe thead th {\n",
       "        text-align: right;\n",
       "    }\n",
       "</style>\n",
       "<table border=\"1\" class=\"dataframe\">\n",
       "  <thead>\n",
       "    <tr style=\"text-align: right;\">\n",
       "      <th></th>\n",
       "      <th>PassengerId</th>\n",
       "      <th>Survived</th>\n",
       "      <th>Pclass</th>\n",
       "      <th>Name</th>\n",
       "      <th>Sex</th>\n",
       "      <th>Age</th>\n",
       "      <th>SibSp</th>\n",
       "      <th>Parch</th>\n",
       "      <th>Ticket</th>\n",
       "      <th>Fare</th>\n",
       "      <th>Cabin</th>\n",
       "      <th>Embarked</th>\n",
       "    </tr>\n",
       "  </thead>\n",
       "  <tbody>\n",
       "    <tr>\n",
       "      <th>0</th>\n",
       "      <td>1</td>\n",
       "      <td>0</td>\n",
       "      <td>3</td>\n",
       "      <td>Braund, Mr. Owen Harris</td>\n",
       "      <td>male</td>\n",
       "      <td>22.0</td>\n",
       "      <td>1</td>\n",
       "      <td>0</td>\n",
       "      <td>A/5 21171</td>\n",
       "      <td>7.2500</td>\n",
       "      <td>NaN</td>\n",
       "      <td>S</td>\n",
       "    </tr>\n",
       "    <tr>\n",
       "      <th>1</th>\n",
       "      <td>2</td>\n",
       "      <td>1</td>\n",
       "      <td>1</td>\n",
       "      <td>Cumings, Mrs. John Bradley (Florence Briggs Th...</td>\n",
       "      <td>female</td>\n",
       "      <td>38.0</td>\n",
       "      <td>1</td>\n",
       "      <td>0</td>\n",
       "      <td>PC 17599</td>\n",
       "      <td>71.2833</td>\n",
       "      <td>C85</td>\n",
       "      <td>C</td>\n",
       "    </tr>\n",
       "    <tr>\n",
       "      <th>2</th>\n",
       "      <td>3</td>\n",
       "      <td>1</td>\n",
       "      <td>3</td>\n",
       "      <td>Heikkinen, Miss. Laina</td>\n",
       "      <td>female</td>\n",
       "      <td>26.0</td>\n",
       "      <td>0</td>\n",
       "      <td>0</td>\n",
       "      <td>STON/O2. 3101282</td>\n",
       "      <td>7.9250</td>\n",
       "      <td>NaN</td>\n",
       "      <td>S</td>\n",
       "    </tr>\n",
       "    <tr>\n",
       "      <th>3</th>\n",
       "      <td>4</td>\n",
       "      <td>1</td>\n",
       "      <td>1</td>\n",
       "      <td>Futrelle, Mrs. Jacques Heath (Lily May Peel)</td>\n",
       "      <td>female</td>\n",
       "      <td>35.0</td>\n",
       "      <td>1</td>\n",
       "      <td>0</td>\n",
       "      <td>113803</td>\n",
       "      <td>53.1000</td>\n",
       "      <td>C123</td>\n",
       "      <td>S</td>\n",
       "    </tr>\n",
       "    <tr>\n",
       "      <th>4</th>\n",
       "      <td>5</td>\n",
       "      <td>0</td>\n",
       "      <td>3</td>\n",
       "      <td>Allen, Mr. William Henry</td>\n",
       "      <td>male</td>\n",
       "      <td>35.0</td>\n",
       "      <td>0</td>\n",
       "      <td>0</td>\n",
       "      <td>373450</td>\n",
       "      <td>8.0500</td>\n",
       "      <td>NaN</td>\n",
       "      <td>S</td>\n",
       "    </tr>\n",
       "  </tbody>\n",
       "</table>\n",
       "</div>"
      ],
      "text/plain": [
       "   PassengerId  Survived  Pclass  \\\n",
       "0            1         0       3   \n",
       "1            2         1       1   \n",
       "2            3         1       3   \n",
       "3            4         1       1   \n",
       "4            5         0       3   \n",
       "\n",
       "                                                Name     Sex   Age  SibSp  \\\n",
       "0                            Braund, Mr. Owen Harris    male  22.0      1   \n",
       "1  Cumings, Mrs. John Bradley (Florence Briggs Th...  female  38.0      1   \n",
       "2                             Heikkinen, Miss. Laina  female  26.0      0   \n",
       "3       Futrelle, Mrs. Jacques Heath (Lily May Peel)  female  35.0      1   \n",
       "4                           Allen, Mr. William Henry    male  35.0      0   \n",
       "\n",
       "   Parch            Ticket     Fare Cabin Embarked  \n",
       "0      0         A/5 21171   7.2500   NaN        S  \n",
       "1      0          PC 17599  71.2833   C85        C  \n",
       "2      0  STON/O2. 3101282   7.9250   NaN        S  \n",
       "3      0            113803  53.1000  C123        S  \n",
       "4      0            373450   8.0500   NaN        S  "
      ]
     },
     "execution_count": 4,
     "metadata": {},
     "output_type": "execute_result"
    }
   ],
   "source": [
    "#Checking rows and Column\n",
    "titanic.head()"
   ]
  },
  {
   "cell_type": "markdown",
   "metadata": {},
   "source": [
    "###### Looking after the categories of columns"
   ]
  },
  {
   "cell_type": "code",
   "execution_count": 5,
   "metadata": {},
   "outputs": [
    {
     "name": "stdout",
     "output_type": "stream",
     "text": [
      "[0 1]\n",
      "[3 1 2]\n",
      "[1 0 3 4 2 5 8]\n",
      "[0 1 2 5 3 4 6]\n",
      "[nan 'C85' 'C123' 'E46' 'G6' 'C103' 'D56' 'A6' 'C23 C25 C27' 'B78' 'D33'\n",
      " 'B30' 'C52' 'B28' 'C83' 'F33' 'F G73' 'E31' 'A5' 'D10 D12' 'D26' 'C110'\n",
      " 'B58 B60' 'E101' 'F E69' 'D47' 'B86' 'F2' 'C2' 'E33' 'B19' 'A7' 'C49'\n",
      " 'F4' 'A32' 'B4' 'B80' 'A31' 'D36' 'D15' 'C93' 'C78' 'D35' 'C87' 'B77'\n",
      " 'E67' 'B94' 'C125' 'C99' 'C118' 'D7' 'A19' 'B49' 'D' 'C22 C26' 'C106'\n",
      " 'C65' 'E36' 'C54' 'B57 B59 B63 B66' 'C7' 'E34' 'C32' 'B18' 'C124' 'C91'\n",
      " 'E40' 'T' 'C128' 'D37' 'B35' 'E50' 'C82' 'B96 B98' 'E10' 'E44' 'A34'\n",
      " 'C104' 'C111' 'C92' 'E38' 'D21' 'E12' 'E63' 'A14' 'B37' 'C30' 'D20' 'B79'\n",
      " 'E25' 'D46' 'B73' 'C95' 'B38' 'B39' 'B22' 'C86' 'C70' 'A16' 'C101' 'C68'\n",
      " 'A10' 'E68' 'B41' 'A20' 'D19' 'D50' 'D9' 'A23' 'B50' 'A26' 'D48' 'E58'\n",
      " 'C126' 'B71' 'B51 B53 B55' 'D49' 'B5' 'B20' 'F G63' 'C62 C64' 'E24' 'C90'\n",
      " 'C45' 'E8' 'B101' 'D45' 'C46' 'D30' 'E121' 'D11' 'E77' 'F38' 'B3' 'D6'\n",
      " 'B82 B84' 'D17' 'A36' 'B102' 'B69' 'E49' 'C47' 'D28' 'E17' 'A24' 'C50'\n",
      " 'B42' 'C148']\n",
      "['S' 'C' 'Q' nan]\n"
     ]
    }
   ],
   "source": [
    "print(titanic['Survived'].unique())\n",
    "print(titanic['Pclass'].unique())\n",
    "print(titanic['SibSp'].unique())\n",
    "print(titanic['Parch'].unique())\n",
    "print(titanic['Cabin'].unique())\n",
    "print(titanic['Embarked'].unique())"
   ]
  },
  {
   "cell_type": "markdown",
   "metadata": {},
   "source": [
    "#### Predictors description\n",
    "<li> PassengerId </li>\n",
    "<li> Survived (0 = No; 1 = Yes) </li>\n",
    "<li> Pclass A proxy for socio-economic status (SES) 1st = Upper 2nd = Middle 3rd = Lower </li>\n",
    "<li> Name </li>\n",
    "<li> Sex </li>\n",
    "<li> Age </li>\n",
    "<li> SibSp:  Number of Siblings/Spouses Aboard </li>\n",
    "<li> Parch:  Number of Parents/Children Aboard </li>\n",
    "<li> Ticket: Ticket Number </li>\n",
    "<li> Fare:   Passenger Fare (British pound) </li>\n",
    "<li> Cabin </li>\n",
    "<li> Embarked:  Port of Embarkation (C = Cherbourg; Q = Queenstown; S = Southampton) </li>\n",
    "\n",
    "###### Sibling: Brother, Sister, Stepbrother, or Stepsister of Passenger Aboard Titanic \n",
    "###### Spouse: Husband or Wife of Passenger Aboard Titanic (Mistresses and FiancesIgnored)\n",
    "###### Parent: Mother or Father of Passenger Aboard Titanic\n",
    "###### Child: Son, Daughter, Stepson, or Stepdaughter of Passenger Aboard Titanic"
   ]
  },
  {
   "cell_type": "markdown",
   "metadata": {},
   "source": [
    "###### Few more information about data shape, data types, has null values in it or not"
   ]
  },
  {
   "cell_type": "code",
   "execution_count": 6,
   "metadata": {},
   "outputs": [
    {
     "name": "stdout",
     "output_type": "stream",
     "text": [
      "(891, 12)\n",
      "<class 'pandas.core.frame.DataFrame'>\n",
      "RangeIndex: 891 entries, 0 to 890\n",
      "Data columns (total 12 columns):\n",
      " #   Column       Non-Null Count  Dtype  \n",
      "---  ------       --------------  -----  \n",
      " 0   PassengerId  891 non-null    int64  \n",
      " 1   Survived     891 non-null    int64  \n",
      " 2   Pclass       891 non-null    int64  \n",
      " 3   Name         891 non-null    object \n",
      " 4   Sex          891 non-null    object \n",
      " 5   Age          714 non-null    float64\n",
      " 6   SibSp        891 non-null    int64  \n",
      " 7   Parch        891 non-null    int64  \n",
      " 8   Ticket       891 non-null    object \n",
      " 9   Fare         891 non-null    float64\n",
      " 10  Cabin        204 non-null    object \n",
      " 11  Embarked     889 non-null    object \n",
      "dtypes: float64(2), int64(5), object(5)\n",
      "memory usage: 83.7+ KB\n"
     ]
    }
   ],
   "source": [
    "print(titanic.shape)\n",
    "titanic.info()"
   ]
  },
  {
   "cell_type": "markdown",
   "metadata": {},
   "source": [
    "###### Checking for missing values total count and percentage of total data along with visualization or I can say another way to check missing values in data easily.\n"
   ]
  },
  {
   "cell_type": "code",
   "execution_count": 7,
   "metadata": {},
   "outputs": [
    {
     "name": "stdout",
     "output_type": "stream",
     "text": [
      "          Total     %\n",
      "Cabin       687  77.1\n",
      "Age         177  19.9\n",
      "Embarked      2   0.2\n",
      "Fare          0   0.0\n",
      "Ticket        0   0.0\n"
     ]
    },
    {
     "data": {
      "image/png": "[encoded data removed]",
      "text/plain": [
       "<Figure size 1800x720 with 2 Axes>"
      ]
     },
     "metadata": {
      "needs_background": "light"
     },
     "output_type": "display_data"
    }
   ],
   "source": [
    "import missingno as msno\n",
    "msno.matrix(titanic)\n",
    "total = titanic.isnull().sum().sort_values(ascending=False)\n",
    "percent_1 = titanic.isnull().sum()/titanic.isnull().count()*100\n",
    "percent_2 = (round(percent_1, 1)).sort_values(ascending=False)\n",
    "missing_data = pd.concat([total, percent_2], axis=1, keys=['Total','%'])\n",
    "print(missing_data.head(5))"
   ]
  },
  {
   "cell_type": "markdown",
   "metadata": {},
   "source": [
    "###### Getting Summary Statistics about data.\n",
    "We can see that fare column has a outliers. as we can see 75% of data lies around value 31.000 and max value is 512.3292 "
   ]
  },
  {
   "cell_type": "code",
   "execution_count": 8,
   "metadata": {},
   "outputs": [
    {
     "data": {
      "text/html": [
       "<div>\n",
       "<style scoped>\n",
       "    .dataframe tbody tr th:only-of-type {\n",
       "        vertical-align: middle;\n",
       "    }\n",
       "\n",
       "    .dataframe tbody tr th {\n",
       "        vertical-align: top;\n",
       "    }\n",
       "\n",
       "    .dataframe thead th {\n",
       "        text-align: right;\n",
       "    }\n",
       "</style>\n",
       "<table border=\"1\" class=\"dataframe\">\n",
       "  <thead>\n",
       "    <tr style=\"text-align: right;\">\n",
       "      <th></th>\n",
       "      <th>count</th>\n",
       "      <th>mean</th>\n",
       "      <th>std</th>\n",
       "      <th>min</th>\n",
       "      <th>25%</th>\n",
       "      <th>50%</th>\n",
       "      <th>75%</th>\n",
       "      <th>max</th>\n",
       "    </tr>\n",
       "  </thead>\n",
       "  <tbody>\n",
       "    <tr>\n",
       "      <th>PassengerId</th>\n",
       "      <td>891.0000</td>\n",
       "      <td>446.0000</td>\n",
       "      <td>257.3538</td>\n",
       "      <td>1.0000</td>\n",
       "      <td>223.5000</td>\n",
       "      <td>446.0000</td>\n",
       "      <td>668.5000</td>\n",
       "      <td>891.0000</td>\n",
       "    </tr>\n",
       "    <tr>\n",
       "      <th>Survived</th>\n",
       "      <td>891.0000</td>\n",
       "      <td>0.3838</td>\n",
       "      <td>0.4866</td>\n",
       "      <td>0.0000</td>\n",
       "      <td>0.0000</td>\n",
       "      <td>0.0000</td>\n",
       "      <td>1.0000</td>\n",
       "      <td>1.0000</td>\n",
       "    </tr>\n",
       "    <tr>\n",
       "      <th>Pclass</th>\n",
       "      <td>891.0000</td>\n",
       "      <td>2.3086</td>\n",
       "      <td>0.8361</td>\n",
       "      <td>1.0000</td>\n",
       "      <td>2.0000</td>\n",
       "      <td>3.0000</td>\n",
       "      <td>3.0000</td>\n",
       "      <td>3.0000</td>\n",
       "    </tr>\n",
       "    <tr>\n",
       "      <th>Age</th>\n",
       "      <td>714.0000</td>\n",
       "      <td>29.6991</td>\n",
       "      <td>14.5265</td>\n",
       "      <td>0.4200</td>\n",
       "      <td>20.1250</td>\n",
       "      <td>28.0000</td>\n",
       "      <td>38.0000</td>\n",
       "      <td>80.0000</td>\n",
       "    </tr>\n",
       "    <tr>\n",
       "      <th>SibSp</th>\n",
       "      <td>891.0000</td>\n",
       "      <td>0.5230</td>\n",
       "      <td>1.1027</td>\n",
       "      <td>0.0000</td>\n",
       "      <td>0.0000</td>\n",
       "      <td>0.0000</td>\n",
       "      <td>1.0000</td>\n",
       "      <td>8.0000</td>\n",
       "    </tr>\n",
       "    <tr>\n",
       "      <th>Parch</th>\n",
       "      <td>891.0000</td>\n",
       "      <td>0.3816</td>\n",
       "      <td>0.8061</td>\n",
       "      <td>0.0000</td>\n",
       "      <td>0.0000</td>\n",
       "      <td>0.0000</td>\n",
       "      <td>0.0000</td>\n",
       "      <td>6.0000</td>\n",
       "    </tr>\n",
       "    <tr>\n",
       "      <th>Fare</th>\n",
       "      <td>891.0000</td>\n",
       "      <td>32.2042</td>\n",
       "      <td>49.6934</td>\n",
       "      <td>0.0000</td>\n",
       "      <td>7.9104</td>\n",
       "      <td>14.4542</td>\n",
       "      <td>31.0000</td>\n",
       "      <td>512.3292</td>\n",
       "    </tr>\n",
       "  </tbody>\n",
       "</table>\n",
       "</div>"
      ],
      "text/plain": [
       "               count     mean      std    min      25%      50%      75%  \\\n",
       "PassengerId 891.0000 446.0000 257.3538 1.0000 223.5000 446.0000 668.5000   \n",
       "Survived    891.0000   0.3838   0.4866 0.0000   0.0000   0.0000   1.0000   \n",
       "Pclass      891.0000   2.3086   0.8361 1.0000   2.0000   3.0000   3.0000   \n",
       "Age         714.0000  29.6991  14.5265 0.4200  20.1250  28.0000  38.0000   \n",
       "SibSp       891.0000   0.5230   1.1027 0.0000   0.0000   0.0000   1.0000   \n",
       "Parch       891.0000   0.3816   0.8061 0.0000   0.0000   0.0000   0.0000   \n",
       "Fare        891.0000  32.2042  49.6934 0.0000   7.9104  14.4542  31.0000   \n",
       "\n",
       "                 max  \n",
       "PassengerId 891.0000  \n",
       "Survived      1.0000  \n",
       "Pclass        3.0000  \n",
       "Age          80.0000  \n",
       "SibSp         8.0000  \n",
       "Parch         6.0000  \n",
       "Fare        512.3292  "
      ]
     },
     "execution_count": 8,
     "metadata": {},
     "output_type": "execute_result"
    }
   ],
   "source": [
    "pd.options.display.float_format = '{:.4f}'.format\n",
    "titanic.describe().T"
   ]
  },
  {
   "cell_type": "markdown",
   "metadata": {},
   "source": [
    "## Exploratory Data Analysis "
   ]
  },
  {
   "cell_type": "markdown",
   "metadata": {},
   "source": [
    "#### Viz 1:The Counplot plotted below shows Class wise survival of Passengers . We can see the survival to death ratio is High for Class 1 Passengers. "
   ]
  },
  {
   "cell_type": "code",
   "execution_count": 9,
   "metadata": {},
   "outputs": [
    {
     "data": {
      "text/plain": [
       "<matplotlib.axes._subplots.AxesSubplot at 0x26facdd948>"
      ]
     },
     "execution_count": 9,
     "metadata": {},
     "output_type": "execute_result"
    },
    {
     "data": {
      "image/png": "[encoded data removed]",
      "text/plain": [
       "<Figure size 432x288 with 1 Axes>"
      ]
     },
     "metadata": {
      "needs_background": "light"
     },
     "output_type": "display_data"
    }
   ],
   "source": [
    "sns.countplot(x='Pclass', hue='Survived', data=titanic)"
   ]
  },
  {
   "cell_type": "markdown",
   "metadata": {},
   "source": [
    "We see that the probability that a Passengers of Class 3 has lower probability of Survival substantially lower than the Class 2 and Class 1 Passengers (47.28% and 62.96%). In the odds for a Passengers of Class 3 survival being much less than 1 (around 0.31), while the odds for class 1 is around 1.7 which is pretty much high."
   ]
  },
  {
   "cell_type": "code",
   "execution_count": 10,
   "metadata": {},
   "outputs": [
    {
     "data": {
      "text/html": [
       "<div>\n",
       "<style scoped>\n",
       "    .dataframe tbody tr th:only-of-type {\n",
       "        vertical-align: middle;\n",
       "    }\n",
       "\n",
       "    .dataframe tbody tr th {\n",
       "        vertical-align: top;\n",
       "    }\n",
       "\n",
       "    .dataframe thead th {\n",
       "        text-align: right;\n",
       "    }\n",
       "</style>\n",
       "<table border=\"1\" class=\"dataframe\">\n",
       "  <thead>\n",
       "    <tr style=\"text-align: right;\">\n",
       "      <th>Survived</th>\n",
       "      <th>0</th>\n",
       "      <th>1</th>\n",
       "      <th>odds</th>\n",
       "    </tr>\n",
       "    <tr>\n",
       "      <th>Pclass</th>\n",
       "      <th></th>\n",
       "      <th></th>\n",
       "      <th></th>\n",
       "    </tr>\n",
       "  </thead>\n",
       "  <tbody>\n",
       "    <tr>\n",
       "      <th>1</th>\n",
       "      <td>0.3704</td>\n",
       "      <td>0.6296</td>\n",
       "      <td>1.7000</td>\n",
       "    </tr>\n",
       "    <tr>\n",
       "      <th>2</th>\n",
       "      <td>0.5272</td>\n",
       "      <td>0.4728</td>\n",
       "      <td>0.8969</td>\n",
       "    </tr>\n",
       "    <tr>\n",
       "      <th>3</th>\n",
       "      <td>0.7576</td>\n",
       "      <td>0.2424</td>\n",
       "      <td>0.3199</td>\n",
       "    </tr>\n",
       "  </tbody>\n",
       "</table>\n",
       "</div>"
      ],
      "text/plain": [
       "Survived      0      1   odds\n",
       "Pclass                       \n",
       "1        0.3704 0.6296 1.7000\n",
       "2        0.5272 0.4728 0.8969\n",
       "3        0.7576 0.2424 0.3199"
      ]
     },
     "execution_count": 10,
     "metadata": {},
     "output_type": "execute_result"
    }
   ],
   "source": [
    "c = pd.crosstab(titanic.Pclass, titanic.Survived).apply(lambda x: x/x.sum(), axis=1)\n",
    "c[\"odds\"] = c.loc[:, 1] / c.loc[:, 0]\n",
    "c"
   ]
  },
  {
   "cell_type": "code",
   "execution_count": 11,
   "metadata": {},
   "outputs": [
    {
     "data": {
      "text/plain": [
       "5.314160675211003"
      ]
     },
     "execution_count": 11,
     "metadata": {},
     "output_type": "execute_result"
    }
   ],
   "source": [
    "# So the odds of Survival of Pclass1/ Pclass 3 can be given as\n",
    "Class1=1.7000\n",
    "Class2=0.3199\n",
    "Odds_Ratio=Class1/Class2\n",
    "Odds_Ratio"
   ]
  },
  {
   "cell_type": "markdown",
   "metadata": {},
   "source": [
    "The odds ratio of Survival, comparing Class1 to Class2, is around 5.314. In other words, Class 1 Passengers has around 5.314 times greater odds of survival than Class2 (in the population represented by these data)."
   ]
  },
  {
   "cell_type": "markdown",
   "metadata": {},
   "source": [
    "###### Logodds Interpretation with some basic understanding:\n",
    "**To interpret the log odds when comparing two groups, it is important to remember the following facts:**\n",
    "\n",
    "1. A probability of 1/2, an odds of 1, and a log odds of 0 are all equivalent.\n",
    "\n",
    "2. A positive log odds indicates that the first group being compared has greater odds (and greater probability) than the second group.\n",
    "\n",
    "3. A negative log odds indicates that the second group being compared has greater odds (and greater probability) than the first group.\n",
    "\n",
    "4. The scale of the log odds statistic is symmetric in the sense that a log odds of, say, 2, is equivalent in strength to a log odds of -2 (but with the groups swapped in terms of which has the greater probability).\n",
    "\n",
    "\n",
    "So, From the above Interpretation of logodds we can say Class 1 Passengers has positive log odds which can be interpreted as it has greater probability of survival than Class 2 & Class 3 passengers."
   ]
  },
  {
   "cell_type": "code",
   "execution_count": 12,
   "metadata": {},
   "outputs": [
    {
     "data": {
      "text/html": [
       "<div>\n",
       "<style scoped>\n",
       "    .dataframe tbody tr th:only-of-type {\n",
       "        vertical-align: middle;\n",
       "    }\n",
       "\n",
       "    .dataframe tbody tr th {\n",
       "        vertical-align: top;\n",
       "    }\n",
       "\n",
       "    .dataframe thead th {\n",
       "        text-align: right;\n",
       "    }\n",
       "</style>\n",
       "<table border=\"1\" class=\"dataframe\">\n",
       "  <thead>\n",
       "    <tr style=\"text-align: right;\">\n",
       "      <th>Survived</th>\n",
       "      <th>0</th>\n",
       "      <th>1</th>\n",
       "      <th>odds</th>\n",
       "      <th>logodds</th>\n",
       "    </tr>\n",
       "    <tr>\n",
       "      <th>Pclass</th>\n",
       "      <th></th>\n",
       "      <th></th>\n",
       "      <th></th>\n",
       "      <th></th>\n",
       "    </tr>\n",
       "  </thead>\n",
       "  <tbody>\n",
       "    <tr>\n",
       "      <th>1</th>\n",
       "      <td>0.3704</td>\n",
       "      <td>0.6296</td>\n",
       "      <td>1.7000</td>\n",
       "      <td>0.5306</td>\n",
       "    </tr>\n",
       "    <tr>\n",
       "      <th>2</th>\n",
       "      <td>0.5272</td>\n",
       "      <td>0.4728</td>\n",
       "      <td>0.8969</td>\n",
       "      <td>-0.1088</td>\n",
       "    </tr>\n",
       "    <tr>\n",
       "      <th>3</th>\n",
       "      <td>0.7576</td>\n",
       "      <td>0.2424</td>\n",
       "      <td>0.3199</td>\n",
       "      <td>-1.1398</td>\n",
       "    </tr>\n",
       "  </tbody>\n",
       "</table>\n",
       "</div>"
      ],
      "text/plain": [
       "Survived      0      1   odds  logodds\n",
       "Pclass                                \n",
       "1        0.3704 0.6296 1.7000   0.5306\n",
       "2        0.5272 0.4728 0.8969  -0.1088\n",
       "3        0.7576 0.2424 0.3199  -1.1398"
      ]
     },
     "execution_count": 12,
     "metadata": {},
     "output_type": "execute_result"
    }
   ],
   "source": [
    "c[\"logodds\"] = np.log(c.odds)\n",
    "c"
   ]
  },
  {
   "cell_type": "markdown",
   "metadata": {},
   "source": [
    "#### Viz 2: Followed from the above graph. As we all know that Womens and Childrens were given first priority to be getting to life boats and then mens. So does 1st Class Passengers has more Female passengers compared with other two. Lets see throgh vizualization & Crosstab.\n",
    "From the crosstab we can see that out of 94 1st class Females Passengers and 76  nd Class Females Passengers only 3 in 1st Class and 6 in 2nd class are reported to be not survived. Lets See through Vizualization."
   ]
  },
  {
   "cell_type": "code",
   "execution_count": 13,
   "metadata": {},
   "outputs": [
    {
     "data": {
      "text/plain": [
       "<matplotlib.axes._subplots.AxesSubplot at 0x2680923d88>"
      ]
     },
     "execution_count": 13,
     "metadata": {},
     "output_type": "execute_result"
    },
    {
     "data": {
      "image/png": "[encoded data removed]",
      "text/plain": [
       "<Figure size 432x288 with 1 Axes>"
      ]
     },
     "metadata": {
      "needs_background": "light"
     },
     "output_type": "display_data"
    }
   ],
   "source": [
    "sns.countplot(x='Sex', hue='Pclass', data=titanic)"
   ]
  },
  {
   "cell_type": "code",
   "execution_count": 14,
   "metadata": {},
   "outputs": [
    {
     "data": {
      "text/html": [
       "<style  type=\"text/css\" >\n",
       "    #T_b45bd088_b3e4_11ea_9fd2_a0481c04c2c7row0_col0 {\n",
       "            background-color:  #e4ff7a;\n",
       "            color:  #000000;\n",
       "        }    #T_b45bd088_b3e4_11ea_9fd2_a0481c04c2c7row0_col1 {\n",
       "            background-color:  #e4ff7a;\n",
       "            color:  #000000;\n",
       "        }    #T_b45bd088_b3e4_11ea_9fd2_a0481c04c2c7row0_col2 {\n",
       "            background-color:  #eafa65;\n",
       "            color:  #000000;\n",
       "        }    #T_b45bd088_b3e4_11ea_9fd2_a0481c04c2c7row0_col3 {\n",
       "            background-color:  #e4ff7a;\n",
       "            color:  #000000;\n",
       "        }    #T_b45bd088_b3e4_11ea_9fd2_a0481c04c2c7row1_col0 {\n",
       "            background-color:  #ffcc09;\n",
       "            color:  #000000;\n",
       "        }    #T_b45bd088_b3e4_11ea_9fd2_a0481c04c2c7row1_col1 {\n",
       "            background-color:  #ffd50e;\n",
       "            color:  #000000;\n",
       "        }    #T_b45bd088_b3e4_11ea_9fd2_a0481c04c2c7row1_col2 {\n",
       "            background-color:  #eafa65;\n",
       "            color:  #000000;\n",
       "        }    #T_b45bd088_b3e4_11ea_9fd2_a0481c04c2c7row1_col3 {\n",
       "            background-color:  #f8ee32;\n",
       "            color:  #000000;\n",
       "        }    #T_b45bd088_b3e4_11ea_9fd2_a0481c04c2c7row2_col0 {\n",
       "            background-color:  #ffd810;\n",
       "            color:  #000000;\n",
       "        }    #T_b45bd088_b3e4_11ea_9fd2_a0481c04c2c7row2_col1 {\n",
       "            background-color:  #ffc102;\n",
       "            color:  #000000;\n",
       "        }    #T_b45bd088_b3e4_11ea_9fd2_a0481c04c2c7row2_col2 {\n",
       "            background-color:  #ffb500;\n",
       "            color:  #000000;\n",
       "        }    #T_b45bd088_b3e4_11ea_9fd2_a0481c04c2c7row2_col3 {\n",
       "            background-color:  #ffc102;\n",
       "            color:  #000000;\n",
       "        }    #T_b45bd088_b3e4_11ea_9fd2_a0481c04c2c7row3_col0 {\n",
       "            background-color:  #f9ed2f;\n",
       "            color:  #000000;\n",
       "        }    #T_b45bd088_b3e4_11ea_9fd2_a0481c04c2c7row3_col1 {\n",
       "            background-color:  #eafa63;\n",
       "            color:  #000000;\n",
       "        }    #T_b45bd088_b3e4_11ea_9fd2_a0481c04c2c7row3_col2 {\n",
       "            background-color:  #e4ff7a;\n",
       "            color:  #000000;\n",
       "        }    #T_b45bd088_b3e4_11ea_9fd2_a0481c04c2c7row3_col3 {\n",
       "            background-color:  #e7fc6e;\n",
       "            color:  #000000;\n",
       "        }    #T_b45bd088_b3e4_11ea_9fd2_a0481c04c2c7row4_col0 {\n",
       "            background-color:  #fc7f00;\n",
       "            color:  #000000;\n",
       "        }    #T_b45bd088_b3e4_11ea_9fd2_a0481c04c2c7row4_col1 {\n",
       "            background-color:  #fc7f00;\n",
       "            color:  #000000;\n",
       "        }    #T_b45bd088_b3e4_11ea_9fd2_a0481c04c2c7row4_col2 {\n",
       "            background-color:  #fc7f00;\n",
       "            color:  #000000;\n",
       "        }    #T_b45bd088_b3e4_11ea_9fd2_a0481c04c2c7row4_col3 {\n",
       "            background-color:  #fc7f00;\n",
       "            color:  #000000;\n",
       "        }</style><table id=\"T_b45bd088_b3e4_11ea_9fd2_a0481c04c2c7\" ><thead>    <tr>        <th class=\"blank\" ></th>        <th class=\"index_name level0\" >Pclass</th>        <th class=\"col_heading level0 col0\" >1</th>        <th class=\"col_heading level0 col1\" >2</th>        <th class=\"col_heading level0 col2\" >3</th>        <th class=\"col_heading level0 col3\" >All</th>    </tr>    <tr>        <th class=\"index_name level0\" >Sex</th>        <th class=\"index_name level1\" >Survived</th>        <th class=\"blank\" ></th>        <th class=\"blank\" ></th>        <th class=\"blank\" ></th>        <th class=\"blank\" ></th>    </tr></thead><tbody>\n",
       "                <tr>\n",
       "                        <th id=\"T_b45bd088_b3e4_11ea_9fd2_a0481c04c2c7level0_row0\" class=\"row_heading level0 row0\" rowspan=2>female</th>\n",
       "                        <th id=\"T_b45bd088_b3e4_11ea_9fd2_a0481c04c2c7level1_row0\" class=\"row_heading level1 row0\" >0</th>\n",
       "                        <td id=\"T_b45bd088_b3e4_11ea_9fd2_a0481c04c2c7row0_col0\" class=\"data row0 col0\" >3</td>\n",
       "                        <td id=\"T_b45bd088_b3e4_11ea_9fd2_a0481c04c2c7row0_col1\" class=\"data row0 col1\" >6</td>\n",
       "                        <td id=\"T_b45bd088_b3e4_11ea_9fd2_a0481c04c2c7row0_col2\" class=\"data row0 col2\" >72</td>\n",
       "                        <td id=\"T_b45bd088_b3e4_11ea_9fd2_a0481c04c2c7row0_col3\" class=\"data row0 col3\" >81</td>\n",
       "            </tr>\n",
       "            <tr>\n",
       "                                <th id=\"T_b45bd088_b3e4_11ea_9fd2_a0481c04c2c7level1_row1\" class=\"row_heading level1 row1\" >1</th>\n",
       "                        <td id=\"T_b45bd088_b3e4_11ea_9fd2_a0481c04c2c7row1_col0\" class=\"data row1 col0\" >91</td>\n",
       "                        <td id=\"T_b45bd088_b3e4_11ea_9fd2_a0481c04c2c7row1_col1\" class=\"data row1 col1\" >70</td>\n",
       "                        <td id=\"T_b45bd088_b3e4_11ea_9fd2_a0481c04c2c7row1_col2\" class=\"data row1 col2\" >72</td>\n",
       "                        <td id=\"T_b45bd088_b3e4_11ea_9fd2_a0481c04c2c7row1_col3\" class=\"data row1 col3\" >233</td>\n",
       "            </tr>\n",
       "            <tr>\n",
       "                        <th id=\"T_b45bd088_b3e4_11ea_9fd2_a0481c04c2c7level0_row2\" class=\"row_heading level0 row2\" rowspan=2>male</th>\n",
       "                        <th id=\"T_b45bd088_b3e4_11ea_9fd2_a0481c04c2c7level1_row2\" class=\"row_heading level1 row2\" >0</th>\n",
       "                        <td id=\"T_b45bd088_b3e4_11ea_9fd2_a0481c04c2c7row2_col0\" class=\"data row2 col0\" >77</td>\n",
       "                        <td id=\"T_b45bd088_b3e4_11ea_9fd2_a0481c04c2c7row2_col1\" class=\"data row2 col1\" >91</td>\n",
       "                        <td id=\"T_b45bd088_b3e4_11ea_9fd2_a0481c04c2c7row2_col2\" class=\"data row2 col2\" >300</td>\n",
       "                        <td id=\"T_b45bd088_b3e4_11ea_9fd2_a0481c04c2c7row2_col3\" class=\"data row2 col3\" >468</td>\n",
       "            </tr>\n",
       "            <tr>\n",
       "                                <th id=\"T_b45bd088_b3e4_11ea_9fd2_a0481c04c2c7level1_row3\" class=\"row_heading level1 row3\" >1</th>\n",
       "                        <td id=\"T_b45bd088_b3e4_11ea_9fd2_a0481c04c2c7row3_col0\" class=\"data row3 col0\" >45</td>\n",
       "                        <td id=\"T_b45bd088_b3e4_11ea_9fd2_a0481c04c2c7row3_col1\" class=\"data row3 col1\" >17</td>\n",
       "                        <td id=\"T_b45bd088_b3e4_11ea_9fd2_a0481c04c2c7row3_col2\" class=\"data row3 col2\" >47</td>\n",
       "                        <td id=\"T_b45bd088_b3e4_11ea_9fd2_a0481c04c2c7row3_col3\" class=\"data row3 col3\" >109</td>\n",
       "            </tr>\n",
       "            <tr>\n",
       "                        <th id=\"T_b45bd088_b3e4_11ea_9fd2_a0481c04c2c7level0_row4\" class=\"row_heading level0 row4\" >All</th>\n",
       "                        <th id=\"T_b45bd088_b3e4_11ea_9fd2_a0481c04c2c7level1_row4\" class=\"row_heading level1 row4\" ></th>\n",
       "                        <td id=\"T_b45bd088_b3e4_11ea_9fd2_a0481c04c2c7row4_col0\" class=\"data row4 col0\" >216</td>\n",
       "                        <td id=\"T_b45bd088_b3e4_11ea_9fd2_a0481c04c2c7row4_col1\" class=\"data row4 col1\" >184</td>\n",
       "                        <td id=\"T_b45bd088_b3e4_11ea_9fd2_a0481c04c2c7row4_col2\" class=\"data row4 col2\" >491</td>\n",
       "                        <td id=\"T_b45bd088_b3e4_11ea_9fd2_a0481c04c2c7row4_col3\" class=\"data row4 col3\" >891</td>\n",
       "            </tr>\n",
       "    </tbody></table>"
      ],
      "text/plain": [
       "<pandas.io.formats.style.Styler at 0x2680911fc8>"
      ]
     },
     "execution_count": 14,
     "metadata": {},
     "output_type": "execute_result"
    }
   ],
   "source": [
    "pd.crosstab([titanic.Sex, titanic.Survived],titanic.Pclass,margins=True).style.background_gradient(cmap='Wistia')\n",
    "#https://pandas.pydata.org/pandas-docs/stable/reference/api/pandas.crosstab.html"
   ]
  },
  {
   "cell_type": "markdown",
   "metadata": {},
   "source": [
    "We see that the probability that a Male Passengers has lower probability of Survival substantially lower than Female passengers (74.2%). In the odds for a Male Passengers survival being much less than 1 (around 0.2329), while the odds for Female passengers is around 2.8 which is pretty much higher than male odds."
   ]
  },
  {
   "cell_type": "code",
   "execution_count": 15,
   "metadata": {},
   "outputs": [
    {
     "data": {
      "text/html": [
       "<div>\n",
       "<style scoped>\n",
       "    .dataframe tbody tr th:only-of-type {\n",
       "        vertical-align: middle;\n",
       "    }\n",
       "\n",
       "    .dataframe tbody tr th {\n",
       "        vertical-align: top;\n",
       "    }\n",
       "\n",
       "    .dataframe thead th {\n",
       "        text-align: right;\n",
       "    }\n",
       "</style>\n",
       "<table border=\"1\" class=\"dataframe\">\n",
       "  <thead>\n",
       "    <tr style=\"text-align: right;\">\n",
       "      <th>Survived</th>\n",
       "      <th>0</th>\n",
       "      <th>1</th>\n",
       "      <th>odds</th>\n",
       "    </tr>\n",
       "    <tr>\n",
       "      <th>Sex</th>\n",
       "      <th></th>\n",
       "      <th></th>\n",
       "      <th></th>\n",
       "    </tr>\n",
       "  </thead>\n",
       "  <tbody>\n",
       "    <tr>\n",
       "      <th>female</th>\n",
       "      <td>0.2580</td>\n",
       "      <td>0.7420</td>\n",
       "      <td>2.8765</td>\n",
       "    </tr>\n",
       "    <tr>\n",
       "      <th>male</th>\n",
       "      <td>0.8111</td>\n",
       "      <td>0.1889</td>\n",
       "      <td>0.2329</td>\n",
       "    </tr>\n",
       "  </tbody>\n",
       "</table>\n",
       "</div>"
      ],
      "text/plain": [
       "Survived      0      1   odds\n",
       "Sex                          \n",
       "female   0.2580 0.7420 2.8765\n",
       "male     0.8111 0.1889 0.2329"
      ]
     },
     "execution_count": 15,
     "metadata": {},
     "output_type": "execute_result"
    }
   ],
   "source": [
    "d = pd.crosstab(titanic.Sex, titanic.Survived).apply(lambda x: x/x.sum(), axis=1)\n",
    "d[\"odds\"] = d.loc[:, 1] / d.loc[:, 0]\n",
    "d"
   ]
  },
  {
   "cell_type": "markdown",
   "metadata": {},
   "source": [
    "Looking at logodds of female and male Passengers, female passengers have positive log odds which can be interpreted as it has greater probability of survival than male passengers."
   ]
  },
  {
   "cell_type": "code",
   "execution_count": 16,
   "metadata": {},
   "outputs": [
    {
     "data": {
      "text/html": [
       "<div>\n",
       "<style scoped>\n",
       "    .dataframe tbody tr th:only-of-type {\n",
       "        vertical-align: middle;\n",
       "    }\n",
       "\n",
       "    .dataframe tbody tr th {\n",
       "        vertical-align: top;\n",
       "    }\n",
       "\n",
       "    .dataframe thead th {\n",
       "        text-align: right;\n",
       "    }\n",
       "</style>\n",
       "<table border=\"1\" class=\"dataframe\">\n",
       "  <thead>\n",
       "    <tr style=\"text-align: right;\">\n",
       "      <th>Survived</th>\n",
       "      <th>0</th>\n",
       "      <th>1</th>\n",
       "      <th>odds</th>\n",
       "      <th>logodds</th>\n",
       "    </tr>\n",
       "    <tr>\n",
       "      <th>Sex</th>\n",
       "      <th></th>\n",
       "      <th></th>\n",
       "      <th></th>\n",
       "      <th></th>\n",
       "    </tr>\n",
       "  </thead>\n",
       "  <tbody>\n",
       "    <tr>\n",
       "      <th>female</th>\n",
       "      <td>0.2580</td>\n",
       "      <td>0.7420</td>\n",
       "      <td>2.8765</td>\n",
       "      <td>1.0566</td>\n",
       "    </tr>\n",
       "    <tr>\n",
       "      <th>male</th>\n",
       "      <td>0.8111</td>\n",
       "      <td>0.1889</td>\n",
       "      <td>0.2329</td>\n",
       "      <td>-1.4571</td>\n",
       "    </tr>\n",
       "  </tbody>\n",
       "</table>\n",
       "</div>"
      ],
      "text/plain": [
       "Survived      0      1   odds  logodds\n",
       "Sex                                   \n",
       "female   0.2580 0.7420 2.8765   1.0566\n",
       "male     0.8111 0.1889 0.2329  -1.4571"
      ]
     },
     "execution_count": 16,
     "metadata": {},
     "output_type": "execute_result"
    }
   ],
   "source": [
    "d[\"logodds\"] = np.log(d.odds)\n",
    "d"
   ]
  },
  {
   "cell_type": "markdown",
   "metadata": {},
   "source": [
    "#### Viz 3: Lets see if embarked has any influence on survival. \n",
    "From the countplot plotted below we can see that People who boarded from \"C\" shows higher survival. Lets check if \" Person boarding from C has high Female and Class 1 passengers or not using crosstab.\""
   ]
  },
  {
   "cell_type": "code",
   "execution_count": 17,
   "metadata": {},
   "outputs": [
    {
     "data": {
      "text/plain": [
       "Text(0.5, 1.0, 'Survival by Embarked')"
      ]
     },
     "execution_count": 17,
     "metadata": {},
     "output_type": "execute_result"
    },
    {
     "data": {
      "image/png": "[encoded data removed]",
      "text/plain": [
       "<Figure size 432x288 with 1 Axes>"
      ]
     },
     "metadata": {
      "needs_background": "light"
     },
     "output_type": "display_data"
    }
   ],
   "source": [
    "sns.countplot('Embarked',hue='Survived',data=titanic).set_title('Survival by Embarked')"
   ]
  },
  {
   "cell_type": "code",
   "execution_count": 18,
   "metadata": {
    "scrolled": true
   },
   "outputs": [
    {
     "data": {
      "text/html": [
       "<style  type=\"text/css\" >\n",
       "    #T_b7a3f00c_b3e4_11ea_9746_a0481c04c2c7row0_col0 {\n",
       "            background-color:  #440154;\n",
       "            color:  #f1f1f1;\n",
       "        }    #T_b7a3f00c_b3e4_11ea_9746_a0481c04c2c7row0_col1 {\n",
       "            background-color:  #471164;\n",
       "            color:  #f1f1f1;\n",
       "        }    #T_b7a3f00c_b3e4_11ea_9746_a0481c04c2c7row0_col2 {\n",
       "            background-color:  #460b5e;\n",
       "            color:  #f1f1f1;\n",
       "        }    #T_b7a3f00c_b3e4_11ea_9746_a0481c04c2c7row1_col0 {\n",
       "            background-color:  #440154;\n",
       "            color:  #f1f1f1;\n",
       "        }    #T_b7a3f00c_b3e4_11ea_9746_a0481c04c2c7row1_col1 {\n",
       "            background-color:  #440154;\n",
       "            color:  #f1f1f1;\n",
       "        }    #T_b7a3f00c_b3e4_11ea_9746_a0481c04c2c7row1_col2 {\n",
       "            background-color:  #440154;\n",
       "            color:  #f1f1f1;\n",
       "        }    #T_b7a3f00c_b3e4_11ea_9746_a0481c04c2c7row2_col0 {\n",
       "            background-color:  #440256;\n",
       "            color:  #f1f1f1;\n",
       "        }    #T_b7a3f00c_b3e4_11ea_9746_a0481c04c2c7row2_col1 {\n",
       "            background-color:  #482071;\n",
       "            color:  #f1f1f1;\n",
       "        }    #T_b7a3f00c_b3e4_11ea_9746_a0481c04c2c7row2_col2 {\n",
       "            background-color:  #481668;\n",
       "            color:  #f1f1f1;\n",
       "        }    #T_b7a3f00c_b3e4_11ea_9746_a0481c04c2c7row3_col0 {\n",
       "            background-color:  #440154;\n",
       "            color:  #f1f1f1;\n",
       "        }    #T_b7a3f00c_b3e4_11ea_9746_a0481c04c2c7row3_col1 {\n",
       "            background-color:  #450559;\n",
       "            color:  #f1f1f1;\n",
       "        }    #T_b7a3f00c_b3e4_11ea_9746_a0481c04c2c7row3_col2 {\n",
       "            background-color:  #450457;\n",
       "            color:  #f1f1f1;\n",
       "        }    #T_b7a3f00c_b3e4_11ea_9746_a0481c04c2c7row4_col0 {\n",
       "            background-color:  #440154;\n",
       "            color:  #f1f1f1;\n",
       "        }    #T_b7a3f00c_b3e4_11ea_9746_a0481c04c2c7row4_col1 {\n",
       "            background-color:  #440154;\n",
       "            color:  #f1f1f1;\n",
       "        }    #T_b7a3f00c_b3e4_11ea_9746_a0481c04c2c7row4_col2 {\n",
       "            background-color:  #440154;\n",
       "            color:  #f1f1f1;\n",
       "        }    #T_b7a3f00c_b3e4_11ea_9746_a0481c04c2c7row5_col0 {\n",
       "            background-color:  #46075a;\n",
       "            color:  #f1f1f1;\n",
       "        }    #T_b7a3f00c_b3e4_11ea_9746_a0481c04c2c7row5_col1 {\n",
       "            background-color:  #46327e;\n",
       "            color:  #f1f1f1;\n",
       "        }    #T_b7a3f00c_b3e4_11ea_9746_a0481c04c2c7row5_col2 {\n",
       "            background-color:  #482475;\n",
       "            color:  #f1f1f1;\n",
       "        }    #T_b7a3f00c_b3e4_11ea_9746_a0481c04c2c7row6_col0 {\n",
       "            background-color:  #460a5d;\n",
       "            color:  #f1f1f1;\n",
       "        }    #T_b7a3f00c_b3e4_11ea_9746_a0481c04c2c7row6_col1 {\n",
       "            background-color:  #481668;\n",
       "            color:  #f1f1f1;\n",
       "        }    #T_b7a3f00c_b3e4_11ea_9746_a0481c04c2c7row6_col2 {\n",
       "            background-color:  #471164;\n",
       "            color:  #f1f1f1;\n",
       "        }    #T_b7a3f00c_b3e4_11ea_9746_a0481c04c2c7row7_col0 {\n",
       "            background-color:  #460b5e;\n",
       "            color:  #f1f1f1;\n",
       "        }    #T_b7a3f00c_b3e4_11ea_9746_a0481c04c2c7row7_col1 {\n",
       "            background-color:  #481769;\n",
       "            color:  #f1f1f1;\n",
       "        }    #T_b7a3f00c_b3e4_11ea_9746_a0481c04c2c7row7_col2 {\n",
       "            background-color:  #471365;\n",
       "            color:  #f1f1f1;\n",
       "        }    #T_b7a3f00c_b3e4_11ea_9746_a0481c04c2c7row8_col0 {\n",
       "            background-color:  #433d84;\n",
       "            color:  #f1f1f1;\n",
       "        }    #T_b7a3f00c_b3e4_11ea_9746_a0481c04c2c7row8_col1 {\n",
       "            background-color:  #2a788e;\n",
       "            color:  #000000;\n",
       "        }    #T_b7a3f00c_b3e4_11ea_9746_a0481c04c2c7row8_col2 {\n",
       "            background-color:  #32658e;\n",
       "            color:  #f1f1f1;\n",
       "        }    #T_b7a3f00c_b3e4_11ea_9746_a0481c04c2c7row9_col0 {\n",
       "            background-color:  #472f7d;\n",
       "            color:  #f1f1f1;\n",
       "        }    #T_b7a3f00c_b3e4_11ea_9746_a0481c04c2c7row9_col1 {\n",
       "            background-color:  #460b5e;\n",
       "            color:  #f1f1f1;\n",
       "        }    #T_b7a3f00c_b3e4_11ea_9746_a0481c04c2c7row9_col2 {\n",
       "            background-color:  #48186a;\n",
       "            color:  #f1f1f1;\n",
       "        }    #T_b7a3f00c_b3e4_11ea_9746_a0481c04c2c7row10_col0 {\n",
       "            background-color:  #440154;\n",
       "            color:  #f1f1f1;\n",
       "        }    #T_b7a3f00c_b3e4_11ea_9746_a0481c04c2c7row10_col1 {\n",
       "            background-color:  #440154;\n",
       "            color:  #f1f1f1;\n",
       "        }    #T_b7a3f00c_b3e4_11ea_9746_a0481c04c2c7row10_col2 {\n",
       "            background-color:  #440154;\n",
       "            color:  #f1f1f1;\n",
       "        }    #T_b7a3f00c_b3e4_11ea_9746_a0481c04c2c7row11_col0 {\n",
       "            background-color:  #46337f;\n",
       "            color:  #f1f1f1;\n",
       "        }    #T_b7a3f00c_b3e4_11ea_9746_a0481c04c2c7row11_col1 {\n",
       "            background-color:  #471365;\n",
       "            color:  #f1f1f1;\n",
       "        }    #T_b7a3f00c_b3e4_11ea_9746_a0481c04c2c7row11_col2 {\n",
       "            background-color:  #481f70;\n",
       "            color:  #f1f1f1;\n",
       "        }    #T_b7a3f00c_b3e4_11ea_9746_a0481c04c2c7row12_col0 {\n",
       "            background-color:  #46085c;\n",
       "            color:  #f1f1f1;\n",
       "        }    #T_b7a3f00c_b3e4_11ea_9746_a0481c04c2c7row12_col1 {\n",
       "            background-color:  #440154;\n",
       "            color:  #f1f1f1;\n",
       "        }    #T_b7a3f00c_b3e4_11ea_9746_a0481c04c2c7row12_col2 {\n",
       "            background-color:  #450457;\n",
       "            color:  #f1f1f1;\n",
       "        }    #T_b7a3f00c_b3e4_11ea_9746_a0481c04c2c7row13_col0 {\n",
       "            background-color:  #440256;\n",
       "            color:  #f1f1f1;\n",
       "        }    #T_b7a3f00c_b3e4_11ea_9746_a0481c04c2c7row13_col1 {\n",
       "            background-color:  #440154;\n",
       "            color:  #f1f1f1;\n",
       "        }    #T_b7a3f00c_b3e4_11ea_9746_a0481c04c2c7row13_col2 {\n",
       "            background-color:  #440154;\n",
       "            color:  #f1f1f1;\n",
       "        }    #T_b7a3f00c_b3e4_11ea_9746_a0481c04c2c7row14_col0 {\n",
       "            background-color:  #414287;\n",
       "            color:  #f1f1f1;\n",
       "        }    #T_b7a3f00c_b3e4_11ea_9746_a0481c04c2c7row14_col1 {\n",
       "            background-color:  #460a5d;\n",
       "            color:  #f1f1f1;\n",
       "        }    #T_b7a3f00c_b3e4_11ea_9746_a0481c04c2c7row14_col2 {\n",
       "            background-color:  #481f70;\n",
       "            color:  #f1f1f1;\n",
       "        }    #T_b7a3f00c_b3e4_11ea_9746_a0481c04c2c7row15_col0 {\n",
       "            background-color:  #471365;\n",
       "            color:  #f1f1f1;\n",
       "        }    #T_b7a3f00c_b3e4_11ea_9746_a0481c04c2c7row15_col1 {\n",
       "            background-color:  #46075a;\n",
       "            color:  #f1f1f1;\n",
       "        }    #T_b7a3f00c_b3e4_11ea_9746_a0481c04c2c7row15_col2 {\n",
       "            background-color:  #460a5d;\n",
       "            color:  #f1f1f1;\n",
       "        }    #T_b7a3f00c_b3e4_11ea_9746_a0481c04c2c7row16_col0 {\n",
       "            background-color:  #481c6e;\n",
       "            color:  #f1f1f1;\n",
       "        }    #T_b7a3f00c_b3e4_11ea_9746_a0481c04c2c7row16_col1 {\n",
       "            background-color:  #440256;\n",
       "            color:  #f1f1f1;\n",
       "        }    #T_b7a3f00c_b3e4_11ea_9746_a0481c04c2c7row16_col2 {\n",
       "            background-color:  #460b5e;\n",
       "            color:  #f1f1f1;\n",
       "        }    #T_b7a3f00c_b3e4_11ea_9746_a0481c04c2c7row17_col0 {\n",
       "            background-color:  #482677;\n",
       "            color:  #f1f1f1;\n",
       "        }    #T_b7a3f00c_b3e4_11ea_9746_a0481c04c2c7row17_col1 {\n",
       "            background-color:  #481769;\n",
       "            color:  #f1f1f1;\n",
       "        }    #T_b7a3f00c_b3e4_11ea_9746_a0481c04c2c7row17_col2 {\n",
       "            background-color:  #481c6e;\n",
       "            color:  #f1f1f1;\n",
       "        }    #T_b7a3f00c_b3e4_11ea_9746_a0481c04c2c7row18_col0 {\n",
       "            background-color:  #fde725;\n",
       "            color:  #000000;\n",
       "        }    #T_b7a3f00c_b3e4_11ea_9746_a0481c04c2c7row18_col1 {\n",
       "            background-color:  #fde725;\n",
       "            color:  #000000;\n",
       "        }    #T_b7a3f00c_b3e4_11ea_9746_a0481c04c2c7row18_col2 {\n",
       "            background-color:  #fde725;\n",
       "            color:  #000000;\n",
       "        }</style><table id=\"T_b7a3f00c_b3e4_11ea_9746_a0481c04c2c7\" ><thead>    <tr>        <th class=\"blank\" ></th>        <th class=\"blank\" ></th>        <th class=\"index_name level0\" >Sex</th>        <th class=\"col_heading level0 col0\" >female</th>        <th class=\"col_heading level0 col1\" >male</th>        <th class=\"col_heading level0 col2\" >All</th>    </tr>    <tr>        <th class=\"index_name level0\" >Survived</th>        <th class=\"index_name level1\" >Pclass</th>        <th class=\"index_name level2\" >Embarked</th>        <th class=\"blank\" ></th>        <th class=\"blank\" ></th>        <th class=\"blank\" ></th>    </tr></thead><tbody>\n",
       "                <tr>\n",
       "                        <th id=\"T_b7a3f00c_b3e4_11ea_9746_a0481c04c2c7level0_row0\" class=\"row_heading level0 row0\" rowspan=9>0</th>\n",
       "                        <th id=\"T_b7a3f00c_b3e4_11ea_9746_a0481c04c2c7level1_row0\" class=\"row_heading level1 row0\" rowspan=3>1</th>\n",
       "                        <th id=\"T_b7a3f00c_b3e4_11ea_9746_a0481c04c2c7level2_row0\" class=\"row_heading level2 row0\" >C</th>\n",
       "                        <td id=\"T_b7a3f00c_b3e4_11ea_9746_a0481c04c2c7row0_col0\" class=\"data row0 col0\" >1</td>\n",
       "                        <td id=\"T_b7a3f00c_b3e4_11ea_9746_a0481c04c2c7row0_col1\" class=\"data row0 col1\" >25</td>\n",
       "                        <td id=\"T_b7a3f00c_b3e4_11ea_9746_a0481c04c2c7row0_col2\" class=\"data row0 col2\" >26</td>\n",
       "            </tr>\n",
       "            <tr>\n",
       "                                        <th id=\"T_b7a3f00c_b3e4_11ea_9746_a0481c04c2c7level2_row1\" class=\"row_heading level2 row1\" >Q</th>\n",
       "                        <td id=\"T_b7a3f00c_b3e4_11ea_9746_a0481c04c2c7row1_col0\" class=\"data row1 col0\" >0</td>\n",
       "                        <td id=\"T_b7a3f00c_b3e4_11ea_9746_a0481c04c2c7row1_col1\" class=\"data row1 col1\" >1</td>\n",
       "                        <td id=\"T_b7a3f00c_b3e4_11ea_9746_a0481c04c2c7row1_col2\" class=\"data row1 col2\" >1</td>\n",
       "            </tr>\n",
       "            <tr>\n",
       "                                        <th id=\"T_b7a3f00c_b3e4_11ea_9746_a0481c04c2c7level2_row2\" class=\"row_heading level2 row2\" >S</th>\n",
       "                        <td id=\"T_b7a3f00c_b3e4_11ea_9746_a0481c04c2c7row2_col0\" class=\"data row2 col0\" >2</td>\n",
       "                        <td id=\"T_b7a3f00c_b3e4_11ea_9746_a0481c04c2c7row2_col1\" class=\"data row2 col1\" >51</td>\n",
       "                        <td id=\"T_b7a3f00c_b3e4_11ea_9746_a0481c04c2c7row2_col2\" class=\"data row2 col2\" >53</td>\n",
       "            </tr>\n",
       "            <tr>\n",
       "                                <th id=\"T_b7a3f00c_b3e4_11ea_9746_a0481c04c2c7level1_row3\" class=\"row_heading level1 row3\" rowspan=3>2</th>\n",
       "                        <th id=\"T_b7a3f00c_b3e4_11ea_9746_a0481c04c2c7level2_row3\" class=\"row_heading level2 row3\" >C</th>\n",
       "                        <td id=\"T_b7a3f00c_b3e4_11ea_9746_a0481c04c2c7row3_col0\" class=\"data row3 col0\" >0</td>\n",
       "                        <td id=\"T_b7a3f00c_b3e4_11ea_9746_a0481c04c2c7row3_col1\" class=\"data row3 col1\" >8</td>\n",
       "                        <td id=\"T_b7a3f00c_b3e4_11ea_9746_a0481c04c2c7row3_col2\" class=\"data row3 col2\" >8</td>\n",
       "            </tr>\n",
       "            <tr>\n",
       "                                        <th id=\"T_b7a3f00c_b3e4_11ea_9746_a0481c04c2c7level2_row4\" class=\"row_heading level2 row4\" >Q</th>\n",
       "                        <td id=\"T_b7a3f00c_b3e4_11ea_9746_a0481c04c2c7row4_col0\" class=\"data row4 col0\" >0</td>\n",
       "                        <td id=\"T_b7a3f00c_b3e4_11ea_9746_a0481c04c2c7row4_col1\" class=\"data row4 col1\" >1</td>\n",
       "                        <td id=\"T_b7a3f00c_b3e4_11ea_9746_a0481c04c2c7row4_col2\" class=\"data row4 col2\" >1</td>\n",
       "            </tr>\n",
       "            <tr>\n",
       "                                        <th id=\"T_b7a3f00c_b3e4_11ea_9746_a0481c04c2c7level2_row5\" class=\"row_heading level2 row5\" >S</th>\n",
       "                        <td id=\"T_b7a3f00c_b3e4_11ea_9746_a0481c04c2c7row5_col0\" class=\"data row5 col0\" >6</td>\n",
       "                        <td id=\"T_b7a3f00c_b3e4_11ea_9746_a0481c04c2c7row5_col1\" class=\"data row5 col1\" >82</td>\n",
       "                        <td id=\"T_b7a3f00c_b3e4_11ea_9746_a0481c04c2c7row5_col2\" class=\"data row5 col2\" >88</td>\n",
       "            </tr>\n",
       "            <tr>\n",
       "                                <th id=\"T_b7a3f00c_b3e4_11ea_9746_a0481c04c2c7level1_row6\" class=\"row_heading level1 row6\" rowspan=3>3</th>\n",
       "                        <th id=\"T_b7a3f00c_b3e4_11ea_9746_a0481c04c2c7level2_row6\" class=\"row_heading level2 row6\" >C</th>\n",
       "                        <td id=\"T_b7a3f00c_b3e4_11ea_9746_a0481c04c2c7row6_col0\" class=\"data row6 col0\" >8</td>\n",
       "                        <td id=\"T_b7a3f00c_b3e4_11ea_9746_a0481c04c2c7row6_col1\" class=\"data row6 col1\" >33</td>\n",
       "                        <td id=\"T_b7a3f00c_b3e4_11ea_9746_a0481c04c2c7row6_col2\" class=\"data row6 col2\" >41</td>\n",
       "            </tr>\n",
       "            <tr>\n",
       "                                        <th id=\"T_b7a3f00c_b3e4_11ea_9746_a0481c04c2c7level2_row7\" class=\"row_heading level2 row7\" >Q</th>\n",
       "                        <td id=\"T_b7a3f00c_b3e4_11ea_9746_a0481c04c2c7row7_col0\" class=\"data row7 col0\" >9</td>\n",
       "                        <td id=\"T_b7a3f00c_b3e4_11ea_9746_a0481c04c2c7row7_col1\" class=\"data row7 col1\" >36</td>\n",
       "                        <td id=\"T_b7a3f00c_b3e4_11ea_9746_a0481c04c2c7row7_col2\" class=\"data row7 col2\" >45</td>\n",
       "            </tr>\n",
       "            <tr>\n",
       "                                        <th id=\"T_b7a3f00c_b3e4_11ea_9746_a0481c04c2c7level2_row8\" class=\"row_heading level2 row8\" >S</th>\n",
       "                        <td id=\"T_b7a3f00c_b3e4_11ea_9746_a0481c04c2c7row8_col0\" class=\"data row8 col0\" >55</td>\n",
       "                        <td id=\"T_b7a3f00c_b3e4_11ea_9746_a0481c04c2c7row8_col1\" class=\"data row8 col1\" >231</td>\n",
       "                        <td id=\"T_b7a3f00c_b3e4_11ea_9746_a0481c04c2c7row8_col2\" class=\"data row8 col2\" >286</td>\n",
       "            </tr>\n",
       "            <tr>\n",
       "                        <th id=\"T_b7a3f00c_b3e4_11ea_9746_a0481c04c2c7level0_row9\" class=\"row_heading level0 row9\" rowspan=9>1</th>\n",
       "                        <th id=\"T_b7a3f00c_b3e4_11ea_9746_a0481c04c2c7level1_row9\" class=\"row_heading level1 row9\" rowspan=3>1</th>\n",
       "                        <th id=\"T_b7a3f00c_b3e4_11ea_9746_a0481c04c2c7level2_row9\" class=\"row_heading level2 row9\" >C</th>\n",
       "                        <td id=\"T_b7a3f00c_b3e4_11ea_9746_a0481c04c2c7row9_col0\" class=\"data row9 col0\" >42</td>\n",
       "                        <td id=\"T_b7a3f00c_b3e4_11ea_9746_a0481c04c2c7row9_col1\" class=\"data row9 col1\" >17</td>\n",
       "                        <td id=\"T_b7a3f00c_b3e4_11ea_9746_a0481c04c2c7row9_col2\" class=\"data row9 col2\" >59</td>\n",
       "            </tr>\n",
       "            <tr>\n",
       "                                        <th id=\"T_b7a3f00c_b3e4_11ea_9746_a0481c04c2c7level2_row10\" class=\"row_heading level2 row10\" >Q</th>\n",
       "                        <td id=\"T_b7a3f00c_b3e4_11ea_9746_a0481c04c2c7row10_col0\" class=\"data row10 col0\" >1</td>\n",
       "                        <td id=\"T_b7a3f00c_b3e4_11ea_9746_a0481c04c2c7row10_col1\" class=\"data row10 col1\" >0</td>\n",
       "                        <td id=\"T_b7a3f00c_b3e4_11ea_9746_a0481c04c2c7row10_col2\" class=\"data row10 col2\" >1</td>\n",
       "            </tr>\n",
       "            <tr>\n",
       "                                        <th id=\"T_b7a3f00c_b3e4_11ea_9746_a0481c04c2c7level2_row11\" class=\"row_heading level2 row11\" >S</th>\n",
       "                        <td id=\"T_b7a3f00c_b3e4_11ea_9746_a0481c04c2c7row11_col0\" class=\"data row11 col0\" >46</td>\n",
       "                        <td id=\"T_b7a3f00c_b3e4_11ea_9746_a0481c04c2c7row11_col1\" class=\"data row11 col1\" >28</td>\n",
       "                        <td id=\"T_b7a3f00c_b3e4_11ea_9746_a0481c04c2c7row11_col2\" class=\"data row11 col2\" >74</td>\n",
       "            </tr>\n",
       "            <tr>\n",
       "                                <th id=\"T_b7a3f00c_b3e4_11ea_9746_a0481c04c2c7level1_row12\" class=\"row_heading level1 row12\" rowspan=3>2</th>\n",
       "                        <th id=\"T_b7a3f00c_b3e4_11ea_9746_a0481c04c2c7level2_row12\" class=\"row_heading level2 row12\" >C</th>\n",
       "                        <td id=\"T_b7a3f00c_b3e4_11ea_9746_a0481c04c2c7row12_col0\" class=\"data row12 col0\" >7</td>\n",
       "                        <td id=\"T_b7a3f00c_b3e4_11ea_9746_a0481c04c2c7row12_col1\" class=\"data row12 col1\" >2</td>\n",
       "                        <td id=\"T_b7a3f00c_b3e4_11ea_9746_a0481c04c2c7row12_col2\" class=\"data row12 col2\" >9</td>\n",
       "            </tr>\n",
       "            <tr>\n",
       "                                        <th id=\"T_b7a3f00c_b3e4_11ea_9746_a0481c04c2c7level2_row13\" class=\"row_heading level2 row13\" >Q</th>\n",
       "                        <td id=\"T_b7a3f00c_b3e4_11ea_9746_a0481c04c2c7row13_col0\" class=\"data row13 col0\" >2</td>\n",
       "                        <td id=\"T_b7a3f00c_b3e4_11ea_9746_a0481c04c2c7row13_col1\" class=\"data row13 col1\" >0</td>\n",
       "                        <td id=\"T_b7a3f00c_b3e4_11ea_9746_a0481c04c2c7row13_col2\" class=\"data row13 col2\" >2</td>\n",
       "            </tr>\n",
       "            <tr>\n",
       "                                        <th id=\"T_b7a3f00c_b3e4_11ea_9746_a0481c04c2c7level2_row14\" class=\"row_heading level2 row14\" >S</th>\n",
       "                        <td id=\"T_b7a3f00c_b3e4_11ea_9746_a0481c04c2c7row14_col0\" class=\"data row14 col0\" >61</td>\n",
       "                        <td id=\"T_b7a3f00c_b3e4_11ea_9746_a0481c04c2c7row14_col1\" class=\"data row14 col1\" >15</td>\n",
       "                        <td id=\"T_b7a3f00c_b3e4_11ea_9746_a0481c04c2c7row14_col2\" class=\"data row14 col2\" >76</td>\n",
       "            </tr>\n",
       "            <tr>\n",
       "                                <th id=\"T_b7a3f00c_b3e4_11ea_9746_a0481c04c2c7level1_row15\" class=\"row_heading level1 row15\" rowspan=3>3</th>\n",
       "                        <th id=\"T_b7a3f00c_b3e4_11ea_9746_a0481c04c2c7level2_row15\" class=\"row_heading level2 row15\" >C</th>\n",
       "                        <td id=\"T_b7a3f00c_b3e4_11ea_9746_a0481c04c2c7row15_col0\" class=\"data row15 col0\" >15</td>\n",
       "                        <td id=\"T_b7a3f00c_b3e4_11ea_9746_a0481c04c2c7row15_col1\" class=\"data row15 col1\" >10</td>\n",
       "                        <td id=\"T_b7a3f00c_b3e4_11ea_9746_a0481c04c2c7row15_col2\" class=\"data row15 col2\" >25</td>\n",
       "            </tr>\n",
       "            <tr>\n",
       "                                        <th id=\"T_b7a3f00c_b3e4_11ea_9746_a0481c04c2c7level2_row16\" class=\"row_heading level2 row16\" >Q</th>\n",
       "                        <td id=\"T_b7a3f00c_b3e4_11ea_9746_a0481c04c2c7row16_col0\" class=\"data row16 col0\" >24</td>\n",
       "                        <td id=\"T_b7a3f00c_b3e4_11ea_9746_a0481c04c2c7row16_col1\" class=\"data row16 col1\" >3</td>\n",
       "                        <td id=\"T_b7a3f00c_b3e4_11ea_9746_a0481c04c2c7row16_col2\" class=\"data row16 col2\" >27</td>\n",
       "            </tr>\n",
       "            <tr>\n",
       "                                        <th id=\"T_b7a3f00c_b3e4_11ea_9746_a0481c04c2c7level2_row17\" class=\"row_heading level2 row17\" >S</th>\n",
       "                        <td id=\"T_b7a3f00c_b3e4_11ea_9746_a0481c04c2c7row17_col0\" class=\"data row17 col0\" >33</td>\n",
       "                        <td id=\"T_b7a3f00c_b3e4_11ea_9746_a0481c04c2c7row17_col1\" class=\"data row17 col1\" >34</td>\n",
       "                        <td id=\"T_b7a3f00c_b3e4_11ea_9746_a0481c04c2c7row17_col2\" class=\"data row17 col2\" >67</td>\n",
       "            </tr>\n",
       "            <tr>\n",
       "                        <th id=\"T_b7a3f00c_b3e4_11ea_9746_a0481c04c2c7level0_row18\" class=\"row_heading level0 row18\" >All</th>\n",
       "                        <th id=\"T_b7a3f00c_b3e4_11ea_9746_a0481c04c2c7level1_row18\" class=\"row_heading level1 row18\" ></th>\n",
       "                        <th id=\"T_b7a3f00c_b3e4_11ea_9746_a0481c04c2c7level2_row18\" class=\"row_heading level2 row18\" ></th>\n",
       "                        <td id=\"T_b7a3f00c_b3e4_11ea_9746_a0481c04c2c7row18_col0\" class=\"data row18 col0\" >312</td>\n",
       "                        <td id=\"T_b7a3f00c_b3e4_11ea_9746_a0481c04c2c7row18_col1\" class=\"data row18 col1\" >577</td>\n",
       "                        <td id=\"T_b7a3f00c_b3e4_11ea_9746_a0481c04c2c7row18_col2\" class=\"data row18 col2\" >889</td>\n",
       "            </tr>\n",
       "    </tbody></table>"
      ],
      "text/plain": [
       "<pandas.io.formats.style.Styler at 0x2680994388>"
      ]
     },
     "execution_count": 18,
     "metadata": {},
     "output_type": "execute_result"
    }
   ],
   "source": [
    "pd.crosstab([titanic.Survived, titanic.Pclass,titanic.Embarked],titanic.Sex,margins=True).style.background_gradient(cmap='viridis')"
   ]
  },
  {
   "cell_type": "markdown",
   "metadata": {},
   "source": [
    "##### From the above crosstab we can see person boarding from C has  43 first class Female out of which 42 survived. "
   ]
  },
  {
   "cell_type": "code",
   "execution_count": 19,
   "metadata": {},
   "outputs": [
    {
     "data": {
      "text/html": [
       "<div>\n",
       "<style scoped>\n",
       "    .dataframe tbody tr th:only-of-type {\n",
       "        vertical-align: middle;\n",
       "    }\n",
       "\n",
       "    .dataframe tbody tr th {\n",
       "        vertical-align: top;\n",
       "    }\n",
       "\n",
       "    .dataframe thead th {\n",
       "        text-align: right;\n",
       "    }\n",
       "</style>\n",
       "<table border=\"1\" class=\"dataframe\">\n",
       "  <thead>\n",
       "    <tr style=\"text-align: right;\">\n",
       "      <th>Survived</th>\n",
       "      <th>0</th>\n",
       "      <th>1</th>\n",
       "      <th>odds</th>\n",
       "    </tr>\n",
       "    <tr>\n",
       "      <th>Embarked</th>\n",
       "      <th></th>\n",
       "      <th></th>\n",
       "      <th></th>\n",
       "    </tr>\n",
       "  </thead>\n",
       "  <tbody>\n",
       "    <tr>\n",
       "      <th>C</th>\n",
       "      <td>0.4464</td>\n",
       "      <td>0.5536</td>\n",
       "      <td>1.2400</td>\n",
       "    </tr>\n",
       "    <tr>\n",
       "      <th>Q</th>\n",
       "      <td>0.6104</td>\n",
       "      <td>0.3896</td>\n",
       "      <td>0.6383</td>\n",
       "    </tr>\n",
       "    <tr>\n",
       "      <th>S</th>\n",
       "      <td>0.6630</td>\n",
       "      <td>0.3370</td>\n",
       "      <td>0.5082</td>\n",
       "    </tr>\n",
       "  </tbody>\n",
       "</table>\n",
       "</div>"
      ],
      "text/plain": [
       "Survived      0      1   odds\n",
       "Embarked                     \n",
       "C        0.4464 0.5536 1.2400\n",
       "Q        0.6104 0.3896 0.6383\n",
       "S        0.6630 0.3370 0.5082"
      ]
     },
     "execution_count": 19,
     "metadata": {},
     "output_type": "execute_result"
    }
   ],
   "source": [
    "c = pd.crosstab(titanic.Embarked, titanic.Survived).apply(lambda x: x/x.sum(), axis=1)\n",
    "c[\"odds\"] = c.loc[:, 1] / c.loc[:, 0]\n",
    "c"
   ]
  },
  {
   "cell_type": "markdown",
   "metadata": {},
   "source": [
    "We see that the probability that a Passengers who boarded from Place C has higher Survival rate, higher than passengers boarding from Place Q and S.The possible reason could be the more number of female 1st class passengers from Place Q as we have already looked in above Crosstab."
   ]
  },
  {
   "cell_type": "markdown",
   "metadata": {},
   "source": [
    "#### Viz 4:  Fare variation Using Boxplot how it has varied as per class"
   ]
  },
  {
   "cell_type": "code",
   "execution_count": 20,
   "metadata": {},
   "outputs": [
    {
     "data": {
      "text/plain": [
       "Text(0.5, 1.0, 'Fare Distribution by Pclass')"
      ]
     },
     "execution_count": 20,
     "metadata": {},
     "output_type": "execute_result"
    },
    {
     "data": {
      "image/png": "[encoded data removed]",
      "text/plain": [
       "<Figure size 432x288 with 1 Axes>"
      ]
     },
     "metadata": {
      "needs_background": "light"
     },
     "output_type": "display_data"
    }
   ],
   "source": [
    "sns.boxplot(\"Pclass\", \"Fare\", data=titanic, palette=[\"blue\", \"pink\", \"green\"]).set_title('Fare Distribution by Pclass')"
   ]
  },
  {
   "cell_type": "markdown",
   "metadata": {},
   "source": [
    "#### Viz 5: Fare distributions of survived vs. non survived passengers shown by kernel density estimate plot which shows the distribution of survived and not survived passengers based on fare."
   ]
  },
  {
   "cell_type": "code",
   "execution_count": 21,
   "metadata": {},
   "outputs": [
    {
     "data": {
      "text/plain": [
       "<matplotlib.legend.Legend at 0x26813771c8>"
      ]
     },
     "execution_count": 21,
     "metadata": {},
     "output_type": "execute_result"
    },
    {
     "data": {
      "image/png": "[encoded data removed]",
      "text/plain": [
       "<Figure size 1080x360 with 1 Axes>"
      ]
     },
     "metadata": {
      "needs_background": "light"
     },
     "output_type": "display_data"
    }
   ],
   "source": [
    "plt.figure(figsize = (15,5))\n",
    "sns.kdeplot(titanic[\"Fare\"][titanic.Survived == 0], color = \"lightpink\", shade = True)\n",
    "sns.kdeplot(titanic[\"Fare\"][titanic.Survived == 1], color = \"lightblue\", shade = True)\n",
    "plt.title(\"Fare distribution of Survivors vs. Non Survivors\")\n",
    "plt.legend(['Survived = 0', 'Survived = 1'])\n"
   ]
  },
  {
   "cell_type": "markdown",
   "metadata": {},
   "source": [
    "The spike in the plot under 50 dollar represents that a lot of passengers who bought the ticket within that range did not survive.\n",
    "When fare is approximately more than 50-60 dollars, the casualties went down and survival wentup. "
   ]
  },
  {
   "cell_type": "markdown",
   "metadata": {},
   "source": [
    "#### Viz 6: Checking the skewness of Fare"
   ]
  },
  {
   "cell_type": "code",
   "execution_count": 22,
   "metadata": {},
   "outputs": [
    {
     "data": {
      "image/png": "[encoded data removed]",
      "text/plain": [
       "<Figure size 1080x360 with 1 Axes>"
      ]
     },
     "metadata": {
      "needs_background": "light"
     },
     "output_type": "display_data"
    }
   ],
   "source": [
    "plt.figure(figsize = (15,5))\n",
    "g = sns.distplot(titanic[\"Fare\"], color=\"b\", label=\"Skewness : %.2f\"%(titanic[\"Fare\"].skew()))\n",
    "g = g.legend(loc=\"best\")\n",
    "# As we can see skewness value greater than 1 we can say the data is highly skewed which is because of Class 3 passengers \n",
    "# are more in compared to class 1 and class 2. So fares are skewed towards right."
   ]
  },
  {
   "cell_type": "markdown",
   "metadata": {},
   "source": [
    "#### Viz 7: From the below shown plot we can see People having age 30-40 has much survival rate than unsurvived.People with age 25 to 35 has more survival chance.  \n"
   ]
  },
  {
   "cell_type": "code",
   "execution_count": 23,
   "metadata": {},
   "outputs": [
    {
     "data": {
      "text/plain": [
       "<seaborn.axisgrid.FacetGrid at 0x268161df88>"
      ]
     },
     "execution_count": 23,
     "metadata": {},
     "output_type": "execute_result"
    },
    {
     "data": {
      "image/png": "[encoded data removed]",
      "text/plain": [
       "<Figure size 915.875x216 with 1 Axes>"
      ]
     },
     "metadata": {
      "needs_background": "light"
     },
     "output_type": "display_data"
    }
   ],
   "source": [
    "a = sns.FacetGrid(titanic, hue = 'Survived', aspect=4 )\n",
    "a.map(sns.kdeplot, 'Age', shade= True )\n",
    "a.set(xlim=(0 ,titanic['Age'].max()))\n",
    "a.add_legend()"
   ]
  },
  {
   "cell_type": "markdown",
   "metadata": {},
   "source": [
    "#### Viz 8:Created a violin plot to check the distribution of Age across the Survivors vs. Non Survivors for each Class & Gender"
   ]
  },
  {
   "cell_type": "code",
   "execution_count": 24,
   "metadata": {},
   "outputs": [
    {
     "data": {
      "image/png": "[encoded data removed]",
      "text/plain": [
       "<Figure size 1080x576 with 2 Axes>"
      ]
     },
     "metadata": {
      "needs_background": "light"
     },
     "output_type": "display_data"
    }
   ],
   "source": [
    "f, ax = plt.subplots(1,2,figsize=(15,8))\n",
    "sns.violinplot(\"Pclass\", \"Age\", hue=\"Survived\", data=titanic, split=True, ax=ax[0])\n",
    "ax[0].set_title('Pclass and Age vs Survived')\n",
    "ax[0].set_yticks(range(0, 110, 10))\n",
    "sns.violinplot(\"Sex\",\"Age\", hue=\"Survived\", data=titanic, split=True, ax=ax[1])\n",
    "ax[1].set_title('Sex and Age vs Survived')\n",
    "ax[1].set_yticks(range(0, 110, 10))\n",
    "plt.show()"
   ]
  },
  {
   "cell_type": "markdown",
   "metadata": {},
   "source": [
    "#### Assignment Objective 1: First, drop columns from the dataset that are obviously unnecessary for your model.\n",
    "#### Assignment Objective 2: Then, assign the dataset's median Age to rows where the age data is missing."
   ]
  },
  {
   "cell_type": "code",
   "execution_count": 25,
   "metadata": {},
   "outputs": [],
   "source": [
    "titanic['Age']=titanic['Age'].fillna(titanic['Age'].median())  #Objective 2"
   ]
  },
  {
   "cell_type": "code",
   "execution_count": 26,
   "metadata": {},
   "outputs": [
    {
     "name": "stdout",
     "output_type": "stream",
     "text": [
      "Embarked\n",
      "C    168\n",
      "Q     77\n",
      "S    644\n",
      "dtype: int64\n"
     ]
    }
   ],
   "source": [
    "print(titanic.groupby('Embarked').size())\n",
    "#titanic.loc[(titanic.Embarked.isnull()),'Embarked'] = \"S\" \n",
    "titanic['Embarked'].fillna(titanic['Embarked'].mode()[0], inplace = True)"
   ]
  },
  {
   "cell_type": "code",
   "execution_count": 27,
   "metadata": {},
   "outputs": [],
   "source": [
    "titanic['Fare'] = titanic['Fare'].astype(int)  #Converitng fare to int type"
   ]
  },
  {
   "cell_type": "code",
   "execution_count": 28,
   "metadata": {},
   "outputs": [],
   "source": [
    "titanic.drop(['Cabin','PassengerId'],axis=1,inplace=True)  #Objective 1"
   ]
  },
  {
   "cell_type": "code",
   "execution_count": 29,
   "metadata": {},
   "outputs": [
    {
     "data": {
      "image/png": "[encoded data removed]",
      "text/plain": [
       "<Figure size 720x360 with 2 Axes>"
      ]
     },
     "metadata": {
      "needs_background": "light"
     },
     "output_type": "display_data"
    }
   ],
   "source": [
    "# SibSp and Parch is highly correlated \n",
    "my_corr=titanic.corr()\n",
    "plt.figure(figsize=(10,5))\n",
    "sns.heatmap(my_corr,linewidth=0.5)\n",
    "plt.show()"
   ]
  },
  {
   "cell_type": "code",
   "execution_count": 30,
   "metadata": {},
   "outputs": [],
   "source": [
    "titanic.drop(['Name','Ticket'],axis=1,inplace=True)   #Objective 1 Dropping Name and Ticket "
   ]
  },
  {
   "cell_type": "markdown",
   "metadata": {},
   "source": [
    "##### Using get_dummies doing feature transformation of Sex feature (Similar to One Hot Encoding), Embarked Feature "
   ]
  },
  {
   "cell_type": "code",
   "execution_count": 31,
   "metadata": {},
   "outputs": [],
   "source": [
    "from sklearn.preprocessing import OneHotEncoder, LabelEncoder, StandardScaler \n",
    "pd.get_dummies(titanic['Sex'], prefix='Sex')\n",
    "titanic = pd.concat([titanic, pd.get_dummies(titanic['Sex'], prefix='Sex')], axis=1)"
   ]
  },
  {
   "cell_type": "code",
   "execution_count": 32,
   "metadata": {},
   "outputs": [
    {
     "data": {
      "text/html": [
       "<div>\n",
       "<style scoped>\n",
       "    .dataframe tbody tr th:only-of-type {\n",
       "        vertical-align: middle;\n",
       "    }\n",
       "\n",
       "    .dataframe tbody tr th {\n",
       "        vertical-align: top;\n",
       "    }\n",
       "\n",
       "    .dataframe thead th {\n",
       "        text-align: right;\n",
       "    }\n",
       "</style>\n",
       "<table border=\"1\" class=\"dataframe\">\n",
       "  <thead>\n",
       "    <tr style=\"text-align: right;\">\n",
       "      <th></th>\n",
       "      <th>Survived</th>\n",
       "      <th>Pclass</th>\n",
       "      <th>Sex</th>\n",
       "      <th>Age</th>\n",
       "      <th>SibSp</th>\n",
       "      <th>Parch</th>\n",
       "      <th>Fare</th>\n",
       "      <th>Embarked</th>\n",
       "      <th>Sex_female</th>\n",
       "      <th>Sex_male</th>\n",
       "    </tr>\n",
       "  </thead>\n",
       "  <tbody>\n",
       "    <tr>\n",
       "      <th>0</th>\n",
       "      <td>0</td>\n",
       "      <td>3</td>\n",
       "      <td>male</td>\n",
       "      <td>22.0000</td>\n",
       "      <td>1</td>\n",
       "      <td>0</td>\n",
       "      <td>7</td>\n",
       "      <td>S</td>\n",
       "      <td>0</td>\n",
       "      <td>1</td>\n",
       "    </tr>\n",
       "    <tr>\n",
       "      <th>1</th>\n",
       "      <td>1</td>\n",
       "      <td>1</td>\n",
       "      <td>female</td>\n",
       "      <td>38.0000</td>\n",
       "      <td>1</td>\n",
       "      <td>0</td>\n",
       "      <td>71</td>\n",
       "      <td>C</td>\n",
       "      <td>1</td>\n",
       "      <td>0</td>\n",
       "    </tr>\n",
       "    <tr>\n",
       "      <th>2</th>\n",
       "      <td>1</td>\n",
       "      <td>3</td>\n",
       "      <td>female</td>\n",
       "      <td>26.0000</td>\n",
       "      <td>0</td>\n",
       "      <td>0</td>\n",
       "      <td>7</td>\n",
       "      <td>S</td>\n",
       "      <td>1</td>\n",
       "      <td>0</td>\n",
       "    </tr>\n",
       "    <tr>\n",
       "      <th>3</th>\n",
       "      <td>1</td>\n",
       "      <td>1</td>\n",
       "      <td>female</td>\n",
       "      <td>35.0000</td>\n",
       "      <td>1</td>\n",
       "      <td>0</td>\n",
       "      <td>53</td>\n",
       "      <td>S</td>\n",
       "      <td>1</td>\n",
       "      <td>0</td>\n",
       "    </tr>\n",
       "    <tr>\n",
       "      <th>4</th>\n",
       "      <td>0</td>\n",
       "      <td>3</td>\n",
       "      <td>male</td>\n",
       "      <td>35.0000</td>\n",
       "      <td>0</td>\n",
       "      <td>0</td>\n",
       "      <td>8</td>\n",
       "      <td>S</td>\n",
       "      <td>0</td>\n",
       "      <td>1</td>\n",
       "    </tr>\n",
       "  </tbody>\n",
       "</table>\n",
       "</div>"
      ],
      "text/plain": [
       "   Survived  Pclass     Sex     Age  SibSp  Parch  Fare Embarked  Sex_female  \\\n",
       "0         0       3    male 22.0000      1      0     7        S           0   \n",
       "1         1       1  female 38.0000      1      0    71        C           1   \n",
       "2         1       3  female 26.0000      0      0     7        S           1   \n",
       "3         1       1  female 35.0000      1      0    53        S           1   \n",
       "4         0       3    male 35.0000      0      0     8        S           0   \n",
       "\n",
       "   Sex_male  \n",
       "0         1  \n",
       "1         0  \n",
       "2         0  \n",
       "3         0  \n",
       "4         1  "
      ]
     },
     "execution_count": 32,
     "metadata": {},
     "output_type": "execute_result"
    }
   ],
   "source": [
    "titanic.head()"
   ]
  },
  {
   "cell_type": "code",
   "execution_count": 33,
   "metadata": {},
   "outputs": [],
   "source": [
    "pd.get_dummies(titanic['Embarked'], prefix='Embarked')\n",
    "titanic = pd.concat([titanic, pd.get_dummies(titanic['Embarked'], prefix='Embarked')], axis=1)"
   ]
  },
  {
   "cell_type": "code",
   "execution_count": 34,
   "metadata": {},
   "outputs": [
    {
     "data": {
      "text/html": [
       "<div>\n",
       "<style scoped>\n",
       "    .dataframe tbody tr th:only-of-type {\n",
       "        vertical-align: middle;\n",
       "    }\n",
       "\n",
       "    .dataframe tbody tr th {\n",
       "        vertical-align: top;\n",
       "    }\n",
       "\n",
       "    .dataframe thead th {\n",
       "        text-align: right;\n",
       "    }\n",
       "</style>\n",
       "<table border=\"1\" class=\"dataframe\">\n",
       "  <thead>\n",
       "    <tr style=\"text-align: right;\">\n",
       "      <th></th>\n",
       "      <th>Survived</th>\n",
       "      <th>Pclass</th>\n",
       "      <th>Sex</th>\n",
       "      <th>Age</th>\n",
       "      <th>SibSp</th>\n",
       "      <th>Parch</th>\n",
       "      <th>Fare</th>\n",
       "      <th>Embarked</th>\n",
       "      <th>Sex_female</th>\n",
       "      <th>Sex_male</th>\n",
       "      <th>Embarked_C</th>\n",
       "      <th>Embarked_Q</th>\n",
       "      <th>Embarked_S</th>\n",
       "    </tr>\n",
       "  </thead>\n",
       "  <tbody>\n",
       "    <tr>\n",
       "      <th>0</th>\n",
       "      <td>0</td>\n",
       "      <td>3</td>\n",
       "      <td>male</td>\n",
       "      <td>22.0000</td>\n",
       "      <td>1</td>\n",
       "      <td>0</td>\n",
       "      <td>7</td>\n",
       "      <td>S</td>\n",
       "      <td>0</td>\n",
       "      <td>1</td>\n",
       "      <td>0</td>\n",
       "      <td>0</td>\n",
       "      <td>1</td>\n",
       "    </tr>\n",
       "    <tr>\n",
       "      <th>1</th>\n",
       "      <td>1</td>\n",
       "      <td>1</td>\n",
       "      <td>female</td>\n",
       "      <td>38.0000</td>\n",
       "      <td>1</td>\n",
       "      <td>0</td>\n",
       "      <td>71</td>\n",
       "      <td>C</td>\n",
       "      <td>1</td>\n",
       "      <td>0</td>\n",
       "      <td>1</td>\n",
       "      <td>0</td>\n",
       "      <td>0</td>\n",
       "    </tr>\n",
       "    <tr>\n",
       "      <th>2</th>\n",
       "      <td>1</td>\n",
       "      <td>3</td>\n",
       "      <td>female</td>\n",
       "      <td>26.0000</td>\n",
       "      <td>0</td>\n",
       "      <td>0</td>\n",
       "      <td>7</td>\n",
       "      <td>S</td>\n",
       "      <td>1</td>\n",
       "      <td>0</td>\n",
       "      <td>0</td>\n",
       "      <td>0</td>\n",
       "      <td>1</td>\n",
       "    </tr>\n",
       "    <tr>\n",
       "      <th>3</th>\n",
       "      <td>1</td>\n",
       "      <td>1</td>\n",
       "      <td>female</td>\n",
       "      <td>35.0000</td>\n",
       "      <td>1</td>\n",
       "      <td>0</td>\n",
       "      <td>53</td>\n",
       "      <td>S</td>\n",
       "      <td>1</td>\n",
       "      <td>0</td>\n",
       "      <td>0</td>\n",
       "      <td>0</td>\n",
       "      <td>1</td>\n",
       "    </tr>\n",
       "    <tr>\n",
       "      <th>4</th>\n",
       "      <td>0</td>\n",
       "      <td>3</td>\n",
       "      <td>male</td>\n",
       "      <td>35.0000</td>\n",
       "      <td>0</td>\n",
       "      <td>0</td>\n",
       "      <td>8</td>\n",
       "      <td>S</td>\n",
       "      <td>0</td>\n",
       "      <td>1</td>\n",
       "      <td>0</td>\n",
       "      <td>0</td>\n",
       "      <td>1</td>\n",
       "    </tr>\n",
       "  </tbody>\n",
       "</table>\n",
       "</div>"
      ],
      "text/plain": [
       "   Survived  Pclass     Sex     Age  SibSp  Parch  Fare Embarked  Sex_female  \\\n",
       "0         0       3    male 22.0000      1      0     7        S           0   \n",
       "1         1       1  female 38.0000      1      0    71        C           1   \n",
       "2         1       3  female 26.0000      0      0     7        S           1   \n",
       "3         1       1  female 35.0000      1      0    53        S           1   \n",
       "4         0       3    male 35.0000      0      0     8        S           0   \n",
       "\n",
       "   Sex_male  Embarked_C  Embarked_Q  Embarked_S  \n",
       "0         1           0           0           1  \n",
       "1         0           1           0           0  \n",
       "2         0           0           0           1  \n",
       "3         0           0           0           1  \n",
       "4         1           0           0           1  "
      ]
     },
     "execution_count": 34,
     "metadata": {},
     "output_type": "execute_result"
    }
   ],
   "source": [
    "titanic.head()"
   ]
  },
  {
   "cell_type": "code",
   "execution_count": 35,
   "metadata": {},
   "outputs": [],
   "source": [
    "titanic.drop(['Embarked','Embarked_C','Sex','Sex_male'],axis=1,inplace=True) #Objective 1 "
   ]
  },
  {
   "cell_type": "markdown",
   "metadata": {},
   "source": [
    "###### From the above code we can see that along with the original Sex and Embarked column we have also dropped tronsformed column 'Sex_male' and 'Embarked_C' because it won't affect much and will reduce multicollinearity and thus prevent from Dummy Variable trap"
   ]
  },
  {
   "cell_type": "markdown",
   "metadata": {},
   "source": [
    "#### Creating Categories: Combining parch and Sibsb and saving it to Total Member "
   ]
  },
  {
   "cell_type": "code",
   "execution_count": 36,
   "metadata": {},
   "outputs": [],
   "source": [
    "titanic['Total_Member']=(titanic['Parch']+titanic['SibSp']+1)"
   ]
  },
  {
   "cell_type": "code",
   "execution_count": 37,
   "metadata": {},
   "outputs": [
    {
     "data": {
      "text/html": [
       "<div>\n",
       "<style scoped>\n",
       "    .dataframe tbody tr th:only-of-type {\n",
       "        vertical-align: middle;\n",
       "    }\n",
       "\n",
       "    .dataframe tbody tr th {\n",
       "        vertical-align: top;\n",
       "    }\n",
       "\n",
       "    .dataframe thead th {\n",
       "        text-align: right;\n",
       "    }\n",
       "</style>\n",
       "<table border=\"1\" class=\"dataframe\">\n",
       "  <thead>\n",
       "    <tr style=\"text-align: right;\">\n",
       "      <th></th>\n",
       "      <th>Survived</th>\n",
       "      <th>Pclass</th>\n",
       "      <th>Age</th>\n",
       "      <th>SibSp</th>\n",
       "      <th>Parch</th>\n",
       "      <th>Fare</th>\n",
       "      <th>Sex_female</th>\n",
       "      <th>Embarked_Q</th>\n",
       "      <th>Embarked_S</th>\n",
       "      <th>Total_Member</th>\n",
       "    </tr>\n",
       "  </thead>\n",
       "  <tbody>\n",
       "    <tr>\n",
       "      <th>0</th>\n",
       "      <td>0</td>\n",
       "      <td>3</td>\n",
       "      <td>22.0000</td>\n",
       "      <td>1</td>\n",
       "      <td>0</td>\n",
       "      <td>7</td>\n",
       "      <td>0</td>\n",
       "      <td>0</td>\n",
       "      <td>1</td>\n",
       "      <td>2</td>\n",
       "    </tr>\n",
       "    <tr>\n",
       "      <th>1</th>\n",
       "      <td>1</td>\n",
       "      <td>1</td>\n",
       "      <td>38.0000</td>\n",
       "      <td>1</td>\n",
       "      <td>0</td>\n",
       "      <td>71</td>\n",
       "      <td>1</td>\n",
       "      <td>0</td>\n",
       "      <td>0</td>\n",
       "      <td>2</td>\n",
       "    </tr>\n",
       "    <tr>\n",
       "      <th>2</th>\n",
       "      <td>1</td>\n",
       "      <td>3</td>\n",
       "      <td>26.0000</td>\n",
       "      <td>0</td>\n",
       "      <td>0</td>\n",
       "      <td>7</td>\n",
       "      <td>1</td>\n",
       "      <td>0</td>\n",
       "      <td>1</td>\n",
       "      <td>1</td>\n",
       "    </tr>\n",
       "    <tr>\n",
       "      <th>3</th>\n",
       "      <td>1</td>\n",
       "      <td>1</td>\n",
       "      <td>35.0000</td>\n",
       "      <td>1</td>\n",
       "      <td>0</td>\n",
       "      <td>53</td>\n",
       "      <td>1</td>\n",
       "      <td>0</td>\n",
       "      <td>1</td>\n",
       "      <td>2</td>\n",
       "    </tr>\n",
       "    <tr>\n",
       "      <th>4</th>\n",
       "      <td>0</td>\n",
       "      <td>3</td>\n",
       "      <td>35.0000</td>\n",
       "      <td>0</td>\n",
       "      <td>0</td>\n",
       "      <td>8</td>\n",
       "      <td>0</td>\n",
       "      <td>0</td>\n",
       "      <td>1</td>\n",
       "      <td>1</td>\n",
       "    </tr>\n",
       "  </tbody>\n",
       "</table>\n",
       "</div>"
      ],
      "text/plain": [
       "   Survived  Pclass     Age  SibSp  Parch  Fare  Sex_female  Embarked_Q  \\\n",
       "0         0       3 22.0000      1      0     7           0           0   \n",
       "1         1       1 38.0000      1      0    71           1           0   \n",
       "2         1       3 26.0000      0      0     7           1           0   \n",
       "3         1       1 35.0000      1      0    53           1           0   \n",
       "4         0       3 35.0000      0      0     8           0           0   \n",
       "\n",
       "   Embarked_S  Total_Member  \n",
       "0           1             2  \n",
       "1           0             2  \n",
       "2           1             1  \n",
       "3           1             2  \n",
       "4           1             1  "
      ]
     },
     "execution_count": 37,
     "metadata": {},
     "output_type": "execute_result"
    }
   ],
   "source": [
    "titanic.head()"
   ]
  },
  {
   "cell_type": "markdown",
   "metadata": {},
   "source": [
    "#### Viz 9: combining SibSp and Parch to Total Columns and checking how many mare alone and how many are with family and what are the chance of their survival. The Person with more members or a person with less members or some other.\n",
    "From the factorplot shown below we can see person with 4 family member seems to have higher chance of Survival and one with six and eight members has least chance of survival"
   ]
  },
  {
   "cell_type": "code",
   "execution_count": 38,
   "metadata": {},
   "outputs": [
    {
     "data": {
      "text/html": [
       "<style  type=\"text/css\" >\n",
       "    #T_f6594178_b3e4_11ea_86cb_a0481c04c2c7row0_col0 {\n",
       "            background-color:  #ffb500;\n",
       "            color:  #000000;\n",
       "        }    #T_f6594178_b3e4_11ea_86cb_a0481c04c2c7row0_col1 {\n",
       "            background-color:  #e4ff7a;\n",
       "            color:  #000000;\n",
       "        }    #T_f6594178_b3e4_11ea_86cb_a0481c04c2c7row0_col2 {\n",
       "            background-color:  #e4ff7a;\n",
       "            color:  #000000;\n",
       "        }    #T_f6594178_b3e4_11ea_86cb_a0481c04c2c7row0_col3 {\n",
       "            background-color:  #e4ff7a;\n",
       "            color:  #000000;\n",
       "        }    #T_f6594178_b3e4_11ea_86cb_a0481c04c2c7row0_col4 {\n",
       "            background-color:  #ffa000;\n",
       "            color:  #000000;\n",
       "        }    #T_f6594178_b3e4_11ea_86cb_a0481c04c2c7row0_col5 {\n",
       "            background-color:  #fe9400;\n",
       "            color:  #000000;\n",
       "        }    #T_f6594178_b3e4_11ea_86cb_a0481c04c2c7row0_col6 {\n",
       "            background-color:  #ffbd00;\n",
       "            color:  #000000;\n",
       "        }    #T_f6594178_b3e4_11ea_86cb_a0481c04c2c7row0_col7 {\n",
       "            background-color:  #fc7f00;\n",
       "            color:  #000000;\n",
       "        }    #T_f6594178_b3e4_11ea_86cb_a0481c04c2c7row0_col8 {\n",
       "            background-color:  #fc7f00;\n",
       "            color:  #000000;\n",
       "        }    #T_f6594178_b3e4_11ea_86cb_a0481c04c2c7row0_col9 {\n",
       "            background-color:  #ffd20d;\n",
       "            color:  #000000;\n",
       "        }    #T_f6594178_b3e4_11ea_86cb_a0481c04c2c7row1_col0 {\n",
       "            background-color:  #e4ff7a;\n",
       "            color:  #000000;\n",
       "        }    #T_f6594178_b3e4_11ea_86cb_a0481c04c2c7row1_col1 {\n",
       "            background-color:  #f8ee32;\n",
       "            color:  #000000;\n",
       "        }    #T_f6594178_b3e4_11ea_86cb_a0481c04c2c7row1_col2 {\n",
       "            background-color:  #ffe418;\n",
       "            color:  #000000;\n",
       "        }    #T_f6594178_b3e4_11ea_86cb_a0481c04c2c7row1_col3 {\n",
       "            background-color:  #ffaf00;\n",
       "            color:  #000000;\n",
       "        }    #T_f6594178_b3e4_11ea_86cb_a0481c04c2c7row1_col4 {\n",
       "            background-color:  #e4ff7a;\n",
       "            color:  #000000;\n",
       "        }    #T_f6594178_b3e4_11ea_86cb_a0481c04c2c7row1_col5 {\n",
       "            background-color:  #e4ff7a;\n",
       "            color:  #000000;\n",
       "        }    #T_f6594178_b3e4_11ea_86cb_a0481c04c2c7row1_col6 {\n",
       "            background-color:  #e4ff7a;\n",
       "            color:  #000000;\n",
       "        }    #T_f6594178_b3e4_11ea_86cb_a0481c04c2c7row1_col7 {\n",
       "            background-color:  #e4ff7a;\n",
       "            color:  #000000;\n",
       "        }    #T_f6594178_b3e4_11ea_86cb_a0481c04c2c7row1_col8 {\n",
       "            background-color:  #e4ff7a;\n",
       "            color:  #000000;\n",
       "        }    #T_f6594178_b3e4_11ea_86cb_a0481c04c2c7row1_col9 {\n",
       "            background-color:  #e4ff7a;\n",
       "            color:  #000000;\n",
       "        }    #T_f6594178_b3e4_11ea_86cb_a0481c04c2c7row2_col0 {\n",
       "            background-color:  #fc7f00;\n",
       "            color:  #000000;\n",
       "        }    #T_f6594178_b3e4_11ea_86cb_a0481c04c2c7row2_col1 {\n",
       "            background-color:  #fc7f00;\n",
       "            color:  #000000;\n",
       "        }    #T_f6594178_b3e4_11ea_86cb_a0481c04c2c7row2_col2 {\n",
       "            background-color:  #fc7f00;\n",
       "            color:  #000000;\n",
       "        }    #T_f6594178_b3e4_11ea_86cb_a0481c04c2c7row2_col3 {\n",
       "            background-color:  #fc7f00;\n",
       "            color:  #000000;\n",
       "        }    #T_f6594178_b3e4_11ea_86cb_a0481c04c2c7row2_col4 {\n",
       "            background-color:  #fc7f00;\n",
       "            color:  #000000;\n",
       "        }    #T_f6594178_b3e4_11ea_86cb_a0481c04c2c7row2_col5 {\n",
       "            background-color:  #fc7f00;\n",
       "            color:  #000000;\n",
       "        }    #T_f6594178_b3e4_11ea_86cb_a0481c04c2c7row2_col6 {\n",
       "            background-color:  #fc7f00;\n",
       "            color:  #000000;\n",
       "        }    #T_f6594178_b3e4_11ea_86cb_a0481c04c2c7row2_col7 {\n",
       "            background-color:  #fc7f00;\n",
       "            color:  #000000;\n",
       "        }    #T_f6594178_b3e4_11ea_86cb_a0481c04c2c7row2_col8 {\n",
       "            background-color:  #fc7f00;\n",
       "            color:  #000000;\n",
       "        }    #T_f6594178_b3e4_11ea_86cb_a0481c04c2c7row2_col9 {\n",
       "            background-color:  #fc7f00;\n",
       "            color:  #000000;\n",
       "        }</style><table id=\"T_f6594178_b3e4_11ea_86cb_a0481c04c2c7\" ><thead>    <tr>        <th class=\"index_name level0\" >Total_Member</th>        <th class=\"col_heading level0 col0\" >1</th>        <th class=\"col_heading level0 col1\" >2</th>        <th class=\"col_heading level0 col2\" >3</th>        <th class=\"col_heading level0 col3\" >4</th>        <th class=\"col_heading level0 col4\" >5</th>        <th class=\"col_heading level0 col5\" >6</th>        <th class=\"col_heading level0 col6\" >7</th>        <th class=\"col_heading level0 col7\" >8</th>        <th class=\"col_heading level0 col8\" >11</th>        <th class=\"col_heading level0 col9\" >All</th>    </tr>    <tr>        <th class=\"index_name level0\" >Survived</th>        <th class=\"blank\" ></th>        <th class=\"blank\" ></th>        <th class=\"blank\" ></th>        <th class=\"blank\" ></th>        <th class=\"blank\" ></th>        <th class=\"blank\" ></th>        <th class=\"blank\" ></th>        <th class=\"blank\" ></th>        <th class=\"blank\" ></th>        <th class=\"blank\" ></th>    </tr></thead><tbody>\n",
       "                <tr>\n",
       "                        <th id=\"T_f6594178_b3e4_11ea_86cb_a0481c04c2c7level0_row0\" class=\"row_heading level0 row0\" >0</th>\n",
       "                        <td id=\"T_f6594178_b3e4_11ea_86cb_a0481c04c2c7row0_col0\" class=\"data row0 col0\" >374</td>\n",
       "                        <td id=\"T_f6594178_b3e4_11ea_86cb_a0481c04c2c7row0_col1\" class=\"data row0 col1\" >72</td>\n",
       "                        <td id=\"T_f6594178_b3e4_11ea_86cb_a0481c04c2c7row0_col2\" class=\"data row0 col2\" >43</td>\n",
       "                        <td id=\"T_f6594178_b3e4_11ea_86cb_a0481c04c2c7row0_col3\" class=\"data row0 col3\" >8</td>\n",
       "                        <td id=\"T_f6594178_b3e4_11ea_86cb_a0481c04c2c7row0_col4\" class=\"data row0 col4\" >12</td>\n",
       "                        <td id=\"T_f6594178_b3e4_11ea_86cb_a0481c04c2c7row0_col5\" class=\"data row0 col5\" >19</td>\n",
       "                        <td id=\"T_f6594178_b3e4_11ea_86cb_a0481c04c2c7row0_col6\" class=\"data row0 col6\" >8</td>\n",
       "                        <td id=\"T_f6594178_b3e4_11ea_86cb_a0481c04c2c7row0_col7\" class=\"data row0 col7\" >6</td>\n",
       "                        <td id=\"T_f6594178_b3e4_11ea_86cb_a0481c04c2c7row0_col8\" class=\"data row0 col8\" >7</td>\n",
       "                        <td id=\"T_f6594178_b3e4_11ea_86cb_a0481c04c2c7row0_col9\" class=\"data row0 col9\" >549</td>\n",
       "            </tr>\n",
       "            <tr>\n",
       "                        <th id=\"T_f6594178_b3e4_11ea_86cb_a0481c04c2c7level0_row1\" class=\"row_heading level0 row1\" >1</th>\n",
       "                        <td id=\"T_f6594178_b3e4_11ea_86cb_a0481c04c2c7row1_col0\" class=\"data row1 col0\" >163</td>\n",
       "                        <td id=\"T_f6594178_b3e4_11ea_86cb_a0481c04c2c7row1_col1\" class=\"data row1 col1\" >89</td>\n",
       "                        <td id=\"T_f6594178_b3e4_11ea_86cb_a0481c04c2c7row1_col2\" class=\"data row1 col2\" >59</td>\n",
       "                        <td id=\"T_f6594178_b3e4_11ea_86cb_a0481c04c2c7row1_col3\" class=\"data row1 col3\" >21</td>\n",
       "                        <td id=\"T_f6594178_b3e4_11ea_86cb_a0481c04c2c7row1_col4\" class=\"data row1 col4\" >3</td>\n",
       "                        <td id=\"T_f6594178_b3e4_11ea_86cb_a0481c04c2c7row1_col5\" class=\"data row1 col5\" >3</td>\n",
       "                        <td id=\"T_f6594178_b3e4_11ea_86cb_a0481c04c2c7row1_col6\" class=\"data row1 col6\" >4</td>\n",
       "                        <td id=\"T_f6594178_b3e4_11ea_86cb_a0481c04c2c7row1_col7\" class=\"data row1 col7\" >0</td>\n",
       "                        <td id=\"T_f6594178_b3e4_11ea_86cb_a0481c04c2c7row1_col8\" class=\"data row1 col8\" >0</td>\n",
       "                        <td id=\"T_f6594178_b3e4_11ea_86cb_a0481c04c2c7row1_col9\" class=\"data row1 col9\" >342</td>\n",
       "            </tr>\n",
       "            <tr>\n",
       "                        <th id=\"T_f6594178_b3e4_11ea_86cb_a0481c04c2c7level0_row2\" class=\"row_heading level0 row2\" >All</th>\n",
       "                        <td id=\"T_f6594178_b3e4_11ea_86cb_a0481c04c2c7row2_col0\" class=\"data row2 col0\" >537</td>\n",
       "                        <td id=\"T_f6594178_b3e4_11ea_86cb_a0481c04c2c7row2_col1\" class=\"data row2 col1\" >161</td>\n",
       "                        <td id=\"T_f6594178_b3e4_11ea_86cb_a0481c04c2c7row2_col2\" class=\"data row2 col2\" >102</td>\n",
       "                        <td id=\"T_f6594178_b3e4_11ea_86cb_a0481c04c2c7row2_col3\" class=\"data row2 col3\" >29</td>\n",
       "                        <td id=\"T_f6594178_b3e4_11ea_86cb_a0481c04c2c7row2_col4\" class=\"data row2 col4\" >15</td>\n",
       "                        <td id=\"T_f6594178_b3e4_11ea_86cb_a0481c04c2c7row2_col5\" class=\"data row2 col5\" >22</td>\n",
       "                        <td id=\"T_f6594178_b3e4_11ea_86cb_a0481c04c2c7row2_col6\" class=\"data row2 col6\" >12</td>\n",
       "                        <td id=\"T_f6594178_b3e4_11ea_86cb_a0481c04c2c7row2_col7\" class=\"data row2 col7\" >6</td>\n",
       "                        <td id=\"T_f6594178_b3e4_11ea_86cb_a0481c04c2c7row2_col8\" class=\"data row2 col8\" >7</td>\n",
       "                        <td id=\"T_f6594178_b3e4_11ea_86cb_a0481c04c2c7row2_col9\" class=\"data row2 col9\" >891</td>\n",
       "            </tr>\n",
       "    </tbody></table>"
      ],
      "text/plain": [
       "<pandas.io.formats.style.Styler at 0x26814d9d88>"
      ]
     },
     "execution_count": 38,
     "metadata": {},
     "output_type": "execute_result"
    }
   ],
   "source": [
    "pd.crosstab([titanic.Survived],titanic.Total_Member,margins=True).style.background_gradient(cmap='Wistia')"
   ]
  },
  {
   "cell_type": "code",
   "execution_count": 39,
   "metadata": {},
   "outputs": [
    {
     "data": {
      "image/png": "[encoded data removed]",
      "text/plain": [
       "<Figure size 900x360 with 1 Axes>"
      ]
     },
     "metadata": {
      "needs_background": "light"
     },
     "output_type": "display_data"
    }
   ],
   "source": [
    "axes = sns.factorplot('Total_Member','Survived',data=titanic, aspect = 2.5, )"
   ]
  },
  {
   "cell_type": "code",
   "execution_count": 40,
   "metadata": {},
   "outputs": [],
   "source": [
    "# Objective 1 Dropping Columns SibSp and parch as it has already included in Total Member\n",
    "titanic.drop(['SibSp','Parch'],axis=1,inplace=True)  "
   ]
  },
  {
   "cell_type": "markdown",
   "metadata": {},
   "source": [
    "#### Checking for Multicollinearity using Variance Inflation Factor"
   ]
  },
  {
   "cell_type": "code",
   "execution_count": 41,
   "metadata": {},
   "outputs": [
    {
     "data": {
      "text/plain": [
       "const          40.2504\n",
       "Pclass          1.9188\n",
       "Survived        1.6584\n",
       "Fare            1.6499\n",
       "Sex_female      1.5166\n",
       "Embarked_Q      1.4881\n",
       "Embarked_S      1.4683\n",
       "Age             1.2547\n",
       "Total_Member    1.2351\n",
       "dtype: float64"
      ]
     },
     "execution_count": 41,
     "metadata": {},
     "output_type": "execute_result"
    }
   ],
   "source": [
    "from statsmodels.stats.outliers_influence import variance_inflation_factor as vif\n",
    "from statsmodels.tools.tools import add_constant\n",
    "X = add_constant(titanic)\n",
    "vifs = [vif(X.values, i) for i in range(len(X.columns))]\n",
    "pd.Series(data=vifs, index=X.columns).sort_values(ascending=False)"
   ]
  },
  {
   "cell_type": "code",
   "execution_count": 42,
   "metadata": {},
   "outputs": [
    {
     "data": {
      "text/html": [
       "<div>\n",
       "<style scoped>\n",
       "    .dataframe tbody tr th:only-of-type {\n",
       "        vertical-align: middle;\n",
       "    }\n",
       "\n",
       "    .dataframe tbody tr th {\n",
       "        vertical-align: top;\n",
       "    }\n",
       "\n",
       "    .dataframe thead th {\n",
       "        text-align: right;\n",
       "    }\n",
       "</style>\n",
       "<table border=\"1\" class=\"dataframe\">\n",
       "  <thead>\n",
       "    <tr style=\"text-align: right;\">\n",
       "      <th></th>\n",
       "      <th>Survived</th>\n",
       "      <th>Pclass</th>\n",
       "      <th>Age</th>\n",
       "      <th>Fare</th>\n",
       "      <th>Sex_female</th>\n",
       "      <th>Embarked_Q</th>\n",
       "      <th>Embarked_S</th>\n",
       "      <th>Total_Member</th>\n",
       "    </tr>\n",
       "  </thead>\n",
       "  <tbody>\n",
       "    <tr>\n",
       "      <th>0</th>\n",
       "      <td>0</td>\n",
       "      <td>3</td>\n",
       "      <td>22.0000</td>\n",
       "      <td>7</td>\n",
       "      <td>0</td>\n",
       "      <td>0</td>\n",
       "      <td>1</td>\n",
       "      <td>2</td>\n",
       "    </tr>\n",
       "    <tr>\n",
       "      <th>1</th>\n",
       "      <td>1</td>\n",
       "      <td>1</td>\n",
       "      <td>38.0000</td>\n",
       "      <td>71</td>\n",
       "      <td>1</td>\n",
       "      <td>0</td>\n",
       "      <td>0</td>\n",
       "      <td>2</td>\n",
       "    </tr>\n",
       "    <tr>\n",
       "      <th>2</th>\n",
       "      <td>1</td>\n",
       "      <td>3</td>\n",
       "      <td>26.0000</td>\n",
       "      <td>7</td>\n",
       "      <td>1</td>\n",
       "      <td>0</td>\n",
       "      <td>1</td>\n",
       "      <td>1</td>\n",
       "    </tr>\n",
       "    <tr>\n",
       "      <th>3</th>\n",
       "      <td>1</td>\n",
       "      <td>1</td>\n",
       "      <td>35.0000</td>\n",
       "      <td>53</td>\n",
       "      <td>1</td>\n",
       "      <td>0</td>\n",
       "      <td>1</td>\n",
       "      <td>2</td>\n",
       "    </tr>\n",
       "    <tr>\n",
       "      <th>4</th>\n",
       "      <td>0</td>\n",
       "      <td>3</td>\n",
       "      <td>35.0000</td>\n",
       "      <td>8</td>\n",
       "      <td>0</td>\n",
       "      <td>0</td>\n",
       "      <td>1</td>\n",
       "      <td>1</td>\n",
       "    </tr>\n",
       "  </tbody>\n",
       "</table>\n",
       "</div>"
      ],
      "text/plain": [
       "   Survived  Pclass     Age  Fare  Sex_female  Embarked_Q  Embarked_S  \\\n",
       "0         0       3 22.0000     7           0           0           1   \n",
       "1         1       1 38.0000    71           1           0           0   \n",
       "2         1       3 26.0000     7           1           0           1   \n",
       "3         1       1 35.0000    53           1           0           1   \n",
       "4         0       3 35.0000     8           0           0           1   \n",
       "\n",
       "   Total_Member  \n",
       "0             2  \n",
       "1             2  \n",
       "2             1  \n",
       "3             2  \n",
       "4             1  "
      ]
     },
     "execution_count": 42,
     "metadata": {},
     "output_type": "execute_result"
    }
   ],
   "source": [
    "titanic.head()"
   ]
  },
  {
   "cell_type": "markdown",
   "metadata": {},
   "source": [
    "## Building Model using Scikit Learn: Iteration 1"
   ]
  },
  {
   "cell_type": "markdown",
   "metadata": {},
   "source": [
    "#### Importing test train split package from sklearn library "
   ]
  },
  {
   "cell_type": "code",
   "execution_count": 43,
   "metadata": {},
   "outputs": [],
   "source": [
    "from sklearn.model_selection import train_test_split"
   ]
  },
  {
   "cell_type": "markdown",
   "metadata": {},
   "source": [
    "#### Splitting the data into Train Test Data  "
   ]
  },
  {
   "cell_type": "code",
   "execution_count": 44,
   "metadata": {},
   "outputs": [],
   "source": [
    "X_train, X_test, Y_train, Y_test = train_test_split(titanic.drop('Survived', axis=1), titanic['Survived'],\\\n",
    "                                                    test_size=0.25, random_state=156)"
   ]
  },
  {
   "cell_type": "markdown",
   "metadata": {},
   "source": [
    "#### Importing logistic Regression from sklearn Library"
   ]
  },
  {
   "cell_type": "code",
   "execution_count": 45,
   "metadata": {},
   "outputs": [],
   "source": [
    "from sklearn.linear_model import LogisticRegression"
   ]
  },
  {
   "cell_type": "code",
   "execution_count": 46,
   "metadata": {},
   "outputs": [],
   "source": [
    "logit = LogisticRegression()  #Fit Logistic Regression model."
   ]
  },
  {
   "cell_type": "code",
   "execution_count": 47,
   "metadata": {},
   "outputs": [
    {
     "data": {
      "text/plain": [
       "LogisticRegression(C=1.0, class_weight=None, dual=False, fit_intercept=True,\n",
       "                   intercept_scaling=1, l1_ratio=None, max_iter=100,\n",
       "                   multi_class='auto', n_jobs=None, penalty='l2',\n",
       "                   random_state=None, solver='lbfgs', tol=0.0001, verbose=0,\n",
       "                   warm_start=False)"
      ]
     },
     "execution_count": 47,
     "metadata": {},
     "output_type": "execute_result"
    }
   ],
   "source": [
    "logit.fit(X_train, Y_train)"
   ]
  },
  {
   "cell_type": "code",
   "execution_count": 48,
   "metadata": {},
   "outputs": [
    {
     "data": {
      "text/plain": [
       "array([0, 1], dtype=int64)"
      ]
     },
     "execution_count": 48,
     "metadata": {},
     "output_type": "execute_result"
    }
   ],
   "source": [
    "logit.classes_"
   ]
  },
  {
   "cell_type": "code",
   "execution_count": 49,
   "metadata": {},
   "outputs": [
    {
     "data": {
      "text/plain": [
       "array([[-1.08203387e+00, -3.56564068e-02,  8.33572104e-04,\n",
       "         2.62307770e+00, -2.44825457e-01, -5.57979879e-01,\n",
       "        -2.11057064e-01]])"
      ]
     },
     "execution_count": 49,
     "metadata": {},
     "output_type": "execute_result"
    }
   ],
   "source": [
    "logit.coef_"
   ]
  },
  {
   "cell_type": "code",
   "execution_count": 50,
   "metadata": {},
   "outputs": [],
   "source": [
    "predictions=logit.predict(X_test)   #Make class predictions."
   ]
  },
  {
   "cell_type": "code",
   "execution_count": 51,
   "metadata": {},
   "outputs": [
    {
     "data": {
      "text/plain": [
       "0.8071748878923767"
      ]
     },
     "execution_count": 51,
     "metadata": {},
     "output_type": "execute_result"
    }
   ],
   "source": [
    "logit.score(X_test, Y_test)      #Calculate accuracy score."
   ]
  },
  {
   "cell_type": "code",
   "execution_count": 52,
   "metadata": {},
   "outputs": [
    {
     "data": {
      "text/plain": [
       "0.19282511210762332"
      ]
     },
     "execution_count": 52,
     "metadata": {},
     "output_type": "execute_result"
    }
   ],
   "source": [
    "1-logit.score(X_test, Y_test)     #Calculate Error rate."
   ]
  },
  {
   "cell_type": "markdown",
   "metadata": {},
   "source": [
    " #### Calculating Accuracy"
   ]
  },
  {
   "cell_type": "code",
   "execution_count": 53,
   "metadata": {},
   "outputs": [],
   "source": [
    "import sklearn.metrics as metrics    \n",
    "from sklearn.metrics import accuracy_score"
   ]
  },
  {
   "cell_type": "code",
   "execution_count": 54,
   "metadata": {},
   "outputs": [
    {
     "data": {
      "text/plain": [
       "0.8071748878923767"
      ]
     },
     "execution_count": 54,
     "metadata": {},
     "output_type": "execute_result"
    }
   ],
   "source": [
    "accuracy_score(Y_test, predictions)"
   ]
  },
  {
   "cell_type": "code",
   "execution_count": 55,
   "metadata": {},
   "outputs": [
    {
     "data": {
      "text/plain": [
       "180"
      ]
     },
     "execution_count": 55,
     "metadata": {},
     "output_type": "execute_result"
    }
   ],
   "source": [
    "accuracy_score(Y_test, predictions, normalize=False) #Calculate number of correctly classified observations."
   ]
  },
  {
   "cell_type": "code",
   "execution_count": 56,
   "metadata": {},
   "outputs": [
    {
     "data": {
      "text/plain": [
       "43"
      ]
     },
     "execution_count": 56,
     "metadata": {},
     "output_type": "execute_result"
    }
   ],
   "source": [
    "len(Y_test) - accuracy_score(Y_test, predictions, normalize=False) #Calculate number of incorrectly classified observations."
   ]
  },
  {
   "cell_type": "markdown",
   "metadata": {},
   "source": [
    "#### Calculate log loss"
   ]
  },
  {
   "cell_type": "code",
   "execution_count": 57,
   "metadata": {},
   "outputs": [],
   "source": [
    "from sklearn.metrics import log_loss\n",
    "import numpy as np"
   ]
  },
  {
   "cell_type": "code",
   "execution_count": 58,
   "metadata": {},
   "outputs": [
    {
     "name": "stdout",
     "output_type": "stream",
     "text": [
      "log_loss 6.660011557544094\n"
     ]
    }
   ],
   "source": [
    "print (\"log_loss\", metrics.log_loss(Y_test, predictions))   #Encode predicted classes and test labels."
   ]
  },
  {
   "cell_type": "markdown",
   "metadata": {},
   "source": [
    "#### Calculate Confusion Matrix\n"
   ]
  },
  {
   "cell_type": "code",
   "execution_count": 59,
   "metadata": {},
   "outputs": [],
   "source": [
    "from sklearn.metrics import confusion_matrix\n",
    "import matplotlib.pyplot as plt\n",
    "import seaborn as sns\n",
    "%matplotlib inline"
   ]
  },
  {
   "cell_type": "code",
   "execution_count": 60,
   "metadata": {},
   "outputs": [],
   "source": [
    "confusion_mat = confusion_matrix(Y_test, predictions)"
   ]
  },
  {
   "cell_type": "code",
   "execution_count": 61,
   "metadata": {},
   "outputs": [],
   "source": [
    "confusion_df = pd.DataFrame(confusion_mat, index=['Actual neg','Actual pos'], columns=['Predicted neg','Predicted pos'])"
   ]
  },
  {
   "cell_type": "code",
   "execution_count": 62,
   "metadata": {},
   "outputs": [
    {
     "data": {
      "text/html": [
       "<div>\n",
       "<style scoped>\n",
       "    .dataframe tbody tr th:only-of-type {\n",
       "        vertical-align: middle;\n",
       "    }\n",
       "\n",
       "    .dataframe tbody tr th {\n",
       "        vertical-align: top;\n",
       "    }\n",
       "\n",
       "    .dataframe thead th {\n",
       "        text-align: right;\n",
       "    }\n",
       "</style>\n",
       "<table border=\"1\" class=\"dataframe\">\n",
       "  <thead>\n",
       "    <tr style=\"text-align: right;\">\n",
       "      <th></th>\n",
       "      <th>Predicted neg</th>\n",
       "      <th>Predicted pos</th>\n",
       "    </tr>\n",
       "  </thead>\n",
       "  <tbody>\n",
       "    <tr>\n",
       "      <th>Actual neg</th>\n",
       "      <td>118</td>\n",
       "      <td>19</td>\n",
       "    </tr>\n",
       "    <tr>\n",
       "      <th>Actual pos</th>\n",
       "      <td>24</td>\n",
       "      <td>62</td>\n",
       "    </tr>\n",
       "  </tbody>\n",
       "</table>\n",
       "</div>"
      ],
      "text/plain": [
       "            Predicted neg  Predicted pos\n",
       "Actual neg            118             19\n",
       "Actual pos             24             62"
      ]
     },
     "execution_count": 62,
     "metadata": {},
     "output_type": "execute_result"
    }
   ],
   "source": [
    "confusion_df"
   ]
  },
  {
   "cell_type": "code",
   "execution_count": 63,
   "metadata": {},
   "outputs": [
    {
     "data": {
      "image/png": "[encoded data removed]",
      "text/plain": [
       "<Figure size 432x288 with 2 Axes>"
      ]
     },
     "metadata": {
      "needs_background": "light"
     },
     "output_type": "display_data"
    }
   ],
   "source": [
    "_=sns.heatmap(confusion_df, cmap='coolwarm', annot=True)"
   ]
  },
  {
   "cell_type": "markdown",
   "metadata": {},
   "source": [
    "#### Calculate precision and recall scores"
   ]
  },
  {
   "cell_type": "code",
   "execution_count": 64,
   "metadata": {},
   "outputs": [],
   "source": [
    "from sklearn.metrics import precision_score, recall_score"
   ]
  },
  {
   "cell_type": "code",
   "execution_count": 65,
   "metadata": {},
   "outputs": [
    {
     "data": {
      "text/plain": [
       "0.7654320987654321"
      ]
     },
     "execution_count": 65,
     "metadata": {},
     "output_type": "execute_result"
    }
   ],
   "source": [
    "precision_score(Y_test, predictions)"
   ]
  },
  {
   "cell_type": "code",
   "execution_count": 66,
   "metadata": {},
   "outputs": [
    {
     "data": {
      "text/plain": [
       "0.7209302325581395"
      ]
     },
     "execution_count": 66,
     "metadata": {},
     "output_type": "execute_result"
    }
   ],
   "source": [
    "recall_score(Y_test, predictions)"
   ]
  },
  {
   "cell_type": "code",
   "execution_count": 67,
   "metadata": {},
   "outputs": [
    {
     "data": {
      "image/png": "[encoded data removed]",
      "text/plain": [
       "<Figure size 792x648 with 1 Axes>"
      ]
     },
     "metadata": {
      "needs_background": "light"
     },
     "output_type": "display_data"
    }
   ],
   "source": [
    "from sklearn.metrics import auc\n",
    "from sklearn.metrics import precision_recall_curve \n",
    "y_score = logit.decision_function(X_test)\n",
    "precision, recall, _ = precision_recall_curve(Y_test, y_score)\n",
    "PR_AUC = auc(recall, precision)\n",
    "plt.figure(figsize=[11,9])\n",
    "plt.plot(recall, precision, label='PR curve (area = %0.2f)' % PR_AUC, linewidth=4)\n",
    "plt.xlabel('Recall', fontsize=18)\n",
    "plt.ylabel('Precision', fontsize=18)\n",
    "plt.title('Precision Recall Curve for Titanic survivors', fontsize=18)\n",
    "plt.legend(loc=\"lower right\")\n",
    "plt.show()\n",
    "\n",
    "# reference: https://machinelearningmastery.com/roc-curves-and-precision-recall-curves-for-imbalanced-classification/#:~:text=The%20Precision%2DRecall%20AUC%20is,a%20model%20with%20perfect%20skill."
   ]
  },
  {
   "cell_type": "markdown",
   "metadata": {},
   "source": [
    "#### Calculate F1 Score"
   ]
  },
  {
   "cell_type": "code",
   "execution_count": 68,
   "metadata": {},
   "outputs": [],
   "source": [
    "from sklearn.metrics import f1_score"
   ]
  },
  {
   "cell_type": "code",
   "execution_count": 69,
   "metadata": {},
   "outputs": [
    {
     "data": {
      "text/plain": [
       "0.7425149700598802"
      ]
     },
     "execution_count": 69,
     "metadata": {},
     "output_type": "execute_result"
    }
   ],
   "source": [
    "f1_score(Y_test, predictions)"
   ]
  },
  {
   "cell_type": "markdown",
   "metadata": {},
   "source": [
    "#### Calculate Area under the ROC curve and also plot the ROC curve"
   ]
  },
  {
   "cell_type": "code",
   "execution_count": 70,
   "metadata": {},
   "outputs": [],
   "source": [
    "from sklearn.metrics import roc_curve, roc_auc_score"
   ]
  },
  {
   "cell_type": "code",
   "execution_count": 71,
   "metadata": {},
   "outputs": [],
   "source": [
    "probs = logit.predict_proba(X_test)[::,1] #Let's take probablities from our classifier, instead of classes."
   ]
  },
  {
   "cell_type": "code",
   "execution_count": 72,
   "metadata": {},
   "outputs": [
    {
     "name": "stdout",
     "output_type": "stream",
     "text": [
      "0.8572822950263113\n"
     ]
    }
   ],
   "source": [
    "auc = roc_auc_score(Y_test, probs)\n",
    "print(auc)"
   ]
  },
  {
   "cell_type": "code",
   "execution_count": 73,
   "metadata": {},
   "outputs": [],
   "source": [
    "fpr, tpr, threshold = roc_curve(Y_test, probs)"
   ]
  },
  {
   "cell_type": "code",
   "execution_count": 74,
   "metadata": {},
   "outputs": [
    {
     "data": {
      "image/png": "[encoded data removed]",
      "text/plain": [
       "<Figure size 432x288 with 1 Axes>"
      ]
     },
     "metadata": {
      "needs_background": "light"
     },
     "output_type": "display_data"
    }
   ],
   "source": [
    "plt.title('Receiver Operating Characteristic')\n",
    "plt.plot(fpr, tpr, 'b', label = 'AUC = %0.2f' % auc)\n",
    "plt.legend(loc = 'lower right')\n",
    "plt.plot([0, 1], [0, 1],'r--')\n",
    "plt.xlim([0, 1])\n",
    "plt.ylim([0, 1])\n",
    "plt.ylabel('True Positive Rate')\n",
    "plt.xlabel('False Positive Rate')\n",
    "plt.show()"
   ]
  },
  {
   "cell_type": "markdown",
   "metadata": {},
   "source": [
    "#### Calculating the optimal threshold probability from this ROC curve."
   ]
  },
  {
   "cell_type": "code",
   "execution_count": 75,
   "metadata": {},
   "outputs": [],
   "source": [
    "optimal_idx = np.argmax(tpr - fpr)\n",
    "optimal_threshold = threshold[optimal_idx]"
   ]
  },
  {
   "cell_type": "code",
   "execution_count": 76,
   "metadata": {},
   "outputs": [
    {
     "data": {
      "text/plain": [
       "0.626180536380019"
      ]
     },
     "execution_count": 76,
     "metadata": {},
     "output_type": "execute_result"
    }
   ],
   "source": [
    "optimal_threshold"
   ]
  },
  {
   "cell_type": "markdown",
   "metadata": {},
   "source": [
    "### Updating model based on optimal probability threshold"
   ]
  },
  {
   "cell_type": "code",
   "execution_count": 77,
   "metadata": {},
   "outputs": [],
   "source": [
    "new_predictions = np.where(probs>optimal_threshold, 1, 0)"
   ]
  },
  {
   "cell_type": "code",
   "execution_count": 78,
   "metadata": {},
   "outputs": [],
   "source": [
    "new_confusion_mat = confusion_matrix(Y_test, new_predictions)"
   ]
  },
  {
   "cell_type": "code",
   "execution_count": 79,
   "metadata": {},
   "outputs": [],
   "source": [
    "new_confusion_df = pd.DataFrame(new_confusion_mat, index=['Actual neg','Actual pos'], columns=['Predicted neg','Predicted pos'])"
   ]
  },
  {
   "cell_type": "code",
   "execution_count": 80,
   "metadata": {},
   "outputs": [
    {
     "data": {
      "text/html": [
       "<div>\n",
       "<style scoped>\n",
       "    .dataframe tbody tr th:only-of-type {\n",
       "        vertical-align: middle;\n",
       "    }\n",
       "\n",
       "    .dataframe tbody tr th {\n",
       "        vertical-align: top;\n",
       "    }\n",
       "\n",
       "    .dataframe thead th {\n",
       "        text-align: right;\n",
       "    }\n",
       "</style>\n",
       "<table border=\"1\" class=\"dataframe\">\n",
       "  <thead>\n",
       "    <tr style=\"text-align: right;\">\n",
       "      <th></th>\n",
       "      <th>Predicted neg</th>\n",
       "      <th>Predicted pos</th>\n",
       "    </tr>\n",
       "  </thead>\n",
       "  <tbody>\n",
       "    <tr>\n",
       "      <th>Actual neg</th>\n",
       "      <td>128</td>\n",
       "      <td>9</td>\n",
       "    </tr>\n",
       "    <tr>\n",
       "      <th>Actual pos</th>\n",
       "      <td>29</td>\n",
       "      <td>57</td>\n",
       "    </tr>\n",
       "  </tbody>\n",
       "</table>\n",
       "</div>"
      ],
      "text/plain": [
       "            Predicted neg  Predicted pos\n",
       "Actual neg            128              9\n",
       "Actual pos             29             57"
      ]
     },
     "execution_count": 80,
     "metadata": {},
     "output_type": "execute_result"
    }
   ],
   "source": [
    "new_confusion_df"
   ]
  },
  {
   "cell_type": "code",
   "execution_count": 124,
   "metadata": {},
   "outputs": [
    {
     "name": "stdout",
     "output_type": "stream",
     "text": [
      "The probability of predicting people survived in titanic 0.9343065693430657\n",
      "The probability of predicting people survived in titanic correctly is  0.6627906976744186\n"
     ]
    }
   ],
   "source": [
    "TN=128\n",
    "FP=9\n",
    "FN=29\n",
    "TP=57\n",
    "sensitivity = TP/(TP+FN)\n",
    "specificity = TN/(TN+FP)\n",
    "print(\"The probability of predicting people survived in titanic\",specificity)\n",
    "print(\"The probability of predicting people survived in titanic correctly is \",sensitivity)"
   ]
  },
  {
   "cell_type": "code",
   "execution_count": 81,
   "metadata": {},
   "outputs": [
    {
     "data": {
      "text/plain": [
       "0.8295964125560538"
      ]
     },
     "execution_count": 81,
     "metadata": {},
     "output_type": "execute_result"
    }
   ],
   "source": [
    "accuracy_score(Y_test, new_predictions)"
   ]
  },
  {
   "cell_type": "code",
   "execution_count": 82,
   "metadata": {},
   "outputs": [
    {
     "data": {
      "text/plain": [
       "5.885563674365371"
      ]
     },
     "execution_count": 82,
     "metadata": {},
     "output_type": "execute_result"
    }
   ],
   "source": [
    "log_loss(Y_test, new_predictions)"
   ]
  },
  {
   "cell_type": "code",
   "execution_count": 83,
   "metadata": {},
   "outputs": [
    {
     "data": {
      "text/html": [
       "<div>\n",
       "<style scoped>\n",
       "    .dataframe tbody tr th:only-of-type {\n",
       "        vertical-align: middle;\n",
       "    }\n",
       "\n",
       "    .dataframe tbody tr th {\n",
       "        vertical-align: top;\n",
       "    }\n",
       "\n",
       "    .dataframe thead th {\n",
       "        text-align: right;\n",
       "    }\n",
       "</style>\n",
       "<table border=\"1\" class=\"dataframe\">\n",
       "  <thead>\n",
       "    <tr style=\"text-align: right;\">\n",
       "      <th></th>\n",
       "      <th>No_of_Iteration</th>\n",
       "      <th>Accuracy</th>\n",
       "      <th>Log-Loss</th>\n",
       "      <th>Precision</th>\n",
       "      <th>Recall</th>\n",
       "      <th>F1-Score</th>\n",
       "      <th>AU-ROC</th>\n",
       "      <th>Opt_Threshold</th>\n",
       "    </tr>\n",
       "  </thead>\n",
       "  <tbody>\n",
       "    <tr>\n",
       "      <th>0</th>\n",
       "      <td>Scikit_Iteration 1</td>\n",
       "      <td>0.8071</td>\n",
       "      <td>6.6600</td>\n",
       "      <td>0.7600</td>\n",
       "      <td>0.7200</td>\n",
       "      <td>0.7420</td>\n",
       "      <td>0.8500</td>\n",
       "      <td>0.6260</td>\n",
       "    </tr>\n",
       "    <tr>\n",
       "      <th>1</th>\n",
       "      <td>Aft_Updating_Threshold</td>\n",
       "      <td>0.8295</td>\n",
       "      <td>5.8850</td>\n",
       "      <td>NA</td>\n",
       "      <td>NA</td>\n",
       "      <td>NA</td>\n",
       "      <td>NA</td>\n",
       "      <td>NA</td>\n",
       "    </tr>\n",
       "  </tbody>\n",
       "</table>\n",
       "</div>"
      ],
      "text/plain": [
       "          No_of_Iteration  Accuracy  Log-Loss Precision Recall F1-Score  \\\n",
       "0      Scikit_Iteration 1    0.8071    6.6600    0.7600 0.7200   0.7420   \n",
       "1  Aft_Updating_Threshold    0.8295    5.8850        NA     NA       NA   \n",
       "\n",
       "  AU-ROC Opt_Threshold  \n",
       "0 0.8500        0.6260  \n",
       "1     NA            NA  "
      ]
     },
     "execution_count": 83,
     "metadata": {},
     "output_type": "execute_result"
    }
   ],
   "source": [
    "Sklearn_Model_Result=[['Scikit_Iteration 1',0.8071,6.66,0.76,0.72,0.742,0.85,0.626],['Aft_Updating_Threshold',0.8295,5.885,'NA','NA','NA','NA','NA']]\n",
    "Result_Summary= pd.DataFrame(Sklearn_Model_Result, columns = ['No_of_Iteration','Accuracy', 'Log-Loss','Precision','Recall','F1-Score','AU-ROC','Opt_Threshold'])\n",
    "Result_Summary"
   ]
  },
  {
   "cell_type": "markdown",
   "metadata": {},
   "source": [
    "1. From Scikit Result we can see Accuracy of the Model is 80.71% after updating it with Optimum threshold value it is comming 82.95%. The threshold value is obtained after plotting the ROC Curve. On passing the Accuracy Line we get the Cutoff Point which is closest to Top Left Corner Point whose value is 1. \n",
    "\n",
    "2. The Accuracy increases after we get optial cutoff probability and Log-Loss decreases which is good for the model.\n",
    "\n",
    "3. Precision Usually says how useful the results are: So I can say my model has 76% ability to identify all relevant instances.  The question that this metric answer is of all passengers that labeled as survived, how many actually survived? High precision relates to the low false positive rate. We have got 0.76 precision which is pretty good.\n",
    "\n",
    "4. Recall says how complete the results are: My model has 72% ability to return only relevant instances.                    So,Of all the passengers that truly survived, how many did we label? We have got recall of 0.72 which is good for this model as it’s above 0.5.\n",
    "\n",
    "5. F1-Score:It is a Single metric that combines recall and precision using the harmonic mean. So closer the F-Score to 1 better is the result. \n",
    "\n",
    "6. AU-ROC: 0.85 which is good for our Model.So I can say from my AUC Score that my Survival Classification of Passengers is good.\n",
    "\n",
    "7. Opt_Threshold: The chosen threshold 0.62 determines the balance between how many false positives and false negatives will result from this classification."
   ]
  },
  {
   "cell_type": "markdown",
   "metadata": {},
   "source": [
    "## Building Model using Statsmodel(GLM): iteration 2"
   ]
  },
  {
   "cell_type": "markdown",
   "metadata": {},
   "source": [
    "**Null hypothesis: The coefficients on the parameters (including interaction terms) of the logistic regression modeling log(odds) of Survived as a function of independent features are zero.**\n",
    "\n",
    "**Alternative hypothesis: At least one of the coefficients on the parameters (including interaction terms) of the logistic regression modeling log(odds) of Survived as a function of independent features are nonzero.**\n",
    "\n",
    "**Significance level: 5%**\n",
    "\n",
    "**Confidence interval: 95%**"
   ]
  },
  {
   "cell_type": "code",
   "execution_count": 84,
   "metadata": {},
   "outputs": [],
   "source": [
    "from sklearn.model_selection import train_test_split"
   ]
  },
  {
   "cell_type": "code",
   "execution_count": 85,
   "metadata": {},
   "outputs": [],
   "source": [
    "X_train, X_test, Y_train, Y_test = train_test_split(titanic.drop('Survived', axis=1), titanic['Survived'],\\\n",
    "                                                    test_size=0.25, random_state=156)"
   ]
  },
  {
   "cell_type": "markdown",
   "metadata": {},
   "source": [
    "#### Importing Statsmodel api"
   ]
  },
  {
   "cell_type": "code",
   "execution_count": 86,
   "metadata": {},
   "outputs": [],
   "source": [
    "import statsmodels.api as sm"
   ]
  },
  {
   "cell_type": "code",
   "execution_count": 87,
   "metadata": {},
   "outputs": [],
   "source": [
    "X_train = sm.add_constant(X_train)   # Adding Constant Term to X_Train "
   ]
  },
  {
   "cell_type": "code",
   "execution_count": 88,
   "metadata": {},
   "outputs": [
    {
     "data": {
      "text/plain": [
       "201    0\n",
       "345    1\n",
       "772    0\n",
       "455    1\n",
       "242    0\n",
       "Name: Survived, dtype: int64"
      ]
     },
     "execution_count": 88,
     "metadata": {},
     "output_type": "execute_result"
    }
   ],
   "source": [
    "Y_train.head()"
   ]
  },
  {
   "cell_type": "code",
   "execution_count": 89,
   "metadata": {},
   "outputs": [],
   "source": [
    "logit = sm.GLM(Y_train, X_train, family=sm.families.Binomial())   #Fit Logistic Regression."
   ]
  },
  {
   "cell_type": "code",
   "execution_count": 90,
   "metadata": {},
   "outputs": [],
   "source": [
    "result = logit.fit()"
   ]
  },
  {
   "cell_type": "markdown",
   "metadata": {},
   "source": [
    "##### Statsmodel Iteration1"
   ]
  },
  {
   "cell_type": "code",
   "execution_count": 91,
   "metadata": {},
   "outputs": [
    {
     "name": "stdout",
     "output_type": "stream",
     "text": [
      "                 Generalized Linear Model Regression Results                  \n",
      "==============================================================================\n",
      "Dep. Variable:               Survived   No. Observations:                  668\n",
      "Model:                            GLM   Df Residuals:                      660\n",
      "Model Family:                Binomial   Df Model:                            7\n",
      "Link Function:                  logit   Scale:                          1.0000\n",
      "Method:                          IRLS   Log-Likelihood:                -298.90\n",
      "Date:                Sun, 21 Jun 2020   Deviance:                       597.81\n",
      "Time:                        23:03:15   Pearson chi2:                     677.\n",
      "No. Iterations:                     5                                         \n",
      "Covariance Type:            nonrobust                                         \n",
      "================================================================================\n",
      "                   coef    std err          z      P>|z|      [0.025      0.975]\n",
      "--------------------------------------------------------------------------------\n",
      "const            2.9559      0.605      4.883      0.000       1.769       4.142\n",
      "Pclass          -1.1283      0.165     -6.829      0.000      -1.452      -0.804\n",
      "Age             -0.0368      0.009     -4.195      0.000      -0.054      -0.020\n",
      "Fare             0.0005      0.002      0.221      0.825      -0.004       0.005\n",
      "Sex_female       2.7734      0.232     11.975      0.000       2.319       3.227\n",
      "Embarked_Q      -0.3375      0.445     -0.759      0.448      -1.209       0.534\n",
      "Embarked_S      -0.6199      0.272     -2.277      0.023      -1.154      -0.086\n",
      "Total_Member    -0.2243      0.077     -2.922      0.003      -0.375      -0.074\n",
      "================================================================================\n"
     ]
    }
   ],
   "source": [
    "print(result.summary())"
   ]
  },
  {
   "cell_type": "markdown",
   "metadata": {},
   "source": [
    "#### Interpretation of above Summary Result:\n",
    "###### Coefficients Interpretation\n",
    "1. For every one unit change in Pclass , the log odds of survival decreases by 1.1283.\n",
    "2. For every one unit increase in Age, the the log odds of being survived decreases by 0.0368\n",
    "3. For every one unit increase in fare, the log odds of being survived increaes by 0.0005\n",
    "4. Being a Female member on ship, the log odds of survived increaes by 2.7734.\n",
    "5. For unit increase in Family Member, the log odds of survival decreases by 0.2243\n",
    "\n",
    "We can See P-Value of (Fare,Embarked_Q) > Significance Level of 5%. So I will drop columns based on Higher P-Values First.\n",
    "\n",
    "For Comparing Log-Likelihood, Deviance, Pearson chi2 we will look at the other iterations done on this model."
   ]
  },
  {
   "cell_type": "code",
   "execution_count": 92,
   "metadata": {},
   "outputs": [
    {
     "name": "stdout",
     "output_type": "stream",
     "text": [
      "               Results: Generalized linear model\n",
      "===============================================================\n",
      "Model:              GLM              AIC:            613.8056  \n",
      "Link Function:      logit            BIC:            -3695.0246\n",
      "Dependent Variable: Survived         Log-Likelihood: -298.90   \n",
      "Date:               2020-06-21 23:03 LL-Null:        -444.64   \n",
      "No. Observations:   668              Deviance:       597.81    \n",
      "Df Model:           7                Pearson chi2:   677.      \n",
      "Df Residuals:       660              Scale:          1.0000    \n",
      "Method:             IRLS                                       \n",
      "---------------------------------------------------------------\n",
      "                 Coef.  Std.Err.    z    P>|z|   [0.025  0.975]\n",
      "---------------------------------------------------------------\n",
      "const            2.9559   0.6054  4.8826 0.0000  1.7694  4.1424\n",
      "Pclass          -1.1283   0.1652 -6.8293 0.0000 -1.4521 -0.8045\n",
      "Age             -0.0368   0.0088 -4.1947 0.0000 -0.0540 -0.0196\n",
      "Fare             0.0005   0.0024  0.2209 0.8252 -0.0042  0.0052\n",
      "Sex_female       2.7734   0.2316 11.9749 0.0000  2.3195  3.2273\n",
      "Embarked_Q      -0.3375   0.4446 -0.7591 0.4478 -1.2089  0.5339\n",
      "Embarked_S      -0.6199   0.2722 -2.2772 0.0228 -1.1535 -0.0864\n",
      "Total_Member    -0.2243   0.0768 -2.9222 0.0035 -0.3747 -0.0739\n",
      "===============================================================\n",
      "\n"
     ]
    }
   ],
   "source": [
    "print(result.summary2())"
   ]
  },
  {
   "cell_type": "code",
   "execution_count": 93,
   "metadata": {},
   "outputs": [
    {
     "data": {
      "text/plain": [
       "const           2.9559\n",
       "Pclass         -1.1283\n",
       "Age            -0.0368\n",
       "Fare            0.0005\n",
       "Sex_female      2.7734\n",
       "Embarked_Q     -0.3375\n",
       "Embarked_S     -0.6199\n",
       "Total_Member   -0.2243\n",
       "dtype: float64"
      ]
     },
     "execution_count": 93,
     "metadata": {},
     "output_type": "execute_result"
    }
   ],
   "source": [
    "result.params"
   ]
  },
  {
   "cell_type": "code",
   "execution_count": 94,
   "metadata": {},
   "outputs": [
    {
     "data": {
      "text/plain": [
       "const          19.2191\n",
       "Pclass          0.3236\n",
       "Age             0.9639\n",
       "Fare            1.0005\n",
       "Sex_female     16.0127\n",
       "Embarked_Q      0.7136\n",
       "Embarked_S      0.5380\n",
       "Total_Member    0.7991\n",
       "dtype: float64"
      ]
     },
     "execution_count": 94,
     "metadata": {},
     "output_type": "execute_result"
    }
   ],
   "source": [
    "np.exp(result.params)"
   ]
  },
  {
   "cell_type": "code",
   "execution_count": 95,
   "metadata": {},
   "outputs": [
    {
     "data": {
      "text/plain": [
       "597.8055805198435"
      ]
     },
     "execution_count": 95,
     "metadata": {},
     "output_type": "execute_result"
    }
   ],
   "source": [
    "result.deviance"
   ]
  },
  {
   "cell_type": "code",
   "execution_count": 96,
   "metadata": {},
   "outputs": [
    {
     "data": {
      "text/plain": [
       "613.8055805198435"
      ]
     },
     "execution_count": 96,
     "metadata": {},
     "output_type": "execute_result"
    }
   ],
   "source": [
    "result.aic"
   ]
  },
  {
   "cell_type": "markdown",
   "metadata": {},
   "source": [
    "## Stepwise backward Elimination"
   ]
  },
  {
   "cell_type": "code",
   "execution_count": 97,
   "metadata": {},
   "outputs": [],
   "source": [
    "X_train.drop([\"Fare\"], axis=1, inplace=True)    #Dropping the Fare Column as it has P-value>0.05"
   ]
  },
  {
   "cell_type": "code",
   "execution_count": 98,
   "metadata": {},
   "outputs": [
    {
     "data": {
      "text/plain": [
       "const          40.2504\n",
       "Pclass          1.9188\n",
       "Survived        1.6584\n",
       "Fare            1.6499\n",
       "Sex_female      1.5166\n",
       "Embarked_Q      1.4881\n",
       "Embarked_S      1.4683\n",
       "Age             1.2547\n",
       "Total_Member    1.2351\n",
       "dtype: float64"
      ]
     },
     "execution_count": 98,
     "metadata": {},
     "output_type": "execute_result"
    }
   ],
   "source": [
    "from statsmodels.stats.outliers_influence import variance_inflation_factor as vif\n",
    "from statsmodels.tools.tools import add_constant\n",
    "X = add_constant(titanic)\n",
    "vifs = [vif(X.values, i) for i in range(len(X.columns))]\n",
    "pd.Series(data=vifs, index=X.columns).sort_values(ascending=False)"
   ]
  },
  {
   "cell_type": "markdown",
   "metadata": {},
   "source": [
    "##### Statsmodel Iteration 2"
   ]
  },
  {
   "cell_type": "code",
   "execution_count": 99,
   "metadata": {},
   "outputs": [
    {
     "name": "stdout",
     "output_type": "stream",
     "text": [
      "               Results: Generalized linear model\n",
      "===============================================================\n",
      "Model:              GLM              AIC:            611.8549  \n",
      "Link Function:      logit            BIC:            -3701.4796\n",
      "Dependent Variable: Survived         Log-Likelihood: -298.93   \n",
      "Date:               2020-06-21 23:04 LL-Null:        -444.64   \n",
      "No. Observations:   668              Deviance:       597.85    \n",
      "Df Model:           6                Pearson chi2:   678.      \n",
      "Df Residuals:       661              Scale:          1.0000    \n",
      "Method:             IRLS                                       \n",
      "---------------------------------------------------------------\n",
      "                 Coef.  Std.Err.    z    P>|z|   [0.025  0.975]\n",
      "---------------------------------------------------------------\n",
      "const            3.0166   0.5404  5.5825 0.0000  1.9575  4.0756\n",
      "Pclass          -1.1457   0.1455 -7.8729 0.0000 -1.4309 -0.8604\n",
      "Age             -0.0369   0.0088 -4.2137 0.0000 -0.0541 -0.0197\n",
      "Sex_female       2.7740   0.2316 11.9784 0.0000  2.3201  3.2280\n",
      "Embarked_Q      -0.3453   0.4432 -0.7792 0.4358 -1.2139  0.5232\n",
      "Embarked_S      -0.6338   0.2648 -2.3933 0.0167 -1.1529 -0.1148\n",
      "Total_Member    -0.2199   0.0741 -2.9675 0.0030 -0.3652 -0.0747\n",
      "===============================================================\n",
      "\n"
     ]
    }
   ],
   "source": [
    "print(sm.GLM(Y_train, X_train, family=sm.families.Binomial()).fit().summary2())"
   ]
  },
  {
   "cell_type": "code",
   "execution_count": 100,
   "metadata": {},
   "outputs": [],
   "source": [
    "X_train.drop([\"Embarked_Q\"], axis=1, inplace=True)   #Dropping Embarked_Q as it has P-value>0.05"
   ]
  },
  {
   "cell_type": "code",
   "execution_count": 101,
   "metadata": {},
   "outputs": [],
   "source": [
    "result1= sm.GLM(Y_train, X_train, family=sm.families.Binomial()).fit()"
   ]
  },
  {
   "cell_type": "markdown",
   "metadata": {},
   "source": [
    "##### Statsmodel Iteration 3"
   ]
  },
  {
   "cell_type": "code",
   "execution_count": 102,
   "metadata": {},
   "outputs": [
    {
     "name": "stdout",
     "output_type": "stream",
     "text": [
      "               Results: Generalized linear model\n",
      "===============================================================\n",
      "Model:              GLM              AIC:            610.4657  \n",
      "Link Function:      logit            BIC:            -3707.3731\n",
      "Dependent Variable: Survived         Log-Likelihood: -299.23   \n",
      "Date:               2020-06-21 23:04 LL-Null:        -444.64   \n",
      "No. Observations:   668              Deviance:       598.47    \n",
      "Df Model:           5                Pearson chi2:   683.      \n",
      "Df Residuals:       662              Scale:          1.0000    \n",
      "Method:             IRLS                                       \n",
      "---------------------------------------------------------------\n",
      "                 Coef.  Std.Err.    z    P>|z|   [0.025  0.975]\n",
      "---------------------------------------------------------------\n",
      "const            2.9851   0.5371  5.5575 0.0000  1.9323  4.0379\n",
      "Pclass          -1.1748   0.1409 -8.3398 0.0000 -1.4508 -0.8987\n",
      "Age             -0.0373   0.0087 -4.2682 0.0000 -0.0544 -0.0202\n",
      "Sex_female       2.7506   0.2287 12.0295 0.0000  2.3025  3.1988\n",
      "Embarked_S      -0.5290   0.2285 -2.3154 0.0206 -0.9768 -0.0812\n",
      "Total_Member    -0.2144   0.0734 -2.9192 0.0035 -0.3583 -0.0704\n",
      "===============================================================\n",
      "\n"
     ]
    }
   ],
   "source": [
    "print(result1.summary2())"
   ]
  },
  {
   "cell_type": "code",
   "execution_count": 103,
   "metadata": {},
   "outputs": [
    {
     "data": {
      "text/plain": [
       "598.4656832208061"
      ]
     },
     "execution_count": 103,
     "metadata": {},
     "output_type": "execute_result"
    }
   ],
   "source": [
    "result1.deviance"
   ]
  },
  {
   "cell_type": "code",
   "execution_count": 104,
   "metadata": {},
   "outputs": [
    {
     "data": {
      "text/plain": [
       "610.4656832208061"
      ]
     },
     "execution_count": 104,
     "metadata": {},
     "output_type": "execute_result"
    }
   ],
   "source": [
    "result1.aic"
   ]
  },
  {
   "cell_type": "code",
   "execution_count": 105,
   "metadata": {},
   "outputs": [],
   "source": [
    "X_test1 = sm.add_constant(X_test[['Pclass', 'Age', 'Sex_female','Embarked_S','Total_Member']])"
   ]
  },
  {
   "cell_type": "code",
   "execution_count": 106,
   "metadata": {},
   "outputs": [],
   "source": [
    "probabilites = result1.predict(X_test1)"
   ]
  },
  {
   "cell_type": "code",
   "execution_count": 107,
   "metadata": {},
   "outputs": [
    {
     "data": {
      "text/plain": [
       "748   0.5360\n",
       "847   0.1132\n",
       "760   0.0890\n",
       "35    0.3290\n",
       "871   0.8371\n",
       "dtype: float64"
      ]
     },
     "execution_count": 107,
     "metadata": {},
     "output_type": "execute_result"
    }
   ],
   "source": [
    "probabilites.head()"
   ]
  },
  {
   "cell_type": "code",
   "execution_count": 108,
   "metadata": {},
   "outputs": [],
   "source": [
    "predicted_classes = probabilites.map(lambda x: 1 if x > 0.5 else 0)\n",
    "accuracy = sum(predicted_classes == Y_test) / len(Y_test)"
   ]
  },
  {
   "cell_type": "code",
   "execution_count": 109,
   "metadata": {},
   "outputs": [],
   "source": [
    "accuracy = sum(predicted_classes == Y_test) / len(Y_test)"
   ]
  },
  {
   "cell_type": "code",
   "execution_count": 110,
   "metadata": {},
   "outputs": [
    {
     "data": {
      "text/plain": [
       "0.7937219730941704"
      ]
     },
     "execution_count": 110,
     "metadata": {},
     "output_type": "execute_result"
    }
   ],
   "source": [
    "accuracy"
   ]
  },
  {
   "cell_type": "code",
   "execution_count": 111,
   "metadata": {},
   "outputs": [
    {
     "data": {
      "text/plain": [
       "7.124676701812628"
      ]
     },
     "execution_count": 111,
     "metadata": {},
     "output_type": "execute_result"
    }
   ],
   "source": [
    "log_loss(Y_test, predicted_classes)"
   ]
  },
  {
   "cell_type": "code",
   "execution_count": 112,
   "metadata": {},
   "outputs": [],
   "source": [
    "from sklearn.metrics import confusion_matrix\n",
    "import matplotlib.pyplot as plt\n",
    "import seaborn as sns\n",
    "%matplotlib inline"
   ]
  },
  {
   "cell_type": "code",
   "execution_count": 113,
   "metadata": {},
   "outputs": [],
   "source": [
    "confusion_mat = confusion_matrix(Y_test, predictions)"
   ]
  },
  {
   "cell_type": "code",
   "execution_count": 114,
   "metadata": {},
   "outputs": [],
   "source": [
    "confusion_mat = confusion_matrix(Y_test, predicted_classes)\n"
   ]
  },
  {
   "cell_type": "code",
   "execution_count": 115,
   "metadata": {},
   "outputs": [],
   "source": [
    "confusion_df = pd.DataFrame(confusion_mat, index=['Actual neg','Actual pos'], columns=['Predicted neg','Predicted pos'])"
   ]
  },
  {
   "cell_type": "code",
   "execution_count": 116,
   "metadata": {},
   "outputs": [
    {
     "data": {
      "text/html": [
       "<div>\n",
       "<style scoped>\n",
       "    .dataframe tbody tr th:only-of-type {\n",
       "        vertical-align: middle;\n",
       "    }\n",
       "\n",
       "    .dataframe tbody tr th {\n",
       "        vertical-align: top;\n",
       "    }\n",
       "\n",
       "    .dataframe thead th {\n",
       "        text-align: right;\n",
       "    }\n",
       "</style>\n",
       "<table border=\"1\" class=\"dataframe\">\n",
       "  <thead>\n",
       "    <tr style=\"text-align: right;\">\n",
       "      <th></th>\n",
       "      <th>Predicted neg</th>\n",
       "      <th>Predicted pos</th>\n",
       "    </tr>\n",
       "  </thead>\n",
       "  <tbody>\n",
       "    <tr>\n",
       "      <th>Actual neg</th>\n",
       "      <td>113</td>\n",
       "      <td>24</td>\n",
       "    </tr>\n",
       "    <tr>\n",
       "      <th>Actual pos</th>\n",
       "      <td>22</td>\n",
       "      <td>64</td>\n",
       "    </tr>\n",
       "  </tbody>\n",
       "</table>\n",
       "</div>"
      ],
      "text/plain": [
       "            Predicted neg  Predicted pos\n",
       "Actual neg            113             24\n",
       "Actual pos             22             64"
      ]
     },
     "execution_count": 116,
     "metadata": {},
     "output_type": "execute_result"
    }
   ],
   "source": [
    "confusion_df"
   ]
  },
  {
   "cell_type": "code",
   "execution_count": 117,
   "metadata": {},
   "outputs": [
    {
     "data": {
      "image/png": "[encoded data removed]",
      "text/plain": [
       "<Figure size 432x288 with 2 Axes>"
      ]
     },
     "metadata": {
      "needs_background": "light"
     },
     "output_type": "display_data"
    }
   ],
   "source": [
    "_=sns.heatmap(confusion_df, cmap='coolwarm', annot=True)"
   ]
  },
  {
   "cell_type": "code",
   "execution_count": 118,
   "metadata": {},
   "outputs": [],
   "source": [
    "from sklearn.metrics import precision_score, recall_score"
   ]
  },
  {
   "cell_type": "code",
   "execution_count": 119,
   "metadata": {},
   "outputs": [
    {
     "data": {
      "text/plain": [
       "0.7272727272727273"
      ]
     },
     "execution_count": 119,
     "metadata": {},
     "output_type": "execute_result"
    }
   ],
   "source": [
    "precision_score(Y_test, predicted_classes)"
   ]
  },
  {
   "cell_type": "code",
   "execution_count": 120,
   "metadata": {},
   "outputs": [
    {
     "data": {
      "text/plain": [
       "0.7441860465116279"
      ]
     },
     "execution_count": 120,
     "metadata": {},
     "output_type": "execute_result"
    }
   ],
   "source": [
    "recall_score(Y_test, predicted_classes)"
   ]
  },
  {
   "cell_type": "code",
   "execution_count": 121,
   "metadata": {},
   "outputs": [
    {
     "data": {
      "text/plain": [
       "0.735632183908046"
      ]
     },
     "execution_count": 121,
     "metadata": {},
     "output_type": "execute_result"
    }
   ],
   "source": [
    "f1_score(Y_test, predicted_classes)"
   ]
  },
  {
   "cell_type": "code",
   "execution_count": 122,
   "metadata": {},
   "outputs": [
    {
     "name": "stdout",
     "output_type": "stream",
     "text": [
      "The probability of predicting people survived in titanic 0.8248175182481752\n",
      "The probability of predicting people survived in titanic correctly is  0.7441860465116279\n"
     ]
    }
   ],
   "source": [
    "TN=113\n",
    "FP=24\n",
    "FN=22\n",
    "TP=64\n",
    "sensitivity = TP/(TP+FN)\n",
    "specificity = TN/(TN+FP)\n",
    "print(\"The probability of predicting people survived in titanic\",specificity)\n",
    "print(\"The probability of predicting people survived in titanic correctly is \",sensitivity)"
   ]
  },
  {
   "cell_type": "code",
   "execution_count": 123,
   "metadata": {},
   "outputs": [
    {
     "data": {
      "text/html": [
       "<div>\n",
       "<style scoped>\n",
       "    .dataframe tbody tr th:only-of-type {\n",
       "        vertical-align: middle;\n",
       "    }\n",
       "\n",
       "    .dataframe tbody tr th {\n",
       "        vertical-align: top;\n",
       "    }\n",
       "\n",
       "    .dataframe thead th {\n",
       "        text-align: right;\n",
       "    }\n",
       "</style>\n",
       "<table border=\"1\" class=\"dataframe\">\n",
       "  <thead>\n",
       "    <tr style=\"text-align: right;\">\n",
       "      <th></th>\n",
       "      <th>Parameters</th>\n",
       "      <th>Stats_Iteration1</th>\n",
       "      <th>Iteration2_FareDropped</th>\n",
       "      <th>Iteration2_EmbarkedQ_Dropped</th>\n",
       "    </tr>\n",
       "  </thead>\n",
       "  <tbody>\n",
       "    <tr>\n",
       "      <th>0</th>\n",
       "      <td>Log_Likelyhood</td>\n",
       "      <td>-298.0000</td>\n",
       "      <td>-298.9300</td>\n",
       "      <td>-299.2300</td>\n",
       "    </tr>\n",
       "    <tr>\n",
       "      <th>1</th>\n",
       "      <td>Deviance</td>\n",
       "      <td>597.8100</td>\n",
       "      <td>597.8500</td>\n",
       "      <td>598.4700</td>\n",
       "    </tr>\n",
       "    <tr>\n",
       "      <th>2</th>\n",
       "      <td>Pearson_chi2</td>\n",
       "      <td>677.0000</td>\n",
       "      <td>678.0000</td>\n",
       "      <td>683.0000</td>\n",
       "    </tr>\n",
       "    <tr>\n",
       "      <th>3</th>\n",
       "      <td>AIC</td>\n",
       "      <td>613.8000</td>\n",
       "      <td>611.8500</td>\n",
       "      <td>610.4600</td>\n",
       "    </tr>\n",
       "    <tr>\n",
       "      <th>4</th>\n",
       "      <td>BIC</td>\n",
       "      <td>-3695.0200</td>\n",
       "      <td>-3701.4700</td>\n",
       "      <td>-3707.3700</td>\n",
       "    </tr>\n",
       "  </tbody>\n",
       "</table>\n",
       "</div>"
      ],
      "text/plain": [
       "       Parameters  Stats_Iteration1  Iteration2_FareDropped  \\\n",
       "0  Log_Likelyhood         -298.0000               -298.9300   \n",
       "1        Deviance          597.8100                597.8500   \n",
       "2    Pearson_chi2          677.0000                678.0000   \n",
       "3             AIC          613.8000                611.8500   \n",
       "4             BIC        -3695.0200              -3701.4700   \n",
       "\n",
       "   Iteration2_EmbarkedQ_Dropped  \n",
       "0                     -299.2300  \n",
       "1                      598.4700  \n",
       "2                      683.0000  \n",
       "3                      610.4600  \n",
       "4                    -3707.3700  "
      ]
     },
     "execution_count": 123,
     "metadata": {},
     "output_type": "execute_result"
    }
   ],
   "source": [
    "Stats_Model_Result=[['Log_Likelyhood',-298,-298.93,-299.23],['Deviance',597.81,597.85,598.47],['Pearson_chi2',677,678,683],['AIC',613.80,611.85,610.46],['BIC',-3695.02,-3701.47,-3707.37]]\n",
    "Result_Summary2= pd.DataFrame(Stats_Model_Result, columns = ['Parameters','Stats_Iteration1','Iteration2_FareDropped','Iteration2_EmbarkedQ_Dropped'])\n",
    "Result_Summary2"
   ]
  },
  {
   "cell_type": "markdown",
   "metadata": {},
   "source": [
    "1. As we can see from the above Summarized table the AIC Score after every Removal of insignificant Value decreases and ended up with the value of 610.46.\n",
    "\n",
    "2. Deviance represents Goodness of Fit: Though there is slight increase in deviance value which would make model bit less accurate."
   ]
  },
  {
   "cell_type": "markdown",
   "metadata": {},
   "source": [
    "References:\n",
    "1. http://ismayc.github.io/teaching/sample_problems/multiple_logistic.html\n",
    "2. https://www.statsmodels.org/stable/glm.html\n",
    "3. https://www.pythonprogramming.in/change-box-color-in-boxplot.html\n",
    "4. https://scikit-learn.org/stable/supervised_learning.html#supervised-learning"
   ]
  },
  {
   "cell_type": "markdown",
   "metadata": {},
   "source": [
    "**Though the model is not perfect and there is still room for improvement.**"
   ]
  }
 ],
 "metadata": {
  "kernelspec": {
   "display_name": "Python 3",
   "language": "python",
   "name": "python3"
  },
  "language_info": {
   "codemirror_mode": {
    "name": "ipython",
    "version": 3
   },
   "file_extension": ".py",
   "mimetype": "text/x-python",
   "name": "python",
   "nbconvert_exporter": "python",
   "pygments_lexer": "ipython3",
   "version": "3.7.4"
  }
 },
 "nbformat": 4,
 "nbformat_minor": 4
}

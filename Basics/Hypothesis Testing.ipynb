{
 "cells": [
  {
   "cell_type": "code",
   "execution_count": 1,
   "metadata": {},
   "outputs": [
    {
     "data": {
      "text/plain": [
       "'C:\\\\Users\\\\ARPIT'"
      ]
     },
     "execution_count": 1,
     "metadata": {},
     "output_type": "execute_result"
    }
   ],
   "source": [
    "pwd"
   ]
  },
  {
   "cell_type": "markdown",
   "metadata": {},
   "source": [
    "Importing Packages:"
   ]
  },
  {
   "cell_type": "code",
   "execution_count": 24,
   "metadata": {},
   "outputs": [],
   "source": [
    "import statsmodels.api as sm\n",
    "import numpy as np\n",
    "import pandas as pd\n",
    "import scipy.stats.distributions as dist\n",
    "import seaborn as sns\n",
    "import matplotlib.pylab as plt\n",
    "from scipy import stats\n",
    "from scipy.stats import pearsonr\n",
    "import math"
   ]
  },
  {
   "cell_type": "markdown",
   "metadata": {},
   "source": [
    "Reading the Dataset "
   ]
  },
  {
   "cell_type": "code",
   "execution_count": 3,
   "metadata": {
    "scrolled": true
   },
   "outputs": [
    {
     "data": {
      "text/html": [
       "<div>\n",
       "<style scoped>\n",
       "    .dataframe tbody tr th:only-of-type {\n",
       "        vertical-align: middle;\n",
       "    }\n",
       "\n",
       "    .dataframe tbody tr th {\n",
       "        vertical-align: top;\n",
       "    }\n",
       "\n",
       "    .dataframe thead th {\n",
       "        text-align: right;\n",
       "    }\n",
       "</style>\n",
       "<table border=\"1\" class=\"dataframe\">\n",
       "  <thead>\n",
       "    <tr style=\"text-align: right;\">\n",
       "      <th></th>\n",
       "      <th>Infant_id</th>\n",
       "      <th>Gestational_Age</th>\n",
       "      <th>Birth_Weight</th>\n",
       "    </tr>\n",
       "  </thead>\n",
       "  <tbody>\n",
       "    <tr>\n",
       "      <th>0</th>\n",
       "      <td>1</td>\n",
       "      <td>35.0</td>\n",
       "      <td>1895</td>\n",
       "    </tr>\n",
       "    <tr>\n",
       "      <th>1</th>\n",
       "      <td>2</td>\n",
       "      <td>36.0</td>\n",
       "      <td>2030</td>\n",
       "    </tr>\n",
       "    <tr>\n",
       "      <th>2</th>\n",
       "      <td>3</td>\n",
       "      <td>29.0</td>\n",
       "      <td>1440</td>\n",
       "    </tr>\n",
       "    <tr>\n",
       "      <th>3</th>\n",
       "      <td>4</td>\n",
       "      <td>40.0</td>\n",
       "      <td>2835</td>\n",
       "    </tr>\n",
       "    <tr>\n",
       "      <th>4</th>\n",
       "      <td>5</td>\n",
       "      <td>36.0</td>\n",
       "      <td>3090</td>\n",
       "    </tr>\n",
       "  </tbody>\n",
       "</table>\n",
       "</div>"
      ],
      "text/plain": [
       "   Infant_id  Gestational_Age  Birth_Weight\n",
       "0          1             35.0          1895\n",
       "1          2             36.0          2030\n",
       "2          3             29.0          1440\n",
       "3          4             40.0          2835\n",
       "4          5             36.0          3090"
      ]
     },
     "execution_count": 3,
     "metadata": {},
     "output_type": "execute_result"
    }
   ],
   "source": [
    "my_df=pd.read_csv('C:\\\\Users\\\\ARPIT\\\\Desktop\\\\UC-14000\\\\gestational_study.csv')\n",
    "my_df.head(5)"
   ]
  },
  {
   "cell_type": "markdown",
   "metadata": {},
   "source": [
    "Finding the correlation values of different features using corr() in dataframe. Gestational_Age\t& Birth_Weight shows correlation value of 0.8197. On scale of Correlation (from -1 to 1) if we see we will get that these both are highly correlated."
   ]
  },
  {
   "cell_type": "code",
   "execution_count": 6,
   "metadata": {
    "scrolled": true
   },
   "outputs": [
    {
     "data": {
      "text/html": [
       "<div>\n",
       "<style scoped>\n",
       "    .dataframe tbody tr th:only-of-type {\n",
       "        vertical-align: middle;\n",
       "    }\n",
       "\n",
       "    .dataframe tbody tr th {\n",
       "        vertical-align: top;\n",
       "    }\n",
       "\n",
       "    .dataframe thead th {\n",
       "        text-align: right;\n",
       "    }\n",
       "</style>\n",
       "<table border=\"1\" class=\"dataframe\">\n",
       "  <thead>\n",
       "    <tr style=\"text-align: right;\">\n",
       "      <th></th>\n",
       "      <th>Infant_id</th>\n",
       "      <th>Gestational_Age</th>\n",
       "      <th>Birth_Weight</th>\n",
       "    </tr>\n",
       "  </thead>\n",
       "  <tbody>\n",
       "    <tr>\n",
       "      <th>Infant_id</th>\n",
       "      <td>1.000000</td>\n",
       "      <td>0.513262</td>\n",
       "      <td>0.379070</td>\n",
       "    </tr>\n",
       "    <tr>\n",
       "      <th>Gestational_Age</th>\n",
       "      <td>0.513262</td>\n",
       "      <td>1.000000</td>\n",
       "      <td>0.819783</td>\n",
       "    </tr>\n",
       "    <tr>\n",
       "      <th>Birth_Weight</th>\n",
       "      <td>0.379070</td>\n",
       "      <td>0.819783</td>\n",
       "      <td>1.000000</td>\n",
       "    </tr>\n",
       "  </tbody>\n",
       "</table>\n",
       "</div>"
      ],
      "text/plain": [
       "                 Infant_id  Gestational_Age  Birth_Weight\n",
       "Infant_id         1.000000         0.513262      0.379070\n",
       "Gestational_Age   0.513262         1.000000      0.819783\n",
       "Birth_Weight      0.379070         0.819783      1.000000"
      ]
     },
     "execution_count": 6,
     "metadata": {},
     "output_type": "execute_result"
    }
   ],
   "source": [
    "my_corr= my_df.corr()\n",
    "my_corr"
   ]
  },
  {
   "cell_type": "markdown",
   "metadata": {},
   "source": [
    "Using heatmap trying to show the strong and weak correlation between variables."
   ]
  },
  {
   "cell_type": "code",
   "execution_count": 5,
   "metadata": {},
   "outputs": [
    {
     "data": {
      "image/png": "[encoded data removed]",
      "text/plain": [
       "<Figure size 432x288 with 2 Axes>"
      ]
     },
     "metadata": {
      "needs_background": "light"
     },
     "output_type": "display_data"
    }
   ],
   "source": [
    "sns.heatmap(my_corr,linewidth=0.5)\n",
    "plt.show()"
   ]
  },
  {
   "cell_type": "markdown",
   "metadata": {},
   "source": [
    "Using Scatterplot trying to visualize the relationships between these two variables. \n",
    "\n",
    "Yes, the scatterplot confirms the correlation that I have calculated which is Positive and Strongly correlated."
   ]
  },
  {
   "cell_type": "code",
   "execution_count": 10,
   "metadata": {},
   "outputs": [
    {
     "data": {
      "image/png": "[encoded data removed]",
      "text/plain": [
       "<Figure size 432x288 with 1 Axes>"
      ]
     },
     "metadata": {
      "needs_background": "light"
     },
     "output_type": "display_data"
    }
   ],
   "source": [
    "#sns.pairplot(my_df)\n",
    "my_df.plot(kind='scatter',x='Gestational_Age',y='Birth_Weight',rot=0,color='orange')\n",
    "plt.show()\n"
   ]
  },
  {
   "cell_type": "markdown",
   "metadata": {},
   "source": [
    "## Hypothesis Testing"
   ]
  },
  {
   "cell_type": "markdown",
   "metadata": {},
   "source": [
    "**Consideration for Conducting Hypothesis Testing**\n",
    "\n",
    "**Null Hypothesis: $H_0$** : Gestation Age has no correlation with Birth Weight \n",
    "\n",
    "**Alternative Hypothesis: $H_a$** : Yes, Gestation Age has correlation with Birth Weight\n",
    "\n",
    "**Significance Level : 5%**\n",
    "\n",
    "**Confidence Level : 95%**"
   ]
  },
  {
   "cell_type": "markdown",
   "metadata": {},
   "source": [
    "Finding out Mean, Standard Deviation of the given Dataset for Ststistical Calculation"
   ]
  },
  {
   "cell_type": "code",
   "execution_count": 13,
   "metadata": {},
   "outputs": [
    {
     "data": {
      "text/plain": [
       "(17, 38.37647058823529, 3.163765440848275)"
      ]
     },
     "execution_count": 13,
     "metadata": {},
     "output_type": "execute_result"
    }
   ],
   "source": [
    "Population      =len(my_df)\n",
    "Population_Mean = my_df['Gestational_Age'].mean()\n",
    "Population_STD  = my_df['Gestational_Age'].std()\n",
    "(Population,Population_Mean,Population_STD)"
   ]
  },
  {
   "cell_type": "markdown",
   "metadata": {},
   "source": [
    "Method 1: Pearson Correlation "
   ]
  },
  {
   "cell_type": "code",
   "execution_count": 36,
   "metadata": {},
   "outputs": [
    {
     "name": "stdout",
     "output_type": "stream",
     "text": [
      "Pearsons correlation: 0.820\n"
     ]
    }
   ],
   "source": [
    "#Pearson's correlation coefficient = covariance(X, Y) / (stdv(X) * stdv(Y))\n",
    "corr, _ = pearsonr(my_df['Gestational_Age'], my_df['Birth_Weight'])\n",
    "print('Pearsons correlation: %.3f' % corr)"
   ]
  },
  {
   "cell_type": "markdown",
   "metadata": {},
   "source": [
    "Method2: Finding Pearson Correlation and p-value. "
   ]
  },
  {
   "cell_type": "code",
   "execution_count": 37,
   "metadata": {},
   "outputs": [
    {
     "name": "stdout",
     "output_type": "stream",
     "text": [
      "0.8197828031536365\n",
      "5.621078528333726e-05\n"
     ]
    }
   ],
   "source": [
    "r, p = scipy.stats.pearsonr(my_df['Gestational_Age'], my_df['Birth_Weight'])\n",
    "print(r)\n",
    "print(p)"
   ]
  },
  {
   "cell_type": "markdown",
   "metadata": {},
   "source": [
    "**p-value(5.621078528333726e-05)** less than significance level(0.05). So, with **95% Confidence** I can say that **5.621078528333726e-05 < 0.05 (typically ≤ 0.05)** is **statistically significant** and  indicates strong evidence against the null hypothesis, as there is less than a 5% probability the null is correct (and the results are just a random chance variation ). Therefore, we **reject** the null hypothesis, and **accept** the alternative hypothesis and can say **Yes, Gestation Age has strong correlation Birth Weight**. We can say that there is linear replationship between **'Gestational_Age'** & **'Birth_Weight'**. at 95% Confidence level."
   ]
  },
  {
   "cell_type": "markdown",
   "metadata": {},
   "source": [
    "On conducting the correlation between several features in the Dataset we can see that **Gestational_Age** is showing strong correlation with **Birth_Weight** and low correlation with **Infant_ID**. To better explain and understand correlation between several features a heatmap is drawn which clearly shows the correlation along with heatmap a corr() function is used to know the exact value of the correlation."
   ]
  },
  {
   "cell_type": "markdown",
   "metadata": {},
   "source": [
    "In the last step Pearson Cofficient is measured which shows what is the strength of relationship between **Gestational_Age** & **Birth_Weight**. On conducting the test we get to know that there is strong association between those two variable and shows Positive Correlation **( r=0.81, p value= 5.621078528333726e-05)** p-value which is less than significance level  and thus we can say that it is **statistically significant**  add an extra advantage though which we can show the association is strong through which we can say that with Gestation Age the Birthweight increases.  "
   ]
  },
  {
   "cell_type": "markdown",
   "metadata": {},
   "source": [
    "**Additional Finding** \n",
    "If a correlation of 0.819 is observed between two variables (Gestational_Age & Birth_Weight), then a linear regression model attempting to explain either variable in terms of the other variable will account for 67.07% of the variability in the data."
   ]
  }
 ],
 "metadata": {
  "kernelspec": {
   "display_name": "Python 3",
   "language": "python",
   "name": "python3"
  },
  "language_info": {
   "codemirror_mode": {
    "name": "ipython",
    "version": 3
   },
   "file_extension": ".py",
   "mimetype": "text/x-python",
   "name": "python",
   "nbconvert_exporter": "python",
   "pygments_lexer": "ipython3",
   "version": "3.7.9"
  }
 },
 "nbformat": 4,
 "nbformat_minor": 4
}

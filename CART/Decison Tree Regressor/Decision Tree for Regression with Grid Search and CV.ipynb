{
 "cells": [
  {
   "cell_type": "code",
   "execution_count": 1,
   "metadata": {},
   "outputs": [
    {
     "data": {
      "text/plain": [
       "'C:\\\\Users\\\\ARPIT\\\\Desktop\\\\UC-14000'"
      ]
     },
     "execution_count": 1,
     "metadata": {},
     "output_type": "execute_result"
    }
   ],
   "source": [
    "pwd"
   ]
  },
  {
   "cell_type": "markdown",
   "metadata": {},
   "source": [
    "## About Data and Objective\n",
    "\n",
    "#### Use Decision Trees to build a regressor & Grid Search to find the optimal value for the hyperparameters for the given dataset, and evaluate your model on the appropriate metrics try and predict gas consumption (in millions of gallons) in 48 US states based upon:\n",
    "1. Gas Tax (in cents)\n",
    "2. Per Capita Income (dollars)\n",
    "3. Paved Highways (in miles) &\n",
    "4. The proportion of the population with a driver license."
   ]
  },
  {
   "cell_type": "markdown",
   "metadata": {},
   "source": [
    "#### Importing Packages"
   ]
  },
  {
   "cell_type": "code",
   "execution_count": 2,
   "metadata": {},
   "outputs": [],
   "source": [
    "import warnings\n",
    "warnings.filterwarnings('ignore')\n",
    "import os\n",
    "import pandas as pd\n",
    "from pandas import DataFrame\n",
    "import pylab as pl\n",
    "import numpy as np\n",
    "import seaborn as sns\n",
    "from scipy import stats\n",
    "import matplotlib.pyplot as plt\n",
    "%matplotlib inline"
   ]
  },
  {
   "cell_type": "code",
   "execution_count": 3,
   "metadata": {},
   "outputs": [],
   "source": [
    "Fuel_cons=pd.read_csv(\"C:\\\\Users\\\\ARPIT\\\\Desktop\\\\UC-14000\\\\petrol_consumption.csv\") #Importing Data"
   ]
  },
  {
   "cell_type": "code",
   "execution_count": 4,
   "metadata": {},
   "outputs": [
    {
     "data": {
      "text/html": [
       "<div>\n",
       "<style scoped>\n",
       "    .dataframe tbody tr th:only-of-type {\n",
       "        vertical-align: middle;\n",
       "    }\n",
       "\n",
       "    .dataframe tbody tr th {\n",
       "        vertical-align: top;\n",
       "    }\n",
       "\n",
       "    .dataframe thead th {\n",
       "        text-align: right;\n",
       "    }\n",
       "</style>\n",
       "<table border=\"1\" class=\"dataframe\">\n",
       "  <thead>\n",
       "    <tr style=\"text-align: right;\">\n",
       "      <th></th>\n",
       "      <th>Petrol_tax</th>\n",
       "      <th>Average_income</th>\n",
       "      <th>Paved_Highways</th>\n",
       "      <th>Population_Driver_licence(%)</th>\n",
       "      <th>Petrol_Consumption</th>\n",
       "    </tr>\n",
       "  </thead>\n",
       "  <tbody>\n",
       "    <tr>\n",
       "      <th>0</th>\n",
       "      <td>9.0</td>\n",
       "      <td>3571</td>\n",
       "      <td>1976</td>\n",
       "      <td>0.525</td>\n",
       "      <td>541</td>\n",
       "    </tr>\n",
       "    <tr>\n",
       "      <th>1</th>\n",
       "      <td>9.0</td>\n",
       "      <td>4092</td>\n",
       "      <td>1250</td>\n",
       "      <td>0.572</td>\n",
       "      <td>524</td>\n",
       "    </tr>\n",
       "    <tr>\n",
       "      <th>2</th>\n",
       "      <td>9.0</td>\n",
       "      <td>3865</td>\n",
       "      <td>1586</td>\n",
       "      <td>0.580</td>\n",
       "      <td>561</td>\n",
       "    </tr>\n",
       "    <tr>\n",
       "      <th>3</th>\n",
       "      <td>7.5</td>\n",
       "      <td>4870</td>\n",
       "      <td>2351</td>\n",
       "      <td>0.529</td>\n",
       "      <td>414</td>\n",
       "    </tr>\n",
       "    <tr>\n",
       "      <th>4</th>\n",
       "      <td>8.0</td>\n",
       "      <td>4399</td>\n",
       "      <td>431</td>\n",
       "      <td>0.544</td>\n",
       "      <td>410</td>\n",
       "    </tr>\n",
       "  </tbody>\n",
       "</table>\n",
       "</div>"
      ],
      "text/plain": [
       "   Petrol_tax  Average_income  Paved_Highways  Population_Driver_licence(%)  \\\n",
       "0         9.0            3571            1976                         0.525   \n",
       "1         9.0            4092            1250                         0.572   \n",
       "2         9.0            3865            1586                         0.580   \n",
       "3         7.5            4870            2351                         0.529   \n",
       "4         8.0            4399             431                         0.544   \n",
       "\n",
       "   Petrol_Consumption  \n",
       "0                 541  \n",
       "1                 524  \n",
       "2                 561  \n",
       "3                 414  \n",
       "4                 410  "
      ]
     },
     "execution_count": 4,
     "metadata": {},
     "output_type": "execute_result"
    }
   ],
   "source": [
    "Fuel_cons.head()"
   ]
  },
  {
   "cell_type": "markdown",
   "metadata": {},
   "source": [
    "#### Structure and Datatypes of Dataset along with Summary Statistics"
   ]
  },
  {
   "cell_type": "code",
   "execution_count": 5,
   "metadata": {},
   "outputs": [
    {
     "name": "stdout",
     "output_type": "stream",
     "text": [
      "(48, 5)\n",
      "<class 'pandas.core.frame.DataFrame'>\n",
      "RangeIndex: 48 entries, 0 to 47\n",
      "Data columns (total 5 columns):\n",
      " #   Column                        Non-Null Count  Dtype  \n",
      "---  ------                        --------------  -----  \n",
      " 0   Petrol_tax                    48 non-null     float64\n",
      " 1   Average_income                48 non-null     int64  \n",
      " 2   Paved_Highways                48 non-null     int64  \n",
      " 3   Population_Driver_licence(%)  48 non-null     float64\n",
      " 4   Petrol_Consumption            48 non-null     int64  \n",
      "dtypes: float64(2), int64(3)\n",
      "memory usage: 2.0 KB\n"
     ]
    }
   ],
   "source": [
    "print(Fuel_cons.shape)\n",
    "Fuel_cons.info()"
   ]
  },
  {
   "cell_type": "code",
   "execution_count": 6,
   "metadata": {},
   "outputs": [
    {
     "data": {
      "text/html": [
       "<div>\n",
       "<style scoped>\n",
       "    .dataframe tbody tr th:only-of-type {\n",
       "        vertical-align: middle;\n",
       "    }\n",
       "\n",
       "    .dataframe tbody tr th {\n",
       "        vertical-align: top;\n",
       "    }\n",
       "\n",
       "    .dataframe thead th {\n",
       "        text-align: right;\n",
       "    }\n",
       "</style>\n",
       "<table border=\"1\" class=\"dataframe\">\n",
       "  <thead>\n",
       "    <tr style=\"text-align: right;\">\n",
       "      <th></th>\n",
       "      <th>count</th>\n",
       "      <th>mean</th>\n",
       "      <th>std</th>\n",
       "      <th>min</th>\n",
       "      <th>25%</th>\n",
       "      <th>50%</th>\n",
       "      <th>75%</th>\n",
       "      <th>max</th>\n",
       "    </tr>\n",
       "  </thead>\n",
       "  <tbody>\n",
       "    <tr>\n",
       "      <th>Petrol_tax</th>\n",
       "      <td>48.0000</td>\n",
       "      <td>7.6683</td>\n",
       "      <td>0.9508</td>\n",
       "      <td>5.0000</td>\n",
       "      <td>7.0000</td>\n",
       "      <td>7.5000</td>\n",
       "      <td>8.1250</td>\n",
       "      <td>10.0000</td>\n",
       "    </tr>\n",
       "    <tr>\n",
       "      <th>Average_income</th>\n",
       "      <td>48.0000</td>\n",
       "      <td>4241.8333</td>\n",
       "      <td>573.6238</td>\n",
       "      <td>3063.0000</td>\n",
       "      <td>3739.0000</td>\n",
       "      <td>4298.0000</td>\n",
       "      <td>4578.7500</td>\n",
       "      <td>5342.0000</td>\n",
       "    </tr>\n",
       "    <tr>\n",
       "      <th>Paved_Highways</th>\n",
       "      <td>48.0000</td>\n",
       "      <td>5565.4167</td>\n",
       "      <td>3491.5072</td>\n",
       "      <td>431.0000</td>\n",
       "      <td>3110.2500</td>\n",
       "      <td>4735.5000</td>\n",
       "      <td>7156.0000</td>\n",
       "      <td>17782.0000</td>\n",
       "    </tr>\n",
       "    <tr>\n",
       "      <th>Population_Driver_licence(%)</th>\n",
       "      <td>48.0000</td>\n",
       "      <td>0.5703</td>\n",
       "      <td>0.0555</td>\n",
       "      <td>0.4510</td>\n",
       "      <td>0.5298</td>\n",
       "      <td>0.5645</td>\n",
       "      <td>0.5952</td>\n",
       "      <td>0.7240</td>\n",
       "    </tr>\n",
       "    <tr>\n",
       "      <th>Petrol_Consumption</th>\n",
       "      <td>48.0000</td>\n",
       "      <td>576.7708</td>\n",
       "      <td>111.8858</td>\n",
       "      <td>344.0000</td>\n",
       "      <td>509.5000</td>\n",
       "      <td>568.5000</td>\n",
       "      <td>632.7500</td>\n",
       "      <td>968.0000</td>\n",
       "    </tr>\n",
       "  </tbody>\n",
       "</table>\n",
       "</div>"
      ],
      "text/plain": [
       "                               count      mean       std       min       25%  \\\n",
       "Petrol_tax                   48.0000    7.6683    0.9508    5.0000    7.0000   \n",
       "Average_income               48.0000 4241.8333  573.6238 3063.0000 3739.0000   \n",
       "Paved_Highways               48.0000 5565.4167 3491.5072  431.0000 3110.2500   \n",
       "Population_Driver_licence(%) 48.0000    0.5703    0.0555    0.4510    0.5298   \n",
       "Petrol_Consumption           48.0000  576.7708  111.8858  344.0000  509.5000   \n",
       "\n",
       "                                   50%       75%        max  \n",
       "Petrol_tax                      7.5000    8.1250    10.0000  \n",
       "Average_income               4298.0000 4578.7500  5342.0000  \n",
       "Paved_Highways               4735.5000 7156.0000 17782.0000  \n",
       "Population_Driver_licence(%)    0.5645    0.5952     0.7240  \n",
       "Petrol_Consumption            568.5000  632.7500   968.0000  "
      ]
     },
     "execution_count": 6,
     "metadata": {},
     "output_type": "execute_result"
    }
   ],
   "source": [
    "pd.options.display.float_format = '{:.4f}'.format\n",
    "data_summary=Fuel_cons.describe()\n",
    "data_summary.T"
   ]
  },
  {
   "cell_type": "markdown",
   "metadata": {},
   "source": [
    "###### Checking for Outliers"
   ]
  },
  {
   "cell_type": "code",
   "execution_count": 7,
   "metadata": {},
   "outputs": [
    {
     "name": "stdout",
     "output_type": "stream",
     "text": [
      "Column Petrol_tax outliers = 4.17%\n",
      "Column Average_income outliers = 0.00%\n",
      "Column Paved_Highways outliers = 4.17%\n",
      "Column Population_Driver_licence(%) outliers = 2.08%\n",
      "Column Petrol_Consumption outliers = 4.17%\n"
     ]
    }
   ],
   "source": [
    "for k, v in Fuel_cons.items():\n",
    "    q1 = v.quantile(0.25)\n",
    "    q3 = v.quantile(0.75)\n",
    "    irq = q3 - q1\n",
    "    v_col = v[(v <= q1 - 1.5 * irq) | (v >= q3 + 1.5 * irq)]\n",
    "    perc = np.shape(v_col)[0] * 100.0 / np.shape(Fuel_cons)[0]\n",
    "    print(\"Column %s outliers = %.2f%%\" % (k, perc))"
   ]
  },
  {
   "cell_type": "code",
   "execution_count": 8,
   "metadata": {},
   "outputs": [
    {
     "data": {
      "text/plain": [
       "<matplotlib.axes._subplots.AxesSubplot at 0xfc67c68c48>"
      ]
     },
     "execution_count": 8,
     "metadata": {},
     "output_type": "execute_result"
    },
    {
     "data": {
      "image/png": "[encoded data removed]",
      "text/plain": [
       "<Figure size 864x360 with 1 Axes>"
      ]
     },
     "metadata": {
      "needs_background": "light"
     },
     "output_type": "display_data"
    }
   ],
   "source": [
    "plt.figure(figsize=(12,5))\n",
    "Fuel_cons.boxplot(patch_artist=True,vert=False)"
   ]
  },
  {
   "cell_type": "markdown",
   "metadata": {},
   "source": [
    "###### Correlation Chart"
   ]
  },
  {
   "cell_type": "code",
   "execution_count": 9,
   "metadata": {},
   "outputs": [
    {
     "data": {
      "text/html": [
       "<div>\n",
       "<style scoped>\n",
       "    .dataframe tbody tr th:only-of-type {\n",
       "        vertical-align: middle;\n",
       "    }\n",
       "\n",
       "    .dataframe tbody tr th {\n",
       "        vertical-align: top;\n",
       "    }\n",
       "\n",
       "    .dataframe thead th {\n",
       "        text-align: right;\n",
       "    }\n",
       "</style>\n",
       "<table border=\"1\" class=\"dataframe\">\n",
       "  <thead>\n",
       "    <tr style=\"text-align: right;\">\n",
       "      <th></th>\n",
       "      <th>Petrol_tax</th>\n",
       "      <th>Average_income</th>\n",
       "      <th>Paved_Highways</th>\n",
       "      <th>Population_Driver_licence(%)</th>\n",
       "      <th>Petrol_Consumption</th>\n",
       "    </tr>\n",
       "  </thead>\n",
       "  <tbody>\n",
       "    <tr>\n",
       "      <th>Petrol_tax</th>\n",
       "      <td>1.0000</td>\n",
       "      <td>0.0127</td>\n",
       "      <td>-0.5221</td>\n",
       "      <td>-0.2880</td>\n",
       "      <td>-0.4513</td>\n",
       "    </tr>\n",
       "    <tr>\n",
       "      <th>Average_income</th>\n",
       "      <td>0.0127</td>\n",
       "      <td>1.0000</td>\n",
       "      <td>0.0502</td>\n",
       "      <td>0.1571</td>\n",
       "      <td>-0.2449</td>\n",
       "    </tr>\n",
       "    <tr>\n",
       "      <th>Paved_Highways</th>\n",
       "      <td>-0.5221</td>\n",
       "      <td>0.0502</td>\n",
       "      <td>1.0000</td>\n",
       "      <td>-0.0641</td>\n",
       "      <td>0.0190</td>\n",
       "    </tr>\n",
       "    <tr>\n",
       "      <th>Population_Driver_licence(%)</th>\n",
       "      <td>-0.2880</td>\n",
       "      <td>0.1571</td>\n",
       "      <td>-0.0641</td>\n",
       "      <td>1.0000</td>\n",
       "      <td>0.6990</td>\n",
       "    </tr>\n",
       "    <tr>\n",
       "      <th>Petrol_Consumption</th>\n",
       "      <td>-0.4513</td>\n",
       "      <td>-0.2449</td>\n",
       "      <td>0.0190</td>\n",
       "      <td>0.6990</td>\n",
       "      <td>1.0000</td>\n",
       "    </tr>\n",
       "  </tbody>\n",
       "</table>\n",
       "</div>"
      ],
      "text/plain": [
       "                              Petrol_tax  Average_income  Paved_Highways  \\\n",
       "Petrol_tax                        1.0000          0.0127         -0.5221   \n",
       "Average_income                    0.0127          1.0000          0.0502   \n",
       "Paved_Highways                   -0.5221          0.0502          1.0000   \n",
       "Population_Driver_licence(%)     -0.2880          0.1571         -0.0641   \n",
       "Petrol_Consumption               -0.4513         -0.2449          0.0190   \n",
       "\n",
       "                              Population_Driver_licence(%)  Petrol_Consumption  \n",
       "Petrol_tax                                         -0.2880             -0.4513  \n",
       "Average_income                                      0.1571             -0.2449  \n",
       "Paved_Highways                                     -0.0641              0.0190  \n",
       "Population_Driver_licence(%)                        1.0000              0.6990  \n",
       "Petrol_Consumption                                  0.6990              1.0000  "
      ]
     },
     "execution_count": 9,
     "metadata": {},
     "output_type": "execute_result"
    }
   ],
   "source": [
    "my_corr=Fuel_cons.corr()\n",
    "my_corr"
   ]
  },
  {
   "cell_type": "code",
   "execution_count": 10,
   "metadata": {},
   "outputs": [
    {
     "data": {
      "image/png": "[encoded data removed]",
      "text/plain": [
       "<Figure size 864x360 with 2 Axes>"
      ]
     },
     "metadata": {
      "needs_background": "light"
     },
     "output_type": "display_data"
    }
   ],
   "source": [
    "plt.figure(figsize=(12,5))\n",
    "sns.heatmap(my_corr,linewidth=0.5)\n",
    "plt.show()"
   ]
  },
  {
   "cell_type": "markdown",
   "metadata": {},
   "source": [
    "##### Understanding Data: Exploratory Data Analysis \n",
    "\n",
    "Calculating Correlation, P-value and Regression plot\n",
    "\n",
    "To understand the spread of datapoints this regression plot has been plotted along with pearson coefficients."
   ]
  },
  {
   "cell_type": "code",
   "execution_count": 11,
   "metadata": {},
   "outputs": [
    {
     "name": "stdout",
     "output_type": "stream",
     "text": [
      "The Pearson Correlation Coefficient of Petrol_tax is -0.45128027518698666  with a P-value of P = 0.0012848906734289317\n"
     ]
    },
    {
     "data": {
      "text/plain": [
       "(0.0, 999.2)"
      ]
     },
     "execution_count": 11,
     "metadata": {},
     "output_type": "execute_result"
    },
    {
     "data": {
      "image/png": "[encoded data removed]",
      "text/plain": [
       "<Figure size 432x288 with 1 Axes>"
      ]
     },
     "metadata": {
      "needs_background": "light"
     },
     "output_type": "display_data"
    }
   ],
   "source": [
    "pearson_coef, p_value = stats.pearsonr(Fuel_cons['Petrol_tax'], Fuel_cons['Petrol_Consumption'])\n",
    "print(\"The Pearson Correlation Coefficient of Petrol_tax is\", pearson_coef, \" with a P-value of P =\", p_value)  \n",
    "sns.regplot(x=\"Petrol_tax\", y=\"Petrol_Consumption\", data=Fuel_cons)\n",
    "plt.ylim(0,)"
   ]
  },
  {
   "cell_type": "code",
   "execution_count": 12,
   "metadata": {},
   "outputs": [
    {
     "name": "stdout",
     "output_type": "stream",
     "text": [
      "The Pearson Correlation Coefficient of Petrol_tax is -0.24486207498269902  with a P-value of P = 0.09346842977474583\n"
     ]
    },
    {
     "data": {
      "text/plain": [
       "(0.0, 999.2)"
      ]
     },
     "execution_count": 12,
     "metadata": {},
     "output_type": "execute_result"
    },
    {
     "data": {
      "image/png": "[encoded data removed]",
      "text/plain": [
       "<Figure size 432x288 with 1 Axes>"
      ]
     },
     "metadata": {
      "needs_background": "light"
     },
     "output_type": "display_data"
    }
   ],
   "source": [
    "pearson_coef, p_value = stats.pearsonr(Fuel_cons['Average_income'], Fuel_cons['Petrol_Consumption'])\n",
    "print(\"The Pearson Correlation Coefficient of Petrol_tax is\", pearson_coef, \" with a P-value of P =\", p_value)  \n",
    "sns.regplot(x=\"Average_income\", y=\"Petrol_Consumption\", data=Fuel_cons)\n",
    "plt.ylim(0,)"
   ]
  },
  {
   "cell_type": "code",
   "execution_count": 13,
   "metadata": {},
   "outputs": [
    {
     "name": "stdout",
     "output_type": "stream",
     "text": [
      "The Pearson Correlation Coefficient of Petrol_tax is 0.01904193881958577  with a P-value of P = 0.8977846002496392\n"
     ]
    },
    {
     "data": {
      "text/plain": [
       "(0.0, 999.2)"
      ]
     },
     "execution_count": 13,
     "metadata": {},
     "output_type": "execute_result"
    },
    {
     "data": {
      "image/png": "[encoded data removed]",
      "text/plain": [
       "<Figure size 432x288 with 1 Axes>"
      ]
     },
     "metadata": {
      "needs_background": "light"
     },
     "output_type": "display_data"
    }
   ],
   "source": [
    "pearson_coef, p_value = stats.pearsonr(Fuel_cons['Paved_Highways'], Fuel_cons['Petrol_Consumption'])\n",
    "print(\"The Pearson Correlation Coefficient of Petrol_tax is\", pearson_coef, \" with a P-value of P =\", p_value)  \n",
    "sns.regplot(x=\"Paved_Highways\", y=\"Petrol_Consumption\", data=Fuel_cons)\n",
    "plt.ylim(0,)"
   ]
  },
  {
   "cell_type": "code",
   "execution_count": 14,
   "metadata": {},
   "outputs": [
    {
     "name": "stdout",
     "output_type": "stream",
     "text": [
      "The Pearson Correlation Coefficient of Petrol_tax is 0.6989654213627077  with a P-value of P = 3.289604948530826e-08\n"
     ]
    },
    {
     "data": {
      "text/plain": [
       "(0.0, 999.2)"
      ]
     },
     "execution_count": 14,
     "metadata": {},
     "output_type": "execute_result"
    },
    {
     "data": {
      "image/png": "[encoded data removed]",
      "text/plain": [
       "<Figure size 432x288 with 1 Axes>"
      ]
     },
     "metadata": {
      "needs_background": "light"
     },
     "output_type": "display_data"
    }
   ],
   "source": [
    "pearson_coef, p_value = stats.pearsonr(Fuel_cons['Population_Driver_licence(%)'], Fuel_cons['Petrol_Consumption'])\n",
    "print(\"The Pearson Correlation Coefficient of Petrol_tax is\", pearson_coef, \" with a P-value of P =\", p_value)  \n",
    "sns.regplot(x=\"Population_Driver_licence(%)\", y=\"Petrol_Consumption\", data=Fuel_cons)\n",
    "plt.ylim(0,)"
   ]
  },
  {
   "cell_type": "markdown",
   "metadata": {},
   "source": [
    "##### Knowing about the distribution of Predictors and target of dataset. "
   ]
  },
  {
   "cell_type": "code",
   "execution_count": 15,
   "metadata": {},
   "outputs": [
    {
     "data": {
      "text/plain": [
       "<matplotlib.axes._subplots.AxesSubplot at 0xfc6a4d1e48>"
      ]
     },
     "execution_count": 15,
     "metadata": {},
     "output_type": "execute_result"
    },
    {
     "data": {
      "image/png": "[encoded data removed]",
      "text/plain": [
       "<Figure size 864x360 with 1 Axes>"
      ]
     },
     "metadata": {
      "needs_background": "light"
     },
     "output_type": "display_data"
    }
   ],
   "source": [
    "plt.figure(figsize=(12,5))\n",
    "sns.distplot(Fuel_cons['Petrol_tax'])"
   ]
  },
  {
   "cell_type": "code",
   "execution_count": 16,
   "metadata": {},
   "outputs": [
    {
     "data": {
      "text/plain": [
       "<matplotlib.axes._subplots.AxesSubplot at 0xfc6a6aaf08>"
      ]
     },
     "execution_count": 16,
     "metadata": {},
     "output_type": "execute_result"
    },
    {
     "data": {
      "image/png": "[encoded data removed]",
      "text/plain": [
       "<Figure size 864x360 with 1 Axes>"
      ]
     },
     "metadata": {
      "needs_background": "light"
     },
     "output_type": "display_data"
    }
   ],
   "source": [
    "plt.figure(figsize=(12,5))\n",
    "sns.distplot(Fuel_cons['Paved_Highways'])"
   ]
  },
  {
   "cell_type": "code",
   "execution_count": 17,
   "metadata": {},
   "outputs": [
    {
     "data": {
      "text/plain": [
       "<matplotlib.axes._subplots.AxesSubplot at 0xfc6a479648>"
      ]
     },
     "execution_count": 17,
     "metadata": {},
     "output_type": "execute_result"
    },
    {
     "data": {
      "image/png": "[encoded data removed]",
      "text/plain": [
       "<Figure size 864x360 with 1 Axes>"
      ]
     },
     "metadata": {
      "needs_background": "light"
     },
     "output_type": "display_data"
    }
   ],
   "source": [
    "plt.figure(figsize=(12,5))\n",
    "sns.distplot(Fuel_cons['Average_income'])"
   ]
  },
  {
   "cell_type": "code",
   "execution_count": 18,
   "metadata": {},
   "outputs": [
    {
     "data": {
      "text/plain": [
       "<matplotlib.axes._subplots.AxesSubplot at 0xfc69733d88>"
      ]
     },
     "execution_count": 18,
     "metadata": {},
     "output_type": "execute_result"
    },
    {
     "data": {
      "image/png": "[encoded data removed]",
      "text/plain": [
       "<Figure size 864x360 with 1 Axes>"
      ]
     },
     "metadata": {
      "needs_background": "light"
     },
     "output_type": "display_data"
    }
   ],
   "source": [
    "plt.figure(figsize=(12,5))\n",
    "sns.distplot(Fuel_cons['Petrol_Consumption'])"
   ]
  },
  {
   "cell_type": "code",
   "execution_count": 19,
   "metadata": {},
   "outputs": [
    {
     "data": {
      "text/plain": [
       "<matplotlib.axes._subplots.AxesSubplot at 0xfc67e23b48>"
      ]
     },
     "execution_count": 19,
     "metadata": {},
     "output_type": "execute_result"
    },
    {
     "data": {
      "image/png": "[encoded data removed]",
      "text/plain": [
       "<Figure size 864x360 with 1 Axes>"
      ]
     },
     "metadata": {
      "needs_background": "light"
     },
     "output_type": "display_data"
    }
   ],
   "source": [
    "plt.figure(figsize=(12,5))\n",
    "sns.distplot(Fuel_cons['Population_Driver_licence(%)'])"
   ]
  },
  {
   "cell_type": "markdown",
   "metadata": {},
   "source": [
    "#### Viz 3: The below plot has been plotted in order to show the Petrol Consumption as per tax.\n",
    "\n",
    "We can see from the below ploted graph that the bandwith of petrol Consumption with lower petrol tax is smooth shown by (Brown Curve) it has high bandwidth as it has shallow kernel and has high density. When we look at the area under Blue Curve we can see its density and amplitude is low which shows petrol tax with High petrol consumption people are less."
   ]
  },
  {
   "cell_type": "code",
   "execution_count": 20,
   "metadata": {},
   "outputs": [
    {
     "data": {
      "text/plain": [
       "<seaborn.axisgrid.FacetGrid at 0xfc6a6d6508>"
      ]
     },
     "execution_count": 20,
     "metadata": {},
     "output_type": "execute_result"
    },
    {
     "data": {
      "image/png": "[encoded data removed]",
      "text/plain": [
       "<Figure size 971.25x216 with 1 Axes>"
      ]
     },
     "metadata": {
      "needs_background": "light"
     },
     "output_type": "display_data"
    }
   ],
   "source": [
    "a = sns.FacetGrid(Fuel_cons, hue = 'Petrol_Consumption', aspect=4 )\n",
    "a.map(sns.kdeplot, 'Petrol_tax', shade= True )\n",
    "a.set(xlim=(0 ,Fuel_cons['Petrol_tax'].max()))\n",
    "a.add_legend()"
   ]
  },
  {
   "cell_type": "markdown",
   "metadata": {},
   "source": [
    "#### Viz 4:  The factor plot shows that people mostly taxes are less when there are paved Highways whereas there is high taxation in petrol fuel where there are less Paved Highways. This shows despite of high petrol taxes the condition of highways are not improved which says the improper management and lack of work done by authority."
   ]
  },
  {
   "cell_type": "code",
   "execution_count": 21,
   "metadata": {},
   "outputs": [
    {
     "data": {
      "image/png": "[encoded data removed]",
      "text/plain": [
       "<Figure size 900x360 with 1 Axes>"
      ]
     },
     "metadata": {
      "needs_background": "light"
     },
     "output_type": "display_data"
    }
   ],
   "source": [
    "axes = sns.factorplot('Petrol_tax','Paved_Highways',data=Fuel_cons, aspect = 2.5, )"
   ]
  },
  {
   "cell_type": "markdown",
   "metadata": {},
   "source": [
    "##### Dividing Data into Predictors and Target Variables"
   ]
  },
  {
   "cell_type": "code",
   "execution_count": 22,
   "metadata": {},
   "outputs": [],
   "source": [
    "predictor_var= Fuel_cons[['Petrol_tax','Average_income','Paved_Highways','Population_Driver_licence(%)']] #all columns except the last one\n",
    "target_var= Fuel_cons['Petrol_Consumption'] #only the last column"
   ]
  },
  {
   "cell_type": "code",
   "execution_count": 23,
   "metadata": {},
   "outputs": [
    {
     "data": {
      "text/plain": [
       "(48, 4)"
      ]
     },
     "execution_count": 23,
     "metadata": {},
     "output_type": "execute_result"
    }
   ],
   "source": [
    "predictor_var.shape"
   ]
  },
  {
   "cell_type": "code",
   "execution_count": 24,
   "metadata": {},
   "outputs": [
    {
     "data": {
      "text/plain": [
       "(48,)"
      ]
     },
     "execution_count": 24,
     "metadata": {},
     "output_type": "execute_result"
    }
   ],
   "source": [
    "target_var.shape"
   ]
  },
  {
   "cell_type": "markdown",
   "metadata": {},
   "source": [
    "### Plotting Decision Tree without using any external tool for Optimization such as Grid Search CV"
   ]
  },
  {
   "cell_type": "markdown",
   "metadata": {},
   "source": [
    "##### Importing Test Train Split from sklearn package"
   ]
  },
  {
   "cell_type": "code",
   "execution_count": 25,
   "metadata": {},
   "outputs": [],
   "source": [
    "from sklearn.model_selection import train_test_split"
   ]
  },
  {
   "cell_type": "markdown",
   "metadata": {},
   "source": [
    "**Now train_test_split will return 4 different parameters. We will name them:\\\n",
    "X_trainset, X_testset, y_trainset, y_testset**\n",
    "\n",
    "**The train_test_split will need the parameters:\\\n",
    "X, y, test_size=0.3, and random_state=123.**\n",
    "\n",
    "**The X and y are the arrays required before the split, the test_size represents the ratio of the testing dataset, and the random_state ensures that we obtain the same splits.**"
   ]
  },
  {
   "cell_type": "code",
   "execution_count": 26,
   "metadata": {},
   "outputs": [],
   "source": [
    "X_train, X_test, Y_train, Y_test = train_test_split(predictor_var,target_var, test_size=0.30, random_state=123)"
   ]
  },
  {
   "cell_type": "markdown",
   "metadata": {},
   "source": [
    "### Objective 1: Applied Decision Tree algorithm for regression."
   ]
  },
  {
   "cell_type": "markdown",
   "metadata": {},
   "source": [
    "Import Decision Tree Regressor and fit the model to the training data.\n",
    "\n"
   ]
  },
  {
   "cell_type": "code",
   "execution_count": 27,
   "metadata": {},
   "outputs": [],
   "source": [
    "from sklearn.tree import DecisionTreeRegressor"
   ]
  },
  {
   "cell_type": "code",
   "execution_count": 28,
   "metadata": {},
   "outputs": [],
   "source": [
    "tree = DecisionTreeRegressor(max_depth=4,max_features=4)"
   ]
  },
  {
   "cell_type": "markdown",
   "metadata": {},
   "source": [
    " ##### Inside of the regressor, specify criterion=\"mse\" so we can see the mse of each node."
   ]
  },
  {
   "cell_type": "code",
   "execution_count": 29,
   "metadata": {},
   "outputs": [
    {
     "data": {
      "text/plain": [
       "DecisionTreeRegressor(ccp_alpha=0.0, criterion='mse', max_depth=4,\n",
       "                      max_features=4, max_leaf_nodes=None,\n",
       "                      min_impurity_decrease=0.0, min_impurity_split=None,\n",
       "                      min_samples_leaf=1, min_samples_split=2,\n",
       "                      min_weight_fraction_leaf=0.0, presort='deprecated',\n",
       "                      random_state=None, splitter='best')"
      ]
     },
     "execution_count": 29,
     "metadata": {},
     "output_type": "execute_result"
    }
   ],
   "source": [
    "tree.fit(X_train, Y_train)"
   ]
  },
  {
   "cell_type": "markdown",
   "metadata": {},
   "source": [
    "##### Make predictions and evaluate output.\n",
    "\n"
   ]
  },
  {
   "cell_type": "code",
   "execution_count": 30,
   "metadata": {},
   "outputs": [],
   "source": [
    "predictions = tree.predict(X_test)"
   ]
  },
  {
   "cell_type": "code",
   "execution_count": 31,
   "metadata": {},
   "outputs": [
    {
     "data": {
      "text/html": [
       "<div>\n",
       "<style scoped>\n",
       "    .dataframe tbody tr th:only-of-type {\n",
       "        vertical-align: middle;\n",
       "    }\n",
       "\n",
       "    .dataframe tbody tr th {\n",
       "        vertical-align: top;\n",
       "    }\n",
       "\n",
       "    .dataframe thead th {\n",
       "        text-align: right;\n",
       "    }\n",
       "</style>\n",
       "<table border=\"1\" class=\"dataframe\">\n",
       "  <thead>\n",
       "    <tr style=\"text-align: right;\">\n",
       "      <th></th>\n",
       "      <th>Actual</th>\n",
       "      <th>Predicted</th>\n",
       "    </tr>\n",
       "  </thead>\n",
       "  <tbody>\n",
       "    <tr>\n",
       "      <th>18</th>\n",
       "      <td>865</td>\n",
       "      <td>709.0000</td>\n",
       "    </tr>\n",
       "    <tr>\n",
       "      <th>13</th>\n",
       "      <td>508</td>\n",
       "      <td>709.0000</td>\n",
       "    </tr>\n",
       "    <tr>\n",
       "      <th>26</th>\n",
       "      <td>577</td>\n",
       "      <td>585.0000</td>\n",
       "    </tr>\n",
       "    <tr>\n",
       "      <th>31</th>\n",
       "      <td>554</td>\n",
       "      <td>709.0000</td>\n",
       "    </tr>\n",
       "    <tr>\n",
       "      <th>10</th>\n",
       "      <td>580</td>\n",
       "      <td>428.0000</td>\n",
       "    </tr>\n",
       "  </tbody>\n",
       "</table>\n",
       "</div>"
      ],
      "text/plain": [
       "    Actual  Predicted\n",
       "18     865   709.0000\n",
       "13     508   709.0000\n",
       "26     577   585.0000\n",
       "31     554   709.0000\n",
       "10     580   428.0000"
      ]
     },
     "execution_count": 31,
     "metadata": {},
     "output_type": "execute_result"
    }
   ],
   "source": [
    "df=pd.DataFrame({'Actual':Y_test, 'Predicted':predictions})\n",
    "df.head(5)"
   ]
  },
  {
   "cell_type": "markdown",
   "metadata": {},
   "source": [
    "We see that the predictions are not accurate. Let's evaluate the prediction accuracy.\n",
    "\n",
    "##### Evaluating the Prediction Accuracy\n"
   ]
  },
  {
   "cell_type": "code",
   "execution_count": 32,
   "metadata": {},
   "outputs": [
    {
     "name": "stdout",
     "output_type": "stream",
     "text": [
      "Mean Absolute Error: 106.73333333333333\n",
      "Mean Squared Error: 18466.321333333333\n",
      "Root Mean Squared Error: 135.89084344919394\n",
      "r2_score: 0.20106927964521037\n"
     ]
    }
   ],
   "source": [
    "from sklearn import metrics\n",
    "print('Mean Absolute Error:', metrics.mean_absolute_error(Y_test,predictions))\n",
    "print('Mean Squared Error:', metrics.mean_squared_error(Y_test,predictions))\n",
    "print('Root Mean Squared Error:', np.sqrt(metrics.mean_squared_error(Y_test,predictions)))\n",
    "print('r2_score:', metrics.r2_score(Y_test,predictions))"
   ]
  },
  {
   "cell_type": "markdown",
   "metadata": {},
   "source": [
    "##### Looking after Feature Importances"
   ]
  },
  {
   "cell_type": "code",
   "execution_count": 33,
   "metadata": {},
   "outputs": [
    {
     "data": {
      "text/plain": [
       "Petrol_tax                     0.3401\n",
       "Paved_Highways                 0.2636\n",
       "Average_income                 0.2253\n",
       "Population_Driver_licence(%)   0.1709\n",
       "dtype: float64"
      ]
     },
     "execution_count": 33,
     "metadata": {},
     "output_type": "execute_result"
    }
   ],
   "source": [
    "tree.feature_importances_\n",
    "pd.Series(tree.feature_importances_,index=predictor_var.columns).sort_values(ascending=False)"
   ]
  },
  {
   "cell_type": "markdown",
   "metadata": {},
   "source": [
    "Importing Graphviz from Sklearn library to plot the decission tree"
   ]
  },
  {
   "cell_type": "code",
   "execution_count": 34,
   "metadata": {},
   "outputs": [],
   "source": [
    "from sklearn.tree import export_graphviz"
   ]
  },
  {
   "cell_type": "code",
   "execution_count": 35,
   "metadata": {},
   "outputs": [],
   "source": [
    "dot_data = export_graphviz(tree, filled=True, rounded=True, feature_names=predictor_var.columns, out_file=None)"
   ]
  },
  {
   "cell_type": "code",
   "execution_count": 36,
   "metadata": {},
   "outputs": [],
   "source": [
    "import graphviz"
   ]
  },
  {
   "cell_type": "code",
   "execution_count": 37,
   "metadata": {},
   "outputs": [
    {
     "data": {
      "image/svg+xml": [
       "<?xml version=\"1.0\" encoding=\"UTF-8\" standalone=\"no\"?>\r\n",
       "<!DOCTYPE svg PUBLIC \"-//W3C//DTD SVG 1.1//EN\"\r\n",
       " \"http://www.w3.org/Graphics/SVG/1.1/DTD/svg11.dtd\">\r\n",
       "<!-- Generated by graphviz version 2.38.0 (20140413.2041)\r\n",
       " -->\r\n",
       "<!-- Title: Tree Pages: 1 -->\r\n",
       "<svg width=\"1872pt\" height=\"477pt\"\r\n",
       " viewBox=\"0.00 0.00 1872.00 477.00\" xmlns=\"http://www.w3.org/2000/svg\" xmlns:xlink=\"http://www.w3.org/1999/xlink\">\r\n",
       "<g id=\"graph0\" class=\"graph\" transform=\"scale(1 1) rotate(0) translate(4 473)\">\r\n",
       "<title>Tree</title>\r\n",
       "<polygon fill=\"white\" stroke=\"none\" points=\"-4,4 -4,-473 1868,-473 1868,4 -4,4\"/>\r\n",
       "<!-- 0 -->\r\n",
       "<g id=\"node1\" class=\"node\"><title>0</title>\r\n",
       "<path fill=\"#f4cbad\" stroke=\"black\" d=\"M832.5,-469C832.5,-469 723.5,-469 723.5,-469 717.5,-469 711.5,-463 711.5,-457 711.5,-457 711.5,-413 711.5,-413 711.5,-407 717.5,-401 723.5,-401 723.5,-401 832.5,-401 832.5,-401 838.5,-401 844.5,-407 844.5,-413 844.5,-413 844.5,-457 844.5,-457 844.5,-463 838.5,-469 832.5,-469\"/>\r\n",
       "<text text-anchor=\"middle\" x=\"778\" y=\"-453.8\" font-family=\"Helvetica,sans-Serif\" font-size=\"14.00\">Petrol_tax &lt;= 7.25</text>\r\n",
       "<text text-anchor=\"middle\" x=\"778\" y=\"-438.8\" font-family=\"Helvetica,sans-Serif\" font-size=\"14.00\">mse = 7316.404</text>\r\n",
       "<text text-anchor=\"middle\" x=\"778\" y=\"-423.8\" font-family=\"Helvetica,sans-Serif\" font-size=\"14.00\">samples = 33</text>\r\n",
       "<text text-anchor=\"middle\" x=\"778\" y=\"-408.8\" font-family=\"Helvetica,sans-Serif\" font-size=\"14.00\">value = 575.333</text>\r\n",
       "</g>\r\n",
       "<!-- 1 -->\r\n",
       "<g id=\"node2\" class=\"node\"><title>1</title>\r\n",
       "<path fill=\"#f0b88f\" stroke=\"black\" d=\"M675,-365C675,-365 505,-365 505,-365 499,-365 493,-359 493,-353 493,-353 493,-309 493,-309 493,-303 499,-297 505,-297 505,-297 675,-297 675,-297 681,-297 687,-303 687,-309 687,-309 687,-353 687,-353 687,-359 681,-365 675,-365\"/>\r\n",
       "<text text-anchor=\"middle\" x=\"590\" y=\"-349.8\" font-family=\"Helvetica,sans-Serif\" font-size=\"14.00\">Paved_Highways &lt;= 6645.0</text>\r\n",
       "<text text-anchor=\"middle\" x=\"590\" y=\"-334.8\" font-family=\"Helvetica,sans-Serif\" font-size=\"14.00\">mse = 5313.716</text>\r\n",
       "<text text-anchor=\"middle\" x=\"590\" y=\"-319.8\" font-family=\"Helvetica,sans-Serif\" font-size=\"14.00\">samples = 15</text>\r\n",
       "<text text-anchor=\"middle\" x=\"590\" y=\"-304.8\" font-family=\"Helvetica,sans-Serif\" font-size=\"14.00\">value = 627.867</text>\r\n",
       "</g>\r\n",
       "<!-- 0&#45;&gt;1 -->\r\n",
       "<g id=\"edge1\" class=\"edge\"><title>0&#45;&gt;1</title>\r\n",
       "<path fill=\"none\" stroke=\"black\" d=\"M716.962,-400.884C698.728,-390.991 678.599,-380.07 659.847,-369.895\"/>\r\n",
       "<polygon fill=\"black\" stroke=\"black\" points=\"661.512,-366.817 651.053,-365.125 658.174,-372.97 661.512,-366.817\"/>\r\n",
       "<text text-anchor=\"middle\" x=\"658.161\" y=\"-385.393\" font-family=\"Helvetica,sans-Serif\" font-size=\"14.00\">True</text>\r\n",
       "</g>\r\n",
       "<!-- 14 -->\r\n",
       "<g id=\"node15\" class=\"node\"><title>14</title>\r\n",
       "<path fill=\"#f7dac5\" stroke=\"black\" d=\"M1052,-365C1052,-365 882,-365 882,-365 876,-365 870,-359 870,-353 870,-353 870,-309 870,-309 870,-303 876,-297 882,-297 882,-297 1052,-297 1052,-297 1058,-297 1064,-303 1064,-309 1064,-309 1064,-353 1064,-353 1064,-359 1058,-365 1052,-365\"/>\r\n",
       "<text text-anchor=\"middle\" x=\"967\" y=\"-349.8\" font-family=\"Helvetica,sans-Serif\" font-size=\"14.00\">Average_income &lt;= 4370.0</text>\r\n",
       "<text text-anchor=\"middle\" x=\"967\" y=\"-334.8\" font-family=\"Helvetica,sans-Serif\" font-size=\"14.00\">mse = 4769.025</text>\r\n",
       "<text text-anchor=\"middle\" x=\"967\" y=\"-319.8\" font-family=\"Helvetica,sans-Serif\" font-size=\"14.00\">samples = 18</text>\r\n",
       "<text text-anchor=\"middle\" x=\"967\" y=\"-304.8\" font-family=\"Helvetica,sans-Serif\" font-size=\"14.00\">value = 531.556</text>\r\n",
       "</g>\r\n",
       "<!-- 0&#45;&gt;14 -->\r\n",
       "<g id=\"edge14\" class=\"edge\"><title>0&#45;&gt;14</title>\r\n",
       "<path fill=\"none\" stroke=\"black\" d=\"M839.363,-400.884C857.694,-390.991 877.929,-380.07 896.782,-369.895\"/>\r\n",
       "<polygon fill=\"black\" stroke=\"black\" points=\"898.484,-372.954 905.622,-365.125 895.159,-366.794 898.484,-372.954\"/>\r\n",
       "<text text-anchor=\"middle\" x=\"898.461\" y=\"-385.377\" font-family=\"Helvetica,sans-Serif\" font-size=\"14.00\">False</text>\r\n",
       "</g>\r\n",
       "<!-- 2 -->\r\n",
       "<g id=\"node3\" class=\"node\"><title>2</title>\r\n",
       "<path fill=\"#eda774\" stroke=\"black\" d=\"M302,-261C302,-261 132,-261 132,-261 126,-261 120,-255 120,-249 120,-249 120,-205 120,-205 120,-199 126,-193 132,-193 132,-193 302,-193 302,-193 308,-193 314,-199 314,-205 314,-205 314,-249 314,-249 314,-255 308,-261 302,-261\"/>\r\n",
       "<text text-anchor=\"middle\" x=\"217\" y=\"-245.8\" font-family=\"Helvetica,sans-Serif\" font-size=\"14.00\">Paved_Highways &lt;= 2456.5</text>\r\n",
       "<text text-anchor=\"middle\" x=\"217\" y=\"-230.8\" font-family=\"Helvetica,sans-Serif\" font-size=\"14.00\">mse = 3930.0</text>\r\n",
       "<text text-anchor=\"middle\" x=\"217\" y=\"-215.8\" font-family=\"Helvetica,sans-Serif\" font-size=\"14.00\">samples = 7</text>\r\n",
       "<text text-anchor=\"middle\" x=\"217\" y=\"-200.8\" font-family=\"Helvetica,sans-Serif\" font-size=\"14.00\">value = 676.0</text>\r\n",
       "</g>\r\n",
       "<!-- 1&#45;&gt;2 -->\r\n",
       "<g id=\"edge2\" class=\"edge\"><title>1&#45;&gt;2</title>\r\n",
       "<path fill=\"none\" stroke=\"black\" d=\"M492.972,-303.467C441.154,-289.297 377.259,-271.824 324.004,-257.261\"/>\r\n",
       "<polygon fill=\"black\" stroke=\"black\" points=\"324.758,-253.839 314.189,-254.577 322.912,-260.591 324.758,-253.839\"/>\r\n",
       "</g>\r\n",
       "<!-- 7 -->\r\n",
       "<g id=\"node8\" class=\"node\"><title>7</title>\r\n",
       "<path fill=\"#f3c7a7\" stroke=\"black\" d=\"M679.5,-261C679.5,-261 500.5,-261 500.5,-261 494.5,-261 488.5,-255 488.5,-249 488.5,-249 488.5,-205 488.5,-205 488.5,-199 494.5,-193 500.5,-193 500.5,-193 679.5,-193 679.5,-193 685.5,-193 691.5,-199 691.5,-205 691.5,-205 691.5,-249 691.5,-249 691.5,-255 685.5,-261 679.5,-261\"/>\r\n",
       "<text text-anchor=\"middle\" x=\"590\" y=\"-245.8\" font-family=\"Helvetica,sans-Serif\" font-size=\"14.00\">Paved_Highways &lt;= 10067.0</text>\r\n",
       "<text text-anchor=\"middle\" x=\"590\" y=\"-230.8\" font-family=\"Helvetica,sans-Serif\" font-size=\"14.00\">mse = 2723.438</text>\r\n",
       "<text text-anchor=\"middle\" x=\"590\" y=\"-215.8\" font-family=\"Helvetica,sans-Serif\" font-size=\"14.00\">samples = 8</text>\r\n",
       "<text text-anchor=\"middle\" x=\"590\" y=\"-200.8\" font-family=\"Helvetica,sans-Serif\" font-size=\"14.00\">value = 585.75</text>\r\n",
       "</g>\r\n",
       "<!-- 1&#45;&gt;7 -->\r\n",
       "<g id=\"edge7\" class=\"edge\"><title>1&#45;&gt;7</title>\r\n",
       "<path fill=\"none\" stroke=\"black\" d=\"M590,-296.884C590,-288.778 590,-279.982 590,-271.472\"/>\r\n",
       "<polygon fill=\"black\" stroke=\"black\" points=\"593.5,-271.299 590,-261.299 586.5,-271.299 593.5,-271.299\"/>\r\n",
       "</g>\r\n",
       "<!-- 3 -->\r\n",
       "<g id=\"node4\" class=\"node\"><title>3</title>\r\n",
       "<path fill=\"#e58139\" stroke=\"black\" d=\"M90,-149.5C90,-149.5 12,-149.5 12,-149.5 6,-149.5 0,-143.5 0,-137.5 0,-137.5 0,-108.5 0,-108.5 0,-102.5 6,-96.5 12,-96.5 12,-96.5 90,-96.5 90,-96.5 96,-96.5 102,-102.5 102,-108.5 102,-108.5 102,-137.5 102,-137.5 102,-143.5 96,-149.5 90,-149.5\"/>\r\n",
       "<text text-anchor=\"middle\" x=\"51\" y=\"-134.3\" font-family=\"Helvetica,sans-Serif\" font-size=\"14.00\">mse = 0.0</text>\r\n",
       "<text text-anchor=\"middle\" x=\"51\" y=\"-119.3\" font-family=\"Helvetica,sans-Serif\" font-size=\"14.00\">samples = 1</text>\r\n",
       "<text text-anchor=\"middle\" x=\"51\" y=\"-104.3\" font-family=\"Helvetica,sans-Serif\" font-size=\"14.00\">value = 782.0</text>\r\n",
       "</g>\r\n",
       "<!-- 2&#45;&gt;3 -->\r\n",
       "<g id=\"edge3\" class=\"edge\"><title>2&#45;&gt;3</title>\r\n",
       "<path fill=\"none\" stroke=\"black\" d=\"M163.105,-192.884C143.237,-180.676 120.822,-166.903 101.286,-154.899\"/>\r\n",
       "<polygon fill=\"black\" stroke=\"black\" points=\"102.885,-151.773 92.5324,-149.52 99.2202,-157.737 102.885,-151.773\"/>\r\n",
       "</g>\r\n",
       "<!-- 4 -->\r\n",
       "<g id=\"node5\" class=\"node\"><title>4</title>\r\n",
       "<path fill=\"#eead7e\" stroke=\"black\" d=\"M302,-157C302,-157 132,-157 132,-157 126,-157 120,-151 120,-145 120,-145 120,-101 120,-101 120,-95 126,-89 132,-89 132,-89 302,-89 302,-89 308,-89 314,-95 314,-101 314,-101 314,-145 314,-145 314,-151 308,-157 302,-157\"/>\r\n",
       "<text text-anchor=\"middle\" x=\"217\" y=\"-141.8\" font-family=\"Helvetica,sans-Serif\" font-size=\"14.00\">Paved_Highways &lt;= 4404.0</text>\r\n",
       "<text text-anchor=\"middle\" x=\"217\" y=\"-126.8\" font-family=\"Helvetica,sans-Serif\" font-size=\"14.00\">mse = 2400.222</text>\r\n",
       "<text text-anchor=\"middle\" x=\"217\" y=\"-111.8\" font-family=\"Helvetica,sans-Serif\" font-size=\"14.00\">samples = 6</text>\r\n",
       "<text text-anchor=\"middle\" x=\"217\" y=\"-96.8\" font-family=\"Helvetica,sans-Serif\" font-size=\"14.00\">value = 658.333</text>\r\n",
       "</g>\r\n",
       "<!-- 2&#45;&gt;4 -->\r\n",
       "<g id=\"edge4\" class=\"edge\"><title>2&#45;&gt;4</title>\r\n",
       "<path fill=\"none\" stroke=\"black\" d=\"M217,-192.884C217,-184.778 217,-175.982 217,-167.472\"/>\r\n",
       "<polygon fill=\"black\" stroke=\"black\" points=\"220.5,-167.299 217,-157.299 213.5,-167.299 220.5,-167.299\"/>\r\n",
       "</g>\r\n",
       "<!-- 5 -->\r\n",
       "<g id=\"node6\" class=\"node\"><title>5</title>\r\n",
       "<path fill=\"#f0b68c\" stroke=\"black\" d=\"M137.5,-53C137.5,-53 56.5,-53 56.5,-53 50.5,-53 44.5,-47 44.5,-41 44.5,-41 44.5,-12 44.5,-12 44.5,-6 50.5,-0 56.5,-0 56.5,-0 137.5,-0 137.5,-0 143.5,-0 149.5,-6 149.5,-12 149.5,-12 149.5,-41 149.5,-41 149.5,-47 143.5,-53 137.5,-53\"/>\r\n",
       "<text text-anchor=\"middle\" x=\"97\" y=\"-37.8\" font-family=\"Helvetica,sans-Serif\" font-size=\"14.00\">mse = 1662.5</text>\r\n",
       "<text text-anchor=\"middle\" x=\"97\" y=\"-22.8\" font-family=\"Helvetica,sans-Serif\" font-size=\"14.00\">samples = 4</text>\r\n",
       "<text text-anchor=\"middle\" x=\"97\" y=\"-7.8\" font-family=\"Helvetica,sans-Serif\" font-size=\"14.00\">value = 633.0</text>\r\n",
       "</g>\r\n",
       "<!-- 4&#45;&gt;5 -->\r\n",
       "<g id=\"edge5\" class=\"edge\"><title>4&#45;&gt;5</title>\r\n",
       "<path fill=\"none\" stroke=\"black\" d=\"M175.03,-88.9485C162.949,-79.4346 149.792,-69.074 137.784,-59.6175\"/>\r\n",
       "<polygon fill=\"black\" stroke=\"black\" points=\"139.703,-56.6739 129.682,-53.2367 135.372,-62.1734 139.703,-56.6739\"/>\r\n",
       "</g>\r\n",
       "<!-- 6 -->\r\n",
       "<g id=\"node7\" class=\"node\"><title>6</title>\r\n",
       "<path fill=\"#ea9b62\" stroke=\"black\" d=\"M258,-53C258,-53 180,-53 180,-53 174,-53 168,-47 168,-41 168,-41 168,-12 168,-12 168,-6 174,-0 180,-0 180,-0 258,-0 258,-0 264,-0 270,-6 270,-12 270,-12 270,-41 270,-41 270,-47 264,-53 258,-53\"/>\r\n",
       "<text text-anchor=\"middle\" x=\"219\" y=\"-37.8\" font-family=\"Helvetica,sans-Serif\" font-size=\"14.00\">mse = 25.0</text>\r\n",
       "<text text-anchor=\"middle\" x=\"219\" y=\"-22.8\" font-family=\"Helvetica,sans-Serif\" font-size=\"14.00\">samples = 2</text>\r\n",
       "<text text-anchor=\"middle\" x=\"219\" y=\"-7.8\" font-family=\"Helvetica,sans-Serif\" font-size=\"14.00\">value = 709.0</text>\r\n",
       "</g>\r\n",
       "<!-- 4&#45;&gt;6 -->\r\n",
       "<g id=\"edge6\" class=\"edge\"><title>4&#45;&gt;6</title>\r\n",
       "<path fill=\"none\" stroke=\"black\" d=\"M217.7,-88.9485C217.874,-80.7153 218.061,-71.848 218.238,-63.4814\"/>\r\n",
       "<polygon fill=\"black\" stroke=\"black\" points=\"221.743,-63.3086 218.455,-53.2367 214.744,-63.1604 221.743,-63.3086\"/>\r\n",
       "</g>\r\n",
       "<!-- 8 -->\r\n",
       "<g id=\"node9\" class=\"node\"><title>8</title>\r\n",
       "<path fill=\"#f5cdb0\" stroke=\"black\" d=\"M585.5,-157C585.5,-157 344.5,-157 344.5,-157 338.5,-157 332.5,-151 332.5,-145 332.5,-145 332.5,-101 332.5,-101 332.5,-95 338.5,-89 344.5,-89 344.5,-89 585.5,-89 585.5,-89 591.5,-89 597.5,-95 597.5,-101 597.5,-101 597.5,-145 597.5,-145 597.5,-151 591.5,-157 585.5,-157\"/>\r\n",
       "<text text-anchor=\"middle\" x=\"465\" y=\"-141.8\" font-family=\"Helvetica,sans-Serif\" font-size=\"14.00\">Population_Driver_licence(%) &lt;= 0.635</text>\r\n",
       "<text text-anchor=\"middle\" x=\"465\" y=\"-126.8\" font-family=\"Helvetica,sans-Serif\" font-size=\"14.00\">mse = 2438.917</text>\r\n",
       "<text text-anchor=\"middle\" x=\"465\" y=\"-111.8\" font-family=\"Helvetica,sans-Serif\" font-size=\"14.00\">samples = 6</text>\r\n",
       "<text text-anchor=\"middle\" x=\"465\" y=\"-96.8\" font-family=\"Helvetica,sans-Serif\" font-size=\"14.00\">value = 568.5</text>\r\n",
       "</g>\r\n",
       "<!-- 7&#45;&gt;8 -->\r\n",
       "<g id=\"edge8\" class=\"edge\"><title>7&#45;&gt;8</title>\r\n",
       "<path fill=\"none\" stroke=\"black\" d=\"M549.416,-192.884C538.064,-183.62 525.606,-173.455 513.83,-163.845\"/>\r\n",
       "<polygon fill=\"black\" stroke=\"black\" points=\"515.769,-160.91 505.808,-157.299 511.343,-166.333 515.769,-160.91\"/>\r\n",
       "</g>\r\n",
       "<!-- 11 -->\r\n",
       "<g id=\"node12\" class=\"node\"><title>11</title>\r\n",
       "<path fill=\"#f0b48a\" stroke=\"black\" d=\"M806.5,-157C806.5,-157 627.5,-157 627.5,-157 621.5,-157 615.5,-151 615.5,-145 615.5,-145 615.5,-101 615.5,-101 615.5,-95 621.5,-89 627.5,-89 627.5,-89 806.5,-89 806.5,-89 812.5,-89 818.5,-95 818.5,-101 818.5,-101 818.5,-145 818.5,-145 818.5,-151 812.5,-157 806.5,-157\"/>\r\n",
       "<text text-anchor=\"middle\" x=\"717\" y=\"-141.8\" font-family=\"Helvetica,sans-Serif\" font-size=\"14.00\">Paved_Highways &lt;= 14061.0</text>\r\n",
       "<text text-anchor=\"middle\" x=\"717\" y=\"-126.8\" font-family=\"Helvetica,sans-Serif\" font-size=\"14.00\">mse = 6.25</text>\r\n",
       "<text text-anchor=\"middle\" x=\"717\" y=\"-111.8\" font-family=\"Helvetica,sans-Serif\" font-size=\"14.00\">samples = 2</text>\r\n",
       "<text text-anchor=\"middle\" x=\"717\" y=\"-96.8\" font-family=\"Helvetica,sans-Serif\" font-size=\"14.00\">value = 637.5</text>\r\n",
       "</g>\r\n",
       "<!-- 7&#45;&gt;11 -->\r\n",
       "<g id=\"edge11\" class=\"edge\"><title>7&#45;&gt;11</title>\r\n",
       "<path fill=\"none\" stroke=\"black\" d=\"M631.233,-192.884C642.878,-183.531 655.667,-173.259 667.734,-163.568\"/>\r\n",
       "<polygon fill=\"black\" stroke=\"black\" points=\"669.934,-166.29 675.539,-157.299 665.551,-160.832 669.934,-166.29\"/>\r\n",
       "</g>\r\n",
       "<!-- 9 -->\r\n",
       "<g id=\"node10\" class=\"node\"><title>9</title>\r\n",
       "<path fill=\"#f6d3b9\" stroke=\"black\" d=\"M393.5,-53C393.5,-53 304.5,-53 304.5,-53 298.5,-53 292.5,-47 292.5,-41 292.5,-41 292.5,-12 292.5,-12 292.5,-6 298.5,-0 304.5,-0 304.5,-0 393.5,-0 393.5,-0 399.5,-0 405.5,-6 405.5,-12 405.5,-12 405.5,-41 405.5,-41 405.5,-47 399.5,-53 393.5,-53\"/>\r\n",
       "<text text-anchor=\"middle\" x=\"349\" y=\"-37.8\" font-family=\"Helvetica,sans-Serif\" font-size=\"14.00\">mse = 1371.44</text>\r\n",
       "<text text-anchor=\"middle\" x=\"349\" y=\"-22.8\" font-family=\"Helvetica,sans-Serif\" font-size=\"14.00\">samples = 5</text>\r\n",
       "<text text-anchor=\"middle\" x=\"349\" y=\"-7.8\" font-family=\"Helvetica,sans-Serif\" font-size=\"14.00\">value = 552.4</text>\r\n",
       "</g>\r\n",
       "<!-- 8&#45;&gt;9 -->\r\n",
       "<g id=\"edge9\" class=\"edge\"><title>8&#45;&gt;9</title>\r\n",
       "<path fill=\"none\" stroke=\"black\" d=\"M424.429,-88.9485C412.75,-79.4346 400.033,-69.074 388.425,-59.6175\"/>\r\n",
       "<polygon fill=\"black\" stroke=\"black\" points=\"390.556,-56.8392 380.592,-53.2367 386.135,-62.2663 390.556,-56.8392\"/>\r\n",
       "</g>\r\n",
       "<!-- 10 -->\r\n",
       "<g id=\"node11\" class=\"node\"><title>10</title>\r\n",
       "<path fill=\"#efb083\" stroke=\"black\" d=\"M514,-53C514,-53 436,-53 436,-53 430,-53 424,-47 424,-41 424,-41 424,-12 424,-12 424,-6 430,-0 436,-0 436,-0 514,-0 514,-0 520,-0 526,-6 526,-12 526,-12 526,-41 526,-41 526,-47 520,-53 514,-53\"/>\r\n",
       "<text text-anchor=\"middle\" x=\"475\" y=\"-37.8\" font-family=\"Helvetica,sans-Serif\" font-size=\"14.00\">mse = 0.0</text>\r\n",
       "<text text-anchor=\"middle\" x=\"475\" y=\"-22.8\" font-family=\"Helvetica,sans-Serif\" font-size=\"14.00\">samples = 1</text>\r\n",
       "<text text-anchor=\"middle\" x=\"475\" y=\"-7.8\" font-family=\"Helvetica,sans-Serif\" font-size=\"14.00\">value = 649.0</text>\r\n",
       "</g>\r\n",
       "<!-- 8&#45;&gt;10 -->\r\n",
       "<g id=\"edge10\" class=\"edge\"><title>8&#45;&gt;10</title>\r\n",
       "<path fill=\"none\" stroke=\"black\" d=\"M468.498,-88.9485C469.378,-80.6238 470.328,-71.6509 471.222,-63.2027\"/>\r\n",
       "<polygon fill=\"black\" stroke=\"black\" points=\"474.705,-63.5495 472.277,-53.2367 467.744,-62.8128 474.705,-63.5495\"/>\r\n",
       "</g>\r\n",
       "<!-- 12 -->\r\n",
       "<g id=\"node13\" class=\"node\"><title>12</title>\r\n",
       "<path fill=\"#f0b58b\" stroke=\"black\" d=\"M640,-53C640,-53 562,-53 562,-53 556,-53 550,-47 550,-41 550,-41 550,-12 550,-12 550,-6 556,-0 562,-0 562,-0 640,-0 640,-0 646,-0 652,-6 652,-12 652,-12 652,-41 652,-41 652,-47 646,-53 640,-53\"/>\r\n",
       "<text text-anchor=\"middle\" x=\"601\" y=\"-37.8\" font-family=\"Helvetica,sans-Serif\" font-size=\"14.00\">mse = 0.0</text>\r\n",
       "<text text-anchor=\"middle\" x=\"601\" y=\"-22.8\" font-family=\"Helvetica,sans-Serif\" font-size=\"14.00\">samples = 1</text>\r\n",
       "<text text-anchor=\"middle\" x=\"601\" y=\"-7.8\" font-family=\"Helvetica,sans-Serif\" font-size=\"14.00\">value = 635.0</text>\r\n",
       "</g>\r\n",
       "<!-- 11&#45;&gt;12 -->\r\n",
       "<g id=\"edge12\" class=\"edge\"><title>11&#45;&gt;12</title>\r\n",
       "<path fill=\"none\" stroke=\"black\" d=\"M676.429,-88.9485C664.75,-79.4346 652.033,-69.074 640.425,-59.6175\"/>\r\n",
       "<polygon fill=\"black\" stroke=\"black\" points=\"642.556,-56.8392 632.592,-53.2367 638.135,-62.2663 642.556,-56.8392\"/>\r\n",
       "</g>\r\n",
       "<!-- 13 -->\r\n",
       "<g id=\"node14\" class=\"node\"><title>13</title>\r\n",
       "<path fill=\"#efb488\" stroke=\"black\" d=\"M760,-53C760,-53 682,-53 682,-53 676,-53 670,-47 670,-41 670,-41 670,-12 670,-12 670,-6 676,-0 682,-0 682,-0 760,-0 760,-0 766,-0 772,-6 772,-12 772,-12 772,-41 772,-41 772,-47 766,-53 760,-53\"/>\r\n",
       "<text text-anchor=\"middle\" x=\"721\" y=\"-37.8\" font-family=\"Helvetica,sans-Serif\" font-size=\"14.00\">mse = 0.0</text>\r\n",
       "<text text-anchor=\"middle\" x=\"721\" y=\"-22.8\" font-family=\"Helvetica,sans-Serif\" font-size=\"14.00\">samples = 1</text>\r\n",
       "<text text-anchor=\"middle\" x=\"721\" y=\"-7.8\" font-family=\"Helvetica,sans-Serif\" font-size=\"14.00\">value = 640.0</text>\r\n",
       "</g>\r\n",
       "<!-- 11&#45;&gt;13 -->\r\n",
       "<g id=\"edge13\" class=\"edge\"><title>11&#45;&gt;13</title>\r\n",
       "<path fill=\"none\" stroke=\"black\" d=\"M718.399,-88.9485C718.748,-80.7153 719.123,-71.848 719.477,-63.4814\"/>\r\n",
       "<polygon fill=\"black\" stroke=\"black\" points=\"722.984,-63.3758 719.911,-53.2367 715.991,-63.0797 722.984,-63.3758\"/>\r\n",
       "</g>\r\n",
       "<!-- 15 -->\r\n",
       "<g id=\"node16\" class=\"node\"><title>15</title>\r\n",
       "<path fill=\"#f4cbae\" stroke=\"black\" d=\"M1087.5,-261C1087.5,-261 846.5,-261 846.5,-261 840.5,-261 834.5,-255 834.5,-249 834.5,-249 834.5,-205 834.5,-205 834.5,-199 840.5,-193 846.5,-193 846.5,-193 1087.5,-193 1087.5,-193 1093.5,-193 1099.5,-199 1099.5,-205 1099.5,-205 1099.5,-249 1099.5,-249 1099.5,-255 1093.5,-261 1087.5,-261\"/>\r\n",
       "<text text-anchor=\"middle\" x=\"967\" y=\"-245.8\" font-family=\"Helvetica,sans-Serif\" font-size=\"14.00\">Population_Driver_licence(%) &lt;= 0.546</text>\r\n",
       "<text text-anchor=\"middle\" x=\"967\" y=\"-230.8\" font-family=\"Helvetica,sans-Serif\" font-size=\"14.00\">mse = 2178.727</text>\r\n",
       "<text text-anchor=\"middle\" x=\"967\" y=\"-215.8\" font-family=\"Helvetica,sans-Serif\" font-size=\"14.00\">samples = 11</text>\r\n",
       "<text text-anchor=\"middle\" x=\"967\" y=\"-200.8\" font-family=\"Helvetica,sans-Serif\" font-size=\"14.00\">value = 573.0</text>\r\n",
       "</g>\r\n",
       "<!-- 14&#45;&gt;15 -->\r\n",
       "<g id=\"edge15\" class=\"edge\"><title>14&#45;&gt;15</title>\r\n",
       "<path fill=\"none\" stroke=\"black\" d=\"M967,-296.884C967,-288.778 967,-279.982 967,-271.472\"/>\r\n",
       "<polygon fill=\"black\" stroke=\"black\" points=\"970.5,-271.299 967,-261.299 963.5,-271.299 970.5,-271.299\"/>\r\n",
       "</g>\r\n",
       "<!-- 22 -->\r\n",
       "<g id=\"node23\" class=\"node\"><title>22</title>\r\n",
       "<path fill=\"#fcf1ea\" stroke=\"black\" d=\"M1612.5,-261C1612.5,-261 1371.5,-261 1371.5,-261 1365.5,-261 1359.5,-255 1359.5,-249 1359.5,-249 1359.5,-205 1359.5,-205 1359.5,-199 1365.5,-193 1371.5,-193 1371.5,-193 1612.5,-193 1612.5,-193 1618.5,-193 1624.5,-199 1624.5,-205 1624.5,-205 1624.5,-249 1624.5,-249 1624.5,-255 1618.5,-261 1612.5,-261\"/>\r\n",
       "<text text-anchor=\"middle\" x=\"1492\" y=\"-245.8\" font-family=\"Helvetica,sans-Serif\" font-size=\"14.00\">Population_Driver_licence(%) &lt;= 0.562</text>\r\n",
       "<text text-anchor=\"middle\" x=\"1492\" y=\"-230.8\" font-family=\"Helvetica,sans-Serif\" font-size=\"14.00\">mse = 1898.816</text>\r\n",
       "<text text-anchor=\"middle\" x=\"1492\" y=\"-215.8\" font-family=\"Helvetica,sans-Serif\" font-size=\"14.00\">samples = 7</text>\r\n",
       "<text text-anchor=\"middle\" x=\"1492\" y=\"-200.8\" font-family=\"Helvetica,sans-Serif\" font-size=\"14.00\">value = 466.429</text>\r\n",
       "</g>\r\n",
       "<!-- 14&#45;&gt;22 -->\r\n",
       "<g id=\"edge22\" class=\"edge\"><title>14&#45;&gt;22</title>\r\n",
       "<path fill=\"none\" stroke=\"black\" d=\"M1064.21,-311.113C1144.21,-295.571 1258.73,-273.321 1349.15,-255.753\"/>\r\n",
       "<polygon fill=\"black\" stroke=\"black\" points=\"1350.07,-259.141 1359.22,-253.798 1348.73,-252.269 1350.07,-259.141\"/>\r\n",
       "</g>\r\n",
       "<!-- 16 -->\r\n",
       "<g id=\"node17\" class=\"node\"><title>16</title>\r\n",
       "<path fill=\"#f7d9c3\" stroke=\"black\" d=\"M1081.5,-157C1081.5,-157 848.5,-157 848.5,-157 842.5,-157 836.5,-151 836.5,-145 836.5,-145 836.5,-101 836.5,-101 836.5,-95 842.5,-89 848.5,-89 848.5,-89 1081.5,-89 1081.5,-89 1087.5,-89 1093.5,-95 1093.5,-101 1093.5,-101 1093.5,-145 1093.5,-145 1093.5,-151 1087.5,-157 1081.5,-157\"/>\r\n",
       "<text text-anchor=\"middle\" x=\"965\" y=\"-141.8\" font-family=\"Helvetica,sans-Serif\" font-size=\"14.00\">Population_Driver_licence(%) &lt;= 0.49</text>\r\n",
       "<text text-anchor=\"middle\" x=\"965\" y=\"-126.8\" font-family=\"Helvetica,sans-Serif\" font-size=\"14.00\">mse = 689.2</text>\r\n",
       "<text text-anchor=\"middle\" x=\"965\" y=\"-111.8\" font-family=\"Helvetica,sans-Serif\" font-size=\"14.00\">samples = 5</text>\r\n",
       "<text text-anchor=\"middle\" x=\"965\" y=\"-96.8\" font-family=\"Helvetica,sans-Serif\" font-size=\"14.00\">value = 535.0</text>\r\n",
       "</g>\r\n",
       "<!-- 15&#45;&gt;16 -->\r\n",
       "<g id=\"edge16\" class=\"edge\"><title>15&#45;&gt;16</title>\r\n",
       "<path fill=\"none\" stroke=\"black\" d=\"M966.351,-192.884C966.192,-184.778 966.019,-175.982 965.852,-167.472\"/>\r\n",
       "<polygon fill=\"black\" stroke=\"black\" points=\"969.348,-167.229 965.653,-157.299 962.35,-167.366 969.348,-167.229\"/>\r\n",
       "</g>\r\n",
       "<!-- 19 -->\r\n",
       "<g id=\"node20\" class=\"node\"><title>19</title>\r\n",
       "<path fill=\"#f2c09c\" stroke=\"black\" d=\"M1364.5,-157C1364.5,-157 1123.5,-157 1123.5,-157 1117.5,-157 1111.5,-151 1111.5,-145 1111.5,-145 1111.5,-101 1111.5,-101 1111.5,-95 1117.5,-89 1123.5,-89 1123.5,-89 1364.5,-89 1364.5,-89 1370.5,-89 1376.5,-95 1376.5,-101 1376.5,-101 1376.5,-145 1376.5,-145 1376.5,-151 1370.5,-157 1364.5,-157\"/>\r\n",
       "<text text-anchor=\"middle\" x=\"1244\" y=\"-141.8\" font-family=\"Helvetica,sans-Serif\" font-size=\"14.00\">Population_Driver_licence(%) &lt;= 0.621</text>\r\n",
       "<text text-anchor=\"middle\" x=\"1244\" y=\"-126.8\" font-family=\"Helvetica,sans-Serif\" font-size=\"14.00\">mse = 1213.889</text>\r\n",
       "<text text-anchor=\"middle\" x=\"1244\" y=\"-111.8\" font-family=\"Helvetica,sans-Serif\" font-size=\"14.00\">samples = 6</text>\r\n",
       "<text text-anchor=\"middle\" x=\"1244\" y=\"-96.8\" font-family=\"Helvetica,sans-Serif\" font-size=\"14.00\">value = 604.667</text>\r\n",
       "</g>\r\n",
       "<!-- 15&#45;&gt;19 -->\r\n",
       "<g id=\"edge19\" class=\"edge\"><title>15&#45;&gt;19</title>\r\n",
       "<path fill=\"none\" stroke=\"black\" d=\"M1056.93,-192.884C1084.89,-182.588 1115.88,-171.179 1144.45,-160.656\"/>\r\n",
       "<polygon fill=\"black\" stroke=\"black\" points=\"1145.87,-163.865 1154.04,-157.125 1143.45,-157.296 1145.87,-163.865\"/>\r\n",
       "</g>\r\n",
       "<!-- 17 -->\r\n",
       "<g id=\"node18\" class=\"node\"><title>17</title>\r\n",
       "<path fill=\"#fbeade\" stroke=\"black\" d=\"M903,-53C903,-53 825,-53 825,-53 819,-53 813,-47 813,-41 813,-41 813,-12 813,-12 813,-6 819,-0 825,-0 825,-0 903,-0 903,-0 909,-0 915,-6 915,-12 915,-12 915,-41 915,-41 915,-47 909,-53 903,-53\"/>\r\n",
       "<text text-anchor=\"middle\" x=\"864\" y=\"-37.8\" font-family=\"Helvetica,sans-Serif\" font-size=\"14.00\">mse = 0.0</text>\r\n",
       "<text text-anchor=\"middle\" x=\"864\" y=\"-22.8\" font-family=\"Helvetica,sans-Serif\" font-size=\"14.00\">samples = 1</text>\r\n",
       "<text text-anchor=\"middle\" x=\"864\" y=\"-7.8\" font-family=\"Helvetica,sans-Serif\" font-size=\"14.00\">value = 487.0</text>\r\n",
       "</g>\r\n",
       "<!-- 16&#45;&gt;17 -->\r\n",
       "<g id=\"edge17\" class=\"edge\"><title>16&#45;&gt;17</title>\r\n",
       "<path fill=\"none\" stroke=\"black\" d=\"M929.675,-88.9485C919.702,-79.6175 908.859,-69.4722 898.911,-60.1641\"/>\r\n",
       "<polygon fill=\"black\" stroke=\"black\" points=\"901.2,-57.5132 891.507,-53.2367 896.418,-62.6247 901.2,-57.5132\"/>\r\n",
       "</g>\r\n",
       "<!-- 18 -->\r\n",
       "<g id=\"node19\" class=\"node\"><title>18</title>\r\n",
       "<path fill=\"#f6d5bc\" stroke=\"black\" d=\"M1023,-53C1023,-53 945,-53 945,-53 939,-53 933,-47 933,-41 933,-41 933,-12 933,-12 933,-6 939,-0 945,-0 945,-0 1023,-0 1023,-0 1029,-0 1035,-6 1035,-12 1035,-12 1035,-41 1035,-41 1035,-47 1029,-53 1023,-53\"/>\r\n",
       "<text text-anchor=\"middle\" x=\"984\" y=\"-37.8\" font-family=\"Helvetica,sans-Serif\" font-size=\"14.00\">mse = 141.5</text>\r\n",
       "<text text-anchor=\"middle\" x=\"984\" y=\"-22.8\" font-family=\"Helvetica,sans-Serif\" font-size=\"14.00\">samples = 4</text>\r\n",
       "<text text-anchor=\"middle\" x=\"984\" y=\"-7.8\" font-family=\"Helvetica,sans-Serif\" font-size=\"14.00\">value = 547.0</text>\r\n",
       "</g>\r\n",
       "<!-- 16&#45;&gt;18 -->\r\n",
       "<g id=\"edge18\" class=\"edge\"><title>16&#45;&gt;18</title>\r\n",
       "<path fill=\"none\" stroke=\"black\" d=\"M971.645,-88.9485C973.319,-80.6238 975.123,-71.6509 976.822,-63.2027\"/>\r\n",
       "<polygon fill=\"black\" stroke=\"black\" points=\"980.286,-63.7304 978.825,-53.2367 973.423,-62.3506 980.286,-63.7304\"/>\r\n",
       "</g>\r\n",
       "<!-- 20 -->\r\n",
       "<g id=\"node21\" class=\"node\"><title>20</title>\r\n",
       "<path fill=\"#f3c7a7\" stroke=\"black\" d=\"M1174,-53C1174,-53 1096,-53 1096,-53 1090,-53 1084,-47 1084,-41 1084,-41 1084,-12 1084,-12 1084,-6 1090,-0 1096,-0 1096,-0 1174,-0 1174,-0 1180,-0 1186,-6 1186,-12 1186,-12 1186,-41 1186,-41 1186,-47 1180,-53 1174,-53\"/>\r\n",
       "<text text-anchor=\"middle\" x=\"1135\" y=\"-37.8\" font-family=\"Helvetica,sans-Serif\" font-size=\"14.00\">mse = 652.5</text>\r\n",
       "<text text-anchor=\"middle\" x=\"1135\" y=\"-22.8\" font-family=\"Helvetica,sans-Serif\" font-size=\"14.00\">samples = 4</text>\r\n",
       "<text text-anchor=\"middle\" x=\"1135\" y=\"-7.8\" font-family=\"Helvetica,sans-Serif\" font-size=\"14.00\">value = 585.0</text>\r\n",
       "</g>\r\n",
       "<!-- 19&#45;&gt;20 -->\r\n",
       "<g id=\"edge20\" class=\"edge\"><title>19&#45;&gt;20</title>\r\n",
       "<path fill=\"none\" stroke=\"black\" d=\"M1205.88,-88.9485C1195.01,-79.526 1183.18,-69.2731 1172.36,-59.8906\"/>\r\n",
       "<polygon fill=\"black\" stroke=\"black\" points=\"1174.53,-57.1428 1164.69,-53.2367 1169.95,-62.4319 1174.53,-57.1428\"/>\r\n",
       "</g>\r\n",
       "<!-- 21 -->\r\n",
       "<g id=\"node22\" class=\"node\"><title>21</title>\r\n",
       "<path fill=\"#efb286\" stroke=\"black\" d=\"M1294,-53C1294,-53 1216,-53 1216,-53 1210,-53 1204,-47 1204,-41 1204,-41 1204,-12 1204,-12 1204,-6 1210,-0 1216,-0 1216,-0 1294,-0 1294,-0 1300,-0 1306,-6 1306,-12 1306,-12 1306,-41 1306,-41 1306,-47 1300,-53 1294,-53\"/>\r\n",
       "<text text-anchor=\"middle\" x=\"1255\" y=\"-37.8\" font-family=\"Helvetica,sans-Serif\" font-size=\"14.00\">mse = 16.0</text>\r\n",
       "<text text-anchor=\"middle\" x=\"1255\" y=\"-22.8\" font-family=\"Helvetica,sans-Serif\" font-size=\"14.00\">samples = 2</text>\r\n",
       "<text text-anchor=\"middle\" x=\"1255\" y=\"-7.8\" font-family=\"Helvetica,sans-Serif\" font-size=\"14.00\">value = 644.0</text>\r\n",
       "</g>\r\n",
       "<!-- 19&#45;&gt;21 -->\r\n",
       "<g id=\"edge21\" class=\"edge\"><title>19&#45;&gt;21</title>\r\n",
       "<path fill=\"none\" stroke=\"black\" d=\"M1247.85,-88.9485C1248.82,-80.6238 1249.86,-71.6509 1250.84,-63.2027\"/>\r\n",
       "<polygon fill=\"black\" stroke=\"black\" points=\"1254.32,-63.5743 1252,-53.2367 1247.37,-62.7649 1254.32,-63.5743\"/>\r\n",
       "</g>\r\n",
       "<!-- 23 -->\r\n",
       "<g id=\"node24\" class=\"node\"><title>23</title>\r\n",
       "<path fill=\"#fefaf7\" stroke=\"black\" d=\"M1577,-157C1577,-157 1407,-157 1407,-157 1401,-157 1395,-151 1395,-145 1395,-145 1395,-101 1395,-101 1395,-95 1401,-89 1407,-89 1407,-89 1577,-89 1577,-89 1583,-89 1589,-95 1589,-101 1589,-101 1589,-145 1589,-145 1589,-151 1583,-157 1577,-157\"/>\r\n",
       "<text text-anchor=\"middle\" x=\"1492\" y=\"-141.8\" font-family=\"Helvetica,sans-Serif\" font-size=\"14.00\">Average_income &lt;= 4883.5</text>\r\n",
       "<text text-anchor=\"middle\" x=\"1492\" y=\"-126.8\" font-family=\"Helvetica,sans-Serif\" font-size=\"14.00\">mse = 647.2</text>\r\n",
       "<text text-anchor=\"middle\" x=\"1492\" y=\"-111.8\" font-family=\"Helvetica,sans-Serif\" font-size=\"14.00\">samples = 5</text>\r\n",
       "<text text-anchor=\"middle\" x=\"1492\" y=\"-96.8\" font-family=\"Helvetica,sans-Serif\" font-size=\"14.00\">value = 443.0</text>\r\n",
       "</g>\r\n",
       "<!-- 22&#45;&gt;23 -->\r\n",
       "<g id=\"edge23\" class=\"edge\"><title>22&#45;&gt;23</title>\r\n",
       "<path fill=\"none\" stroke=\"black\" d=\"M1492,-192.884C1492,-184.778 1492,-175.982 1492,-167.472\"/>\r\n",
       "<polygon fill=\"black\" stroke=\"black\" points=\"1495.5,-167.299 1492,-157.299 1488.5,-167.299 1495.5,-167.299\"/>\r\n",
       "</g>\r\n",
       "<!-- 26 -->\r\n",
       "<g id=\"node27\" class=\"node\"><title>26</title>\r\n",
       "<path fill=\"#f8dcc9\" stroke=\"black\" d=\"M1789,-157C1789,-157 1619,-157 1619,-157 1613,-157 1607,-151 1607,-145 1607,-145 1607,-101 1607,-101 1607,-95 1613,-89 1619,-89 1619,-89 1789,-89 1789,-89 1795,-89 1801,-95 1801,-101 1801,-101 1801,-145 1801,-145 1801,-151 1795,-157 1789,-157\"/>\r\n",
       "<text text-anchor=\"middle\" x=\"1704\" y=\"-141.8\" font-family=\"Helvetica,sans-Serif\" font-size=\"14.00\">Paved_Highways &lt;= 2272.0</text>\r\n",
       "<text text-anchor=\"middle\" x=\"1704\" y=\"-126.8\" font-family=\"Helvetica,sans-Serif\" font-size=\"14.00\">mse = 225.0</text>\r\n",
       "<text text-anchor=\"middle\" x=\"1704\" y=\"-111.8\" font-family=\"Helvetica,sans-Serif\" font-size=\"14.00\">samples = 2</text>\r\n",
       "<text text-anchor=\"middle\" x=\"1704\" y=\"-96.8\" font-family=\"Helvetica,sans-Serif\" font-size=\"14.00\">value = 525.0</text>\r\n",
       "</g>\r\n",
       "<!-- 22&#45;&gt;26 -->\r\n",
       "<g id=\"edge26\" class=\"edge\"><title>22&#45;&gt;26</title>\r\n",
       "<path fill=\"none\" stroke=\"black\" d=\"M1560.83,-192.884C1581.67,-182.856 1604.71,-171.773 1626.1,-161.482\"/>\r\n",
       "<polygon fill=\"black\" stroke=\"black\" points=\"1627.66,-164.614 1635.15,-157.125 1624.62,-158.306 1627.66,-164.614\"/>\r\n",
       "</g>\r\n",
       "<!-- 24 -->\r\n",
       "<g id=\"node25\" class=\"node\"><title>24</title>\r\n",
       "<path fill=\"#ffffff\" stroke=\"black\" d=\"M1447.5,-53C1447.5,-53 1358.5,-53 1358.5,-53 1352.5,-53 1346.5,-47 1346.5,-41 1346.5,-41 1346.5,-12 1346.5,-12 1346.5,-6 1352.5,-0 1358.5,-0 1358.5,-0 1447.5,-0 1447.5,-0 1453.5,-0 1459.5,-6 1459.5,-12 1459.5,-12 1459.5,-41 1459.5,-41 1459.5,-47 1453.5,-53 1447.5,-53\"/>\r\n",
       "<text text-anchor=\"middle\" x=\"1403\" y=\"-37.8\" font-family=\"Helvetica,sans-Serif\" font-size=\"14.00\">mse = 514.667</text>\r\n",
       "<text text-anchor=\"middle\" x=\"1403\" y=\"-22.8\" font-family=\"Helvetica,sans-Serif\" font-size=\"14.00\">samples = 3</text>\r\n",
       "<text text-anchor=\"middle\" x=\"1403\" y=\"-7.8\" font-family=\"Helvetica,sans-Serif\" font-size=\"14.00\">value = 428.0</text>\r\n",
       "</g>\r\n",
       "<!-- 23&#45;&gt;24 -->\r\n",
       "<g id=\"edge24\" class=\"edge\"><title>23&#45;&gt;24</title>\r\n",
       "<path fill=\"none\" stroke=\"black\" d=\"M1460.87,-88.9485C1452.26,-79.8005 1442.9,-69.8697 1434.28,-60.7126\"/>\r\n",
       "<polygon fill=\"black\" stroke=\"black\" points=\"1436.64,-58.1168 1427.24,-53.2367 1431.55,-62.9161 1436.64,-58.1168\"/>\r\n",
       "</g>\r\n",
       "<!-- 25 -->\r\n",
       "<g id=\"node26\" class=\"node\"><title>25</title>\r\n",
       "<path fill=\"#fcf2ea\" stroke=\"black\" d=\"M1568,-53C1568,-53 1490,-53 1490,-53 1484,-53 1478,-47 1478,-41 1478,-41 1478,-12 1478,-12 1478,-6 1484,-0 1490,-0 1490,-0 1568,-0 1568,-0 1574,-0 1580,-6 1580,-12 1580,-12 1580,-41 1580,-41 1580,-47 1574,-53 1568,-53\"/>\r\n",
       "<text text-anchor=\"middle\" x=\"1529\" y=\"-37.8\" font-family=\"Helvetica,sans-Serif\" font-size=\"14.00\">mse = 2.25</text>\r\n",
       "<text text-anchor=\"middle\" x=\"1529\" y=\"-22.8\" font-family=\"Helvetica,sans-Serif\" font-size=\"14.00\">samples = 2</text>\r\n",
       "<text text-anchor=\"middle\" x=\"1529\" y=\"-7.8\" font-family=\"Helvetica,sans-Serif\" font-size=\"14.00\">value = 465.5</text>\r\n",
       "</g>\r\n",
       "<!-- 23&#45;&gt;25 -->\r\n",
       "<g id=\"edge25\" class=\"edge\"><title>23&#45;&gt;25</title>\r\n",
       "<path fill=\"none\" stroke=\"black\" d=\"M1504.94,-88.9485C1508.27,-80.4408 1511.87,-71.2562 1515.24,-62.6464\"/>\r\n",
       "<polygon fill=\"black\" stroke=\"black\" points=\"1518.54,-63.8245 1518.92,-53.2367 1512.02,-61.2723 1518.54,-63.8245\"/>\r\n",
       "</g>\r\n",
       "<!-- 27 -->\r\n",
       "<g id=\"node28\" class=\"node\"><title>27</title>\r\n",
       "<path fill=\"#f7d7c0\" stroke=\"black\" d=\"M1732,-53C1732,-53 1654,-53 1654,-53 1648,-53 1642,-47 1642,-41 1642,-41 1642,-12 1642,-12 1642,-6 1648,-0 1654,-0 1654,-0 1732,-0 1732,-0 1738,-0 1744,-6 1744,-12 1744,-12 1744,-41 1744,-41 1744,-47 1738,-53 1732,-53\"/>\r\n",
       "<text text-anchor=\"middle\" x=\"1693\" y=\"-37.8\" font-family=\"Helvetica,sans-Serif\" font-size=\"14.00\">mse = 0.0</text>\r\n",
       "<text text-anchor=\"middle\" x=\"1693\" y=\"-22.8\" font-family=\"Helvetica,sans-Serif\" font-size=\"14.00\">samples = 1</text>\r\n",
       "<text text-anchor=\"middle\" x=\"1693\" y=\"-7.8\" font-family=\"Helvetica,sans-Serif\" font-size=\"14.00\">value = 540.0</text>\r\n",
       "</g>\r\n",
       "<!-- 26&#45;&gt;27 -->\r\n",
       "<g id=\"edge27\" class=\"edge\"><title>26&#45;&gt;27</title>\r\n",
       "<path fill=\"none\" stroke=\"black\" d=\"M1700.15,-88.9485C1699.18,-80.6238 1698.14,-71.6509 1697.16,-63.2027\"/>\r\n",
       "<polygon fill=\"black\" stroke=\"black\" points=\"1700.63,-62.7649 1696,-53.2367 1693.68,-63.5743 1700.63,-62.7649\"/>\r\n",
       "</g>\r\n",
       "<!-- 28 -->\r\n",
       "<g id=\"node29\" class=\"node\"><title>28</title>\r\n",
       "<path fill=\"#f9e2d1\" stroke=\"black\" d=\"M1852,-53C1852,-53 1774,-53 1774,-53 1768,-53 1762,-47 1762,-41 1762,-41 1762,-12 1762,-12 1762,-6 1768,-0 1774,-0 1774,-0 1852,-0 1852,-0 1858,-0 1864,-6 1864,-12 1864,-12 1864,-41 1864,-41 1864,-47 1858,-53 1852,-53\"/>\r\n",
       "<text text-anchor=\"middle\" x=\"1813\" y=\"-37.8\" font-family=\"Helvetica,sans-Serif\" font-size=\"14.00\">mse = 0.0</text>\r\n",
       "<text text-anchor=\"middle\" x=\"1813\" y=\"-22.8\" font-family=\"Helvetica,sans-Serif\" font-size=\"14.00\">samples = 1</text>\r\n",
       "<text text-anchor=\"middle\" x=\"1813\" y=\"-7.8\" font-family=\"Helvetica,sans-Serif\" font-size=\"14.00\">value = 510.0</text>\r\n",
       "</g>\r\n",
       "<!-- 26&#45;&gt;28 -->\r\n",
       "<g id=\"edge28\" class=\"edge\"><title>26&#45;&gt;28</title>\r\n",
       "<path fill=\"none\" stroke=\"black\" d=\"M1742.12,-88.9485C1752.99,-79.526 1764.82,-69.2731 1775.64,-59.8906\"/>\r\n",
       "<polygon fill=\"black\" stroke=\"black\" points=\"1778.05,-62.4319 1783.31,-53.2367 1773.47,-57.1428 1778.05,-62.4319\"/>\r\n",
       "</g>\r\n",
       "</g>\r\n",
       "</svg>\r\n"
      ],
      "text/plain": [
       "<graphviz.files.Source at 0xfc6a94c9c8>"
      ]
     },
     "execution_count": 37,
     "metadata": {},
     "output_type": "execute_result"
    }
   ],
   "source": [
    "graphviz.Source(dot_data)"
   ]
  },
  {
   "cell_type": "markdown",
   "metadata": {},
   "source": [
    "The trees follow a top-down greedy approach known as recursive binary splitting. We call it as ‘top-down’ because it begins from the top of tree when all the observations are available in a single region and successively splits the predictor space into two new branches down the tree. It is known as ‘greedy’ because, the algorithm cares (looks for best variable available) about only the current split, and not about future splits which will lead to a better tree.\n",
    "\n",
    "Stopping Criteria: The most common stopping procedure is to use a minimum count on the number of training instances assigned to each leaf node. If the count is less than some minimum then the split is not accepted and the node is taken as a final leaf node.\n",
    "\n",
    "For this dataset Petrol_consumption is considered as the Target variable and rest are Predictors:\\\n",
    "\n",
    "**Q.  Why does Tree considered Petrol_tax as Root of Tree?**\\\n",
    "**Ans**The reason could be the feature_importances as from above codes we can see Petrol_tax has feature importance value compared to others. So, the Petrol_tax is selected as root of tree and other features as decision nodes.\n",
    "\n",
    "**The Split :** Purity of the node increases with respect to the target variable. Decision tree splits the nodes on all available variables and then selects the split which results in most homogeneous sub-nodes.\n",
    "\n",
    "##### Hyperparameters Considered:   max_depth=4,  max_features=4\n",
    "1. The tree uses Petrol Tax features with threshold value of 7.25 to initially divide the samples.\n",
    "2. We can see out of 33 Samples the root (Petrol Tax) split into two other decision nodes:\\\n",
    "   i.  Where Petrol_tax <= 7.25 then it uses another feature (Paved Highways) with total number of sample of 15 as decision node.\\\n",
    "   ii.Where Petrol_tax> 7.25 then it uses feature Average Income as another decision node with Sample count of 18.\n",
    "3. The tree considered Mean Squared Error(MSE) as the determining and decision making criteria. \n",
    "4. In the above plotted decision tree every node is a conditon how to split values. The least the MSE the better the result. \n",
    "5. We can see from decision nodes there are several boxes known as leaf nodes where MSE=0 and thus tree stops branching from that nodes.\n",
    "\n"
   ]
  },
  {
   "cell_type": "markdown",
   "metadata": {},
   "source": [
    "###  Using  Gridsearch & Cross Validation appropriately."
   ]
  },
  {
   "cell_type": "markdown",
   "metadata": {},
   "source": [
    "#### Now I will use grid search cv to find the optimal value of hyper_parameters to plot the Decision Tree"
   ]
  },
  {
   "cell_type": "code",
   "execution_count": 38,
   "metadata": {},
   "outputs": [],
   "source": [
    "from sklearn.model_selection import GridSearchCV"
   ]
  },
  {
   "cell_type": "code",
   "execution_count": 39,
   "metadata": {},
   "outputs": [],
   "source": [
    "param_grid = [{\"max_depth\":[3,4,5, None], \"max_features\":[3,4,5,6,7]}]"
   ]
  },
  {
   "cell_type": "code",
   "execution_count": 40,
   "metadata": {},
   "outputs": [],
   "source": [
    "gs = GridSearchCV(estimator=DecisionTreeRegressor(random_state=123),param_grid = param_grid,cv=10)"
   ]
  },
  {
   "cell_type": "code",
   "execution_count": 41,
   "metadata": {},
   "outputs": [
    {
     "data": {
      "text/plain": [
       "GridSearchCV(cv=10, error_score=nan,\n",
       "             estimator=DecisionTreeRegressor(ccp_alpha=0.0, criterion='mse',\n",
       "                                             max_depth=None, max_features=None,\n",
       "                                             max_leaf_nodes=None,\n",
       "                                             min_impurity_decrease=0.0,\n",
       "                                             min_impurity_split=None,\n",
       "                                             min_samples_leaf=1,\n",
       "                                             min_samples_split=2,\n",
       "                                             min_weight_fraction_leaf=0.0,\n",
       "                                             presort='deprecated',\n",
       "                                             random_state=123,\n",
       "                                             splitter='best'),\n",
       "             iid='deprecated', n_jobs=None,\n",
       "             param_grid=[{'max_depth': [3, 4, 5, None],\n",
       "                          'max_features': [3, 4, 5, 6, 7]}],\n",
       "             pre_dispatch='2*n_jobs', refit=True, return_train_score=False,\n",
       "             scoring=None, verbose=0)"
      ]
     },
     "execution_count": 41,
     "metadata": {},
     "output_type": "execute_result"
    }
   ],
   "source": [
    "gs.fit(X_train, Y_train)"
   ]
  },
  {
   "cell_type": "code",
   "execution_count": 42,
   "metadata": {},
   "outputs": [
    {
     "data": {
      "text/plain": [
       "[{'max_depth': 3, 'max_features': 3},\n",
       " {'max_depth': 3, 'max_features': 4},\n",
       " {'max_depth': 3, 'max_features': 5},\n",
       " {'max_depth': 3, 'max_features': 6},\n",
       " {'max_depth': 3, 'max_features': 7},\n",
       " {'max_depth': 4, 'max_features': 3},\n",
       " {'max_depth': 4, 'max_features': 4},\n",
       " {'max_depth': 4, 'max_features': 5},\n",
       " {'max_depth': 4, 'max_features': 6},\n",
       " {'max_depth': 4, 'max_features': 7},\n",
       " {'max_depth': 5, 'max_features': 3},\n",
       " {'max_depth': 5, 'max_features': 4},\n",
       " {'max_depth': 5, 'max_features': 5},\n",
       " {'max_depth': 5, 'max_features': 6},\n",
       " {'max_depth': 5, 'max_features': 7},\n",
       " {'max_depth': None, 'max_features': 3},\n",
       " {'max_depth': None, 'max_features': 4},\n",
       " {'max_depth': None, 'max_features': 5},\n",
       " {'max_depth': None, 'max_features': 6},\n",
       " {'max_depth': None, 'max_features': 7}]"
      ]
     },
     "execution_count": 42,
     "metadata": {},
     "output_type": "execute_result"
    }
   ],
   "source": [
    "gs.cv_results_['params']"
   ]
  },
  {
   "cell_type": "code",
   "execution_count": 43,
   "metadata": {},
   "outputs": [
    {
     "data": {
      "text/plain": [
       "array([ 3,  1, 18, 17, 16,  2,  6, 15, 14, 13,  4,  7, 12, 11, 10,  5,  8,\n",
       "        9, 19, 20])"
      ]
     },
     "execution_count": 43,
     "metadata": {},
     "output_type": "execute_result"
    }
   ],
   "source": [
    "gs.cv_results_['rank_test_score']"
   ]
  },
  {
   "cell_type": "code",
   "execution_count": 44,
   "metadata": {},
   "outputs": [
    {
     "data": {
      "text/plain": [
       "DecisionTreeRegressor(ccp_alpha=0.0, criterion='mse', max_depth=3,\n",
       "                      max_features=4, max_leaf_nodes=None,\n",
       "                      min_impurity_decrease=0.0, min_impurity_split=None,\n",
       "                      min_samples_leaf=1, min_samples_split=2,\n",
       "                      min_weight_fraction_leaf=0.0, presort='deprecated',\n",
       "                      random_state=123, splitter='best')"
      ]
     },
     "execution_count": 44,
     "metadata": {},
     "output_type": "execute_result"
    }
   ],
   "source": [
    "gs.best_estimator_"
   ]
  },
  {
   "cell_type": "code",
   "execution_count": 45,
   "metadata": {},
   "outputs": [],
   "source": [
    "tree = DecisionTreeRegressor(max_depth=3,max_features=4)"
   ]
  },
  {
   "cell_type": "code",
   "execution_count": 46,
   "metadata": {},
   "outputs": [
    {
     "data": {
      "text/plain": [
       "DecisionTreeRegressor(ccp_alpha=0.0, criterion='mse', max_depth=3,\n",
       "                      max_features=4, max_leaf_nodes=None,\n",
       "                      min_impurity_decrease=0.0, min_impurity_split=None,\n",
       "                      min_samples_leaf=1, min_samples_split=2,\n",
       "                      min_weight_fraction_leaf=0.0, presort='deprecated',\n",
       "                      random_state=None, splitter='best')"
      ]
     },
     "execution_count": 46,
     "metadata": {},
     "output_type": "execute_result"
    }
   ],
   "source": [
    "tree.fit(X_train, Y_train)"
   ]
  },
  {
   "cell_type": "code",
   "execution_count": 47,
   "metadata": {},
   "outputs": [],
   "source": [
    "predictions = tree.predict(X_test)"
   ]
  },
  {
   "cell_type": "code",
   "execution_count": 48,
   "metadata": {},
   "outputs": [
    {
     "data": {
      "text/html": [
       "<div>\n",
       "<style scoped>\n",
       "    .dataframe tbody tr th:only-of-type {\n",
       "        vertical-align: middle;\n",
       "    }\n",
       "\n",
       "    .dataframe tbody tr th {\n",
       "        vertical-align: top;\n",
       "    }\n",
       "\n",
       "    .dataframe thead th {\n",
       "        text-align: right;\n",
       "    }\n",
       "</style>\n",
       "<table border=\"1\" class=\"dataframe\">\n",
       "  <thead>\n",
       "    <tr style=\"text-align: right;\">\n",
       "      <th></th>\n",
       "      <th>Actual</th>\n",
       "      <th>Predicted</th>\n",
       "    </tr>\n",
       "  </thead>\n",
       "  <tbody>\n",
       "    <tr>\n",
       "      <th>18</th>\n",
       "      <td>865</td>\n",
       "      <td>658.3333</td>\n",
       "    </tr>\n",
       "    <tr>\n",
       "      <th>13</th>\n",
       "      <td>508</td>\n",
       "      <td>658.3333</td>\n",
       "    </tr>\n",
       "    <tr>\n",
       "      <th>26</th>\n",
       "      <td>577</td>\n",
       "      <td>604.6667</td>\n",
       "    </tr>\n",
       "    <tr>\n",
       "      <th>31</th>\n",
       "      <td>554</td>\n",
       "      <td>658.3333</td>\n",
       "    </tr>\n",
       "    <tr>\n",
       "      <th>10</th>\n",
       "      <td>580</td>\n",
       "      <td>443.0000</td>\n",
       "    </tr>\n",
       "  </tbody>\n",
       "</table>\n",
       "</div>"
      ],
      "text/plain": [
       "    Actual  Predicted\n",
       "18     865   658.3333\n",
       "13     508   658.3333\n",
       "26     577   604.6667\n",
       "31     554   658.3333\n",
       "10     580   443.0000"
      ]
     },
     "execution_count": 48,
     "metadata": {},
     "output_type": "execute_result"
    }
   ],
   "source": [
    "df=pd.DataFrame({'Actual':Y_test, 'Predicted':predictions})\n",
    "df.head(5) #Check the top 5 predictions and actual values."
   ]
  },
  {
   "cell_type": "code",
   "execution_count": 49,
   "metadata": {},
   "outputs": [
    {
     "name": "stdout",
     "output_type": "stream",
     "text": [
      "Mean Absolute Error: 96.6\n",
      "Mean Squared Error: 15143.737037037035\n",
      "Root Mean Squared Error: 123.05989207307569\n",
      "r2_score: 0.3448182493161691\n"
     ]
    }
   ],
   "source": [
    "from sklearn import metrics\n",
    "print('Mean Absolute Error:', metrics.mean_absolute_error(Y_test,predictions))\n",
    "print('Mean Squared Error:', metrics.mean_squared_error(Y_test,predictions))\n",
    "print('Root Mean Squared Error:', np.sqrt(metrics.mean_squared_error(Y_test,predictions)))\n",
    "print('r2_score:', metrics.r2_score(Y_test,predictions))"
   ]
  },
  {
   "cell_type": "markdown",
   "metadata": {},
   "source": [
    "We use graphviz to plot the dot data as a decision tree."
   ]
  },
  {
   "cell_type": "code",
   "execution_count": 50,
   "metadata": {},
   "outputs": [],
   "source": [
    "from sklearn.tree import export_graphviz"
   ]
  },
  {
   "cell_type": "code",
   "execution_count": 51,
   "metadata": {},
   "outputs": [],
   "source": [
    "dot_data = export_graphviz(tree, filled=True, rounded=True, feature_names=predictor_var.columns, out_file=None)"
   ]
  },
  {
   "cell_type": "code",
   "execution_count": 52,
   "metadata": {},
   "outputs": [],
   "source": [
    "import graphviz"
   ]
  },
  {
   "cell_type": "code",
   "execution_count": 53,
   "metadata": {},
   "outputs": [
    {
     "data": {
      "image/svg+xml": [
       "<?xml version=\"1.0\" encoding=\"UTF-8\" standalone=\"no\"?>\r\n",
       "<!DOCTYPE svg PUBLIC \"-//W3C//DTD SVG 1.1//EN\"\r\n",
       " \"http://www.w3.org/Graphics/SVG/1.1/DTD/svg11.dtd\">\r\n",
       "<!-- Generated by graphviz version 2.38.0 (20140413.2041)\r\n",
       " -->\r\n",
       "<!-- Title: Tree Pages: 1 -->\r\n",
       "<svg width=\"1076pt\" height=\"373pt\"\r\n",
       " viewBox=\"0.00 0.00 1076.00 373.00\" xmlns=\"http://www.w3.org/2000/svg\" xmlns:xlink=\"http://www.w3.org/1999/xlink\">\r\n",
       "<g id=\"graph0\" class=\"graph\" transform=\"scale(1 1) rotate(0) translate(4 369)\">\r\n",
       "<title>Tree</title>\r\n",
       "<polygon fill=\"white\" stroke=\"none\" points=\"-4,4 -4,-369 1072,-369 1072,4 -4,4\"/>\r\n",
       "<!-- 0 -->\r\n",
       "<g id=\"node1\" class=\"node\"><title>0</title>\r\n",
       "<path fill=\"#f5ceb2\" stroke=\"black\" d=\"M558.5,-365C558.5,-365 449.5,-365 449.5,-365 443.5,-365 437.5,-359 437.5,-353 437.5,-353 437.5,-309 437.5,-309 437.5,-303 443.5,-297 449.5,-297 449.5,-297 558.5,-297 558.5,-297 564.5,-297 570.5,-303 570.5,-309 570.5,-309 570.5,-353 570.5,-353 570.5,-359 564.5,-365 558.5,-365\"/>\r\n",
       "<text text-anchor=\"middle\" x=\"504\" y=\"-349.8\" font-family=\"Helvetica,sans-Serif\" font-size=\"14.00\">Petrol_tax &lt;= 7.25</text>\r\n",
       "<text text-anchor=\"middle\" x=\"504\" y=\"-334.8\" font-family=\"Helvetica,sans-Serif\" font-size=\"14.00\">mse = 7316.404</text>\r\n",
       "<text text-anchor=\"middle\" x=\"504\" y=\"-319.8\" font-family=\"Helvetica,sans-Serif\" font-size=\"14.00\">samples = 33</text>\r\n",
       "<text text-anchor=\"middle\" x=\"504\" y=\"-304.8\" font-family=\"Helvetica,sans-Serif\" font-size=\"14.00\">value = 575.333</text>\r\n",
       "</g>\r\n",
       "<!-- 1 -->\r\n",
       "<g id=\"node2\" class=\"node\"><title>1</title>\r\n",
       "<path fill=\"#f1ba93\" stroke=\"black\" d=\"M463,-261C463,-261 293,-261 293,-261 287,-261 281,-255 281,-249 281,-249 281,-205 281,-205 281,-199 287,-193 293,-193 293,-193 463,-193 463,-193 469,-193 475,-199 475,-205 475,-205 475,-249 475,-249 475,-255 469,-261 463,-261\"/>\r\n",
       "<text text-anchor=\"middle\" x=\"378\" y=\"-245.8\" font-family=\"Helvetica,sans-Serif\" font-size=\"14.00\">Paved_Highways &lt;= 6645.0</text>\r\n",
       "<text text-anchor=\"middle\" x=\"378\" y=\"-230.8\" font-family=\"Helvetica,sans-Serif\" font-size=\"14.00\">mse = 5313.716</text>\r\n",
       "<text text-anchor=\"middle\" x=\"378\" y=\"-215.8\" font-family=\"Helvetica,sans-Serif\" font-size=\"14.00\">samples = 15</text>\r\n",
       "<text text-anchor=\"middle\" x=\"378\" y=\"-200.8\" font-family=\"Helvetica,sans-Serif\" font-size=\"14.00\">value = 627.867</text>\r\n",
       "</g>\r\n",
       "<!-- 0&#45;&gt;1 -->\r\n",
       "<g id=\"edge1\" class=\"edge\"><title>0&#45;&gt;1</title>\r\n",
       "<path fill=\"none\" stroke=\"black\" d=\"M463.091,-296.884C451.648,-287.62 439.091,-277.455 427.221,-267.845\"/>\r\n",
       "<polygon fill=\"black\" stroke=\"black\" points=\"429.109,-264.871 419.135,-261.299 424.705,-270.312 429.109,-264.871\"/>\r\n",
       "<text text-anchor=\"middle\" x=\"421.752\" y=\"-282.462\" font-family=\"Helvetica,sans-Serif\" font-size=\"14.00\">True</text>\r\n",
       "</g>\r\n",
       "<!-- 8 -->\r\n",
       "<g id=\"node9\" class=\"node\"><title>8</title>\r\n",
       "<path fill=\"#f8decb\" stroke=\"black\" d=\"M715,-261C715,-261 545,-261 545,-261 539,-261 533,-255 533,-249 533,-249 533,-205 533,-205 533,-199 539,-193 545,-193 545,-193 715,-193 715,-193 721,-193 727,-199 727,-205 727,-205 727,-249 727,-249 727,-255 721,-261 715,-261\"/>\r\n",
       "<text text-anchor=\"middle\" x=\"630\" y=\"-245.8\" font-family=\"Helvetica,sans-Serif\" font-size=\"14.00\">Average_income &lt;= 4370.0</text>\r\n",
       "<text text-anchor=\"middle\" x=\"630\" y=\"-230.8\" font-family=\"Helvetica,sans-Serif\" font-size=\"14.00\">mse = 4769.025</text>\r\n",
       "<text text-anchor=\"middle\" x=\"630\" y=\"-215.8\" font-family=\"Helvetica,sans-Serif\" font-size=\"14.00\">samples = 18</text>\r\n",
       "<text text-anchor=\"middle\" x=\"630\" y=\"-200.8\" font-family=\"Helvetica,sans-Serif\" font-size=\"14.00\">value = 531.556</text>\r\n",
       "</g>\r\n",
       "<!-- 0&#45;&gt;8 -->\r\n",
       "<g id=\"edge8\" class=\"edge\"><title>0&#45;&gt;8</title>\r\n",
       "<path fill=\"none\" stroke=\"black\" d=\"M544.909,-296.884C556.352,-287.62 568.909,-277.455 580.779,-267.845\"/>\r\n",
       "<polygon fill=\"black\" stroke=\"black\" points=\"583.295,-270.312 588.865,-261.299 578.891,-264.871 583.295,-270.312\"/>\r\n",
       "<text text-anchor=\"middle\" x=\"586.248\" y=\"-282.462\" font-family=\"Helvetica,sans-Serif\" font-size=\"14.00\">False</text>\r\n",
       "</g>\r\n",
       "<!-- 2 -->\r\n",
       "<g id=\"node3\" class=\"node\"><title>2</title>\r\n",
       "<path fill=\"#eda877\" stroke=\"black\" d=\"M246,-157C246,-157 76,-157 76,-157 70,-157 64,-151 64,-145 64,-145 64,-101 64,-101 64,-95 70,-89 76,-89 76,-89 246,-89 246,-89 252,-89 258,-95 258,-101 258,-101 258,-145 258,-145 258,-151 252,-157 246,-157\"/>\r\n",
       "<text text-anchor=\"middle\" x=\"161\" y=\"-141.8\" font-family=\"Helvetica,sans-Serif\" font-size=\"14.00\">Paved_Highways &lt;= 2456.5</text>\r\n",
       "<text text-anchor=\"middle\" x=\"161\" y=\"-126.8\" font-family=\"Helvetica,sans-Serif\" font-size=\"14.00\">mse = 3930.0</text>\r\n",
       "<text text-anchor=\"middle\" x=\"161\" y=\"-111.8\" font-family=\"Helvetica,sans-Serif\" font-size=\"14.00\">samples = 7</text>\r\n",
       "<text text-anchor=\"middle\" x=\"161\" y=\"-96.8\" font-family=\"Helvetica,sans-Serif\" font-size=\"14.00\">value = 676.0</text>\r\n",
       "</g>\r\n",
       "<!-- 1&#45;&gt;2 -->\r\n",
       "<g id=\"edge2\" class=\"edge\"><title>1&#45;&gt;2</title>\r\n",
       "<path fill=\"none\" stroke=\"black\" d=\"M307.546,-192.884C286.214,-182.856 262.635,-171.773 240.74,-161.482\"/>\r\n",
       "<polygon fill=\"black\" stroke=\"black\" points=\"242.01,-158.211 231.471,-157.125 239.032,-164.546 242.01,-158.211\"/>\r\n",
       "</g>\r\n",
       "<!-- 5 -->\r\n",
       "<g id=\"node6\" class=\"node\"><title>5</title>\r\n",
       "<path fill=\"#f4caac\" stroke=\"black\" d=\"M467.5,-157C467.5,-157 288.5,-157 288.5,-157 282.5,-157 276.5,-151 276.5,-145 276.5,-145 276.5,-101 276.5,-101 276.5,-95 282.5,-89 288.5,-89 288.5,-89 467.5,-89 467.5,-89 473.5,-89 479.5,-95 479.5,-101 479.5,-101 479.5,-145 479.5,-145 479.5,-151 473.5,-157 467.5,-157\"/>\r\n",
       "<text text-anchor=\"middle\" x=\"378\" y=\"-141.8\" font-family=\"Helvetica,sans-Serif\" font-size=\"14.00\">Paved_Highways &lt;= 10067.0</text>\r\n",
       "<text text-anchor=\"middle\" x=\"378\" y=\"-126.8\" font-family=\"Helvetica,sans-Serif\" font-size=\"14.00\">mse = 2723.438</text>\r\n",
       "<text text-anchor=\"middle\" x=\"378\" y=\"-111.8\" font-family=\"Helvetica,sans-Serif\" font-size=\"14.00\">samples = 8</text>\r\n",
       "<text text-anchor=\"middle\" x=\"378\" y=\"-96.8\" font-family=\"Helvetica,sans-Serif\" font-size=\"14.00\">value = 585.75</text>\r\n",
       "</g>\r\n",
       "<!-- 1&#45;&gt;5 -->\r\n",
       "<g id=\"edge5\" class=\"edge\"><title>1&#45;&gt;5</title>\r\n",
       "<path fill=\"none\" stroke=\"black\" d=\"M378,-192.884C378,-184.778 378,-175.982 378,-167.472\"/>\r\n",
       "<polygon fill=\"black\" stroke=\"black\" points=\"381.5,-167.299 378,-157.299 374.5,-167.299 381.5,-167.299\"/>\r\n",
       "</g>\r\n",
       "<!-- 3 -->\r\n",
       "<g id=\"node4\" class=\"node\"><title>3</title>\r\n",
       "<path fill=\"#e58139\" stroke=\"black\" d=\"M90,-53C90,-53 12,-53 12,-53 6,-53 0,-47 0,-41 0,-41 0,-12 0,-12 0,-6 6,-0 12,-0 12,-0 90,-0 90,-0 96,-0 102,-6 102,-12 102,-12 102,-41 102,-41 102,-47 96,-53 90,-53\"/>\r\n",
       "<text text-anchor=\"middle\" x=\"51\" y=\"-37.8\" font-family=\"Helvetica,sans-Serif\" font-size=\"14.00\">mse = 0.0</text>\r\n",
       "<text text-anchor=\"middle\" x=\"51\" y=\"-22.8\" font-family=\"Helvetica,sans-Serif\" font-size=\"14.00\">samples = 1</text>\r\n",
       "<text text-anchor=\"middle\" x=\"51\" y=\"-7.8\" font-family=\"Helvetica,sans-Serif\" font-size=\"14.00\">value = 782.0</text>\r\n",
       "</g>\r\n",
       "<!-- 2&#45;&gt;3 -->\r\n",
       "<g id=\"edge3\" class=\"edge\"><title>2&#45;&gt;3</title>\r\n",
       "<path fill=\"none\" stroke=\"black\" d=\"M122.527,-88.9485C111.559,-79.526 99.6248,-69.2731 88.7033,-59.8906\"/>\r\n",
       "<polygon fill=\"black\" stroke=\"black\" points=\"90.8241,-57.0983 80.9581,-53.2367 86.2626,-62.408 90.8241,-57.0983\"/>\r\n",
       "</g>\r\n",
       "<!-- 4 -->\r\n",
       "<g id=\"node5\" class=\"node\"><title>4</title>\r\n",
       "<path fill=\"#eeaf81\" stroke=\"black\" d=\"M230,-53C230,-53 132,-53 132,-53 126,-53 120,-47 120,-41 120,-41 120,-12 120,-12 120,-6 126,-0 132,-0 132,-0 230,-0 230,-0 236,-0 242,-6 242,-12 242,-12 242,-41 242,-41 242,-47 236,-53 230,-53\"/>\r\n",
       "<text text-anchor=\"middle\" x=\"181\" y=\"-37.8\" font-family=\"Helvetica,sans-Serif\" font-size=\"14.00\">mse = 2400.222</text>\r\n",
       "<text text-anchor=\"middle\" x=\"181\" y=\"-22.8\" font-family=\"Helvetica,sans-Serif\" font-size=\"14.00\">samples = 6</text>\r\n",
       "<text text-anchor=\"middle\" x=\"181\" y=\"-7.8\" font-family=\"Helvetica,sans-Serif\" font-size=\"14.00\">value = 658.333</text>\r\n",
       "</g>\r\n",
       "<!-- 2&#45;&gt;4 -->\r\n",
       "<g id=\"edge4\" class=\"edge\"><title>2&#45;&gt;4</title>\r\n",
       "<path fill=\"none\" stroke=\"black\" d=\"M167.995,-88.9485C169.757,-80.6238 171.656,-71.6509 173.444,-63.2027\"/>\r\n",
       "<polygon fill=\"black\" stroke=\"black\" points=\"176.907,-63.7447 175.553,-53.2367 170.058,-62.2953 176.907,-63.7447\"/>\r\n",
       "</g>\r\n",
       "<!-- 6 -->\r\n",
       "<g id=\"node7\" class=\"node\"><title>6</title>\r\n",
       "<path fill=\"#f5d0b6\" stroke=\"black\" d=\"M408,-53C408,-53 310,-53 310,-53 304,-53 298,-47 298,-41 298,-41 298,-12 298,-12 298,-6 304,-0 310,-0 310,-0 408,-0 408,-0 414,-0 420,-6 420,-12 420,-12 420,-41 420,-41 420,-47 414,-53 408,-53\"/>\r\n",
       "<text text-anchor=\"middle\" x=\"359\" y=\"-37.8\" font-family=\"Helvetica,sans-Serif\" font-size=\"14.00\">mse = 2438.917</text>\r\n",
       "<text text-anchor=\"middle\" x=\"359\" y=\"-22.8\" font-family=\"Helvetica,sans-Serif\" font-size=\"14.00\">samples = 6</text>\r\n",
       "<text text-anchor=\"middle\" x=\"359\" y=\"-7.8\" font-family=\"Helvetica,sans-Serif\" font-size=\"14.00\">value = 568.5</text>\r\n",
       "</g>\r\n",
       "<!-- 5&#45;&gt;6 -->\r\n",
       "<g id=\"edge6\" class=\"edge\"><title>5&#45;&gt;6</title>\r\n",
       "<path fill=\"none\" stroke=\"black\" d=\"M371.355,-88.9485C369.681,-80.6238 367.877,-71.6509 366.178,-63.2027\"/>\r\n",
       "<polygon fill=\"black\" stroke=\"black\" points=\"369.577,-62.3506 364.175,-53.2367 362.714,-63.7304 369.577,-62.3506\"/>\r\n",
       "</g>\r\n",
       "<!-- 7 -->\r\n",
       "<g id=\"node8\" class=\"node\"><title>7</title>\r\n",
       "<path fill=\"#f0b78d\" stroke=\"black\" d=\"M528,-53C528,-53 450,-53 450,-53 444,-53 438,-47 438,-41 438,-41 438,-12 438,-12 438,-6 444,-0 450,-0 450,-0 528,-0 528,-0 534,-0 540,-6 540,-12 540,-12 540,-41 540,-41 540,-47 534,-53 528,-53\"/>\r\n",
       "<text text-anchor=\"middle\" x=\"489\" y=\"-37.8\" font-family=\"Helvetica,sans-Serif\" font-size=\"14.00\">mse = 6.25</text>\r\n",
       "<text text-anchor=\"middle\" x=\"489\" y=\"-22.8\" font-family=\"Helvetica,sans-Serif\" font-size=\"14.00\">samples = 2</text>\r\n",
       "<text text-anchor=\"middle\" x=\"489\" y=\"-7.8\" font-family=\"Helvetica,sans-Serif\" font-size=\"14.00\">value = 637.5</text>\r\n",
       "</g>\r\n",
       "<!-- 5&#45;&gt;7 -->\r\n",
       "<g id=\"edge7\" class=\"edge\"><title>5&#45;&gt;7</title>\r\n",
       "<path fill=\"none\" stroke=\"black\" d=\"M416.822,-88.9485C427.89,-79.526 439.933,-69.2731 450.954,-59.8906\"/>\r\n",
       "<polygon fill=\"black\" stroke=\"black\" points=\"453.424,-62.3842 458.77,-53.2367 448.886,-57.0542 453.424,-62.3842\"/>\r\n",
       "</g>\r\n",
       "<!-- 9 -->\r\n",
       "<g id=\"node10\" class=\"node\"><title>9</title>\r\n",
       "<path fill=\"#f5cfb3\" stroke=\"black\" d=\"M750.5,-157C750.5,-157 509.5,-157 509.5,-157 503.5,-157 497.5,-151 497.5,-145 497.5,-145 497.5,-101 497.5,-101 497.5,-95 503.5,-89 509.5,-89 509.5,-89 750.5,-89 750.5,-89 756.5,-89 762.5,-95 762.5,-101 762.5,-101 762.5,-145 762.5,-145 762.5,-151 756.5,-157 750.5,-157\"/>\r\n",
       "<text text-anchor=\"middle\" x=\"630\" y=\"-141.8\" font-family=\"Helvetica,sans-Serif\" font-size=\"14.00\">Population_Driver_licence(%) &lt;= 0.546</text>\r\n",
       "<text text-anchor=\"middle\" x=\"630\" y=\"-126.8\" font-family=\"Helvetica,sans-Serif\" font-size=\"14.00\">mse = 2178.727</text>\r\n",
       "<text text-anchor=\"middle\" x=\"630\" y=\"-111.8\" font-family=\"Helvetica,sans-Serif\" font-size=\"14.00\">samples = 11</text>\r\n",
       "<text text-anchor=\"middle\" x=\"630\" y=\"-96.8\" font-family=\"Helvetica,sans-Serif\" font-size=\"14.00\">value = 573.0</text>\r\n",
       "</g>\r\n",
       "<!-- 8&#45;&gt;9 -->\r\n",
       "<g id=\"edge9\" class=\"edge\"><title>8&#45;&gt;9</title>\r\n",
       "<path fill=\"none\" stroke=\"black\" d=\"M630,-192.884C630,-184.778 630,-175.982 630,-167.472\"/>\r\n",
       "<polygon fill=\"black\" stroke=\"black\" points=\"633.5,-167.299 630,-157.299 626.5,-167.299 633.5,-167.299\"/>\r\n",
       "</g>\r\n",
       "<!-- 12 -->\r\n",
       "<g id=\"node13\" class=\"node\"><title>12</title>\r\n",
       "<path fill=\"#fdf6f1\" stroke=\"black\" d=\"M1033.5,-157C1033.5,-157 792.5,-157 792.5,-157 786.5,-157 780.5,-151 780.5,-145 780.5,-145 780.5,-101 780.5,-101 780.5,-95 786.5,-89 792.5,-89 792.5,-89 1033.5,-89 1033.5,-89 1039.5,-89 1045.5,-95 1045.5,-101 1045.5,-101 1045.5,-145 1045.5,-145 1045.5,-151 1039.5,-157 1033.5,-157\"/>\r\n",
       "<text text-anchor=\"middle\" x=\"913\" y=\"-141.8\" font-family=\"Helvetica,sans-Serif\" font-size=\"14.00\">Population_Driver_licence(%) &lt;= 0.562</text>\r\n",
       "<text text-anchor=\"middle\" x=\"913\" y=\"-126.8\" font-family=\"Helvetica,sans-Serif\" font-size=\"14.00\">mse = 1898.816</text>\r\n",
       "<text text-anchor=\"middle\" x=\"913\" y=\"-111.8\" font-family=\"Helvetica,sans-Serif\" font-size=\"14.00\">samples = 7</text>\r\n",
       "<text text-anchor=\"middle\" x=\"913\" y=\"-96.8\" font-family=\"Helvetica,sans-Serif\" font-size=\"14.00\">value = 466.429</text>\r\n",
       "</g>\r\n",
       "<!-- 8&#45;&gt;12 -->\r\n",
       "<g id=\"edge12\" class=\"edge\"><title>8&#45;&gt;12</title>\r\n",
       "<path fill=\"none\" stroke=\"black\" d=\"M721.882,-192.884C750.572,-182.543 782.378,-171.079 811.677,-160.519\"/>\r\n",
       "<polygon fill=\"black\" stroke=\"black\" points=\"812.874,-163.808 821.095,-157.125 810.501,-157.223 812.874,-163.808\"/>\r\n",
       "</g>\r\n",
       "<!-- 10 -->\r\n",
       "<g id=\"node11\" class=\"node\"><title>10</title>\r\n",
       "<path fill=\"#f8ddc9\" stroke=\"black\" d=\"M659,-53C659,-53 581,-53 581,-53 575,-53 569,-47 569,-41 569,-41 569,-12 569,-12 569,-6 575,-0 581,-0 581,-0 659,-0 659,-0 665,-0 671,-6 671,-12 671,-12 671,-41 671,-41 671,-47 665,-53 659,-53\"/>\r\n",
       "<text text-anchor=\"middle\" x=\"620\" y=\"-37.8\" font-family=\"Helvetica,sans-Serif\" font-size=\"14.00\">mse = 689.2</text>\r\n",
       "<text text-anchor=\"middle\" x=\"620\" y=\"-22.8\" font-family=\"Helvetica,sans-Serif\" font-size=\"14.00\">samples = 5</text>\r\n",
       "<text text-anchor=\"middle\" x=\"620\" y=\"-7.8\" font-family=\"Helvetica,sans-Serif\" font-size=\"14.00\">value = 535.0</text>\r\n",
       "</g>\r\n",
       "<!-- 9&#45;&gt;10 -->\r\n",
       "<g id=\"edge10\" class=\"edge\"><title>9&#45;&gt;10</title>\r\n",
       "<path fill=\"none\" stroke=\"black\" d=\"M626.502,-88.9485C625.622,-80.6238 624.672,-71.6509 623.778,-63.2027\"/>\r\n",
       "<polygon fill=\"black\" stroke=\"black\" points=\"627.256,-62.8128 622.723,-53.2367 620.295,-63.5495 627.256,-62.8128\"/>\r\n",
       "</g>\r\n",
       "<!-- 11 -->\r\n",
       "<g id=\"node12\" class=\"node\"><title>11</title>\r\n",
       "<path fill=\"#f3c3a1\" stroke=\"black\" d=\"M799,-53C799,-53 701,-53 701,-53 695,-53 689,-47 689,-41 689,-41 689,-12 689,-12 689,-6 695,-0 701,-0 701,-0 799,-0 799,-0 805,-0 811,-6 811,-12 811,-12 811,-41 811,-41 811,-47 805,-53 799,-53\"/>\r\n",
       "<text text-anchor=\"middle\" x=\"750\" y=\"-37.8\" font-family=\"Helvetica,sans-Serif\" font-size=\"14.00\">mse = 1213.889</text>\r\n",
       "<text text-anchor=\"middle\" x=\"750\" y=\"-22.8\" font-family=\"Helvetica,sans-Serif\" font-size=\"14.00\">samples = 6</text>\r\n",
       "<text text-anchor=\"middle\" x=\"750\" y=\"-7.8\" font-family=\"Helvetica,sans-Serif\" font-size=\"14.00\">value = 604.667</text>\r\n",
       "</g>\r\n",
       "<!-- 9&#45;&gt;11 -->\r\n",
       "<g id=\"edge11\" class=\"edge\"><title>9&#45;&gt;11</title>\r\n",
       "<path fill=\"none\" stroke=\"black\" d=\"M671.97,-88.9485C684.051,-79.4346 697.208,-69.074 709.216,-59.6175\"/>\r\n",
       "<polygon fill=\"black\" stroke=\"black\" points=\"711.628,-62.1734 717.318,-53.2367 707.297,-56.6739 711.628,-62.1734\"/>\r\n",
       "</g>\r\n",
       "<!-- 13 -->\r\n",
       "<g id=\"node14\" class=\"node\"><title>13</title>\r\n",
       "<path fill=\"#ffffff\" stroke=\"black\" d=\"M936,-53C936,-53 858,-53 858,-53 852,-53 846,-47 846,-41 846,-41 846,-12 846,-12 846,-6 852,-0 858,-0 858,-0 936,-0 936,-0 942,-0 948,-6 948,-12 948,-12 948,-41 948,-41 948,-47 942,-53 936,-53\"/>\r\n",
       "<text text-anchor=\"middle\" x=\"897\" y=\"-37.8\" font-family=\"Helvetica,sans-Serif\" font-size=\"14.00\">mse = 647.2</text>\r\n",
       "<text text-anchor=\"middle\" x=\"897\" y=\"-22.8\" font-family=\"Helvetica,sans-Serif\" font-size=\"14.00\">samples = 5</text>\r\n",
       "<text text-anchor=\"middle\" x=\"897\" y=\"-7.8\" font-family=\"Helvetica,sans-Serif\" font-size=\"14.00\">value = 443.0</text>\r\n",
       "</g>\r\n",
       "<!-- 12&#45;&gt;13 -->\r\n",
       "<g id=\"edge13\" class=\"edge\"><title>12&#45;&gt;13</title>\r\n",
       "<path fill=\"none\" stroke=\"black\" d=\"M907.404,-88.9485C905.995,-80.6238 904.475,-71.6509 903.045,-63.2027\"/>\r\n",
       "<polygon fill=\"black\" stroke=\"black\" points=\"906.478,-62.5121 901.358,-53.2367 899.576,-63.6807 906.478,-62.5121\"/>\r\n",
       "</g>\r\n",
       "<!-- 14 -->\r\n",
       "<g id=\"node15\" class=\"node\"><title>14</title>\r\n",
       "<path fill=\"#f9e1cf\" stroke=\"black\" d=\"M1056,-53C1056,-53 978,-53 978,-53 972,-53 966,-47 966,-41 966,-41 966,-12 966,-12 966,-6 972,-0 978,-0 978,-0 1056,-0 1056,-0 1062,-0 1068,-6 1068,-12 1068,-12 1068,-41 1068,-41 1068,-47 1062,-53 1056,-53\"/>\r\n",
       "<text text-anchor=\"middle\" x=\"1017\" y=\"-37.8\" font-family=\"Helvetica,sans-Serif\" font-size=\"14.00\">mse = 225.0</text>\r\n",
       "<text text-anchor=\"middle\" x=\"1017\" y=\"-22.8\" font-family=\"Helvetica,sans-Serif\" font-size=\"14.00\">samples = 2</text>\r\n",
       "<text text-anchor=\"middle\" x=\"1017\" y=\"-7.8\" font-family=\"Helvetica,sans-Serif\" font-size=\"14.00\">value = 525.0</text>\r\n",
       "</g>\r\n",
       "<!-- 12&#45;&gt;14 -->\r\n",
       "<g id=\"edge14\" class=\"edge\"><title>12&#45;&gt;14</title>\r\n",
       "<path fill=\"none\" stroke=\"black\" d=\"M949.374,-88.9485C959.643,-79.6175 970.808,-69.4722 981.052,-60.1641\"/>\r\n",
       "<polygon fill=\"black\" stroke=\"black\" points=\"983.629,-62.5521 988.676,-53.2367 978.921,-57.3713 983.629,-62.5521\"/>\r\n",
       "</g>\r\n",
       "</g>\r\n",
       "</svg>\r\n"
      ],
      "text/plain": [
       "<graphviz.files.Source at 0xfc6a99af48>"
      ]
     },
     "execution_count": 53,
     "metadata": {},
     "output_type": "execute_result"
    }
   ],
   "source": [
    "graphviz.Source(dot_data)"
   ]
  },
  {
   "cell_type": "markdown",
   "metadata": {},
   "source": [
    "The above tree is the optimised result of the Base tree which we have used earlier in this assignment. To Optimisation I have used Grid Search to prune the tree and find the best estimator as shown below:\n",
    "\n",
    "##### Hyperparameters Considered:   max_depth=3,  max_features=4\n",
    "**The reason for defining\\\n",
    "i. Maximum depth of tree(vertical depth) to control over-fitting as higher depth will allow model to learn relations very specific to a particular sample.\\\n",
    "ii. max_features these are selected randomly but higher value selection results in Overfitting.**\n",
    "\n",
    "We have used the above mentioned parameters to improve decision tree accuracy and reduce MSE. by fitting in our model this can also be called a one way of prune the tree.\n",
    "\n",
    "Observation\n",
    "1. The tree uses Petrol Tax features with threshold value of 7.25 to initially divide the samples.\n",
    "2. We can see out of 33 Samples the root (Petrol Tax) split into two other decision nodes:\\\n",
    "   i.  Where Petrol_tax <= 7.25 then it uses another feature (Paved Highways) with total number of sample of 15 as decision node.\\\n",
    "   ii.Where Petrol_tax> 7.25 then it uses feature Average Income as another decision node with Sample count of 18.\n",
    "3. The tree considered Mean Squared Error(MSE) as the determining and decision making criteria. \n",
    "4. In the above plotted decision tree every node is a conditon how to split values. The least the MSE the better the result. \n",
    "5. We can see from decision nodes there are several boxes known as leaf nodes where MSE=0 and thus tree stops branching from that nodes.\n",
    "\n"
   ]
  },
  {
   "cell_type": "markdown",
   "metadata": {},
   "source": [
    "#### The Comparision Of Decision Tree without Applying GridSearch and One by applying with GridSearch"
   ]
  },
  {
   "cell_type": "code",
   "execution_count": 54,
   "metadata": {},
   "outputs": [
    {
     "data": {
      "text/html": [
       "<div>\n",
       "<style scoped>\n",
       "    .dataframe tbody tr th:only-of-type {\n",
       "        vertical-align: middle;\n",
       "    }\n",
       "\n",
       "    .dataframe tbody tr th {\n",
       "        vertical-align: top;\n",
       "    }\n",
       "\n",
       "    .dataframe thead th {\n",
       "        text-align: right;\n",
       "    }\n",
       "</style>\n",
       "<table border=\"1\" class=\"dataframe\">\n",
       "  <thead>\n",
       "    <tr style=\"text-align: right;\">\n",
       "      <th></th>\n",
       "      <th>Parameters</th>\n",
       "      <th>Without Grid Search</th>\n",
       "      <th>With Grid Search</th>\n",
       "    </tr>\n",
       "  </thead>\n",
       "  <tbody>\n",
       "    <tr>\n",
       "      <th>0</th>\n",
       "      <td>Max_Depth</td>\n",
       "      <td>4.0000</td>\n",
       "      <td>3.0000</td>\n",
       "    </tr>\n",
       "    <tr>\n",
       "      <th>1</th>\n",
       "      <td>Max_Feature</td>\n",
       "      <td>4.0000</td>\n",
       "      <td>4.0000</td>\n",
       "    </tr>\n",
       "    <tr>\n",
       "      <th>2</th>\n",
       "      <td>Mean Abs. Error</td>\n",
       "      <td>106.7300</td>\n",
       "      <td>96.6000</td>\n",
       "    </tr>\n",
       "    <tr>\n",
       "      <th>3</th>\n",
       "      <td>Mean Square Error</td>\n",
       "      <td>18466.3400</td>\n",
       "      <td>15143.7300</td>\n",
       "    </tr>\n",
       "    <tr>\n",
       "      <th>4</th>\n",
       "      <td>Root Mean Square</td>\n",
       "      <td>135.8900</td>\n",
       "      <td>123.0500</td>\n",
       "    </tr>\n",
       "    <tr>\n",
       "      <th>5</th>\n",
       "      <td>r2_Score</td>\n",
       "      <td>0.2000</td>\n",
       "      <td>0.3440</td>\n",
       "    </tr>\n",
       "  </tbody>\n",
       "</table>\n",
       "</div>"
      ],
      "text/plain": [
       "          Parameters  Without Grid Search  With Grid Search\n",
       "0          Max_Depth               4.0000            3.0000\n",
       "1        Max_Feature               4.0000            4.0000\n",
       "2    Mean Abs. Error             106.7300           96.6000\n",
       "3  Mean Square Error           18466.3400        15143.7300\n",
       "4   Root Mean Square             135.8900          123.0500\n",
       "5           r2_Score               0.2000            0.3440"
      ]
     },
     "execution_count": 54,
     "metadata": {},
     "output_type": "execute_result"
    }
   ],
   "source": [
    "DT_Regressor=[['Max_Depth',4,3],['Max_Feature',4,4],['Mean Abs. Error',106.73,96.6],['Mean Square Error',18466.34,15143.73],['Root Mean Square',135.89,123.05],['r2_Score',0.20,0.344]]\n",
    "Result_Summary2= pd.DataFrame(DT_Regressor, columns = ['Parameters','Without Grid Search','With Grid Search'])\n",
    "Result_Summary2"
   ]
  },
  {
   "cell_type": "markdown",
   "metadata": {},
   "source": [
    "**From the above comparision Dataframe we can see how Using GridSearch has affected the end result of Decision Tree Model. The Accuracy scores has also increased after substituting the optimum hyperparameters value. The MSE has reduced.**"
   ]
  },
  {
   "cell_type": "markdown",
   "metadata": {},
   "source": [
    "References:\n",
    "\n",
    "1. https://scikit-learn.org/stable/auto_examples/tree/plot_unveil_tree_structure.html\n",
    "2. https://webfocusinfocenter.informationbuilders.com/wfappent/TLs/TL_rstat/source/DecisionTree47.html\n",
    "3. https://machinelearningmastery.com/classification-and-regression-trees-for-machine-learning/"
   ]
  },
  {
   "cell_type": "code",
   "execution_count": null,
   "metadata": {},
   "outputs": [],
   "source": []
  }
 ],
 "metadata": {
  "kernelspec": {
   "display_name": "Python 3",
   "language": "python",
   "name": "python3"
  },
  "language_info": {
   "codemirror_mode": {
    "name": "ipython",
    "version": 3
   },
   "file_extension": ".py",
   "mimetype": "text/x-python",
   "name": "python",
   "nbconvert_exporter": "python",
   "pygments_lexer": "ipython3",
   "version": "3.7.4"
  }
 },
 "nbformat": 4,
 "nbformat_minor": 4
}

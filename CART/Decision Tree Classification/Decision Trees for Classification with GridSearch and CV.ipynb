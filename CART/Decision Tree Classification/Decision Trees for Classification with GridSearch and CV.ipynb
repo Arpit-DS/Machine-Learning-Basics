{
 "cells": [
  {
   "cell_type": "code",
   "execution_count": 1,
   "metadata": {},
   "outputs": [
    {
     "data": {
      "text/plain": [
       "'C:\\\\Users\\\\ARPIT\\\\Desktop\\\\UC-14000'"
      ]
     },
     "execution_count": 1,
     "metadata": {},
     "output_type": "execute_result"
    }
   ],
   "source": [
    "pwd"
   ]
  },
  {
   "cell_type": "markdown",
   "metadata": {},
   "source": [
    "### Description of Dataset\n",
    "Data were extracted from images that were taken from genuine and forged banknote-like specimens. For digitization, an industrial camera usually used for print inspection was used. The final images have 400x 400 pixels. Due to the object lens and distance to the investigated object gray-scale pictures with a resolution of about 660 dpi were gained. Wavelet Transform tool were used to extract features from images.\n",
    "\n",
    "\n",
    "Attribute Information:\n",
    "\n",
    "1. variance of Wavelet Transformed image (continuous)\n",
    "2. skewness of Wavelet Transformed image (continuous)\n",
    "3. curtosis of Wavelet Transformed image (continuous)\n",
    "4. entropy of image (continuous)\n",
    "5. class (integer)"
   ]
  },
  {
   "cell_type": "markdown",
   "metadata": {},
   "source": [
    "#### Use this dataset to predict whether a bank note is authentic or fake depending upon the four different attributes of the image of the note. The attributes are Variance of wavelet transformed image, curtosis of the image, entropy, and skewness of the image.\n",
    "\n",
    "Use Decision Trees to build a classifier for the give data. Use Grid Search to find the optimal value for the hyperparameters, and evaluate your model on suitable metrics. Use graphviz to visualize your decision tree."
   ]
  },
  {
   "cell_type": "markdown",
   "metadata": {},
   "source": [
    "##### Importing Packages & Reading the file"
   ]
  },
  {
   "cell_type": "code",
   "execution_count": 2,
   "metadata": {},
   "outputs": [],
   "source": [
    "import warnings\n",
    "warnings.filterwarnings('ignore')\n",
    "import os\n",
    "import pandas as pd\n",
    "from pandas import DataFrame\n",
    "import pylab as pl\n",
    "import numpy as np\n",
    "import seaborn as sns\n",
    "from scipy import stats\n",
    "import matplotlib.pyplot as plt\n",
    "%matplotlib inline"
   ]
  },
  {
   "cell_type": "code",
   "execution_count": 3,
   "metadata": {},
   "outputs": [],
   "source": [
    "banknote=pd.read_csv(\"C:\\\\Users\\\\ARPIT\\\\Desktop\\\\UC-14000\\\\banknote.csv\") #Importing Data"
   ]
  },
  {
   "cell_type": "code",
   "execution_count": 4,
   "metadata": {},
   "outputs": [
    {
     "data": {
      "text/html": [
       "<div>\n",
       "<style scoped>\n",
       "    .dataframe tbody tr th:only-of-type {\n",
       "        vertical-align: middle;\n",
       "    }\n",
       "\n",
       "    .dataframe tbody tr th {\n",
       "        vertical-align: top;\n",
       "    }\n",
       "\n",
       "    .dataframe thead th {\n",
       "        text-align: right;\n",
       "    }\n",
       "</style>\n",
       "<table border=\"1\" class=\"dataframe\">\n",
       "  <thead>\n",
       "    <tr style=\"text-align: right;\">\n",
       "      <th></th>\n",
       "      <th>Variance</th>\n",
       "      <th>Skewness</th>\n",
       "      <th>Curtosis</th>\n",
       "      <th>Entropy</th>\n",
       "      <th>Class</th>\n",
       "    </tr>\n",
       "  </thead>\n",
       "  <tbody>\n",
       "    <tr>\n",
       "      <th>0</th>\n",
       "      <td>3.62160</td>\n",
       "      <td>8.6661</td>\n",
       "      <td>-2.8073</td>\n",
       "      <td>-0.44699</td>\n",
       "      <td>0</td>\n",
       "    </tr>\n",
       "    <tr>\n",
       "      <th>1</th>\n",
       "      <td>4.54590</td>\n",
       "      <td>8.1674</td>\n",
       "      <td>-2.4586</td>\n",
       "      <td>-1.46210</td>\n",
       "      <td>0</td>\n",
       "    </tr>\n",
       "    <tr>\n",
       "      <th>2</th>\n",
       "      <td>3.86600</td>\n",
       "      <td>-2.6383</td>\n",
       "      <td>1.9242</td>\n",
       "      <td>0.10645</td>\n",
       "      <td>0</td>\n",
       "    </tr>\n",
       "    <tr>\n",
       "      <th>3</th>\n",
       "      <td>3.45660</td>\n",
       "      <td>9.5228</td>\n",
       "      <td>-4.0112</td>\n",
       "      <td>-3.59440</td>\n",
       "      <td>0</td>\n",
       "    </tr>\n",
       "    <tr>\n",
       "      <th>4</th>\n",
       "      <td>0.32924</td>\n",
       "      <td>-4.4552</td>\n",
       "      <td>4.5718</td>\n",
       "      <td>-0.98880</td>\n",
       "      <td>0</td>\n",
       "    </tr>\n",
       "  </tbody>\n",
       "</table>\n",
       "</div>"
      ],
      "text/plain": [
       "   Variance  Skewness  Curtosis  Entropy  Class\n",
       "0   3.62160    8.6661   -2.8073 -0.44699      0\n",
       "1   4.54590    8.1674   -2.4586 -1.46210      0\n",
       "2   3.86600   -2.6383    1.9242  0.10645      0\n",
       "3   3.45660    9.5228   -4.0112 -3.59440      0\n",
       "4   0.32924   -4.4552    4.5718 -0.98880      0"
      ]
     },
     "execution_count": 4,
     "metadata": {},
     "output_type": "execute_result"
    }
   ],
   "source": [
    "banknote.head()"
   ]
  },
  {
   "cell_type": "markdown",
   "metadata": {},
   "source": [
    "##### Knowing the data shape, information and Summary Stats"
   ]
  },
  {
   "cell_type": "code",
   "execution_count": 5,
   "metadata": {},
   "outputs": [
    {
     "name": "stdout",
     "output_type": "stream",
     "text": [
      "(1372, 5)\n",
      "<class 'pandas.core.frame.DataFrame'>\n",
      "RangeIndex: 1372 entries, 0 to 1371\n",
      "Data columns (total 5 columns):\n",
      " #   Column    Non-Null Count  Dtype  \n",
      "---  ------    --------------  -----  \n",
      " 0   Variance  1372 non-null   float64\n",
      " 1   Skewness  1372 non-null   float64\n",
      " 2   Curtosis  1372 non-null   float64\n",
      " 3   Entropy   1372 non-null   float64\n",
      " 4   Class     1372 non-null   int64  \n",
      "dtypes: float64(4), int64(1)\n",
      "memory usage: 53.7 KB\n"
     ]
    }
   ],
   "source": [
    "print(banknote.shape)\n",
    "banknote.info()"
   ]
  },
  {
   "cell_type": "code",
   "execution_count": 6,
   "metadata": {},
   "outputs": [
    {
     "data": {
      "text/html": [
       "<div>\n",
       "<style scoped>\n",
       "    .dataframe tbody tr th:only-of-type {\n",
       "        vertical-align: middle;\n",
       "    }\n",
       "\n",
       "    .dataframe tbody tr th {\n",
       "        vertical-align: top;\n",
       "    }\n",
       "\n",
       "    .dataframe thead th {\n",
       "        text-align: right;\n",
       "    }\n",
       "</style>\n",
       "<table border=\"1\" class=\"dataframe\">\n",
       "  <thead>\n",
       "    <tr style=\"text-align: right;\">\n",
       "      <th></th>\n",
       "      <th>count</th>\n",
       "      <th>mean</th>\n",
       "      <th>std</th>\n",
       "      <th>min</th>\n",
       "      <th>25%</th>\n",
       "      <th>50%</th>\n",
       "      <th>75%</th>\n",
       "      <th>max</th>\n",
       "    </tr>\n",
       "  </thead>\n",
       "  <tbody>\n",
       "    <tr>\n",
       "      <th>Variance</th>\n",
       "      <td>1372.0000</td>\n",
       "      <td>0.4337</td>\n",
       "      <td>2.8428</td>\n",
       "      <td>-7.0421</td>\n",
       "      <td>-1.7730</td>\n",
       "      <td>0.4962</td>\n",
       "      <td>2.8215</td>\n",
       "      <td>6.8248</td>\n",
       "    </tr>\n",
       "    <tr>\n",
       "      <th>Skewness</th>\n",
       "      <td>1372.0000</td>\n",
       "      <td>1.9224</td>\n",
       "      <td>5.8690</td>\n",
       "      <td>-13.7731</td>\n",
       "      <td>-1.7082</td>\n",
       "      <td>2.3197</td>\n",
       "      <td>6.8146</td>\n",
       "      <td>12.9516</td>\n",
       "    </tr>\n",
       "    <tr>\n",
       "      <th>Curtosis</th>\n",
       "      <td>1372.0000</td>\n",
       "      <td>1.3976</td>\n",
       "      <td>4.3100</td>\n",
       "      <td>-5.2861</td>\n",
       "      <td>-1.5750</td>\n",
       "      <td>0.6166</td>\n",
       "      <td>3.1792</td>\n",
       "      <td>17.9274</td>\n",
       "    </tr>\n",
       "    <tr>\n",
       "      <th>Entropy</th>\n",
       "      <td>1372.0000</td>\n",
       "      <td>-1.1917</td>\n",
       "      <td>2.1010</td>\n",
       "      <td>-8.5482</td>\n",
       "      <td>-2.4135</td>\n",
       "      <td>-0.5867</td>\n",
       "      <td>0.3948</td>\n",
       "      <td>2.4495</td>\n",
       "    </tr>\n",
       "    <tr>\n",
       "      <th>Class</th>\n",
       "      <td>1372.0000</td>\n",
       "      <td>0.4446</td>\n",
       "      <td>0.4971</td>\n",
       "      <td>0.0000</td>\n",
       "      <td>0.0000</td>\n",
       "      <td>0.0000</td>\n",
       "      <td>1.0000</td>\n",
       "      <td>1.0000</td>\n",
       "    </tr>\n",
       "  </tbody>\n",
       "</table>\n",
       "</div>"
      ],
      "text/plain": [
       "             count    mean    std      min     25%     50%    75%     max\n",
       "Variance 1372.0000  0.4337 2.8428  -7.0421 -1.7730  0.4962 2.8215  6.8248\n",
       "Skewness 1372.0000  1.9224 5.8690 -13.7731 -1.7082  2.3197 6.8146 12.9516\n",
       "Curtosis 1372.0000  1.3976 4.3100  -5.2861 -1.5750  0.6166 3.1792 17.9274\n",
       "Entropy  1372.0000 -1.1917 2.1010  -8.5482 -2.4135 -0.5867 0.3948  2.4495\n",
       "Class    1372.0000  0.4446 0.4971   0.0000  0.0000  0.0000 1.0000  1.0000"
      ]
     },
     "execution_count": 6,
     "metadata": {},
     "output_type": "execute_result"
    }
   ],
   "source": [
    "pd.options.display.float_format = '{:.4f}'.format\n",
    "data_summary=banknote.describe()\n",
    "data_summary.T"
   ]
  },
  {
   "cell_type": "markdown",
   "metadata": {},
   "source": [
    "##### Checking for Outliers present in Data"
   ]
  },
  {
   "cell_type": "code",
   "execution_count": 7,
   "metadata": {},
   "outputs": [
    {
     "name": "stdout",
     "output_type": "stream",
     "text": [
      "Column Variance outliers = 0.00%\n",
      "Column Skewness outliers = 0.00%\n",
      "Column Curtosis outliers = 4.30%\n",
      "Column Entropy outliers = 2.41%\n",
      "Column Class outliers = 0.00%\n"
     ]
    }
   ],
   "source": [
    "for k, v in banknote.items():\n",
    "    q1 = v.quantile(0.25)\n",
    "    q3 = v.quantile(0.75)\n",
    "    irq = q3 - q1\n",
    "    v_col = v[(v <= q1 - 1.5 * irq) | (v >= q3 + 1.5 * irq)]\n",
    "    perc = np.shape(v_col)[0] * 100.0 / np.shape(banknote)[0]\n",
    "    print(\"Column %s outliers = %.2f%%\" % (k, perc))"
   ]
  },
  {
   "cell_type": "code",
   "execution_count": 8,
   "metadata": {},
   "outputs": [
    {
     "data": {
      "text/plain": [
       "<matplotlib.axes._subplots.AxesSubplot at 0x84dcffa208>"
      ]
     },
     "execution_count": 8,
     "metadata": {},
     "output_type": "execute_result"
    },
    {
     "data": {
      "image/png": "[encoded data removed]",
      "text/plain": [
       "<Figure size 864x360 with 1 Axes>"
      ]
     },
     "metadata": {
      "needs_background": "light"
     },
     "output_type": "display_data"
    }
   ],
   "source": [
    "plt.figure(figsize=(12,5))\n",
    "banknote.boxplot(patch_artist=True,vert=False)"
   ]
  },
  {
   "cell_type": "markdown",
   "metadata": {},
   "source": [
    "##### Viz 1: Correlation Matrix along with Heatmap "
   ]
  },
  {
   "cell_type": "code",
   "execution_count": 9,
   "metadata": {},
   "outputs": [
    {
     "name": "stdout",
     "output_type": "stream",
     "text": [
      "          Variance  Skewness  Curtosis  Entropy   Class\n",
      "Variance    1.0000    0.2640   -0.3808   0.2768 -0.7248\n",
      "Skewness    0.2640    1.0000   -0.7869  -0.5263 -0.4447\n",
      "Curtosis   -0.3808   -0.7869    1.0000   0.3188  0.1559\n",
      "Entropy     0.2768   -0.5263    0.3188   1.0000 -0.0234\n",
      "Class      -0.7248   -0.4447    0.1559  -0.0234  1.0000\n"
     ]
    },
    {
     "data": {
      "image/png": "[encoded data removed]",
      "text/plain": [
       "<Figure size 864x360 with 2 Axes>"
      ]
     },
     "metadata": {
      "needs_background": "light"
     },
     "output_type": "display_data"
    }
   ],
   "source": [
    "my_corr=banknote.corr()\n",
    "print(my_corr)\n",
    "plt.figure(figsize=(12,5))\n",
    "sns.heatmap(my_corr,linewidth=0.5)\n",
    "plt.show()"
   ]
  },
  {
   "cell_type": "code",
   "execution_count": 10,
   "metadata": {},
   "outputs": [
    {
     "name": "stdout",
     "output_type": "stream",
     "text": [
      "0    762\n",
      "1    610\n",
      "Name: Class, dtype: int64\n"
     ]
    },
    {
     "data": {
      "text/plain": [
       "<matplotlib.axes._subplots.AxesSubplot at 0x84dd2688c8>"
      ]
     },
     "execution_count": 10,
     "metadata": {},
     "output_type": "execute_result"
    },
    {
     "data": {
      "image/png": "[encoded data removed]",
      "text/plain": [
       "<Figure size 432x288 with 1 Axes>"
      ]
     },
     "metadata": {
      "needs_background": "light"
     },
     "output_type": "display_data"
    }
   ],
   "source": [
    "print(banknote['Class'].value_counts())\n",
    "sns.countplot(x='Class',data=banknote)"
   ]
  },
  {
   "cell_type": "markdown",
   "metadata": {},
   "source": [
    "##### in the above Bar graph I have tried to plot the count of  Genuine notes versus Forged notes."
   ]
  },
  {
   "cell_type": "markdown",
   "metadata": {},
   "source": [
    "##### Viz 2: In the below shown Pairplot shown we can see the regression plot for different features along different categories as per target variable. The blue dots represented by 0( i.e Defective Notes) and Orange Dots represented by 1 (i.e.Not a defective notes). The Entropy and variance features has positive regression line which says as entropy of the image of notes increases the variance will increase. Similar is for curtosis entropy. For others the slope of regression lines are negative. "
   ]
  },
  {
   "cell_type": "code",
   "execution_count": 11,
   "metadata": {},
   "outputs": [
    {
     "data": {
      "image/png": "[encoded data removed]",
      "text/plain": [
       "<Figure size 762.375x720 with 20 Axes>"
      ]
     },
     "metadata": {
      "needs_background": "light"
     },
     "output_type": "display_data"
    }
   ],
   "source": [
    "sns.pairplot(banknote, hue='Class',kind='reg') \n",
    "plt.show()"
   ]
  },
  {
   "cell_type": "code",
   "execution_count": 12,
   "metadata": {},
   "outputs": [
    {
     "data": {
      "text/plain": [
       "Index(['Variance', 'Skewness', 'Curtosis', 'Entropy', 'Class'], dtype='object')"
      ]
     },
     "execution_count": 12,
     "metadata": {},
     "output_type": "execute_result"
    }
   ],
   "source": [
    "banknote.columns"
   ]
  },
  {
   "cell_type": "markdown",
   "metadata": {},
   "source": [
    "##### Splitting data into Traget and Predictor Variables & Knowing the Shape of the new variables"
   ]
  },
  {
   "cell_type": "code",
   "execution_count": 13,
   "metadata": {},
   "outputs": [],
   "source": [
    "predictor_var= banknote[['Variance', 'Skewness', 'Curtosis', 'Entropy']] #all columns except the last one\n",
    "target_var= banknote['Class'] #only the last column"
   ]
  },
  {
   "cell_type": "code",
   "execution_count": 14,
   "metadata": {},
   "outputs": [
    {
     "name": "stdout",
     "output_type": "stream",
     "text": [
      "(1372, 4)\n",
      "(1372,)\n"
     ]
    }
   ],
   "source": [
    "print(predictor_var.shape)\n",
    "print(target_var.shape)"
   ]
  },
  {
   "cell_type": "markdown",
   "metadata": {},
   "source": [
    "##### Split the data into train and test sets."
   ]
  },
  {
   "cell_type": "code",
   "execution_count": 15,
   "metadata": {},
   "outputs": [],
   "source": [
    "from sklearn.model_selection import train_test_split "
   ]
  },
  {
   "cell_type": "markdown",
   "metadata": {},
   "source": [
    "**Now train_test_split will return 4 different parameters. We will name them:\n",
    "X_trainset, X_testset, y_trainset, y_testset**\n",
    "\n",
    "**The train_test_split will need the parameters:\n",
    "X, y, test_size=0.3, and random_state=123.**\n",
    "\n",
    "**The X and y are the arrays required before the split, the test_size represents the ratio of the testing dataset, and the random_state ensures that we obtain the same splits.**"
   ]
  },
  {
   "cell_type": "code",
   "execution_count": 16,
   "metadata": {},
   "outputs": [],
   "source": [
    "X_train, X_test, Y_train, Y_test = train_test_split(predictor_var,target_var, test_size=0.3, random_state=123)"
   ]
  },
  {
   "cell_type": "markdown",
   "metadata": {},
   "source": [
    "##### Import Decision Tree Classifier and fit the model to the training data.\n",
    "\n"
   ]
  },
  {
   "cell_type": "code",
   "execution_count": 17,
   "metadata": {},
   "outputs": [],
   "source": [
    "from sklearn.tree import DecisionTreeClassifier"
   ]
  },
  {
   "cell_type": "code",
   "execution_count": 18,
   "metadata": {},
   "outputs": [],
   "source": [
    "tree = DecisionTreeClassifier(max_depth=3,max_features=4)"
   ]
  },
  {
   "cell_type": "markdown",
   "metadata": {},
   "source": [
    " ##### Inside of the classifier, specify criterion=\"gini\" so we can see the information gain of each node."
   ]
  },
  {
   "cell_type": "code",
   "execution_count": 19,
   "metadata": {},
   "outputs": [
    {
     "data": {
      "text/plain": [
       "DecisionTreeClassifier(ccp_alpha=0.0, class_weight=None, criterion='gini',\n",
       "                       max_depth=3, max_features=4, max_leaf_nodes=None,\n",
       "                       min_impurity_decrease=0.0, min_impurity_split=None,\n",
       "                       min_samples_leaf=1, min_samples_split=2,\n",
       "                       min_weight_fraction_leaf=0.0, presort='deprecated',\n",
       "                       random_state=None, splitter='best')"
      ]
     },
     "execution_count": 19,
     "metadata": {},
     "output_type": "execute_result"
    }
   ],
   "source": [
    "tree.fit(X_train, Y_train)"
   ]
  },
  {
   "cell_type": "markdown",
   "metadata": {},
   "source": [
    "##### Knowing the feature importances"
   ]
  },
  {
   "cell_type": "code",
   "execution_count": 20,
   "metadata": {},
   "outputs": [
    {
     "data": {
      "text/plain": [
       "Variance   0.7481\n",
       "Skewness   0.1922\n",
       "Curtosis   0.0596\n",
       "Entropy    0.0000\n",
       "dtype: float64"
      ]
     },
     "execution_count": 20,
     "metadata": {},
     "output_type": "execute_result"
    }
   ],
   "source": [
    "tree.feature_importances_\n",
    "pd.Series(tree.feature_importances_,index=predictor_var.columns).sort_values(ascending=False)"
   ]
  },
  {
   "cell_type": "code",
   "execution_count": 21,
   "metadata": {},
   "outputs": [],
   "source": [
    "predictions = tree.predict(X_test)"
   ]
  },
  {
   "cell_type": "markdown",
   "metadata": {},
   "source": [
    "##### Check the top 5 predictions and actual values."
   ]
  },
  {
   "cell_type": "code",
   "execution_count": 22,
   "metadata": {},
   "outputs": [
    {
     "data": {
      "text/html": [
       "<div>\n",
       "<style scoped>\n",
       "    .dataframe tbody tr th:only-of-type {\n",
       "        vertical-align: middle;\n",
       "    }\n",
       "\n",
       "    .dataframe tbody tr th {\n",
       "        vertical-align: top;\n",
       "    }\n",
       "\n",
       "    .dataframe thead th {\n",
       "        text-align: right;\n",
       "    }\n",
       "</style>\n",
       "<table border=\"1\" class=\"dataframe\">\n",
       "  <thead>\n",
       "    <tr style=\"text-align: right;\">\n",
       "      <th></th>\n",
       "      <th>Actual</th>\n",
       "      <th>Predicted</th>\n",
       "    </tr>\n",
       "  </thead>\n",
       "  <tbody>\n",
       "    <tr>\n",
       "      <th>657</th>\n",
       "      <td>0</td>\n",
       "      <td>0</td>\n",
       "    </tr>\n",
       "    <tr>\n",
       "      <th>18</th>\n",
       "      <td>0</td>\n",
       "      <td>0</td>\n",
       "    </tr>\n",
       "    <tr>\n",
       "      <th>700</th>\n",
       "      <td>0</td>\n",
       "      <td>0</td>\n",
       "    </tr>\n",
       "    <tr>\n",
       "      <th>221</th>\n",
       "      <td>0</td>\n",
       "      <td>0</td>\n",
       "    </tr>\n",
       "    <tr>\n",
       "      <th>1219</th>\n",
       "      <td>1</td>\n",
       "      <td>1</td>\n",
       "    </tr>\n",
       "  </tbody>\n",
       "</table>\n",
       "</div>"
      ],
      "text/plain": [
       "      Actual  Predicted\n",
       "657        0          0\n",
       "18         0          0\n",
       "700        0          0\n",
       "221        0          0\n",
       "1219       1          1"
      ]
     },
     "execution_count": 22,
     "metadata": {},
     "output_type": "execute_result"
    }
   ],
   "source": [
    "df=pd.DataFrame({'Actual':Y_test, 'Predicted':predictions})\n",
    "df.head(5)"
   ]
  },
  {
   "cell_type": "markdown",
   "metadata": {},
   "source": [
    "##### We see that the predictions are pretty accurate. Let's evaluate the prediction accuracy.\n",
    "\n"
   ]
  },
  {
   "cell_type": "code",
   "execution_count": 23,
   "metadata": {},
   "outputs": [],
   "source": [
    "from sklearn.metrics import accuracy_score, confusion_matrix,classification_report"
   ]
  },
  {
   "cell_type": "code",
   "execution_count": 24,
   "metadata": {},
   "outputs": [
    {
     "data": {
      "text/plain": [
       "0.9368932038834952"
      ]
     },
     "execution_count": 24,
     "metadata": {},
     "output_type": "execute_result"
    }
   ],
   "source": [
    "accuracy_score(Y_test, predictions) #Calculate number of correctly classified observations."
   ]
  },
  {
   "cell_type": "code",
   "execution_count": 25,
   "metadata": {},
   "outputs": [
    {
     "data": {
      "text/plain": [
       "386"
      ]
     },
     "execution_count": 25,
     "metadata": {},
     "output_type": "execute_result"
    }
   ],
   "source": [
    "accuracy_score(Y_test, predictions, normalize=False)"
   ]
  },
  {
   "cell_type": "markdown",
   "metadata": {},
   "source": [
    "##### We can see out of 412 datapoints only 26 are misclasified from the above accuracy score.\n",
    "\n",
    "\n",
    "Let us Plot Confusion Metrix"
   ]
  },
  {
   "cell_type": "code",
   "execution_count": 26,
   "metadata": {},
   "outputs": [],
   "source": [
    "import pandas as pd\n",
    "import matplotlib.pyplot as plt\n",
    "import seaborn as sns\n",
    "%matplotlib inline"
   ]
  },
  {
   "cell_type": "code",
   "execution_count": 27,
   "metadata": {},
   "outputs": [],
   "source": [
    "confusion_mat = confusion_matrix(Y_test, predictions)\n",
    "confusion_df = pd.DataFrame(confusion_mat, index=['Class 0','Class 1'],columns=['Class 0','Class 1'])"
   ]
  },
  {
   "cell_type": "code",
   "execution_count": 28,
   "metadata": {},
   "outputs": [
    {
     "name": "stdout",
     "output_type": "stream",
     "text": [
      "         Class 0  Class 1\n",
      "Class 0      222       11\n",
      "Class 1       15      164\n"
     ]
    },
    {
     "data": {
      "image/png": "[encoded data removed]",
      "text/plain": [
       "<Figure size 432x288 with 2 Axes>"
      ]
     },
     "metadata": {
      "needs_background": "light"
     },
     "output_type": "display_data"
    }
   ],
   "source": [
    "print(confusion_df)\n",
    "_=sns.heatmap(confusion_df, cmap='coolwarm', annot=True)"
   ]
  },
  {
   "cell_type": "code",
   "execution_count": 29,
   "metadata": {},
   "outputs": [
    {
     "name": "stdout",
     "output_type": "stream",
     "text": [
      "True Negatives:  222\n",
      "False Positives:  11\n",
      "False Negatives:  15\n",
      "True Positives:  164\n"
     ]
    }
   ],
   "source": [
    "tn, fp, fn, tp = confusion_matrix(Y_test, predictions).ravel()\n",
    "print(\"True Negatives: \", tn)\n",
    "print(\"False Positives: \", fp)\n",
    "print(\"False Negatives: \", fn)\n",
    "print(\"True Positives: \", tp)"
   ]
  },
  {
   "cell_type": "code",
   "execution_count": 30,
   "metadata": {},
   "outputs": [
    {
     "name": "stdout",
     "output_type": "stream",
     "text": [
      "              precision    recall  f1-score   support\n",
      "\n",
      "           0       0.94      0.95      0.94       233\n",
      "           1       0.94      0.92      0.93       179\n",
      "\n",
      "    accuracy                           0.94       412\n",
      "   macro avg       0.94      0.93      0.94       412\n",
      "weighted avg       0.94      0.94      0.94       412\n",
      "\n"
     ]
    }
   ],
   "source": [
    "print(classification_report(Y_test, predictions))"
   ]
  },
  {
   "cell_type": "markdown",
   "metadata": {},
   "source": [
    "##### Specificity"
   ]
  },
  {
   "cell_type": "code",
   "execution_count": 31,
   "metadata": {},
   "outputs": [
    {
     "name": "stdout",
     "output_type": "stream",
     "text": [
      "The probability of predicting whether a bank note is authentic or fake 0.9527896995708155\n"
     ]
    }
   ],
   "source": [
    "Specificity = tn/(tn+fp)\n",
    "print(\"The probability of predicting whether a bank note is authentic or fake\",Specificity)"
   ]
  },
  {
   "cell_type": "markdown",
   "metadata": {},
   "source": [
    "##### Sensitivity"
   ]
  },
  {
   "cell_type": "code",
   "execution_count": 32,
   "metadata": {},
   "outputs": [
    {
     "name": "stdout",
     "output_type": "stream",
     "text": [
      "The probability of predicting whether a bank note is authentic or fake correctly is 0.9162011173184358\n"
     ]
    }
   ],
   "source": [
    "Sensitivity = tp/(tp+fn)\n",
    "print(\"The probability of predicting whether a bank note is authentic or fake correctly is\",Sensitivity)"
   ]
  },
  {
   "cell_type": "markdown",
   "metadata": {},
   "source": [
    "##### We can also visualize the tree output using graphviz\n",
    "\n"
   ]
  },
  {
   "cell_type": "code",
   "execution_count": 33,
   "metadata": {},
   "outputs": [],
   "source": [
    "from sklearn.tree import export_graphviz\n",
    "import graphviz"
   ]
  },
  {
   "cell_type": "code",
   "execution_count": 34,
   "metadata": {},
   "outputs": [],
   "source": [
    "dot_data = export_graphviz(tree, filled=True, rounded=True, feature_names=predictor_var.columns, out_file=None)"
   ]
  },
  {
   "cell_type": "code",
   "execution_count": 35,
   "metadata": {},
   "outputs": [
    {
     "data": {
      "image/svg+xml": [
       "<?xml version=\"1.0\" encoding=\"UTF-8\" standalone=\"no\"?>\r\n",
       "<!DOCTYPE svg PUBLIC \"-//W3C//DTD SVG 1.1//EN\"\r\n",
       " \"http://www.w3.org/Graphics/SVG/1.1/DTD/svg11.dtd\">\r\n",
       "<!-- Generated by graphviz version 2.38.0 (20140413.2041)\r\n",
       " -->\r\n",
       "<!-- Title: Tree Pages: 1 -->\r\n",
       "<svg width=\"1008pt\" height=\"373pt\"\r\n",
       " viewBox=\"0.00 0.00 1007.50 373.00\" xmlns=\"http://www.w3.org/2000/svg\" xmlns:xlink=\"http://www.w3.org/1999/xlink\">\r\n",
       "<g id=\"graph0\" class=\"graph\" transform=\"scale(1 1) rotate(0) translate(4 369)\">\r\n",
       "<title>Tree</title>\r\n",
       "<polygon fill=\"white\" stroke=\"none\" points=\"-4,4 -4,-369 1003.5,-369 1003.5,4 -4,4\"/>\r\n",
       "<!-- 0 -->\r\n",
       "<g id=\"node1\" class=\"node\"><title>0</title>\r\n",
       "<path fill=\"#fae8da\" stroke=\"black\" d=\"M561,-365C561,-365 455,-365 455,-365 449,-365 443,-359 443,-353 443,-353 443,-309 443,-309 443,-303 449,-297 455,-297 455,-297 561,-297 561,-297 567,-297 573,-303 573,-309 573,-309 573,-353 573,-353 573,-359 567,-365 561,-365\"/>\r\n",
       "<text text-anchor=\"middle\" x=\"508\" y=\"-349.8\" font-family=\"Helvetica,sans-Serif\" font-size=\"14.00\">Variance &lt;= 0.32</text>\r\n",
       "<text text-anchor=\"middle\" x=\"508\" y=\"-334.8\" font-family=\"Helvetica,sans-Serif\" font-size=\"14.00\">gini = 0.495</text>\r\n",
       "<text text-anchor=\"middle\" x=\"508\" y=\"-319.8\" font-family=\"Helvetica,sans-Serif\" font-size=\"14.00\">samples = 960</text>\r\n",
       "<text text-anchor=\"middle\" x=\"508\" y=\"-304.8\" font-family=\"Helvetica,sans-Serif\" font-size=\"14.00\">value = [529, 431]</text>\r\n",
       "</g>\r\n",
       "<!-- 1 -->\r\n",
       "<g id=\"node2\" class=\"node\"><title>1</title>\r\n",
       "<path fill=\"#66b3eb\" stroke=\"black\" d=\"M474.5,-261C474.5,-261 355.5,-261 355.5,-261 349.5,-261 343.5,-255 343.5,-249 343.5,-249 343.5,-205 343.5,-205 343.5,-199 349.5,-193 355.5,-193 355.5,-193 474.5,-193 474.5,-193 480.5,-193 486.5,-199 486.5,-205 486.5,-205 486.5,-249 486.5,-249 486.5,-255 480.5,-261 474.5,-261\"/>\r\n",
       "<text text-anchor=\"middle\" x=\"415\" y=\"-245.8\" font-family=\"Helvetica,sans-Serif\" font-size=\"14.00\">Skewness &lt;= 7.764</text>\r\n",
       "<text text-anchor=\"middle\" x=\"415\" y=\"-230.8\" font-family=\"Helvetica,sans-Serif\" font-size=\"14.00\">gini = 0.302</text>\r\n",
       "<text text-anchor=\"middle\" x=\"415\" y=\"-215.8\" font-family=\"Helvetica,sans-Serif\" font-size=\"14.00\">samples = 470</text>\r\n",
       "<text text-anchor=\"middle\" x=\"415\" y=\"-200.8\" font-family=\"Helvetica,sans-Serif\" font-size=\"14.00\">value = [87, 383]</text>\r\n",
       "</g>\r\n",
       "<!-- 0&#45;&gt;1 -->\r\n",
       "<g id=\"edge1\" class=\"edge\"><title>0&#45;&gt;1</title>\r\n",
       "<path fill=\"none\" stroke=\"black\" d=\"M477.806,-296.884C469.684,-287.976 460.803,-278.235 452.343,-268.957\"/>\r\n",
       "<polygon fill=\"black\" stroke=\"black\" points=\"454.685,-266.331 445.361,-261.299 449.512,-271.047 454.685,-266.331\"/>\r\n",
       "<text text-anchor=\"middle\" x=\"444.209\" y=\"-282.573\" font-family=\"Helvetica,sans-Serif\" font-size=\"14.00\">True</text>\r\n",
       "</g>\r\n",
       "<!-- 8 -->\r\n",
       "<g id=\"node9\" class=\"node\"><title>8</title>\r\n",
       "<path fill=\"#e88f4f\" stroke=\"black\" d=\"M657,-261C657,-261 547,-261 547,-261 541,-261 535,-255 535,-249 535,-249 535,-205 535,-205 535,-199 541,-193 547,-193 547,-193 657,-193 657,-193 663,-193 669,-199 669,-205 669,-205 669,-249 669,-249 669,-255 663,-261 657,-261\"/>\r\n",
       "<text text-anchor=\"middle\" x=\"602\" y=\"-245.8\" font-family=\"Helvetica,sans-Serif\" font-size=\"14.00\">Curtosis &lt;= &#45;4.386</text>\r\n",
       "<text text-anchor=\"middle\" x=\"602\" y=\"-230.8\" font-family=\"Helvetica,sans-Serif\" font-size=\"14.00\">gini = 0.177</text>\r\n",
       "<text text-anchor=\"middle\" x=\"602\" y=\"-215.8\" font-family=\"Helvetica,sans-Serif\" font-size=\"14.00\">samples = 490</text>\r\n",
       "<text text-anchor=\"middle\" x=\"602\" y=\"-200.8\" font-family=\"Helvetica,sans-Serif\" font-size=\"14.00\">value = [442, 48]</text>\r\n",
       "</g>\r\n",
       "<!-- 0&#45;&gt;8 -->\r\n",
       "<g id=\"edge8\" class=\"edge\"><title>0&#45;&gt;8</title>\r\n",
       "<path fill=\"none\" stroke=\"black\" d=\"M538.519,-296.884C546.81,-287.887 555.884,-278.041 564.512,-268.678\"/>\r\n",
       "<polygon fill=\"black\" stroke=\"black\" points=\"567.109,-271.025 571.312,-261.299 561.962,-266.281 567.109,-271.025\"/>\r\n",
       "<text text-anchor=\"middle\" x=\"572.332\" y=\"-282.579\" font-family=\"Helvetica,sans-Serif\" font-size=\"14.00\">False</text>\r\n",
       "</g>\r\n",
       "<!-- 2 -->\r\n",
       "<g id=\"node3\" class=\"node\"><title>2</title>\r\n",
       "<path fill=\"#49a5e7\" stroke=\"black\" d=\"M253.5,-157C253.5,-157 140.5,-157 140.5,-157 134.5,-157 128.5,-151 128.5,-145 128.5,-145 128.5,-101 128.5,-101 128.5,-95 134.5,-89 140.5,-89 140.5,-89 253.5,-89 253.5,-89 259.5,-89 265.5,-95 265.5,-101 265.5,-101 265.5,-145 265.5,-145 265.5,-151 259.5,-157 253.5,-157\"/>\r\n",
       "<text text-anchor=\"middle\" x=\"197\" y=\"-141.8\" font-family=\"Helvetica,sans-Serif\" font-size=\"14.00\">Variance &lt;= &#45;0.459</text>\r\n",
       "<text text-anchor=\"middle\" x=\"197\" y=\"-126.8\" font-family=\"Helvetica,sans-Serif\" font-size=\"14.00\">gini = 0.139</text>\r\n",
       "<text text-anchor=\"middle\" x=\"197\" y=\"-111.8\" font-family=\"Helvetica,sans-Serif\" font-size=\"14.00\">samples = 400</text>\r\n",
       "<text text-anchor=\"middle\" x=\"197\" y=\"-96.8\" font-family=\"Helvetica,sans-Serif\" font-size=\"14.00\">value = [30, 370]</text>\r\n",
       "</g>\r\n",
       "<!-- 1&#45;&gt;2 -->\r\n",
       "<g id=\"edge2\" class=\"edge\"><title>1&#45;&gt;2</title>\r\n",
       "<path fill=\"none\" stroke=\"black\" d=\"M344.222,-192.884C322.04,-182.505 297.44,-170.995 274.801,-160.402\"/>\r\n",
       "<polygon fill=\"black\" stroke=\"black\" points=\"276.107,-157.149 265.566,-156.082 273.141,-163.49 276.107,-157.149\"/>\r\n",
       "</g>\r\n",
       "<!-- 5 -->\r\n",
       "<g id=\"node6\" class=\"node\"><title>5</title>\r\n",
       "<path fill=\"#eb9e66\" stroke=\"black\" d=\"M471.5,-157C471.5,-157 358.5,-157 358.5,-157 352.5,-157 346.5,-151 346.5,-145 346.5,-145 346.5,-101 346.5,-101 346.5,-95 352.5,-89 358.5,-89 358.5,-89 471.5,-89 471.5,-89 477.5,-89 483.5,-95 483.5,-101 483.5,-101 483.5,-145 483.5,-145 483.5,-151 477.5,-157 471.5,-157\"/>\r\n",
       "<text text-anchor=\"middle\" x=\"415\" y=\"-141.8\" font-family=\"Helvetica,sans-Serif\" font-size=\"14.00\">Variance &lt;= &#45;4.726</text>\r\n",
       "<text text-anchor=\"middle\" x=\"415\" y=\"-126.8\" font-family=\"Helvetica,sans-Serif\" font-size=\"14.00\">gini = 0.302</text>\r\n",
       "<text text-anchor=\"middle\" x=\"415\" y=\"-111.8\" font-family=\"Helvetica,sans-Serif\" font-size=\"14.00\">samples = 70</text>\r\n",
       "<text text-anchor=\"middle\" x=\"415\" y=\"-96.8\" font-family=\"Helvetica,sans-Serif\" font-size=\"14.00\">value = [57, 13]</text>\r\n",
       "</g>\r\n",
       "<!-- 1&#45;&gt;5 -->\r\n",
       "<g id=\"edge5\" class=\"edge\"><title>1&#45;&gt;5</title>\r\n",
       "<path fill=\"none\" stroke=\"black\" d=\"M415,-192.884C415,-184.778 415,-175.982 415,-167.472\"/>\r\n",
       "<polygon fill=\"black\" stroke=\"black\" points=\"418.5,-167.299 415,-157.299 411.5,-167.299 418.5,-167.299\"/>\r\n",
       "</g>\r\n",
       "<!-- 3 -->\r\n",
       "<g id=\"node4\" class=\"node\"><title>3</title>\r\n",
       "<path fill=\"#40a1e6\" stroke=\"black\" d=\"M110,-53C110,-53 12,-53 12,-53 6,-53 7.10543e-015,-47 7.10543e-015,-41 7.10543e-015,-41 7.10543e-015,-12 7.10543e-015,-12 7.10543e-015,-6 6,-0 12,-0 12,-0 110,-0 110,-0 116,-0 122,-6 122,-12 122,-12 122,-41 122,-41 122,-47 116,-53 110,-53\"/>\r\n",
       "<text text-anchor=\"middle\" x=\"61\" y=\"-37.8\" font-family=\"Helvetica,sans-Serif\" font-size=\"14.00\">gini = 0.069</text>\r\n",
       "<text text-anchor=\"middle\" x=\"61\" y=\"-22.8\" font-family=\"Helvetica,sans-Serif\" font-size=\"14.00\">samples = 337</text>\r\n",
       "<text text-anchor=\"middle\" x=\"61\" y=\"-7.8\" font-family=\"Helvetica,sans-Serif\" font-size=\"14.00\">value = [12, 325]</text>\r\n",
       "</g>\r\n",
       "<!-- 2&#45;&gt;3 -->\r\n",
       "<g id=\"edge3\" class=\"edge\"><title>2&#45;&gt;3</title>\r\n",
       "<path fill=\"none\" stroke=\"black\" d=\"M149.434,-88.9485C135.478,-79.2516 120.257,-68.6752 106.438,-59.073\"/>\r\n",
       "<polygon fill=\"black\" stroke=\"black\" points=\"108.248,-56.0687 98.0391,-53.2367 104.254,-61.8172 108.248,-56.0687\"/>\r\n",
       "</g>\r\n",
       "<!-- 4 -->\r\n",
       "<g id=\"node5\" class=\"node\"><title>4</title>\r\n",
       "<path fill=\"#88c4ef\" stroke=\"black\" d=\"M241.5,-53C241.5,-53 152.5,-53 152.5,-53 146.5,-53 140.5,-47 140.5,-41 140.5,-41 140.5,-12 140.5,-12 140.5,-6 146.5,-0 152.5,-0 152.5,-0 241.5,-0 241.5,-0 247.5,-0 253.5,-6 253.5,-12 253.5,-12 253.5,-41 253.5,-41 253.5,-47 247.5,-53 241.5,-53\"/>\r\n",
       "<text text-anchor=\"middle\" x=\"197\" y=\"-37.8\" font-family=\"Helvetica,sans-Serif\" font-size=\"14.00\">gini = 0.408</text>\r\n",
       "<text text-anchor=\"middle\" x=\"197\" y=\"-22.8\" font-family=\"Helvetica,sans-Serif\" font-size=\"14.00\">samples = 63</text>\r\n",
       "<text text-anchor=\"middle\" x=\"197\" y=\"-7.8\" font-family=\"Helvetica,sans-Serif\" font-size=\"14.00\">value = [18, 45]</text>\r\n",
       "</g>\r\n",
       "<!-- 2&#45;&gt;4 -->\r\n",
       "<g id=\"edge4\" class=\"edge\"><title>2&#45;&gt;4</title>\r\n",
       "<path fill=\"none\" stroke=\"black\" d=\"M197,-88.9485C197,-80.7153 197,-71.848 197,-63.4814\"/>\r\n",
       "<polygon fill=\"black\" stroke=\"black\" points=\"200.5,-63.2367 197,-53.2367 193.5,-63.2367 200.5,-63.2367\"/>\r\n",
       "</g>\r\n",
       "<!-- 6 -->\r\n",
       "<g id=\"node7\" class=\"node\"><title>6</title>\r\n",
       "<path fill=\"#399de5\" stroke=\"black\" d=\"M364.5,-53C364.5,-53 283.5,-53 283.5,-53 277.5,-53 271.5,-47 271.5,-41 271.5,-41 271.5,-12 271.5,-12 271.5,-6 277.5,-0 283.5,-0 283.5,-0 364.5,-0 364.5,-0 370.5,-0 376.5,-6 376.5,-12 376.5,-12 376.5,-41 376.5,-41 376.5,-47 370.5,-53 364.5,-53\"/>\r\n",
       "<text text-anchor=\"middle\" x=\"324\" y=\"-37.8\" font-family=\"Helvetica,sans-Serif\" font-size=\"14.00\">gini = 0.0</text>\r\n",
       "<text text-anchor=\"middle\" x=\"324\" y=\"-22.8\" font-family=\"Helvetica,sans-Serif\" font-size=\"14.00\">samples = 13</text>\r\n",
       "<text text-anchor=\"middle\" x=\"324\" y=\"-7.8\" font-family=\"Helvetica,sans-Serif\" font-size=\"14.00\">value = [0, 13]</text>\r\n",
       "</g>\r\n",
       "<!-- 5&#45;&gt;6 -->\r\n",
       "<g id=\"edge6\" class=\"edge\"><title>5&#45;&gt;6</title>\r\n",
       "<path fill=\"none\" stroke=\"black\" d=\"M383.173,-88.9485C374.363,-79.8005 364.8,-69.8697 355.982,-60.7126\"/>\r\n",
       "<polygon fill=\"black\" stroke=\"black\" points=\"358.241,-58.0122 348.783,-53.2367 353.199,-62.8677 358.241,-58.0122\"/>\r\n",
       "</g>\r\n",
       "<!-- 7 -->\r\n",
       "<g id=\"node8\" class=\"node\"><title>7</title>\r\n",
       "<path fill=\"#e58139\" stroke=\"black\" d=\"M487.5,-53C487.5,-53 406.5,-53 406.5,-53 400.5,-53 394.5,-47 394.5,-41 394.5,-41 394.5,-12 394.5,-12 394.5,-6 400.5,-0 406.5,-0 406.5,-0 487.5,-0 487.5,-0 493.5,-0 499.5,-6 499.5,-12 499.5,-12 499.5,-41 499.5,-41 499.5,-47 493.5,-53 487.5,-53\"/>\r\n",
       "<text text-anchor=\"middle\" x=\"447\" y=\"-37.8\" font-family=\"Helvetica,sans-Serif\" font-size=\"14.00\">gini = 0.0</text>\r\n",
       "<text text-anchor=\"middle\" x=\"447\" y=\"-22.8\" font-family=\"Helvetica,sans-Serif\" font-size=\"14.00\">samples = 57</text>\r\n",
       "<text text-anchor=\"middle\" x=\"447\" y=\"-7.8\" font-family=\"Helvetica,sans-Serif\" font-size=\"14.00\">value = [57, 0]</text>\r\n",
       "</g>\r\n",
       "<!-- 5&#45;&gt;7 -->\r\n",
       "<g id=\"edge7\" class=\"edge\"><title>5&#45;&gt;7</title>\r\n",
       "<path fill=\"none\" stroke=\"black\" d=\"M426.192,-88.9485C429.042,-80.5323 432.116,-71.4536 435.004,-62.9243\"/>\r\n",
       "<polygon fill=\"black\" stroke=\"black\" points=\"438.393,-63.831 438.285,-53.2367 431.762,-61.5858 438.393,-63.831\"/>\r\n",
       "</g>\r\n",
       "<!-- 9 -->\r\n",
       "<g id=\"node10\" class=\"node\"><title>9</title>\r\n",
       "<path fill=\"#70b8ec\" stroke=\"black\" d=\"M657,-157C657,-157 547,-157 547,-157 541,-157 535,-151 535,-145 535,-145 535,-101 535,-101 535,-95 541,-89 547,-89 547,-89 657,-89 657,-89 663,-89 669,-95 669,-101 669,-101 669,-145 669,-145 669,-151 663,-157 657,-157\"/>\r\n",
       "<text text-anchor=\"middle\" x=\"602\" y=\"-141.8\" font-family=\"Helvetica,sans-Serif\" font-size=\"14.00\">Skewness &lt;= 7.38</text>\r\n",
       "<text text-anchor=\"middle\" x=\"602\" y=\"-126.8\" font-family=\"Helvetica,sans-Serif\" font-size=\"14.00\">gini = 0.34</text>\r\n",
       "<text text-anchor=\"middle\" x=\"602\" y=\"-111.8\" font-family=\"Helvetica,sans-Serif\" font-size=\"14.00\">samples = 23</text>\r\n",
       "<text text-anchor=\"middle\" x=\"602\" y=\"-96.8\" font-family=\"Helvetica,sans-Serif\" font-size=\"14.00\">value = [5, 18]</text>\r\n",
       "</g>\r\n",
       "<!-- 8&#45;&gt;9 -->\r\n",
       "<g id=\"edge9\" class=\"edge\"><title>8&#45;&gt;9</title>\r\n",
       "<path fill=\"none\" stroke=\"black\" d=\"M602,-192.884C602,-184.778 602,-175.982 602,-167.472\"/>\r\n",
       "<polygon fill=\"black\" stroke=\"black\" points=\"605.5,-167.299 602,-157.299 598.5,-167.299 605.5,-167.299\"/>\r\n",
       "</g>\r\n",
       "<!-- 12 -->\r\n",
       "<g id=\"node13\" class=\"node\"><title>12</title>\r\n",
       "<path fill=\"#e78a47\" stroke=\"black\" d=\"M861,-157C861,-157 763,-157 763,-157 757,-157 751,-151 751,-145 751,-145 751,-101 751,-101 751,-95 757,-89 763,-89 763,-89 861,-89 861,-89 867,-89 873,-95 873,-101 873,-101 873,-145 873,-145 873,-151 867,-157 861,-157\"/>\r\n",
       "<text text-anchor=\"middle\" x=\"812\" y=\"-141.8\" font-family=\"Helvetica,sans-Serif\" font-size=\"14.00\">Variance &lt;= 1.5</text>\r\n",
       "<text text-anchor=\"middle\" x=\"812\" y=\"-126.8\" font-family=\"Helvetica,sans-Serif\" font-size=\"14.00\">gini = 0.12</text>\r\n",
       "<text text-anchor=\"middle\" x=\"812\" y=\"-111.8\" font-family=\"Helvetica,sans-Serif\" font-size=\"14.00\">samples = 467</text>\r\n",
       "<text text-anchor=\"middle\" x=\"812\" y=\"-96.8\" font-family=\"Helvetica,sans-Serif\" font-size=\"14.00\">value = [437, 30]</text>\r\n",
       "</g>\r\n",
       "<!-- 8&#45;&gt;12 -->\r\n",
       "<g id=\"edge12\" class=\"edge\"><title>8&#45;&gt;12</title>\r\n",
       "<path fill=\"none\" stroke=\"black\" d=\"M669.023,-193.446C692.23,-182.174 718.297,-169.513 741.756,-158.118\"/>\r\n",
       "<polygon fill=\"black\" stroke=\"black\" points=\"743.482,-161.171 750.947,-153.654 740.423,-154.875 743.482,-161.171\"/>\r\n",
       "</g>\r\n",
       "<!-- 10 -->\r\n",
       "<g id=\"node11\" class=\"node\"><title>10</title>\r\n",
       "<path fill=\"#399de5\" stroke=\"black\" d=\"M610.5,-53C610.5,-53 529.5,-53 529.5,-53 523.5,-53 517.5,-47 517.5,-41 517.5,-41 517.5,-12 517.5,-12 517.5,-6 523.5,-0 529.5,-0 529.5,-0 610.5,-0 610.5,-0 616.5,-0 622.5,-6 622.5,-12 622.5,-12 622.5,-41 622.5,-41 622.5,-47 616.5,-53 610.5,-53\"/>\r\n",
       "<text text-anchor=\"middle\" x=\"570\" y=\"-37.8\" font-family=\"Helvetica,sans-Serif\" font-size=\"14.00\">gini = 0.0</text>\r\n",
       "<text text-anchor=\"middle\" x=\"570\" y=\"-22.8\" font-family=\"Helvetica,sans-Serif\" font-size=\"14.00\">samples = 18</text>\r\n",
       "<text text-anchor=\"middle\" x=\"570\" y=\"-7.8\" font-family=\"Helvetica,sans-Serif\" font-size=\"14.00\">value = [0, 18]</text>\r\n",
       "</g>\r\n",
       "<!-- 9&#45;&gt;10 -->\r\n",
       "<g id=\"edge10\" class=\"edge\"><title>9&#45;&gt;10</title>\r\n",
       "<path fill=\"none\" stroke=\"black\" d=\"M590.808,-88.9485C587.958,-80.5323 584.884,-71.4536 581.996,-62.9243\"/>\r\n",
       "<polygon fill=\"black\" stroke=\"black\" points=\"585.238,-61.5858 578.715,-53.2367 578.607,-63.831 585.238,-61.5858\"/>\r\n",
       "</g>\r\n",
       "<!-- 11 -->\r\n",
       "<g id=\"node12\" class=\"node\"><title>11</title>\r\n",
       "<path fill=\"#e58139\" stroke=\"black\" d=\"M725.5,-53C725.5,-53 652.5,-53 652.5,-53 646.5,-53 640.5,-47 640.5,-41 640.5,-41 640.5,-12 640.5,-12 640.5,-6 646.5,-0 652.5,-0 652.5,-0 725.5,-0 725.5,-0 731.5,-0 737.5,-6 737.5,-12 737.5,-12 737.5,-41 737.5,-41 737.5,-47 731.5,-53 725.5,-53\"/>\r\n",
       "<text text-anchor=\"middle\" x=\"689\" y=\"-37.8\" font-family=\"Helvetica,sans-Serif\" font-size=\"14.00\">gini = 0.0</text>\r\n",
       "<text text-anchor=\"middle\" x=\"689\" y=\"-22.8\" font-family=\"Helvetica,sans-Serif\" font-size=\"14.00\">samples = 5</text>\r\n",
       "<text text-anchor=\"middle\" x=\"689\" y=\"-7.8\" font-family=\"Helvetica,sans-Serif\" font-size=\"14.00\">value = [5, 0]</text>\r\n",
       "</g>\r\n",
       "<!-- 9&#45;&gt;11 -->\r\n",
       "<g id=\"edge11\" class=\"edge\"><title>9&#45;&gt;11</title>\r\n",
       "<path fill=\"none\" stroke=\"black\" d=\"M632.428,-88.9485C640.85,-79.8005 649.993,-69.8697 658.423,-60.7126\"/>\r\n",
       "<polygon fill=\"black\" stroke=\"black\" points=\"661.108,-62.9643 665.306,-53.2367 655.958,-58.2231 661.108,-62.9643\"/>\r\n",
       "</g>\r\n",
       "<!-- 13 -->\r\n",
       "<g id=\"node14\" class=\"node\"><title>13</title>\r\n",
       "<path fill=\"#edaa79\" stroke=\"black\" d=\"M856.5,-53C856.5,-53 767.5,-53 767.5,-53 761.5,-53 755.5,-47 755.5,-41 755.5,-41 755.5,-12 755.5,-12 755.5,-6 761.5,-0 767.5,-0 767.5,-0 856.5,-0 856.5,-0 862.5,-0 868.5,-6 868.5,-12 868.5,-12 868.5,-41 868.5,-41 868.5,-47 862.5,-53 856.5,-53\"/>\r\n",
       "<text text-anchor=\"middle\" x=\"812\" y=\"-37.8\" font-family=\"Helvetica,sans-Serif\" font-size=\"14.00\">gini = 0.37</text>\r\n",
       "<text text-anchor=\"middle\" x=\"812\" y=\"-22.8\" font-family=\"Helvetica,sans-Serif\" font-size=\"14.00\">samples = 110</text>\r\n",
       "<text text-anchor=\"middle\" x=\"812\" y=\"-7.8\" font-family=\"Helvetica,sans-Serif\" font-size=\"14.00\">value = [83, 27]</text>\r\n",
       "</g>\r\n",
       "<!-- 12&#45;&gt;13 -->\r\n",
       "<g id=\"edge13\" class=\"edge\"><title>12&#45;&gt;13</title>\r\n",
       "<path fill=\"none\" stroke=\"black\" d=\"M812,-88.9485C812,-80.7153 812,-71.848 812,-63.4814\"/>\r\n",
       "<polygon fill=\"black\" stroke=\"black\" points=\"815.5,-63.2367 812,-53.2367 808.5,-63.2367 815.5,-63.2367\"/>\r\n",
       "</g>\r\n",
       "<!-- 14 -->\r\n",
       "<g id=\"node15\" class=\"node\"><title>14</title>\r\n",
       "<path fill=\"#e5823b\" stroke=\"black\" d=\"M987.5,-53C987.5,-53 898.5,-53 898.5,-53 892.5,-53 886.5,-47 886.5,-41 886.5,-41 886.5,-12 886.5,-12 886.5,-6 892.5,-0 898.5,-0 898.5,-0 987.5,-0 987.5,-0 993.5,-0 999.5,-6 999.5,-12 999.5,-12 999.5,-41 999.5,-41 999.5,-47 993.5,-53 987.5,-53\"/>\r\n",
       "<text text-anchor=\"middle\" x=\"943\" y=\"-37.8\" font-family=\"Helvetica,sans-Serif\" font-size=\"14.00\">gini = 0.017</text>\r\n",
       "<text text-anchor=\"middle\" x=\"943\" y=\"-22.8\" font-family=\"Helvetica,sans-Serif\" font-size=\"14.00\">samples = 357</text>\r\n",
       "<text text-anchor=\"middle\" x=\"943\" y=\"-7.8\" font-family=\"Helvetica,sans-Serif\" font-size=\"14.00\">value = [354, 3]</text>\r\n",
       "</g>\r\n",
       "<!-- 12&#45;&gt;14 -->\r\n",
       "<g id=\"edge14\" class=\"edge\"><title>12&#45;&gt;14</title>\r\n",
       "<path fill=\"none\" stroke=\"black\" d=\"M857.817,-88.9485C871.133,-79.3431 885.645,-68.8747 898.855,-59.345\"/>\r\n",
       "<polygon fill=\"black\" stroke=\"black\" points=\"901.26,-61.9257 907.323,-53.2367 897.165,-56.2486 901.26,-61.9257\"/>\r\n",
       "</g>\r\n",
       "</g>\r\n",
       "</svg>\r\n"
      ],
      "text/plain": [
       "<graphviz.files.Source at 0x84dff9dc08>"
      ]
     },
     "execution_count": 35,
     "metadata": {},
     "output_type": "execute_result"
    }
   ],
   "source": [
    "graphviz.Source(dot_data)"
   ]
  },
  {
   "cell_type": "markdown",
   "metadata": {},
   "source": [
    "### Explaining Decision Tree for Classification:\n",
    "In the above Decision tree every node is a condition and we are splitting values in a single feature. the condition is based on Imputity (Gini Impurity/Information gain(entropy)) for classification and variance for regression but as it a classificaton problem we will consider gini impurity as a criteria.\n",
    "To start the tree I have computed feature importances i.e. how each feature contribute to decreasing weighted impurity. and on calculating the feature imnportance i found variance Feature contributes most and sonit appears as a root of this tree.\n",
    "\n",
    "The everybox in decision tree tells how many samples at the node falls into each category.\n",
    "\n",
    "We can see that the root node starts with 960 samples of two class(0 &1) with a gini index of 0.495. In this node the feature that best split the different class of data is Variance using threshold value of 0.32. This results in two decision nodes Skewness and Curtosis. the Skewness has gini index of 0.302 and out of 960 smaples 470 samples are trained with class values of (87,383) & The one with curtosis has Gini of 0.177 with 490 Samples out of which Class values are (442 & 48).\n",
    "\n",
    "The Skewness and Curtosis is again distributed into two decision nodes i.e. Variances.\n",
    "\n",
    "At the end we can see that Children nodes generated from variance which is one of the decision node.\n",
    "\n",
    "The nodes whose Gini=0 are the leaves and seems the purest nodes."
   ]
  },
  {
   "cell_type": "markdown",
   "metadata": {},
   "source": [
    "### Using Grid Search and Cross-Validation"
   ]
  },
  {
   "cell_type": "code",
   "execution_count": 36,
   "metadata": {},
   "outputs": [],
   "source": [
    "from sklearn.tree import DecisionTreeClassifier\n",
    "from sklearn.model_selection import GridSearchCV"
   ]
  },
  {
   "cell_type": "markdown",
   "metadata": {},
   "source": [
    "##### Let's use GridSearchCV to try max_depth values 3,4,5,None and 5,6,7 value for max_features hyperparameters. Specify 10 number of folds.\n",
    "\n"
   ]
  },
  {
   "cell_type": "code",
   "execution_count": 37,
   "metadata": {},
   "outputs": [],
   "source": [
    "param_grid = [{\"max_depth\":[3, 4, 5, None], \"max_features\":[4,5,6,7]}]"
   ]
  },
  {
   "cell_type": "code",
   "execution_count": 38,
   "metadata": {},
   "outputs": [],
   "source": [
    "gs = GridSearchCV(estimator=DecisionTreeClassifier(random_state=123),param_grid = param_grid,cv=10)"
   ]
  },
  {
   "cell_type": "markdown",
   "metadata": {},
   "source": [
    "##### Fit the training data\n",
    "\n"
   ]
  },
  {
   "cell_type": "code",
   "execution_count": 39,
   "metadata": {},
   "outputs": [
    {
     "data": {
      "text/plain": [
       "GridSearchCV(cv=10, error_score=nan,\n",
       "             estimator=DecisionTreeClassifier(ccp_alpha=0.0, class_weight=None,\n",
       "                                              criterion='gini', max_depth=None,\n",
       "                                              max_features=None,\n",
       "                                              max_leaf_nodes=None,\n",
       "                                              min_impurity_decrease=0.0,\n",
       "                                              min_impurity_split=None,\n",
       "                                              min_samples_leaf=1,\n",
       "                                              min_samples_split=2,\n",
       "                                              min_weight_fraction_leaf=0.0,\n",
       "                                              presort='deprecated',\n",
       "                                              random_state=123,\n",
       "                                              splitter='best'),\n",
       "             iid='deprecated', n_jobs=None,\n",
       "             param_grid=[{'max_depth': [3, 4, 5, None],\n",
       "                          'max_features': [4, 5, 6, 7]}],\n",
       "             pre_dispatch='2*n_jobs', refit=True, return_train_score=False,\n",
       "             scoring=None, verbose=0)"
      ]
     },
     "execution_count": 39,
     "metadata": {},
     "output_type": "execute_result"
    }
   ],
   "source": [
    "gs.fit(X_train, Y_train)"
   ]
  },
  {
   "cell_type": "markdown",
   "metadata": {},
   "source": [
    "##### Print out all the hyperparameters combinations that the GridSearchCV has tried.\n",
    "\n"
   ]
  },
  {
   "cell_type": "code",
   "execution_count": 40,
   "metadata": {},
   "outputs": [
    {
     "data": {
      "text/plain": [
       "[{'max_depth': 3, 'max_features': 4},\n",
       " {'max_depth': 3, 'max_features': 5},\n",
       " {'max_depth': 3, 'max_features': 6},\n",
       " {'max_depth': 3, 'max_features': 7},\n",
       " {'max_depth': 4, 'max_features': 4},\n",
       " {'max_depth': 4, 'max_features': 5},\n",
       " {'max_depth': 4, 'max_features': 6},\n",
       " {'max_depth': 4, 'max_features': 7},\n",
       " {'max_depth': 5, 'max_features': 4},\n",
       " {'max_depth': 5, 'max_features': 5},\n",
       " {'max_depth': 5, 'max_features': 6},\n",
       " {'max_depth': 5, 'max_features': 7},\n",
       " {'max_depth': None, 'max_features': 4},\n",
       " {'max_depth': None, 'max_features': 5},\n",
       " {'max_depth': None, 'max_features': 6},\n",
       " {'max_depth': None, 'max_features': 7}]"
      ]
     },
     "execution_count": 40,
     "metadata": {},
     "output_type": "execute_result"
    }
   ],
   "source": [
    "gs.cv_results_['params']"
   ]
  },
  {
   "cell_type": "markdown",
   "metadata": {},
   "source": [
    "##### Print best hyperparameters combination.\n",
    "\n"
   ]
  },
  {
   "cell_type": "code",
   "execution_count": 41,
   "metadata": {},
   "outputs": [
    {
     "data": {
      "text/plain": [
       "{'max_depth': None, 'max_features': 4}"
      ]
     },
     "execution_count": 41,
     "metadata": {},
     "output_type": "execute_result"
    }
   ],
   "source": [
    "gs.best_params_"
   ]
  },
  {
   "cell_type": "markdown",
   "metadata": {},
   "source": [
    "##### Print the complete DecisionTree estimator.\n",
    "\n"
   ]
  },
  {
   "cell_type": "code",
   "execution_count": 42,
   "metadata": {},
   "outputs": [
    {
     "data": {
      "text/plain": [
       "DecisionTreeClassifier(ccp_alpha=0.0, class_weight=None, criterion='gini',\n",
       "                       max_depth=None, max_features=4, max_leaf_nodes=None,\n",
       "                       min_impurity_decrease=0.0, min_impurity_split=None,\n",
       "                       min_samples_leaf=1, min_samples_split=2,\n",
       "                       min_weight_fraction_leaf=0.0, presort='deprecated',\n",
       "                       random_state=123, splitter='best')"
      ]
     },
     "execution_count": 42,
     "metadata": {},
     "output_type": "execute_result"
    }
   ],
   "source": [
    "gs.best_estimator_"
   ]
  },
  {
   "cell_type": "markdown",
   "metadata": {},
   "source": [
    "##### Applying the best estimator in decision tree & Predicting result\n",
    "\n",
    "Inside of the classifier, specify criterion=\"gini\" so we can see the information gain of each node."
   ]
  },
  {
   "cell_type": "code",
   "execution_count": 43,
   "metadata": {},
   "outputs": [],
   "source": [
    "tree = DecisionTreeClassifier(max_depth=None,max_features=4)"
   ]
  },
  {
   "cell_type": "code",
   "execution_count": 44,
   "metadata": {},
   "outputs": [
    {
     "data": {
      "text/plain": [
       "DecisionTreeClassifier(ccp_alpha=0.0, class_weight=None, criterion='gini',\n",
       "                       max_depth=None, max_features=4, max_leaf_nodes=None,\n",
       "                       min_impurity_decrease=0.0, min_impurity_split=None,\n",
       "                       min_samples_leaf=1, min_samples_split=2,\n",
       "                       min_weight_fraction_leaf=0.0, presort='deprecated',\n",
       "                       random_state=None, splitter='best')"
      ]
     },
     "execution_count": 44,
     "metadata": {},
     "output_type": "execute_result"
    }
   ],
   "source": [
    "tree.fit(X_train,Y_train)"
   ]
  },
  {
   "cell_type": "markdown",
   "metadata": {},
   "source": [
    "##### Make predictions for the test set.\n",
    "\n"
   ]
  },
  {
   "cell_type": "code",
   "execution_count": 45,
   "metadata": {},
   "outputs": [],
   "source": [
    "predictions = tree.predict(X_test)"
   ]
  },
  {
   "cell_type": "code",
   "execution_count": 46,
   "metadata": {},
   "outputs": [
    {
     "data": {
      "text/html": [
       "<div>\n",
       "<style scoped>\n",
       "    .dataframe tbody tr th:only-of-type {\n",
       "        vertical-align: middle;\n",
       "    }\n",
       "\n",
       "    .dataframe tbody tr th {\n",
       "        vertical-align: top;\n",
       "    }\n",
       "\n",
       "    .dataframe thead th {\n",
       "        text-align: right;\n",
       "    }\n",
       "</style>\n",
       "<table border=\"1\" class=\"dataframe\">\n",
       "  <thead>\n",
       "    <tr style=\"text-align: right;\">\n",
       "      <th></th>\n",
       "      <th>Actual</th>\n",
       "      <th>Predicted</th>\n",
       "    </tr>\n",
       "  </thead>\n",
       "  <tbody>\n",
       "    <tr>\n",
       "      <th>657</th>\n",
       "      <td>0</td>\n",
       "      <td>0</td>\n",
       "    </tr>\n",
       "    <tr>\n",
       "      <th>18</th>\n",
       "      <td>0</td>\n",
       "      <td>0</td>\n",
       "    </tr>\n",
       "    <tr>\n",
       "      <th>700</th>\n",
       "      <td>0</td>\n",
       "      <td>0</td>\n",
       "    </tr>\n",
       "    <tr>\n",
       "      <th>221</th>\n",
       "      <td>0</td>\n",
       "      <td>0</td>\n",
       "    </tr>\n",
       "    <tr>\n",
       "      <th>1219</th>\n",
       "      <td>1</td>\n",
       "      <td>1</td>\n",
       "    </tr>\n",
       "  </tbody>\n",
       "</table>\n",
       "</div>"
      ],
      "text/plain": [
       "      Actual  Predicted\n",
       "657        0          0\n",
       "18         0          0\n",
       "700        0          0\n",
       "221        0          0\n",
       "1219       1          1"
      ]
     },
     "execution_count": 46,
     "metadata": {},
     "output_type": "execute_result"
    }
   ],
   "source": [
    "df=pd.DataFrame({'Actual':Y_test, 'Predicted':predictions})\n",
    "df.head(5)"
   ]
  },
  {
   "cell_type": "markdown",
   "metadata": {},
   "source": [
    "##### Calculate accuracy of prediction\n",
    "\n"
   ]
  },
  {
   "cell_type": "code",
   "execution_count": 47,
   "metadata": {},
   "outputs": [],
   "source": [
    "from sklearn.metrics import accuracy_score, confusion_matrix,classification_report"
   ]
  },
  {
   "cell_type": "code",
   "execution_count": 48,
   "metadata": {},
   "outputs": [
    {
     "data": {
      "text/plain": [
       "0.9854368932038835"
      ]
     },
     "execution_count": 48,
     "metadata": {},
     "output_type": "execute_result"
    }
   ],
   "source": [
    "accuracy_score(Y_test, predictions)#Calculate number of correctly classified observations."
   ]
  },
  {
   "cell_type": "code",
   "execution_count": 49,
   "metadata": {},
   "outputs": [
    {
     "data": {
      "text/plain": [
       "406"
      ]
     },
     "execution_count": 49,
     "metadata": {},
     "output_type": "execute_result"
    }
   ],
   "source": [
    "accuracy_score(Y_test, predictions, normalize=False) "
   ]
  },
  {
   "cell_type": "markdown",
   "metadata": {},
   "source": [
    "##### Confusion Matrix"
   ]
  },
  {
   "cell_type": "code",
   "execution_count": 50,
   "metadata": {},
   "outputs": [],
   "source": [
    "import pandas as pd\n",
    "import matplotlib.pyplot as plt\n",
    "import seaborn as sns\n",
    "%matplotlib inline"
   ]
  },
  {
   "cell_type": "code",
   "execution_count": 51,
   "metadata": {},
   "outputs": [],
   "source": [
    "confusion_mat = confusion_matrix(Y_test, predictions)\n",
    "confusion_df = pd.DataFrame(confusion_mat, index=['Class 0','Class 1'],columns=['Class 0','Class 1'])"
   ]
  },
  {
   "cell_type": "code",
   "execution_count": 52,
   "metadata": {},
   "outputs": [
    {
     "name": "stdout",
     "output_type": "stream",
     "text": [
      "         Class 0  Class 1\n",
      "Class 0      231        2\n",
      "Class 1        4      175\n"
     ]
    },
    {
     "data": {
      "image/png": "[encoded data removed]",
      "text/plain": [
       "<Figure size 432x288 with 2 Axes>"
      ]
     },
     "metadata": {
      "needs_background": "light"
     },
     "output_type": "display_data"
    }
   ],
   "source": [
    "print(confusion_df)\n",
    "_=sns.heatmap(confusion_df, cmap='coolwarm', annot=True)"
   ]
  },
  {
   "cell_type": "markdown",
   "metadata": {},
   "source": [
    "##### We can see out of 412 datapoints only 6 are misclasified from the above accuracy score.\n"
   ]
  },
  {
   "cell_type": "code",
   "execution_count": 53,
   "metadata": {},
   "outputs": [
    {
     "name": "stdout",
     "output_type": "stream",
     "text": [
      "True Negatives:  231\n",
      "False Positives:  2\n",
      "False Negatives:  4\n",
      "True Positives:  175\n"
     ]
    }
   ],
   "source": [
    "tn, fp, fn, tp = confusion_matrix(Y_test, predictions).ravel()\n",
    "print(\"True Negatives: \", tn)\n",
    "print(\"False Positives: \", fp)\n",
    "print(\"False Negatives: \", fn)\n",
    "print(\"True Positives: \", tp)"
   ]
  },
  {
   "cell_type": "code",
   "execution_count": 54,
   "metadata": {},
   "outputs": [
    {
     "name": "stdout",
     "output_type": "stream",
     "text": [
      "              precision    recall  f1-score   support\n",
      "\n",
      "           0       0.98      0.99      0.99       233\n",
      "           1       0.99      0.98      0.98       179\n",
      "\n",
      "    accuracy                           0.99       412\n",
      "   macro avg       0.99      0.98      0.99       412\n",
      "weighted avg       0.99      0.99      0.99       412\n",
      "\n"
     ]
    }
   ],
   "source": [
    "print(classification_report(Y_test, predictions))"
   ]
  },
  {
   "cell_type": "markdown",
   "metadata": {},
   "source": [
    "F1 Score: Single metric that combines recall and precision using the harmonic mean. So closer the F1-Score for Class 0 & Class 1 is close to 1."
   ]
  },
  {
   "cell_type": "markdown",
   "metadata": {},
   "source": [
    "##### Specificity after Applying CV & GridSearch"
   ]
  },
  {
   "cell_type": "code",
   "execution_count": 55,
   "metadata": {},
   "outputs": [
    {
     "name": "stdout",
     "output_type": "stream",
     "text": [
      "The probability of predicting whether a bank note is authentic or fake is: 0.9914163090128756\n"
     ]
    }
   ],
   "source": [
    "Specificity = tn/(tn+fp) \n",
    "print(\"The probability of predicting whether a bank note is authentic or fake is:\",Specificity)"
   ]
  },
  {
   "cell_type": "markdown",
   "metadata": {},
   "source": [
    "##### Sensitivity after Applying CV & GridSearch"
   ]
  },
  {
   "cell_type": "code",
   "execution_count": 56,
   "metadata": {},
   "outputs": [
    {
     "name": "stdout",
     "output_type": "stream",
     "text": [
      "The probability of predicting whether a bank note is authentic or fake is: 0.9776536312849162\n"
     ]
    }
   ],
   "source": [
    "Sensitivity = tp/(tp+fn)\n",
    "print(\"The probability of predicting whether a bank note is authentic or fake is:\",Sensitivity)"
   ]
  },
  {
   "cell_type": "markdown",
   "metadata": {},
   "source": [
    "##### Plotting decision Tree using Graphviz after selecting best hyperparameters that is obtained after Using GridSearch and CV "
   ]
  },
  {
   "cell_type": "code",
   "execution_count": 57,
   "metadata": {},
   "outputs": [],
   "source": [
    "from sklearn.tree import export_graphviz\n",
    "import graphviz"
   ]
  },
  {
   "cell_type": "code",
   "execution_count": 58,
   "metadata": {},
   "outputs": [],
   "source": [
    "dot_data = export_graphviz(tree, filled=True, rounded=True, feature_names=predictor_var.columns, out_file=None)"
   ]
  },
  {
   "cell_type": "code",
   "execution_count": 59,
   "metadata": {},
   "outputs": [
    {
     "data": {
      "image/svg+xml": [
       "<?xml version=\"1.0\" encoding=\"UTF-8\" standalone=\"no\"?>\r\n",
       "<!DOCTYPE svg PUBLIC \"-//W3C//DTD SVG 1.1//EN\"\r\n",
       " \"http://www.w3.org/Graphics/SVG/1.1/DTD/svg11.dtd\">\r\n",
       "<!-- Generated by graphviz version 2.38.0 (20140413.2041)\r\n",
       " -->\r\n",
       "<!-- Title: Tree Pages: 1 -->\r\n",
       "<svg width=\"1889pt\" height=\"789pt\"\r\n",
       " viewBox=\"0.00 0.00 1889.00 789.00\" xmlns=\"http://www.w3.org/2000/svg\" xmlns:xlink=\"http://www.w3.org/1999/xlink\">\r\n",
       "<g id=\"graph0\" class=\"graph\" transform=\"scale(1 1) rotate(0) translate(4 785)\">\r\n",
       "<title>Tree</title>\r\n",
       "<polygon fill=\"white\" stroke=\"none\" points=\"-4,4 -4,-785 1885,-785 1885,4 -4,4\"/>\r\n",
       "<!-- 0 -->\r\n",
       "<g id=\"node1\" class=\"node\"><title>0</title>\r\n",
       "<path fill=\"#fae8da\" stroke=\"black\" d=\"M940.5,-781C940.5,-781 834.5,-781 834.5,-781 828.5,-781 822.5,-775 822.5,-769 822.5,-769 822.5,-725 822.5,-725 822.5,-719 828.5,-713 834.5,-713 834.5,-713 940.5,-713 940.5,-713 946.5,-713 952.5,-719 952.5,-725 952.5,-725 952.5,-769 952.5,-769 952.5,-775 946.5,-781 940.5,-781\"/>\r\n",
       "<text text-anchor=\"middle\" x=\"887.5\" y=\"-765.8\" font-family=\"Helvetica,sans-Serif\" font-size=\"14.00\">Variance &lt;= 0.32</text>\r\n",
       "<text text-anchor=\"middle\" x=\"887.5\" y=\"-750.8\" font-family=\"Helvetica,sans-Serif\" font-size=\"14.00\">gini = 0.495</text>\r\n",
       "<text text-anchor=\"middle\" x=\"887.5\" y=\"-735.8\" font-family=\"Helvetica,sans-Serif\" font-size=\"14.00\">samples = 960</text>\r\n",
       "<text text-anchor=\"middle\" x=\"887.5\" y=\"-720.8\" font-family=\"Helvetica,sans-Serif\" font-size=\"14.00\">value = [529, 431]</text>\r\n",
       "</g>\r\n",
       "<!-- 1 -->\r\n",
       "<g id=\"node2\" class=\"node\"><title>1</title>\r\n",
       "<path fill=\"#66b3eb\" stroke=\"black\" d=\"M846,-677C846,-677 727,-677 727,-677 721,-677 715,-671 715,-665 715,-665 715,-621 715,-621 715,-615 721,-609 727,-609 727,-609 846,-609 846,-609 852,-609 858,-615 858,-621 858,-621 858,-665 858,-665 858,-671 852,-677 846,-677\"/>\r\n",
       "<text text-anchor=\"middle\" x=\"786.5\" y=\"-661.8\" font-family=\"Helvetica,sans-Serif\" font-size=\"14.00\">Skewness &lt;= 7.764</text>\r\n",
       "<text text-anchor=\"middle\" x=\"786.5\" y=\"-646.8\" font-family=\"Helvetica,sans-Serif\" font-size=\"14.00\">gini = 0.302</text>\r\n",
       "<text text-anchor=\"middle\" x=\"786.5\" y=\"-631.8\" font-family=\"Helvetica,sans-Serif\" font-size=\"14.00\">samples = 470</text>\r\n",
       "<text text-anchor=\"middle\" x=\"786.5\" y=\"-616.8\" font-family=\"Helvetica,sans-Serif\" font-size=\"14.00\">value = [87, 383]</text>\r\n",
       "</g>\r\n",
       "<!-- 0&#45;&gt;1 -->\r\n",
       "<g id=\"edge1\" class=\"edge\"><title>0&#45;&gt;1</title>\r\n",
       "<path fill=\"none\" stroke=\"black\" d=\"M854.708,-712.884C845.8,-703.887 836.05,-694.041 826.78,-684.678\"/>\r\n",
       "<polygon fill=\"black\" stroke=\"black\" points=\"828.996,-681.943 819.473,-677.299 824.022,-686.868 828.996,-681.943\"/>\r\n",
       "<text text-anchor=\"middle\" x=\"819.35\" y=\"-698.599\" font-family=\"Helvetica,sans-Serif\" font-size=\"14.00\">True</text>\r\n",
       "</g>\r\n",
       "<!-- 22 -->\r\n",
       "<g id=\"node23\" class=\"node\"><title>22</title>\r\n",
       "<path fill=\"#e88f4f\" stroke=\"black\" d=\"M1044.5,-677C1044.5,-677 934.5,-677 934.5,-677 928.5,-677 922.5,-671 922.5,-665 922.5,-665 922.5,-621 922.5,-621 922.5,-615 928.5,-609 934.5,-609 934.5,-609 1044.5,-609 1044.5,-609 1050.5,-609 1056.5,-615 1056.5,-621 1056.5,-621 1056.5,-665 1056.5,-665 1056.5,-671 1050.5,-677 1044.5,-677\"/>\r\n",
       "<text text-anchor=\"middle\" x=\"989.5\" y=\"-661.8\" font-family=\"Helvetica,sans-Serif\" font-size=\"14.00\">Curtosis &lt;= &#45;4.386</text>\r\n",
       "<text text-anchor=\"middle\" x=\"989.5\" y=\"-646.8\" font-family=\"Helvetica,sans-Serif\" font-size=\"14.00\">gini = 0.177</text>\r\n",
       "<text text-anchor=\"middle\" x=\"989.5\" y=\"-631.8\" font-family=\"Helvetica,sans-Serif\" font-size=\"14.00\">samples = 490</text>\r\n",
       "<text text-anchor=\"middle\" x=\"989.5\" y=\"-616.8\" font-family=\"Helvetica,sans-Serif\" font-size=\"14.00\">value = [442, 48]</text>\r\n",
       "</g>\r\n",
       "<!-- 0&#45;&gt;22 -->\r\n",
       "<g id=\"edge22\" class=\"edge\"><title>0&#45;&gt;22</title>\r\n",
       "<path fill=\"none\" stroke=\"black\" d=\"M920.616,-712.884C929.702,-703.798 939.655,-693.845 949.1,-684.4\"/>\r\n",
       "<polygon fill=\"black\" stroke=\"black\" points=\"951.604,-686.845 956.201,-677.299 946.655,-681.896 951.604,-686.845\"/>\r\n",
       "<text text-anchor=\"middle\" x=\"956.201\" y=\"-698.599\" font-family=\"Helvetica,sans-Serif\" font-size=\"14.00\">False</text>\r\n",
       "</g>\r\n",
       "<!-- 2 -->\r\n",
       "<g id=\"node3\" class=\"node\"><title>2</title>\r\n",
       "<path fill=\"#49a5e7\" stroke=\"black\" d=\"M641,-573C641,-573 528,-573 528,-573 522,-573 516,-567 516,-561 516,-561 516,-517 516,-517 516,-511 522,-505 528,-505 528,-505 641,-505 641,-505 647,-505 653,-511 653,-517 653,-517 653,-561 653,-561 653,-567 647,-573 641,-573\"/>\r\n",
       "<text text-anchor=\"middle\" x=\"584.5\" y=\"-557.8\" font-family=\"Helvetica,sans-Serif\" font-size=\"14.00\">Variance &lt;= &#45;0.459</text>\r\n",
       "<text text-anchor=\"middle\" x=\"584.5\" y=\"-542.8\" font-family=\"Helvetica,sans-Serif\" font-size=\"14.00\">gini = 0.139</text>\r\n",
       "<text text-anchor=\"middle\" x=\"584.5\" y=\"-527.8\" font-family=\"Helvetica,sans-Serif\" font-size=\"14.00\">samples = 400</text>\r\n",
       "<text text-anchor=\"middle\" x=\"584.5\" y=\"-512.8\" font-family=\"Helvetica,sans-Serif\" font-size=\"14.00\">value = [30, 370]</text>\r\n",
       "</g>\r\n",
       "<!-- 1&#45;&gt;2 -->\r\n",
       "<g id=\"edge2\" class=\"edge\"><title>1&#45;&gt;2</title>\r\n",
       "<path fill=\"none\" stroke=\"black\" d=\"M720.916,-608.884C701.236,-598.946 679.501,-587.971 659.275,-577.757\"/>\r\n",
       "<polygon fill=\"black\" stroke=\"black\" points=\"660.604,-574.508 650.1,-573.125 657.449,-580.757 660.604,-574.508\"/>\r\n",
       "</g>\r\n",
       "<!-- 19 -->\r\n",
       "<g id=\"node20\" class=\"node\"><title>19</title>\r\n",
       "<path fill=\"#eb9e66\" stroke=\"black\" d=\"M843,-573C843,-573 730,-573 730,-573 724,-573 718,-567 718,-561 718,-561 718,-517 718,-517 718,-511 724,-505 730,-505 730,-505 843,-505 843,-505 849,-505 855,-511 855,-517 855,-517 855,-561 855,-561 855,-567 849,-573 843,-573\"/>\r\n",
       "<text text-anchor=\"middle\" x=\"786.5\" y=\"-557.8\" font-family=\"Helvetica,sans-Serif\" font-size=\"14.00\">Variance &lt;= &#45;4.726</text>\r\n",
       "<text text-anchor=\"middle\" x=\"786.5\" y=\"-542.8\" font-family=\"Helvetica,sans-Serif\" font-size=\"14.00\">gini = 0.302</text>\r\n",
       "<text text-anchor=\"middle\" x=\"786.5\" y=\"-527.8\" font-family=\"Helvetica,sans-Serif\" font-size=\"14.00\">samples = 70</text>\r\n",
       "<text text-anchor=\"middle\" x=\"786.5\" y=\"-512.8\" font-family=\"Helvetica,sans-Serif\" font-size=\"14.00\">value = [57, 13]</text>\r\n",
       "</g>\r\n",
       "<!-- 1&#45;&gt;19 -->\r\n",
       "<g id=\"edge19\" class=\"edge\"><title>1&#45;&gt;19</title>\r\n",
       "<path fill=\"none\" stroke=\"black\" d=\"M786.5,-608.884C786.5,-600.778 786.5,-591.982 786.5,-583.472\"/>\r\n",
       "<polygon fill=\"black\" stroke=\"black\" points=\"790,-583.299 786.5,-573.299 783,-583.299 790,-583.299\"/>\r\n",
       "</g>\r\n",
       "<!-- 3 -->\r\n",
       "<g id=\"node4\" class=\"node\"><title>3</title>\r\n",
       "<path fill=\"#40a1e6\" stroke=\"black\" d=\"M448.5,-469C448.5,-469 342.5,-469 342.5,-469 336.5,-469 330.5,-463 330.5,-457 330.5,-457 330.5,-413 330.5,-413 330.5,-407 336.5,-401 342.5,-401 342.5,-401 448.5,-401 448.5,-401 454.5,-401 460.5,-407 460.5,-413 460.5,-413 460.5,-457 460.5,-457 460.5,-463 454.5,-469 448.5,-469\"/>\r\n",
       "<text text-anchor=\"middle\" x=\"395.5\" y=\"-453.8\" font-family=\"Helvetica,sans-Serif\" font-size=\"14.00\">Curtosis &lt;= 6.219</text>\r\n",
       "<text text-anchor=\"middle\" x=\"395.5\" y=\"-438.8\" font-family=\"Helvetica,sans-Serif\" font-size=\"14.00\">gini = 0.069</text>\r\n",
       "<text text-anchor=\"middle\" x=\"395.5\" y=\"-423.8\" font-family=\"Helvetica,sans-Serif\" font-size=\"14.00\">samples = 337</text>\r\n",
       "<text text-anchor=\"middle\" x=\"395.5\" y=\"-408.8\" font-family=\"Helvetica,sans-Serif\" font-size=\"14.00\">value = [12, 325]</text>\r\n",
       "</g>\r\n",
       "<!-- 2&#45;&gt;3 -->\r\n",
       "<g id=\"edge3\" class=\"edge\"><title>2&#45;&gt;3</title>\r\n",
       "<path fill=\"none\" stroke=\"black\" d=\"M523.137,-504.884C504.806,-494.991 484.571,-484.07 465.718,-473.895\"/>\r\n",
       "<polygon fill=\"black\" stroke=\"black\" points=\"467.341,-470.794 456.878,-469.125 464.016,-476.954 467.341,-470.794\"/>\r\n",
       "</g>\r\n",
       "<!-- 12 -->\r\n",
       "<g id=\"node13\" class=\"node\"><title>12</title>\r\n",
       "<path fill=\"#88c4ef\" stroke=\"black\" d=\"M644,-469C644,-469 525,-469 525,-469 519,-469 513,-463 513,-457 513,-457 513,-413 513,-413 513,-407 519,-401 525,-401 525,-401 644,-401 644,-401 650,-401 656,-407 656,-413 656,-413 656,-457 656,-457 656,-463 650,-469 644,-469\"/>\r\n",
       "<text text-anchor=\"middle\" x=\"584.5\" y=\"-453.8\" font-family=\"Helvetica,sans-Serif\" font-size=\"14.00\">Skewness &lt;= 5.454</text>\r\n",
       "<text text-anchor=\"middle\" x=\"584.5\" y=\"-438.8\" font-family=\"Helvetica,sans-Serif\" font-size=\"14.00\">gini = 0.408</text>\r\n",
       "<text text-anchor=\"middle\" x=\"584.5\" y=\"-423.8\" font-family=\"Helvetica,sans-Serif\" font-size=\"14.00\">samples = 63</text>\r\n",
       "<text text-anchor=\"middle\" x=\"584.5\" y=\"-408.8\" font-family=\"Helvetica,sans-Serif\" font-size=\"14.00\">value = [18, 45]</text>\r\n",
       "</g>\r\n",
       "<!-- 2&#45;&gt;12 -->\r\n",
       "<g id=\"edge12\" class=\"edge\"><title>2&#45;&gt;12</title>\r\n",
       "<path fill=\"none\" stroke=\"black\" d=\"M584.5,-504.884C584.5,-496.778 584.5,-487.982 584.5,-479.472\"/>\r\n",
       "<polygon fill=\"black\" stroke=\"black\" points=\"588,-479.299 584.5,-469.299 581,-479.299 588,-479.299\"/>\r\n",
       "</g>\r\n",
       "<!-- 4 -->\r\n",
       "<g id=\"node5\" class=\"node\"><title>4</title>\r\n",
       "<path fill=\"#3a9de5\" stroke=\"black\" d=\"M259,-365C259,-365 140,-365 140,-365 134,-365 128,-359 128,-353 128,-353 128,-309 128,-309 128,-303 134,-297 140,-297 140,-297 259,-297 259,-297 265,-297 271,-303 271,-309 271,-309 271,-353 271,-353 271,-359 265,-365 259,-365\"/>\r\n",
       "<text text-anchor=\"middle\" x=\"199.5\" y=\"-349.8\" font-family=\"Helvetica,sans-Serif\" font-size=\"14.00\">Skewness &lt;= 7.225</text>\r\n",
       "<text text-anchor=\"middle\" x=\"199.5\" y=\"-334.8\" font-family=\"Helvetica,sans-Serif\" font-size=\"14.00\">gini = 0.009</text>\r\n",
       "<text text-anchor=\"middle\" x=\"199.5\" y=\"-319.8\" font-family=\"Helvetica,sans-Serif\" font-size=\"14.00\">samples = 234</text>\r\n",
       "<text text-anchor=\"middle\" x=\"199.5\" y=\"-304.8\" font-family=\"Helvetica,sans-Serif\" font-size=\"14.00\">value = [1, 233]</text>\r\n",
       "</g>\r\n",
       "<!-- 3&#45;&gt;4 -->\r\n",
       "<g id=\"edge4\" class=\"edge\"><title>3&#45;&gt;4</title>\r\n",
       "<path fill=\"none\" stroke=\"black\" d=\"M331.864,-400.884C312.769,-390.946 291.68,-379.971 272.053,-369.757\"/>\r\n",
       "<polygon fill=\"black\" stroke=\"black\" points=\"273.638,-366.636 263.151,-365.125 270.406,-372.846 273.638,-366.636\"/>\r\n",
       "</g>\r\n",
       "<!-- 9 -->\r\n",
       "<g id=\"node10\" class=\"node\"><title>9</title>\r\n",
       "<path fill=\"#51a9e8\" stroke=\"black\" d=\"M457,-365C457,-365 334,-365 334,-365 328,-365 322,-359 322,-353 322,-353 322,-309 322,-309 322,-303 328,-297 334,-297 334,-297 457,-297 457,-297 463,-297 469,-303 469,-309 469,-309 469,-353 469,-353 469,-359 463,-365 457,-365\"/>\r\n",
       "<text text-anchor=\"middle\" x=\"395.5\" y=\"-349.8\" font-family=\"Helvetica,sans-Serif\" font-size=\"14.00\">Skewness &lt;= &#45;2.243</text>\r\n",
       "<text text-anchor=\"middle\" x=\"395.5\" y=\"-334.8\" font-family=\"Helvetica,sans-Serif\" font-size=\"14.00\">gini = 0.191</text>\r\n",
       "<text text-anchor=\"middle\" x=\"395.5\" y=\"-319.8\" font-family=\"Helvetica,sans-Serif\" font-size=\"14.00\">samples = 103</text>\r\n",
       "<text text-anchor=\"middle\" x=\"395.5\" y=\"-304.8\" font-family=\"Helvetica,sans-Serif\" font-size=\"14.00\">value = [11, 92]</text>\r\n",
       "</g>\r\n",
       "<!-- 3&#45;&gt;9 -->\r\n",
       "<g id=\"edge9\" class=\"edge\"><title>3&#45;&gt;9</title>\r\n",
       "<path fill=\"none\" stroke=\"black\" d=\"M395.5,-400.884C395.5,-392.778 395.5,-383.982 395.5,-375.472\"/>\r\n",
       "<polygon fill=\"black\" stroke=\"black\" points=\"399,-375.299 395.5,-365.299 392,-375.299 399,-375.299\"/>\r\n",
       "</g>\r\n",
       "<!-- 5 -->\r\n",
       "<g id=\"node6\" class=\"node\"><title>5</title>\r\n",
       "<path fill=\"#399de5\" stroke=\"black\" d=\"M101,-253.5C101,-253.5 12,-253.5 12,-253.5 6,-253.5 0,-247.5 0,-241.5 0,-241.5 0,-212.5 0,-212.5 0,-206.5 6,-200.5 12,-200.5 12,-200.5 101,-200.5 101,-200.5 107,-200.5 113,-206.5 113,-212.5 113,-212.5 113,-241.5 113,-241.5 113,-247.5 107,-253.5 101,-253.5\"/>\r\n",
       "<text text-anchor=\"middle\" x=\"56.5\" y=\"-238.3\" font-family=\"Helvetica,sans-Serif\" font-size=\"14.00\">gini = 0.0</text>\r\n",
       "<text text-anchor=\"middle\" x=\"56.5\" y=\"-223.3\" font-family=\"Helvetica,sans-Serif\" font-size=\"14.00\">samples = 229</text>\r\n",
       "<text text-anchor=\"middle\" x=\"56.5\" y=\"-208.3\" font-family=\"Helvetica,sans-Serif\" font-size=\"14.00\">value = [0, 229]</text>\r\n",
       "</g>\r\n",
       "<!-- 4&#45;&gt;5 -->\r\n",
       "<g id=\"edge5\" class=\"edge\"><title>4&#45;&gt;5</title>\r\n",
       "<path fill=\"none\" stroke=\"black\" d=\"M153.072,-296.884C136.266,-284.896 117.343,-271.399 100.731,-259.549\"/>\r\n",
       "<polygon fill=\"black\" stroke=\"black\" points=\"102.452,-256.478 92.2779,-253.52 98.3867,-262.176 102.452,-256.478\"/>\r\n",
       "</g>\r\n",
       "<!-- 6 -->\r\n",
       "<g id=\"node7\" class=\"node\"><title>6</title>\r\n",
       "<path fill=\"#6ab6ec\" stroke=\"black\" d=\"M256,-261C256,-261 143,-261 143,-261 137,-261 131,-255 131,-249 131,-249 131,-205 131,-205 131,-199 137,-193 143,-193 143,-193 256,-193 256,-193 262,-193 268,-199 268,-205 268,-205 268,-249 268,-249 268,-255 262,-261 256,-261\"/>\r\n",
       "<text text-anchor=\"middle\" x=\"199.5\" y=\"-245.8\" font-family=\"Helvetica,sans-Serif\" font-size=\"14.00\">Variance &lt;= &#45;2.509</text>\r\n",
       "<text text-anchor=\"middle\" x=\"199.5\" y=\"-230.8\" font-family=\"Helvetica,sans-Serif\" font-size=\"14.00\">gini = 0.32</text>\r\n",
       "<text text-anchor=\"middle\" x=\"199.5\" y=\"-215.8\" font-family=\"Helvetica,sans-Serif\" font-size=\"14.00\">samples = 5</text>\r\n",
       "<text text-anchor=\"middle\" x=\"199.5\" y=\"-200.8\" font-family=\"Helvetica,sans-Serif\" font-size=\"14.00\">value = [1, 4]</text>\r\n",
       "</g>\r\n",
       "<!-- 4&#45;&gt;6 -->\r\n",
       "<g id=\"edge6\" class=\"edge\"><title>4&#45;&gt;6</title>\r\n",
       "<path fill=\"none\" stroke=\"black\" d=\"M199.5,-296.884C199.5,-288.778 199.5,-279.982 199.5,-271.472\"/>\r\n",
       "<polygon fill=\"black\" stroke=\"black\" points=\"203,-271.299 199.5,-261.299 196,-271.299 203,-271.299\"/>\r\n",
       "</g>\r\n",
       "<!-- 7 -->\r\n",
       "<g id=\"node8\" class=\"node\"><title>7</title>\r\n",
       "<path fill=\"#399de5\" stroke=\"black\" d=\"M178,-149.5C178,-149.5 105,-149.5 105,-149.5 99,-149.5 93,-143.5 93,-137.5 93,-137.5 93,-108.5 93,-108.5 93,-102.5 99,-96.5 105,-96.5 105,-96.5 178,-96.5 178,-96.5 184,-96.5 190,-102.5 190,-108.5 190,-108.5 190,-137.5 190,-137.5 190,-143.5 184,-149.5 178,-149.5\"/>\r\n",
       "<text text-anchor=\"middle\" x=\"141.5\" y=\"-134.3\" font-family=\"Helvetica,sans-Serif\" font-size=\"14.00\">gini = 0.0</text>\r\n",
       "<text text-anchor=\"middle\" x=\"141.5\" y=\"-119.3\" font-family=\"Helvetica,sans-Serif\" font-size=\"14.00\">samples = 4</text>\r\n",
       "<text text-anchor=\"middle\" x=\"141.5\" y=\"-104.3\" font-family=\"Helvetica,sans-Serif\" font-size=\"14.00\">value = [0, 4]</text>\r\n",
       "</g>\r\n",
       "<!-- 6&#45;&gt;7 -->\r\n",
       "<g id=\"edge7\" class=\"edge\"><title>6&#45;&gt;7</title>\r\n",
       "<path fill=\"none\" stroke=\"black\" d=\"M180.669,-192.884C174.415,-181.886 167.439,-169.617 161.127,-158.517\"/>\r\n",
       "<polygon fill=\"black\" stroke=\"black\" points=\"163.997,-156.483 156.011,-149.52 157.912,-159.943 163.997,-156.483\"/>\r\n",
       "</g>\r\n",
       "<!-- 8 -->\r\n",
       "<g id=\"node9\" class=\"node\"><title>8</title>\r\n",
       "<path fill=\"#e58139\" stroke=\"black\" d=\"M293,-149.5C293,-149.5 220,-149.5 220,-149.5 214,-149.5 208,-143.5 208,-137.5 208,-137.5 208,-108.5 208,-108.5 208,-102.5 214,-96.5 220,-96.5 220,-96.5 293,-96.5 293,-96.5 299,-96.5 305,-102.5 305,-108.5 305,-108.5 305,-137.5 305,-137.5 305,-143.5 299,-149.5 293,-149.5\"/>\r\n",
       "<text text-anchor=\"middle\" x=\"256.5\" y=\"-134.3\" font-family=\"Helvetica,sans-Serif\" font-size=\"14.00\">gini = 0.0</text>\r\n",
       "<text text-anchor=\"middle\" x=\"256.5\" y=\"-119.3\" font-family=\"Helvetica,sans-Serif\" font-size=\"14.00\">samples = 1</text>\r\n",
       "<text text-anchor=\"middle\" x=\"256.5\" y=\"-104.3\" font-family=\"Helvetica,sans-Serif\" font-size=\"14.00\">value = [1, 0]</text>\r\n",
       "</g>\r\n",
       "<!-- 6&#45;&gt;8 -->\r\n",
       "<g id=\"edge8\" class=\"edge\"><title>6&#45;&gt;8</title>\r\n",
       "<path fill=\"none\" stroke=\"black\" d=\"M218.006,-192.884C224.152,-181.886 231.008,-169.617 237.211,-158.517\"/>\r\n",
       "<polygon fill=\"black\" stroke=\"black\" points=\"240.416,-159.957 242.239,-149.52 234.305,-156.542 240.416,-159.957\"/>\r\n",
       "</g>\r\n",
       "<!-- 10 -->\r\n",
       "<g id=\"node11\" class=\"node\"><title>10</title>\r\n",
       "<path fill=\"#399de5\" stroke=\"black\" d=\"M379,-253.5C379,-253.5 298,-253.5 298,-253.5 292,-253.5 286,-247.5 286,-241.5 286,-241.5 286,-212.5 286,-212.5 286,-206.5 292,-200.5 298,-200.5 298,-200.5 379,-200.5 379,-200.5 385,-200.5 391,-206.5 391,-212.5 391,-212.5 391,-241.5 391,-241.5 391,-247.5 385,-253.5 379,-253.5\"/>\r\n",
       "<text text-anchor=\"middle\" x=\"338.5\" y=\"-238.3\" font-family=\"Helvetica,sans-Serif\" font-size=\"14.00\">gini = 0.0</text>\r\n",
       "<text text-anchor=\"middle\" x=\"338.5\" y=\"-223.3\" font-family=\"Helvetica,sans-Serif\" font-size=\"14.00\">samples = 92</text>\r\n",
       "<text text-anchor=\"middle\" x=\"338.5\" y=\"-208.3\" font-family=\"Helvetica,sans-Serif\" font-size=\"14.00\">value = [0, 92]</text>\r\n",
       "</g>\r\n",
       "<!-- 9&#45;&gt;10 -->\r\n",
       "<g id=\"edge10\" class=\"edge\"><title>9&#45;&gt;10</title>\r\n",
       "<path fill=\"none\" stroke=\"black\" d=\"M376.994,-296.884C370.848,-285.886 363.992,-273.617 357.789,-262.517\"/>\r\n",
       "<polygon fill=\"black\" stroke=\"black\" points=\"360.695,-260.542 352.761,-253.52 354.584,-263.957 360.695,-260.542\"/>\r\n",
       "</g>\r\n",
       "<!-- 11 -->\r\n",
       "<g id=\"node12\" class=\"node\"><title>11</title>\r\n",
       "<path fill=\"#e58139\" stroke=\"black\" d=\"M502,-253.5C502,-253.5 421,-253.5 421,-253.5 415,-253.5 409,-247.5 409,-241.5 409,-241.5 409,-212.5 409,-212.5 409,-206.5 415,-200.5 421,-200.5 421,-200.5 502,-200.5 502,-200.5 508,-200.5 514,-206.5 514,-212.5 514,-212.5 514,-241.5 514,-241.5 514,-247.5 508,-253.5 502,-253.5\"/>\r\n",
       "<text text-anchor=\"middle\" x=\"461.5\" y=\"-238.3\" font-family=\"Helvetica,sans-Serif\" font-size=\"14.00\">gini = 0.0</text>\r\n",
       "<text text-anchor=\"middle\" x=\"461.5\" y=\"-223.3\" font-family=\"Helvetica,sans-Serif\" font-size=\"14.00\">samples = 11</text>\r\n",
       "<text text-anchor=\"middle\" x=\"461.5\" y=\"-208.3\" font-family=\"Helvetica,sans-Serif\" font-size=\"14.00\">value = [11, 0]</text>\r\n",
       "</g>\r\n",
       "<!-- 9&#45;&gt;11 -->\r\n",
       "<g id=\"edge11\" class=\"edge\"><title>9&#45;&gt;11</title>\r\n",
       "<path fill=\"none\" stroke=\"black\" d=\"M416.928,-296.884C424.116,-285.776 432.142,-273.372 439.381,-262.184\"/>\r\n",
       "<polygon fill=\"black\" stroke=\"black\" points=\"442.493,-263.817 444.987,-253.52 436.616,-260.014 442.493,-263.817\"/>\r\n",
       "</g>\r\n",
       "<!-- 13 -->\r\n",
       "<g id=\"node14\" class=\"node\"><title>13</title>\r\n",
       "<path fill=\"#61b1ea\" stroke=\"black\" d=\"M637.5,-365C637.5,-365 531.5,-365 531.5,-365 525.5,-365 519.5,-359 519.5,-353 519.5,-353 519.5,-309 519.5,-309 519.5,-303 525.5,-297 531.5,-297 531.5,-297 637.5,-297 637.5,-297 643.5,-297 649.5,-303 649.5,-309 649.5,-309 649.5,-353 649.5,-353 649.5,-359 643.5,-365 637.5,-365\"/>\r\n",
       "<text text-anchor=\"middle\" x=\"584.5\" y=\"-349.8\" font-family=\"Helvetica,sans-Serif\" font-size=\"14.00\">Curtosis &lt;= 2.625</text>\r\n",
       "<text text-anchor=\"middle\" x=\"584.5\" y=\"-334.8\" font-family=\"Helvetica,sans-Serif\" font-size=\"14.00\">gini = 0.278</text>\r\n",
       "<text text-anchor=\"middle\" x=\"584.5\" y=\"-319.8\" font-family=\"Helvetica,sans-Serif\" font-size=\"14.00\">samples = 54</text>\r\n",
       "<text text-anchor=\"middle\" x=\"584.5\" y=\"-304.8\" font-family=\"Helvetica,sans-Serif\" font-size=\"14.00\">value = [9, 45]</text>\r\n",
       "</g>\r\n",
       "<!-- 12&#45;&gt;13 -->\r\n",
       "<g id=\"edge13\" class=\"edge\"><title>12&#45;&gt;13</title>\r\n",
       "<path fill=\"none\" stroke=\"black\" d=\"M584.5,-400.884C584.5,-392.778 584.5,-383.982 584.5,-375.472\"/>\r\n",
       "<polygon fill=\"black\" stroke=\"black\" points=\"588,-375.299 584.5,-365.299 581,-375.299 588,-375.299\"/>\r\n",
       "</g>\r\n",
       "<!-- 18 -->\r\n",
       "<g id=\"node19\" class=\"node\"><title>18</title>\r\n",
       "<path fill=\"#e58139\" stroke=\"black\" d=\"M753,-357.5C753,-357.5 680,-357.5 680,-357.5 674,-357.5 668,-351.5 668,-345.5 668,-345.5 668,-316.5 668,-316.5 668,-310.5 674,-304.5 680,-304.5 680,-304.5 753,-304.5 753,-304.5 759,-304.5 765,-310.5 765,-316.5 765,-316.5 765,-345.5 765,-345.5 765,-351.5 759,-357.5 753,-357.5\"/>\r\n",
       "<text text-anchor=\"middle\" x=\"716.5\" y=\"-342.3\" font-family=\"Helvetica,sans-Serif\" font-size=\"14.00\">gini = 0.0</text>\r\n",
       "<text text-anchor=\"middle\" x=\"716.5\" y=\"-327.3\" font-family=\"Helvetica,sans-Serif\" font-size=\"14.00\">samples = 9</text>\r\n",
       "<text text-anchor=\"middle\" x=\"716.5\" y=\"-312.3\" font-family=\"Helvetica,sans-Serif\" font-size=\"14.00\">value = [9, 0]</text>\r\n",
       "</g>\r\n",
       "<!-- 12&#45;&gt;18 -->\r\n",
       "<g id=\"edge18\" class=\"edge\"><title>12&#45;&gt;18</title>\r\n",
       "<path fill=\"none\" stroke=\"black\" d=\"M627.357,-400.884C642.728,-389.006 660.017,-375.646 675.249,-363.876\"/>\r\n",
       "<polygon fill=\"black\" stroke=\"black\" points=\"677.701,-366.404 683.474,-357.52 673.421,-360.865 677.701,-366.404\"/>\r\n",
       "</g>\r\n",
       "<!-- 14 -->\r\n",
       "<g id=\"node15\" class=\"node\"><title>14</title>\r\n",
       "<path fill=\"#399de5\" stroke=\"black\" d=\"M625,-253.5C625,-253.5 544,-253.5 544,-253.5 538,-253.5 532,-247.5 532,-241.5 532,-241.5 532,-212.5 532,-212.5 532,-206.5 538,-200.5 544,-200.5 544,-200.5 625,-200.5 625,-200.5 631,-200.5 637,-206.5 637,-212.5 637,-212.5 637,-241.5 637,-241.5 637,-247.5 631,-253.5 625,-253.5\"/>\r\n",
       "<text text-anchor=\"middle\" x=\"584.5\" y=\"-238.3\" font-family=\"Helvetica,sans-Serif\" font-size=\"14.00\">gini = 0.0</text>\r\n",
       "<text text-anchor=\"middle\" x=\"584.5\" y=\"-223.3\" font-family=\"Helvetica,sans-Serif\" font-size=\"14.00\">samples = 44</text>\r\n",
       "<text text-anchor=\"middle\" x=\"584.5\" y=\"-208.3\" font-family=\"Helvetica,sans-Serif\" font-size=\"14.00\">value = [0, 44]</text>\r\n",
       "</g>\r\n",
       "<!-- 13&#45;&gt;14 -->\r\n",
       "<g id=\"edge14\" class=\"edge\"><title>13&#45;&gt;14</title>\r\n",
       "<path fill=\"none\" stroke=\"black\" d=\"M584.5,-296.884C584.5,-286.326 584.5,-274.597 584.5,-263.854\"/>\r\n",
       "<polygon fill=\"black\" stroke=\"black\" points=\"588,-263.52 584.5,-253.52 581,-263.52 588,-263.52\"/>\r\n",
       "</g>\r\n",
       "<!-- 15 -->\r\n",
       "<g id=\"node16\" class=\"node\"><title>15</title>\r\n",
       "<path fill=\"#e88f4f\" stroke=\"black\" d=\"M769.5,-261C769.5,-261 667.5,-261 667.5,-261 661.5,-261 655.5,-255 655.5,-249 655.5,-249 655.5,-205 655.5,-205 655.5,-199 661.5,-193 667.5,-193 667.5,-193 769.5,-193 769.5,-193 775.5,-193 781.5,-199 781.5,-205 781.5,-205 781.5,-249 781.5,-249 781.5,-255 775.5,-261 769.5,-261\"/>\r\n",
       "<text text-anchor=\"middle\" x=\"718.5\" y=\"-245.8\" font-family=\"Helvetica,sans-Serif\" font-size=\"14.00\">Entropy &lt;= 1.151</text>\r\n",
       "<text text-anchor=\"middle\" x=\"718.5\" y=\"-230.8\" font-family=\"Helvetica,sans-Serif\" font-size=\"14.00\">gini = 0.18</text>\r\n",
       "<text text-anchor=\"middle\" x=\"718.5\" y=\"-215.8\" font-family=\"Helvetica,sans-Serif\" font-size=\"14.00\">samples = 10</text>\r\n",
       "<text text-anchor=\"middle\" x=\"718.5\" y=\"-200.8\" font-family=\"Helvetica,sans-Serif\" font-size=\"14.00\">value = [9, 1]</text>\r\n",
       "</g>\r\n",
       "<!-- 13&#45;&gt;15 -->\r\n",
       "<g id=\"edge15\" class=\"edge\"><title>13&#45;&gt;15</title>\r\n",
       "<path fill=\"none\" stroke=\"black\" d=\"M628.006,-296.884C640.293,-287.531 653.787,-277.259 666.518,-267.568\"/>\r\n",
       "<polygon fill=\"black\" stroke=\"black\" points=\"668.917,-270.141 674.754,-261.299 664.677,-264.571 668.917,-270.141\"/>\r\n",
       "</g>\r\n",
       "<!-- 16 -->\r\n",
       "<g id=\"node17\" class=\"node\"><title>16</title>\r\n",
       "<path fill=\"#e58139\" stroke=\"black\" d=\"M697,-149.5C697,-149.5 624,-149.5 624,-149.5 618,-149.5 612,-143.5 612,-137.5 612,-137.5 612,-108.5 612,-108.5 612,-102.5 618,-96.5 624,-96.5 624,-96.5 697,-96.5 697,-96.5 703,-96.5 709,-102.5 709,-108.5 709,-108.5 709,-137.5 709,-137.5 709,-143.5 703,-149.5 697,-149.5\"/>\r\n",
       "<text text-anchor=\"middle\" x=\"660.5\" y=\"-134.3\" font-family=\"Helvetica,sans-Serif\" font-size=\"14.00\">gini = 0.0</text>\r\n",
       "<text text-anchor=\"middle\" x=\"660.5\" y=\"-119.3\" font-family=\"Helvetica,sans-Serif\" font-size=\"14.00\">samples = 9</text>\r\n",
       "<text text-anchor=\"middle\" x=\"660.5\" y=\"-104.3\" font-family=\"Helvetica,sans-Serif\" font-size=\"14.00\">value = [9, 0]</text>\r\n",
       "</g>\r\n",
       "<!-- 15&#45;&gt;16 -->\r\n",
       "<g id=\"edge16\" class=\"edge\"><title>15&#45;&gt;16</title>\r\n",
       "<path fill=\"none\" stroke=\"black\" d=\"M699.669,-192.884C693.415,-181.886 686.439,-169.617 680.127,-158.517\"/>\r\n",
       "<polygon fill=\"black\" stroke=\"black\" points=\"682.997,-156.483 675.011,-149.52 676.912,-159.943 682.997,-156.483\"/>\r\n",
       "</g>\r\n",
       "<!-- 17 -->\r\n",
       "<g id=\"node18\" class=\"node\"><title>17</title>\r\n",
       "<path fill=\"#399de5\" stroke=\"black\" d=\"M812,-149.5C812,-149.5 739,-149.5 739,-149.5 733,-149.5 727,-143.5 727,-137.5 727,-137.5 727,-108.5 727,-108.5 727,-102.5 733,-96.5 739,-96.5 739,-96.5 812,-96.5 812,-96.5 818,-96.5 824,-102.5 824,-108.5 824,-108.5 824,-137.5 824,-137.5 824,-143.5 818,-149.5 812,-149.5\"/>\r\n",
       "<text text-anchor=\"middle\" x=\"775.5\" y=\"-134.3\" font-family=\"Helvetica,sans-Serif\" font-size=\"14.00\">gini = 0.0</text>\r\n",
       "<text text-anchor=\"middle\" x=\"775.5\" y=\"-119.3\" font-family=\"Helvetica,sans-Serif\" font-size=\"14.00\">samples = 1</text>\r\n",
       "<text text-anchor=\"middle\" x=\"775.5\" y=\"-104.3\" font-family=\"Helvetica,sans-Serif\" font-size=\"14.00\">value = [0, 1]</text>\r\n",
       "</g>\r\n",
       "<!-- 15&#45;&gt;17 -->\r\n",
       "<g id=\"edge17\" class=\"edge\"><title>15&#45;&gt;17</title>\r\n",
       "<path fill=\"none\" stroke=\"black\" d=\"M737.006,-192.884C743.152,-181.886 750.008,-169.617 756.211,-158.517\"/>\r\n",
       "<polygon fill=\"black\" stroke=\"black\" points=\"759.416,-159.957 761.239,-149.52 753.305,-156.542 759.416,-159.957\"/>\r\n",
       "</g>\r\n",
       "<!-- 20 -->\r\n",
       "<g id=\"node21\" class=\"node\"><title>20</title>\r\n",
       "<path fill=\"#399de5\" stroke=\"black\" d=\"M767,-461.5C767,-461.5 686,-461.5 686,-461.5 680,-461.5 674,-455.5 674,-449.5 674,-449.5 674,-420.5 674,-420.5 674,-414.5 680,-408.5 686,-408.5 686,-408.5 767,-408.5 767,-408.5 773,-408.5 779,-414.5 779,-420.5 779,-420.5 779,-449.5 779,-449.5 779,-455.5 773,-461.5 767,-461.5\"/>\r\n",
       "<text text-anchor=\"middle\" x=\"726.5\" y=\"-446.3\" font-family=\"Helvetica,sans-Serif\" font-size=\"14.00\">gini = 0.0</text>\r\n",
       "<text text-anchor=\"middle\" x=\"726.5\" y=\"-431.3\" font-family=\"Helvetica,sans-Serif\" font-size=\"14.00\">samples = 13</text>\r\n",
       "<text text-anchor=\"middle\" x=\"726.5\" y=\"-416.3\" font-family=\"Helvetica,sans-Serif\" font-size=\"14.00\">value = [0, 13]</text>\r\n",
       "</g>\r\n",
       "<!-- 19&#45;&gt;20 -->\r\n",
       "<g id=\"edge20\" class=\"edge\"><title>19&#45;&gt;20</title>\r\n",
       "<path fill=\"none\" stroke=\"black\" d=\"M767.02,-504.884C760.486,-493.776 753.189,-481.372 746.608,-470.184\"/>\r\n",
       "<polygon fill=\"black\" stroke=\"black\" points=\"749.599,-468.365 741.512,-461.52 743.565,-471.914 749.599,-468.365\"/>\r\n",
       "</g>\r\n",
       "<!-- 21 -->\r\n",
       "<g id=\"node22\" class=\"node\"><title>21</title>\r\n",
       "<path fill=\"#e58139\" stroke=\"black\" d=\"M890,-461.5C890,-461.5 809,-461.5 809,-461.5 803,-461.5 797,-455.5 797,-449.5 797,-449.5 797,-420.5 797,-420.5 797,-414.5 803,-408.5 809,-408.5 809,-408.5 890,-408.5 890,-408.5 896,-408.5 902,-414.5 902,-420.5 902,-420.5 902,-449.5 902,-449.5 902,-455.5 896,-461.5 890,-461.5\"/>\r\n",
       "<text text-anchor=\"middle\" x=\"849.5\" y=\"-446.3\" font-family=\"Helvetica,sans-Serif\" font-size=\"14.00\">gini = 0.0</text>\r\n",
       "<text text-anchor=\"middle\" x=\"849.5\" y=\"-431.3\" font-family=\"Helvetica,sans-Serif\" font-size=\"14.00\">samples = 57</text>\r\n",
       "<text text-anchor=\"middle\" x=\"849.5\" y=\"-416.3\" font-family=\"Helvetica,sans-Serif\" font-size=\"14.00\">value = [57, 0]</text>\r\n",
       "</g>\r\n",
       "<!-- 19&#45;&gt;21 -->\r\n",
       "<g id=\"edge21\" class=\"edge\"><title>19&#45;&gt;21</title>\r\n",
       "<path fill=\"none\" stroke=\"black\" d=\"M806.954,-504.884C813.815,-493.776 821.476,-481.372 828.386,-470.184\"/>\r\n",
       "<polygon fill=\"black\" stroke=\"black\" points=\"831.461,-471.867 833.738,-461.52 825.505,-468.189 831.461,-471.867\"/>\r\n",
       "</g>\r\n",
       "<!-- 23 -->\r\n",
       "<g id=\"node24\" class=\"node\"><title>23</title>\r\n",
       "<path fill=\"#70b8ec\" stroke=\"black\" d=\"M1044.5,-573C1044.5,-573 934.5,-573 934.5,-573 928.5,-573 922.5,-567 922.5,-561 922.5,-561 922.5,-517 922.5,-517 922.5,-511 928.5,-505 934.5,-505 934.5,-505 1044.5,-505 1044.5,-505 1050.5,-505 1056.5,-511 1056.5,-517 1056.5,-517 1056.5,-561 1056.5,-561 1056.5,-567 1050.5,-573 1044.5,-573\"/>\r\n",
       "<text text-anchor=\"middle\" x=\"989.5\" y=\"-557.8\" font-family=\"Helvetica,sans-Serif\" font-size=\"14.00\">Skewness &lt;= 7.38</text>\r\n",
       "<text text-anchor=\"middle\" x=\"989.5\" y=\"-542.8\" font-family=\"Helvetica,sans-Serif\" font-size=\"14.00\">gini = 0.34</text>\r\n",
       "<text text-anchor=\"middle\" x=\"989.5\" y=\"-527.8\" font-family=\"Helvetica,sans-Serif\" font-size=\"14.00\">samples = 23</text>\r\n",
       "<text text-anchor=\"middle\" x=\"989.5\" y=\"-512.8\" font-family=\"Helvetica,sans-Serif\" font-size=\"14.00\">value = [5, 18]</text>\r\n",
       "</g>\r\n",
       "<!-- 22&#45;&gt;23 -->\r\n",
       "<g id=\"edge23\" class=\"edge\"><title>22&#45;&gt;23</title>\r\n",
       "<path fill=\"none\" stroke=\"black\" d=\"M989.5,-608.884C989.5,-600.778 989.5,-591.982 989.5,-583.472\"/>\r\n",
       "<polygon fill=\"black\" stroke=\"black\" points=\"993,-583.299 989.5,-573.299 986,-583.299 993,-583.299\"/>\r\n",
       "</g>\r\n",
       "<!-- 26 -->\r\n",
       "<g id=\"node27\" class=\"node\"><title>26</title>\r\n",
       "<path fill=\"#e78a47\" stroke=\"black\" d=\"M1270.5,-573C1270.5,-573 1172.5,-573 1172.5,-573 1166.5,-573 1160.5,-567 1160.5,-561 1160.5,-561 1160.5,-517 1160.5,-517 1160.5,-511 1166.5,-505 1172.5,-505 1172.5,-505 1270.5,-505 1270.5,-505 1276.5,-505 1282.5,-511 1282.5,-517 1282.5,-517 1282.5,-561 1282.5,-561 1282.5,-567 1276.5,-573 1270.5,-573\"/>\r\n",
       "<text text-anchor=\"middle\" x=\"1221.5\" y=\"-557.8\" font-family=\"Helvetica,sans-Serif\" font-size=\"14.00\">Variance &lt;= 1.5</text>\r\n",
       "<text text-anchor=\"middle\" x=\"1221.5\" y=\"-542.8\" font-family=\"Helvetica,sans-Serif\" font-size=\"14.00\">gini = 0.12</text>\r\n",
       "<text text-anchor=\"middle\" x=\"1221.5\" y=\"-527.8\" font-family=\"Helvetica,sans-Serif\" font-size=\"14.00\">samples = 467</text>\r\n",
       "<text text-anchor=\"middle\" x=\"1221.5\" y=\"-512.8\" font-family=\"Helvetica,sans-Serif\" font-size=\"14.00\">value = [437, 30]</text>\r\n",
       "</g>\r\n",
       "<!-- 22&#45;&gt;26 -->\r\n",
       "<g id=\"edge26\" class=\"edge\"><title>22&#45;&gt;26</title>\r\n",
       "<path fill=\"none\" stroke=\"black\" d=\"M1056.6,-612.497C1086.32,-599.434 1121.27,-584.067 1151.33,-570.851\"/>\r\n",
       "<polygon fill=\"black\" stroke=\"black\" points=\"1152.74,-574.052 1160.49,-566.823 1149.93,-567.644 1152.74,-574.052\"/>\r\n",
       "</g>\r\n",
       "<!-- 24 -->\r\n",
       "<g id=\"node25\" class=\"node\"><title>24</title>\r\n",
       "<path fill=\"#399de5\" stroke=\"black\" d=\"M1013,-461.5C1013,-461.5 932,-461.5 932,-461.5 926,-461.5 920,-455.5 920,-449.5 920,-449.5 920,-420.5 920,-420.5 920,-414.5 926,-408.5 932,-408.5 932,-408.5 1013,-408.5 1013,-408.5 1019,-408.5 1025,-414.5 1025,-420.5 1025,-420.5 1025,-449.5 1025,-449.5 1025,-455.5 1019,-461.5 1013,-461.5\"/>\r\n",
       "<text text-anchor=\"middle\" x=\"972.5\" y=\"-446.3\" font-family=\"Helvetica,sans-Serif\" font-size=\"14.00\">gini = 0.0</text>\r\n",
       "<text text-anchor=\"middle\" x=\"972.5\" y=\"-431.3\" font-family=\"Helvetica,sans-Serif\" font-size=\"14.00\">samples = 18</text>\r\n",
       "<text text-anchor=\"middle\" x=\"972.5\" y=\"-416.3\" font-family=\"Helvetica,sans-Serif\" font-size=\"14.00\">value = [0, 18]</text>\r\n",
       "</g>\r\n",
       "<!-- 23&#45;&gt;24 -->\r\n",
       "<g id=\"edge24\" class=\"edge\"><title>23&#45;&gt;24</title>\r\n",
       "<path fill=\"none\" stroke=\"black\" d=\"M983.981,-504.884C982.203,-494.216 980.225,-482.352 978.42,-471.519\"/>\r\n",
       "<polygon fill=\"black\" stroke=\"black\" points=\"981.85,-470.808 976.753,-461.52 974.945,-471.959 981.85,-470.808\"/>\r\n",
       "</g>\r\n",
       "<!-- 25 -->\r\n",
       "<g id=\"node26\" class=\"node\"><title>25</title>\r\n",
       "<path fill=\"#e58139\" stroke=\"black\" d=\"M1128,-461.5C1128,-461.5 1055,-461.5 1055,-461.5 1049,-461.5 1043,-455.5 1043,-449.5 1043,-449.5 1043,-420.5 1043,-420.5 1043,-414.5 1049,-408.5 1055,-408.5 1055,-408.5 1128,-408.5 1128,-408.5 1134,-408.5 1140,-414.5 1140,-420.5 1140,-420.5 1140,-449.5 1140,-449.5 1140,-455.5 1134,-461.5 1128,-461.5\"/>\r\n",
       "<text text-anchor=\"middle\" x=\"1091.5\" y=\"-446.3\" font-family=\"Helvetica,sans-Serif\" font-size=\"14.00\">gini = 0.0</text>\r\n",
       "<text text-anchor=\"middle\" x=\"1091.5\" y=\"-431.3\" font-family=\"Helvetica,sans-Serif\" font-size=\"14.00\">samples = 5</text>\r\n",
       "<text text-anchor=\"middle\" x=\"1091.5\" y=\"-416.3\" font-family=\"Helvetica,sans-Serif\" font-size=\"14.00\">value = [5, 0]</text>\r\n",
       "</g>\r\n",
       "<!-- 23&#45;&gt;25 -->\r\n",
       "<g id=\"edge25\" class=\"edge\"><title>23&#45;&gt;25</title>\r\n",
       "<path fill=\"none\" stroke=\"black\" d=\"M1022.62,-504.884C1034.16,-493.336 1047.11,-480.387 1058.64,-468.86\"/>\r\n",
       "<polygon fill=\"black\" stroke=\"black\" points=\"1061.38,-471.066 1065.98,-461.52 1056.43,-466.116 1061.38,-471.066\"/>\r\n",
       "</g>\r\n",
       "<!-- 27 -->\r\n",
       "<g id=\"node28\" class=\"node\"><title>27</title>\r\n",
       "<path fill=\"#edaa79\" stroke=\"black\" d=\"M1272.5,-469C1272.5,-469 1170.5,-469 1170.5,-469 1164.5,-469 1158.5,-463 1158.5,-457 1158.5,-457 1158.5,-413 1158.5,-413 1158.5,-407 1164.5,-401 1170.5,-401 1170.5,-401 1272.5,-401 1272.5,-401 1278.5,-401 1284.5,-407 1284.5,-413 1284.5,-413 1284.5,-457 1284.5,-457 1284.5,-463 1278.5,-469 1272.5,-469\"/>\r\n",
       "<text text-anchor=\"middle\" x=\"1221.5\" y=\"-453.8\" font-family=\"Helvetica,sans-Serif\" font-size=\"14.00\">Curtosis &lt;= &#45;2.19</text>\r\n",
       "<text text-anchor=\"middle\" x=\"1221.5\" y=\"-438.8\" font-family=\"Helvetica,sans-Serif\" font-size=\"14.00\">gini = 0.37</text>\r\n",
       "<text text-anchor=\"middle\" x=\"1221.5\" y=\"-423.8\" font-family=\"Helvetica,sans-Serif\" font-size=\"14.00\">samples = 110</text>\r\n",
       "<text text-anchor=\"middle\" x=\"1221.5\" y=\"-408.8\" font-family=\"Helvetica,sans-Serif\" font-size=\"14.00\">value = [83, 27]</text>\r\n",
       "</g>\r\n",
       "<!-- 26&#45;&gt;27 -->\r\n",
       "<g id=\"edge27\" class=\"edge\"><title>26&#45;&gt;27</title>\r\n",
       "<path fill=\"none\" stroke=\"black\" d=\"M1221.5,-504.884C1221.5,-496.778 1221.5,-487.982 1221.5,-479.472\"/>\r\n",
       "<polygon fill=\"black\" stroke=\"black\" points=\"1225,-479.299 1221.5,-469.299 1218,-479.299 1225,-479.299\"/>\r\n",
       "</g>\r\n",
       "<!-- 40 -->\r\n",
       "<g id=\"node41\" class=\"node\"><title>40</title>\r\n",
       "<path fill=\"#e5823b\" stroke=\"black\" d=\"M1534,-469C1534,-469 1425,-469 1425,-469 1419,-469 1413,-463 1413,-457 1413,-457 1413,-413 1413,-413 1413,-407 1419,-401 1425,-401 1425,-401 1534,-401 1534,-401 1540,-401 1546,-407 1546,-413 1546,-413 1546,-457 1546,-457 1546,-463 1540,-469 1534,-469\"/>\r\n",
       "<text text-anchor=\"middle\" x=\"1479.5\" y=\"-453.8\" font-family=\"Helvetica,sans-Serif\" font-size=\"14.00\">Variance &lt;= 1.744</text>\r\n",
       "<text text-anchor=\"middle\" x=\"1479.5\" y=\"-438.8\" font-family=\"Helvetica,sans-Serif\" font-size=\"14.00\">gini = 0.017</text>\r\n",
       "<text text-anchor=\"middle\" x=\"1479.5\" y=\"-423.8\" font-family=\"Helvetica,sans-Serif\" font-size=\"14.00\">samples = 357</text>\r\n",
       "<text text-anchor=\"middle\" x=\"1479.5\" y=\"-408.8\" font-family=\"Helvetica,sans-Serif\" font-size=\"14.00\">value = [354, 3]</text>\r\n",
       "</g>\r\n",
       "<!-- 26&#45;&gt;40 -->\r\n",
       "<g id=\"edge40\" class=\"edge\"><title>26&#45;&gt;40</title>\r\n",
       "<path fill=\"none\" stroke=\"black\" d=\"M1282.64,-513.827C1318.77,-499.544 1364.83,-481.336 1403.31,-466.123\"/>\r\n",
       "<polygon fill=\"black\" stroke=\"black\" points=\"1404.9,-469.256 1412.91,-462.325 1402.33,-462.746 1404.9,-469.256\"/>\r\n",
       "</g>\r\n",
       "<!-- 28 -->\r\n",
       "<g id=\"node29\" class=\"node\"><title>28</title>\r\n",
       "<path fill=\"#5caeea\" stroke=\"black\" d=\"M1079,-365C1079,-365 960,-365 960,-365 954,-365 948,-359 948,-353 948,-353 948,-309 948,-309 948,-303 954,-297 960,-297 960,-297 1079,-297 1079,-297 1085,-297 1091,-303 1091,-309 1091,-309 1091,-353 1091,-353 1091,-359 1085,-365 1079,-365\"/>\r\n",
       "<text text-anchor=\"middle\" x=\"1019.5\" y=\"-349.8\" font-family=\"Helvetica,sans-Serif\" font-size=\"14.00\">Skewness &lt;= 5.667</text>\r\n",
       "<text text-anchor=\"middle\" x=\"1019.5\" y=\"-334.8\" font-family=\"Helvetica,sans-Serif\" font-size=\"14.00\">gini = 0.255</text>\r\n",
       "<text text-anchor=\"middle\" x=\"1019.5\" y=\"-319.8\" font-family=\"Helvetica,sans-Serif\" font-size=\"14.00\">samples = 20</text>\r\n",
       "<text text-anchor=\"middle\" x=\"1019.5\" y=\"-304.8\" font-family=\"Helvetica,sans-Serif\" font-size=\"14.00\">value = [3, 17]</text>\r\n",
       "</g>\r\n",
       "<!-- 27&#45;&gt;28 -->\r\n",
       "<g id=\"edge28\" class=\"edge\"><title>27&#45;&gt;28</title>\r\n",
       "<path fill=\"none\" stroke=\"black\" d=\"M1158.42,-402.146C1137.96,-391.815 1115.07,-380.257 1093.86,-369.55\"/>\r\n",
       "<polygon fill=\"black\" stroke=\"black\" points=\"1095.4,-366.403 1084.89,-365.02 1092.24,-372.652 1095.4,-366.403\"/>\r\n",
       "</g>\r\n",
       "<!-- 31 -->\r\n",
       "<g id=\"node32\" class=\"node\"><title>31</title>\r\n",
       "<path fill=\"#e89152\" stroke=\"black\" d=\"M1272.5,-365C1272.5,-365 1170.5,-365 1170.5,-365 1164.5,-365 1158.5,-359 1158.5,-353 1158.5,-353 1158.5,-309 1158.5,-309 1158.5,-303 1164.5,-297 1170.5,-297 1170.5,-297 1272.5,-297 1272.5,-297 1278.5,-297 1284.5,-303 1284.5,-309 1284.5,-309 1284.5,-353 1284.5,-353 1284.5,-359 1278.5,-365 1272.5,-365\"/>\r\n",
       "<text text-anchor=\"middle\" x=\"1221.5\" y=\"-349.8\" font-family=\"Helvetica,sans-Serif\" font-size=\"14.00\">Entropy &lt;= 0.834</text>\r\n",
       "<text text-anchor=\"middle\" x=\"1221.5\" y=\"-334.8\" font-family=\"Helvetica,sans-Serif\" font-size=\"14.00\">gini = 0.198</text>\r\n",
       "<text text-anchor=\"middle\" x=\"1221.5\" y=\"-319.8\" font-family=\"Helvetica,sans-Serif\" font-size=\"14.00\">samples = 90</text>\r\n",
       "<text text-anchor=\"middle\" x=\"1221.5\" y=\"-304.8\" font-family=\"Helvetica,sans-Serif\" font-size=\"14.00\">value = [80, 10]</text>\r\n",
       "</g>\r\n",
       "<!-- 27&#45;&gt;31 -->\r\n",
       "<g id=\"edge31\" class=\"edge\"><title>27&#45;&gt;31</title>\r\n",
       "<path fill=\"none\" stroke=\"black\" d=\"M1221.5,-400.884C1221.5,-392.778 1221.5,-383.982 1221.5,-375.472\"/>\r\n",
       "<polygon fill=\"black\" stroke=\"black\" points=\"1225,-375.299 1221.5,-365.299 1218,-375.299 1225,-375.299\"/>\r\n",
       "</g>\r\n",
       "<!-- 29 -->\r\n",
       "<g id=\"node30\" class=\"node\"><title>29</title>\r\n",
       "<path fill=\"#399de5\" stroke=\"black\" d=\"M941,-253.5C941,-253.5 860,-253.5 860,-253.5 854,-253.5 848,-247.5 848,-241.5 848,-241.5 848,-212.5 848,-212.5 848,-206.5 854,-200.5 860,-200.5 860,-200.5 941,-200.5 941,-200.5 947,-200.5 953,-206.5 953,-212.5 953,-212.5 953,-241.5 953,-241.5 953,-247.5 947,-253.5 941,-253.5\"/>\r\n",
       "<text text-anchor=\"middle\" x=\"900.5\" y=\"-238.3\" font-family=\"Helvetica,sans-Serif\" font-size=\"14.00\">gini = 0.0</text>\r\n",
       "<text text-anchor=\"middle\" x=\"900.5\" y=\"-223.3\" font-family=\"Helvetica,sans-Serif\" font-size=\"14.00\">samples = 17</text>\r\n",
       "<text text-anchor=\"middle\" x=\"900.5\" y=\"-208.3\" font-family=\"Helvetica,sans-Serif\" font-size=\"14.00\">value = [0, 17]</text>\r\n",
       "</g>\r\n",
       "<!-- 28&#45;&gt;29 -->\r\n",
       "<g id=\"edge29\" class=\"edge\"><title>28&#45;&gt;29</title>\r\n",
       "<path fill=\"none\" stroke=\"black\" d=\"M980.864,-296.884C967.135,-285.116 951.709,-271.894 938.071,-260.203\"/>\r\n",
       "<polygon fill=\"black\" stroke=\"black\" points=\"940.144,-257.37 930.273,-253.52 935.588,-262.685 940.144,-257.37\"/>\r\n",
       "</g>\r\n",
       "<!-- 30 -->\r\n",
       "<g id=\"node31\" class=\"node\"><title>30</title>\r\n",
       "<path fill=\"#e58139\" stroke=\"black\" d=\"M1056,-253.5C1056,-253.5 983,-253.5 983,-253.5 977,-253.5 971,-247.5 971,-241.5 971,-241.5 971,-212.5 971,-212.5 971,-206.5 977,-200.5 983,-200.5 983,-200.5 1056,-200.5 1056,-200.5 1062,-200.5 1068,-206.5 1068,-212.5 1068,-212.5 1068,-241.5 1068,-241.5 1068,-247.5 1062,-253.5 1056,-253.5\"/>\r\n",
       "<text text-anchor=\"middle\" x=\"1019.5\" y=\"-238.3\" font-family=\"Helvetica,sans-Serif\" font-size=\"14.00\">gini = 0.0</text>\r\n",
       "<text text-anchor=\"middle\" x=\"1019.5\" y=\"-223.3\" font-family=\"Helvetica,sans-Serif\" font-size=\"14.00\">samples = 3</text>\r\n",
       "<text text-anchor=\"middle\" x=\"1019.5\" y=\"-208.3\" font-family=\"Helvetica,sans-Serif\" font-size=\"14.00\">value = [3, 0]</text>\r\n",
       "</g>\r\n",
       "<!-- 28&#45;&gt;30 -->\r\n",
       "<g id=\"edge30\" class=\"edge\"><title>28&#45;&gt;30</title>\r\n",
       "<path fill=\"none\" stroke=\"black\" d=\"M1019.5,-296.884C1019.5,-286.326 1019.5,-274.597 1019.5,-263.854\"/>\r\n",
       "<polygon fill=\"black\" stroke=\"black\" points=\"1023,-263.52 1019.5,-253.52 1016,-263.52 1023,-263.52\"/>\r\n",
       "</g>\r\n",
       "<!-- 32 -->\r\n",
       "<g id=\"node33\" class=\"node\"><title>32</title>\r\n",
       "<path fill=\"#e78946\" stroke=\"black\" d=\"M1200.5,-261C1200.5,-261 1098.5,-261 1098.5,-261 1092.5,-261 1086.5,-255 1086.5,-249 1086.5,-249 1086.5,-205 1086.5,-205 1086.5,-199 1092.5,-193 1098.5,-193 1098.5,-193 1200.5,-193 1200.5,-193 1206.5,-193 1212.5,-199 1212.5,-205 1212.5,-205 1212.5,-249 1212.5,-249 1212.5,-255 1206.5,-261 1200.5,-261\"/>\r\n",
       "<text text-anchor=\"middle\" x=\"1149.5\" y=\"-245.8\" font-family=\"Helvetica,sans-Serif\" font-size=\"14.00\">Entropy &lt;= 0.039</text>\r\n",
       "<text text-anchor=\"middle\" x=\"1149.5\" y=\"-230.8\" font-family=\"Helvetica,sans-Serif\" font-size=\"14.00\">gini = 0.112</text>\r\n",
       "<text text-anchor=\"middle\" x=\"1149.5\" y=\"-215.8\" font-family=\"Helvetica,sans-Serif\" font-size=\"14.00\">samples = 84</text>\r\n",
       "<text text-anchor=\"middle\" x=\"1149.5\" y=\"-200.8\" font-family=\"Helvetica,sans-Serif\" font-size=\"14.00\">value = [79, 5]</text>\r\n",
       "</g>\r\n",
       "<!-- 31&#45;&gt;32 -->\r\n",
       "<g id=\"edge32\" class=\"edge\"><title>31&#45;&gt;32</title>\r\n",
       "<path fill=\"none\" stroke=\"black\" d=\"M1198.12,-296.884C1191.96,-288.154 1185.24,-278.625 1178.8,-269.514\"/>\r\n",
       "<polygon fill=\"black\" stroke=\"black\" points=\"1181.63,-267.451 1173.01,-261.299 1175.91,-271.487 1181.63,-267.451\"/>\r\n",
       "</g>\r\n",
       "<!-- 37 -->\r\n",
       "<g id=\"node38\" class=\"node\"><title>37</title>\r\n",
       "<path fill=\"#61b1ea\" stroke=\"black\" d=\"M1348.5,-261C1348.5,-261 1242.5,-261 1242.5,-261 1236.5,-261 1230.5,-255 1230.5,-249 1230.5,-249 1230.5,-205 1230.5,-205 1230.5,-199 1236.5,-193 1242.5,-193 1242.5,-193 1348.5,-193 1348.5,-193 1354.5,-193 1360.5,-199 1360.5,-205 1360.5,-205 1360.5,-249 1360.5,-249 1360.5,-255 1354.5,-261 1348.5,-261\"/>\r\n",
       "<text text-anchor=\"middle\" x=\"1295.5\" y=\"-245.8\" font-family=\"Helvetica,sans-Serif\" font-size=\"14.00\">Curtosis &lt;= 2.506</text>\r\n",
       "<text text-anchor=\"middle\" x=\"1295.5\" y=\"-230.8\" font-family=\"Helvetica,sans-Serif\" font-size=\"14.00\">gini = 0.278</text>\r\n",
       "<text text-anchor=\"middle\" x=\"1295.5\" y=\"-215.8\" font-family=\"Helvetica,sans-Serif\" font-size=\"14.00\">samples = 6</text>\r\n",
       "<text text-anchor=\"middle\" x=\"1295.5\" y=\"-200.8\" font-family=\"Helvetica,sans-Serif\" font-size=\"14.00\">value = [1, 5]</text>\r\n",
       "</g>\r\n",
       "<!-- 31&#45;&gt;37 -->\r\n",
       "<g id=\"edge37\" class=\"edge\"><title>31&#45;&gt;37</title>\r\n",
       "<path fill=\"none\" stroke=\"black\" d=\"M1245.53,-296.884C1251.86,-288.154 1258.77,-278.625 1265.38,-269.514\"/>\r\n",
       "<polygon fill=\"black\" stroke=\"black\" points=\"1268.3,-271.449 1271.34,-261.299 1262.64,-267.338 1268.3,-271.449\"/>\r\n",
       "</g>\r\n",
       "<!-- 33 -->\r\n",
       "<g id=\"node34\" class=\"node\"><title>33</title>\r\n",
       "<path fill=\"#e58139\" stroke=\"black\" d=\"M1057,-149.5C1057,-149.5 976,-149.5 976,-149.5 970,-149.5 964,-143.5 964,-137.5 964,-137.5 964,-108.5 964,-108.5 964,-102.5 970,-96.5 976,-96.5 976,-96.5 1057,-96.5 1057,-96.5 1063,-96.5 1069,-102.5 1069,-108.5 1069,-108.5 1069,-137.5 1069,-137.5 1069,-143.5 1063,-149.5 1057,-149.5\"/>\r\n",
       "<text text-anchor=\"middle\" x=\"1016.5\" y=\"-134.3\" font-family=\"Helvetica,sans-Serif\" font-size=\"14.00\">gini = 0.0</text>\r\n",
       "<text text-anchor=\"middle\" x=\"1016.5\" y=\"-119.3\" font-family=\"Helvetica,sans-Serif\" font-size=\"14.00\">samples = 67</text>\r\n",
       "<text text-anchor=\"middle\" x=\"1016.5\" y=\"-104.3\" font-family=\"Helvetica,sans-Serif\" font-size=\"14.00\">value = [67, 0]</text>\r\n",
       "</g>\r\n",
       "<!-- 32&#45;&gt;33 -->\r\n",
       "<g id=\"edge33\" class=\"edge\"><title>32&#45;&gt;33</title>\r\n",
       "<path fill=\"none\" stroke=\"black\" d=\"M1106.32,-192.884C1090.83,-181.006 1073.41,-167.646 1058.06,-155.876\"/>\r\n",
       "<polygon fill=\"black\" stroke=\"black\" points=\"1059.84,-152.828 1049.78,-149.52 1055.58,-158.383 1059.84,-152.828\"/>\r\n",
       "</g>\r\n",
       "<!-- 34 -->\r\n",
       "<g id=\"node35\" class=\"node\"><title>34</title>\r\n",
       "<path fill=\"#f0b58b\" stroke=\"black\" d=\"M1205.5,-157C1205.5,-157 1099.5,-157 1099.5,-157 1093.5,-157 1087.5,-151 1087.5,-145 1087.5,-145 1087.5,-101 1087.5,-101 1087.5,-95 1093.5,-89 1099.5,-89 1099.5,-89 1205.5,-89 1205.5,-89 1211.5,-89 1217.5,-95 1217.5,-101 1217.5,-101 1217.5,-145 1217.5,-145 1217.5,-151 1211.5,-157 1205.5,-157\"/>\r\n",
       "<text text-anchor=\"middle\" x=\"1152.5\" y=\"-141.8\" font-family=\"Helvetica,sans-Serif\" font-size=\"14.00\">Curtosis &lt;= 1.092</text>\r\n",
       "<text text-anchor=\"middle\" x=\"1152.5\" y=\"-126.8\" font-family=\"Helvetica,sans-Serif\" font-size=\"14.00\">gini = 0.415</text>\r\n",
       "<text text-anchor=\"middle\" x=\"1152.5\" y=\"-111.8\" font-family=\"Helvetica,sans-Serif\" font-size=\"14.00\">samples = 17</text>\r\n",
       "<text text-anchor=\"middle\" x=\"1152.5\" y=\"-96.8\" font-family=\"Helvetica,sans-Serif\" font-size=\"14.00\">value = [12, 5]</text>\r\n",
       "</g>\r\n",
       "<!-- 32&#45;&gt;34 -->\r\n",
       "<g id=\"edge34\" class=\"edge\"><title>32&#45;&gt;34</title>\r\n",
       "<path fill=\"none\" stroke=\"black\" d=\"M1150.47,-192.884C1150.71,-184.778 1150.97,-175.982 1151.22,-167.472\"/>\r\n",
       "<polygon fill=\"black\" stroke=\"black\" points=\"1154.73,-167.398 1151.52,-157.299 1147.73,-167.192 1154.73,-167.398\"/>\r\n",
       "</g>\r\n",
       "<!-- 35 -->\r\n",
       "<g id=\"node36\" class=\"node\"><title>35</title>\r\n",
       "<path fill=\"#399de5\" stroke=\"black\" d=\"M1129,-53C1129,-53 1056,-53 1056,-53 1050,-53 1044,-47 1044,-41 1044,-41 1044,-12 1044,-12 1044,-6 1050,-0 1056,-0 1056,-0 1129,-0 1129,-0 1135,-0 1141,-6 1141,-12 1141,-12 1141,-41 1141,-41 1141,-47 1135,-53 1129,-53\"/>\r\n",
       "<text text-anchor=\"middle\" x=\"1092.5\" y=\"-37.8\" font-family=\"Helvetica,sans-Serif\" font-size=\"14.00\">gini = 0.0</text>\r\n",
       "<text text-anchor=\"middle\" x=\"1092.5\" y=\"-22.8\" font-family=\"Helvetica,sans-Serif\" font-size=\"14.00\">samples = 5</text>\r\n",
       "<text text-anchor=\"middle\" x=\"1092.5\" y=\"-7.8\" font-family=\"Helvetica,sans-Serif\" font-size=\"14.00\">value = [0, 5]</text>\r\n",
       "</g>\r\n",
       "<!-- 34&#45;&gt;35 -->\r\n",
       "<g id=\"edge35\" class=\"edge\"><title>34&#45;&gt;35</title>\r\n",
       "<path fill=\"none\" stroke=\"black\" d=\"M1131.51,-88.9485C1125.94,-80.1664 1119.91,-70.6629 1114.29,-61.815\"/>\r\n",
       "<polygon fill=\"black\" stroke=\"black\" points=\"1117.16,-59.8028 1108.84,-53.2367 1111.25,-63.5549 1117.16,-59.8028\"/>\r\n",
       "</g>\r\n",
       "<!-- 36 -->\r\n",
       "<g id=\"node37\" class=\"node\"><title>36</title>\r\n",
       "<path fill=\"#e58139\" stroke=\"black\" d=\"M1252,-53C1252,-53 1171,-53 1171,-53 1165,-53 1159,-47 1159,-41 1159,-41 1159,-12 1159,-12 1159,-6 1165,-0 1171,-0 1171,-0 1252,-0 1252,-0 1258,-0 1264,-6 1264,-12 1264,-12 1264,-41 1264,-41 1264,-47 1258,-53 1252,-53\"/>\r\n",
       "<text text-anchor=\"middle\" x=\"1211.5\" y=\"-37.8\" font-family=\"Helvetica,sans-Serif\" font-size=\"14.00\">gini = 0.0</text>\r\n",
       "<text text-anchor=\"middle\" x=\"1211.5\" y=\"-22.8\" font-family=\"Helvetica,sans-Serif\" font-size=\"14.00\">samples = 12</text>\r\n",
       "<text text-anchor=\"middle\" x=\"1211.5\" y=\"-7.8\" font-family=\"Helvetica,sans-Serif\" font-size=\"14.00\">value = [12, 0]</text>\r\n",
       "</g>\r\n",
       "<!-- 34&#45;&gt;36 -->\r\n",
       "<g id=\"edge36\" class=\"edge\"><title>34&#45;&gt;36</title>\r\n",
       "<path fill=\"none\" stroke=\"black\" d=\"M1173.14,-88.9485C1178.62,-80.1664 1184.55,-70.6629 1190.08,-61.815\"/>\r\n",
       "<polygon fill=\"black\" stroke=\"black\" points=\"1193.1,-63.5728 1195.43,-53.2367 1187.17,-59.8656 1193.1,-63.5728\"/>\r\n",
       "</g>\r\n",
       "<!-- 38 -->\r\n",
       "<g id=\"node39\" class=\"node\"><title>38</title>\r\n",
       "<path fill=\"#399de5\" stroke=\"black\" d=\"M1328,-149.5C1328,-149.5 1255,-149.5 1255,-149.5 1249,-149.5 1243,-143.5 1243,-137.5 1243,-137.5 1243,-108.5 1243,-108.5 1243,-102.5 1249,-96.5 1255,-96.5 1255,-96.5 1328,-96.5 1328,-96.5 1334,-96.5 1340,-102.5 1340,-108.5 1340,-108.5 1340,-137.5 1340,-137.5 1340,-143.5 1334,-149.5 1328,-149.5\"/>\r\n",
       "<text text-anchor=\"middle\" x=\"1291.5\" y=\"-134.3\" font-family=\"Helvetica,sans-Serif\" font-size=\"14.00\">gini = 0.0</text>\r\n",
       "<text text-anchor=\"middle\" x=\"1291.5\" y=\"-119.3\" font-family=\"Helvetica,sans-Serif\" font-size=\"14.00\">samples = 5</text>\r\n",
       "<text text-anchor=\"middle\" x=\"1291.5\" y=\"-104.3\" font-family=\"Helvetica,sans-Serif\" font-size=\"14.00\">value = [0, 5]</text>\r\n",
       "</g>\r\n",
       "<!-- 37&#45;&gt;38 -->\r\n",
       "<g id=\"edge38\" class=\"edge\"><title>37&#45;&gt;38</title>\r\n",
       "<path fill=\"none\" stroke=\"black\" d=\"M1294.2,-192.884C1293.78,-182.216 1293.32,-170.352 1292.89,-159.519\"/>\r\n",
       "<polygon fill=\"black\" stroke=\"black\" points=\"1296.39,-159.375 1292.5,-149.52 1289.4,-159.649 1296.39,-159.375\"/>\r\n",
       "</g>\r\n",
       "<!-- 39 -->\r\n",
       "<g id=\"node40\" class=\"node\"><title>39</title>\r\n",
       "<path fill=\"#e58139\" stroke=\"black\" d=\"M1443,-149.5C1443,-149.5 1370,-149.5 1370,-149.5 1364,-149.5 1358,-143.5 1358,-137.5 1358,-137.5 1358,-108.5 1358,-108.5 1358,-102.5 1364,-96.5 1370,-96.5 1370,-96.5 1443,-96.5 1443,-96.5 1449,-96.5 1455,-102.5 1455,-108.5 1455,-108.5 1455,-137.5 1455,-137.5 1455,-143.5 1449,-149.5 1443,-149.5\"/>\r\n",
       "<text text-anchor=\"middle\" x=\"1406.5\" y=\"-134.3\" font-family=\"Helvetica,sans-Serif\" font-size=\"14.00\">gini = 0.0</text>\r\n",
       "<text text-anchor=\"middle\" x=\"1406.5\" y=\"-119.3\" font-family=\"Helvetica,sans-Serif\" font-size=\"14.00\">samples = 1</text>\r\n",
       "<text text-anchor=\"middle\" x=\"1406.5\" y=\"-104.3\" font-family=\"Helvetica,sans-Serif\" font-size=\"14.00\">value = [1, 0]</text>\r\n",
       "</g>\r\n",
       "<!-- 37&#45;&gt;39 -->\r\n",
       "<g id=\"edge39\" class=\"edge\"><title>37&#45;&gt;39</title>\r\n",
       "<path fill=\"none\" stroke=\"black\" d=\"M1331.54,-192.884C1344.22,-181.226 1358.46,-168.141 1371.1,-156.532\"/>\r\n",
       "<polygon fill=\"black\" stroke=\"black\" points=\"1373.73,-158.863 1378.73,-149.52 1369,-153.709 1373.73,-158.863\"/>\r\n",
       "</g>\r\n",
       "<!-- 41 -->\r\n",
       "<g id=\"node42\" class=\"node\"><title>41</title>\r\n",
       "<path fill=\"#e89152\" stroke=\"black\" d=\"M1534.5,-365C1534.5,-365 1424.5,-365 1424.5,-365 1418.5,-365 1412.5,-359 1412.5,-353 1412.5,-353 1412.5,-309 1412.5,-309 1412.5,-303 1418.5,-297 1424.5,-297 1424.5,-297 1534.5,-297 1534.5,-297 1540.5,-297 1546.5,-303 1546.5,-309 1546.5,-309 1546.5,-353 1546.5,-353 1546.5,-359 1540.5,-365 1534.5,-365\"/>\r\n",
       "<text text-anchor=\"middle\" x=\"1479.5\" y=\"-349.8\" font-family=\"Helvetica,sans-Serif\" font-size=\"14.00\">Curtosis &lt;= &#45;2.695</text>\r\n",
       "<text text-anchor=\"middle\" x=\"1479.5\" y=\"-334.8\" font-family=\"Helvetica,sans-Serif\" font-size=\"14.00\">gini = 0.198</text>\r\n",
       "<text text-anchor=\"middle\" x=\"1479.5\" y=\"-319.8\" font-family=\"Helvetica,sans-Serif\" font-size=\"14.00\">samples = 18</text>\r\n",
       "<text text-anchor=\"middle\" x=\"1479.5\" y=\"-304.8\" font-family=\"Helvetica,sans-Serif\" font-size=\"14.00\">value = [16, 2]</text>\r\n",
       "</g>\r\n",
       "<!-- 40&#45;&gt;41 -->\r\n",
       "<g id=\"edge41\" class=\"edge\"><title>40&#45;&gt;41</title>\r\n",
       "<path fill=\"none\" stroke=\"black\" d=\"M1479.5,-400.884C1479.5,-392.778 1479.5,-383.982 1479.5,-375.472\"/>\r\n",
       "<polygon fill=\"black\" stroke=\"black\" points=\"1483,-375.299 1479.5,-365.299 1476,-375.299 1483,-375.299\"/>\r\n",
       "</g>\r\n",
       "<!-- 44 -->\r\n",
       "<g id=\"node45\" class=\"node\"><title>44</title>\r\n",
       "<path fill=\"#e5813a\" stroke=\"black\" d=\"M1738,-365C1738,-365 1629,-365 1629,-365 1623,-365 1617,-359 1617,-353 1617,-353 1617,-309 1617,-309 1617,-303 1623,-297 1629,-297 1629,-297 1738,-297 1738,-297 1744,-297 1750,-303 1750,-309 1750,-309 1750,-353 1750,-353 1750,-359 1744,-365 1738,-365\"/>\r\n",
       "<text text-anchor=\"middle\" x=\"1683.5\" y=\"-349.8\" font-family=\"Helvetica,sans-Serif\" font-size=\"14.00\">Variance &lt;= 2.018</text>\r\n",
       "<text text-anchor=\"middle\" x=\"1683.5\" y=\"-334.8\" font-family=\"Helvetica,sans-Serif\" font-size=\"14.00\">gini = 0.006</text>\r\n",
       "<text text-anchor=\"middle\" x=\"1683.5\" y=\"-319.8\" font-family=\"Helvetica,sans-Serif\" font-size=\"14.00\">samples = 339</text>\r\n",
       "<text text-anchor=\"middle\" x=\"1683.5\" y=\"-304.8\" font-family=\"Helvetica,sans-Serif\" font-size=\"14.00\">value = [338, 1]</text>\r\n",
       "</g>\r\n",
       "<!-- 40&#45;&gt;44 -->\r\n",
       "<g id=\"edge44\" class=\"edge\"><title>40&#45;&gt;44</title>\r\n",
       "<path fill=\"none\" stroke=\"black\" d=\"M1545.73,-400.884C1565.7,-390.901 1587.76,-379.872 1608.26,-369.619\"/>\r\n",
       "<polygon fill=\"black\" stroke=\"black\" points=\"1609.87,-372.727 1617.25,-365.125 1606.74,-366.466 1609.87,-372.727\"/>\r\n",
       "</g>\r\n",
       "<!-- 42 -->\r\n",
       "<g id=\"node43\" class=\"node\"><title>42</title>\r\n",
       "<path fill=\"#399de5\" stroke=\"black\" d=\"M1464,-253.5C1464,-253.5 1391,-253.5 1391,-253.5 1385,-253.5 1379,-247.5 1379,-241.5 1379,-241.5 1379,-212.5 1379,-212.5 1379,-206.5 1385,-200.5 1391,-200.5 1391,-200.5 1464,-200.5 1464,-200.5 1470,-200.5 1476,-206.5 1476,-212.5 1476,-212.5 1476,-241.5 1476,-241.5 1476,-247.5 1470,-253.5 1464,-253.5\"/>\r\n",
       "<text text-anchor=\"middle\" x=\"1427.5\" y=\"-238.3\" font-family=\"Helvetica,sans-Serif\" font-size=\"14.00\">gini = 0.0</text>\r\n",
       "<text text-anchor=\"middle\" x=\"1427.5\" y=\"-223.3\" font-family=\"Helvetica,sans-Serif\" font-size=\"14.00\">samples = 2</text>\r\n",
       "<text text-anchor=\"middle\" x=\"1427.5\" y=\"-208.3\" font-family=\"Helvetica,sans-Serif\" font-size=\"14.00\">value = [0, 2]</text>\r\n",
       "</g>\r\n",
       "<!-- 41&#45;&gt;42 -->\r\n",
       "<g id=\"edge42\" class=\"edge\"><title>41&#45;&gt;42</title>\r\n",
       "<path fill=\"none\" stroke=\"black\" d=\"M1462.62,-296.884C1457.01,-285.886 1450.76,-273.617 1445.1,-262.517\"/>\r\n",
       "<polygon fill=\"black\" stroke=\"black\" points=\"1448.17,-260.839 1440.51,-253.52 1441.93,-264.019 1448.17,-260.839\"/>\r\n",
       "</g>\r\n",
       "<!-- 43 -->\r\n",
       "<g id=\"node44\" class=\"node\"><title>43</title>\r\n",
       "<path fill=\"#e58139\" stroke=\"black\" d=\"M1587,-253.5C1587,-253.5 1506,-253.5 1506,-253.5 1500,-253.5 1494,-247.5 1494,-241.5 1494,-241.5 1494,-212.5 1494,-212.5 1494,-206.5 1500,-200.5 1506,-200.5 1506,-200.5 1587,-200.5 1587,-200.5 1593,-200.5 1599,-206.5 1599,-212.5 1599,-212.5 1599,-241.5 1599,-241.5 1599,-247.5 1593,-253.5 1587,-253.5\"/>\r\n",
       "<text text-anchor=\"middle\" x=\"1546.5\" y=\"-238.3\" font-family=\"Helvetica,sans-Serif\" font-size=\"14.00\">gini = 0.0</text>\r\n",
       "<text text-anchor=\"middle\" x=\"1546.5\" y=\"-223.3\" font-family=\"Helvetica,sans-Serif\" font-size=\"14.00\">samples = 16</text>\r\n",
       "<text text-anchor=\"middle\" x=\"1546.5\" y=\"-208.3\" font-family=\"Helvetica,sans-Serif\" font-size=\"14.00\">value = [16, 0]</text>\r\n",
       "</g>\r\n",
       "<!-- 41&#45;&gt;43 -->\r\n",
       "<g id=\"edge43\" class=\"edge\"><title>41&#45;&gt;43</title>\r\n",
       "<path fill=\"none\" stroke=\"black\" d=\"M1501.25,-296.884C1508.55,-285.776 1516.7,-273.372 1524.05,-262.184\"/>\r\n",
       "<polygon fill=\"black\" stroke=\"black\" points=\"1527.17,-263.8 1529.74,-253.52 1521.32,-259.957 1527.17,-263.8\"/>\r\n",
       "</g>\r\n",
       "<!-- 45 -->\r\n",
       "<g id=\"node46\" class=\"node\"><title>45</title>\r\n",
       "<path fill=\"#e6853f\" stroke=\"black\" d=\"M1738,-261C1738,-261 1629,-261 1629,-261 1623,-261 1617,-255 1617,-249 1617,-249 1617,-205 1617,-205 1617,-199 1623,-193 1629,-193 1629,-193 1738,-193 1738,-193 1744,-193 1750,-199 1750,-205 1750,-205 1750,-249 1750,-249 1750,-255 1744,-261 1738,-261\"/>\r\n",
       "<text text-anchor=\"middle\" x=\"1683.5\" y=\"-245.8\" font-family=\"Helvetica,sans-Serif\" font-size=\"14.00\">Variance &lt;= 2.017</text>\r\n",
       "<text text-anchor=\"middle\" x=\"1683.5\" y=\"-230.8\" font-family=\"Helvetica,sans-Serif\" font-size=\"14.00\">gini = 0.061</text>\r\n",
       "<text text-anchor=\"middle\" x=\"1683.5\" y=\"-215.8\" font-family=\"Helvetica,sans-Serif\" font-size=\"14.00\">samples = 32</text>\r\n",
       "<text text-anchor=\"middle\" x=\"1683.5\" y=\"-200.8\" font-family=\"Helvetica,sans-Serif\" font-size=\"14.00\">value = [31, 1]</text>\r\n",
       "</g>\r\n",
       "<!-- 44&#45;&gt;45 -->\r\n",
       "<g id=\"edge45\" class=\"edge\"><title>44&#45;&gt;45</title>\r\n",
       "<path fill=\"none\" stroke=\"black\" d=\"M1683.5,-296.884C1683.5,-288.778 1683.5,-279.982 1683.5,-271.472\"/>\r\n",
       "<polygon fill=\"black\" stroke=\"black\" points=\"1687,-271.299 1683.5,-261.299 1680,-271.299 1687,-271.299\"/>\r\n",
       "</g>\r\n",
       "<!-- 48 -->\r\n",
       "<g id=\"node49\" class=\"node\"><title>48</title>\r\n",
       "<path fill=\"#e58139\" stroke=\"black\" d=\"M1869,-253.5C1869,-253.5 1780,-253.5 1780,-253.5 1774,-253.5 1768,-247.5 1768,-241.5 1768,-241.5 1768,-212.5 1768,-212.5 1768,-206.5 1774,-200.5 1780,-200.5 1780,-200.5 1869,-200.5 1869,-200.5 1875,-200.5 1881,-206.5 1881,-212.5 1881,-212.5 1881,-241.5 1881,-241.5 1881,-247.5 1875,-253.5 1869,-253.5\"/>\r\n",
       "<text text-anchor=\"middle\" x=\"1824.5\" y=\"-238.3\" font-family=\"Helvetica,sans-Serif\" font-size=\"14.00\">gini = 0.0</text>\r\n",
       "<text text-anchor=\"middle\" x=\"1824.5\" y=\"-223.3\" font-family=\"Helvetica,sans-Serif\" font-size=\"14.00\">samples = 307</text>\r\n",
       "<text text-anchor=\"middle\" x=\"1824.5\" y=\"-208.3\" font-family=\"Helvetica,sans-Serif\" font-size=\"14.00\">value = [307, 0]</text>\r\n",
       "</g>\r\n",
       "<!-- 44&#45;&gt;48 -->\r\n",
       "<g id=\"edge48\" class=\"edge\"><title>44&#45;&gt;48</title>\r\n",
       "<path fill=\"none\" stroke=\"black\" d=\"M1729.28,-296.884C1745.85,-284.896 1764.51,-271.399 1780.89,-259.549\"/>\r\n",
       "<polygon fill=\"black\" stroke=\"black\" points=\"1783.17,-262.217 1789.22,-253.52 1779.07,-256.545 1783.17,-262.217\"/>\r\n",
       "</g>\r\n",
       "<!-- 46 -->\r\n",
       "<g id=\"node47\" class=\"node\"><title>46</title>\r\n",
       "<path fill=\"#e58139\" stroke=\"black\" d=\"M1664,-149.5C1664,-149.5 1583,-149.5 1583,-149.5 1577,-149.5 1571,-143.5 1571,-137.5 1571,-137.5 1571,-108.5 1571,-108.5 1571,-102.5 1577,-96.5 1583,-96.5 1583,-96.5 1664,-96.5 1664,-96.5 1670,-96.5 1676,-102.5 1676,-108.5 1676,-108.5 1676,-137.5 1676,-137.5 1676,-143.5 1670,-149.5 1664,-149.5\"/>\r\n",
       "<text text-anchor=\"middle\" x=\"1623.5\" y=\"-134.3\" font-family=\"Helvetica,sans-Serif\" font-size=\"14.00\">gini = 0.0</text>\r\n",
       "<text text-anchor=\"middle\" x=\"1623.5\" y=\"-119.3\" font-family=\"Helvetica,sans-Serif\" font-size=\"14.00\">samples = 31</text>\r\n",
       "<text text-anchor=\"middle\" x=\"1623.5\" y=\"-104.3\" font-family=\"Helvetica,sans-Serif\" font-size=\"14.00\">value = [31, 0]</text>\r\n",
       "</g>\r\n",
       "<!-- 45&#45;&gt;46 -->\r\n",
       "<g id=\"edge46\" class=\"edge\"><title>45&#45;&gt;46</title>\r\n",
       "<path fill=\"none\" stroke=\"black\" d=\"M1664.02,-192.884C1657.49,-181.776 1650.19,-169.372 1643.61,-158.184\"/>\r\n",
       "<polygon fill=\"black\" stroke=\"black\" points=\"1646.6,-156.365 1638.51,-149.52 1640.57,-159.914 1646.6,-156.365\"/>\r\n",
       "</g>\r\n",
       "<!-- 47 -->\r\n",
       "<g id=\"node48\" class=\"node\"><title>47</title>\r\n",
       "<path fill=\"#399de5\" stroke=\"black\" d=\"M1779,-149.5C1779,-149.5 1706,-149.5 1706,-149.5 1700,-149.5 1694,-143.5 1694,-137.5 1694,-137.5 1694,-108.5 1694,-108.5 1694,-102.5 1700,-96.5 1706,-96.5 1706,-96.5 1779,-96.5 1779,-96.5 1785,-96.5 1791,-102.5 1791,-108.5 1791,-108.5 1791,-137.5 1791,-137.5 1791,-143.5 1785,-149.5 1779,-149.5\"/>\r\n",
       "<text text-anchor=\"middle\" x=\"1742.5\" y=\"-134.3\" font-family=\"Helvetica,sans-Serif\" font-size=\"14.00\">gini = 0.0</text>\r\n",
       "<text text-anchor=\"middle\" x=\"1742.5\" y=\"-119.3\" font-family=\"Helvetica,sans-Serif\" font-size=\"14.00\">samples = 1</text>\r\n",
       "<text text-anchor=\"middle\" x=\"1742.5\" y=\"-104.3\" font-family=\"Helvetica,sans-Serif\" font-size=\"14.00\">value = [0, 1]</text>\r\n",
       "</g>\r\n",
       "<!-- 45&#45;&gt;47 -->\r\n",
       "<g id=\"edge47\" class=\"edge\"><title>45&#45;&gt;47</title>\r\n",
       "<path fill=\"none\" stroke=\"black\" d=\"M1702.66,-192.884C1709.08,-181.776 1716.26,-169.372 1722.73,-158.184\"/>\r\n",
       "<polygon fill=\"black\" stroke=\"black\" points=\"1725.76,-159.929 1727.74,-149.52 1719.7,-156.424 1725.76,-159.929\"/>\r\n",
       "</g>\r\n",
       "</g>\r\n",
       "</svg>\r\n"
      ],
      "text/plain": [
       "<graphviz.files.Source at 0x84e0031e48>"
      ]
     },
     "execution_count": 59,
     "metadata": {},
     "output_type": "execute_result"
    }
   ],
   "source": [
    "graphviz.Source(dot_data)"
   ]
  },
  {
   "cell_type": "markdown",
   "metadata": {},
   "source": [
    "#### After Applying the best parameters with the help of Grid Search we see that the model accuracy score has improved. \n",
    "\n",
    "By looking at the below reference table we easy compare the results of Decision tree Model with and Without Pruning."
   ]
  },
  {
   "cell_type": "code",
   "execution_count": 60,
   "metadata": {},
   "outputs": [
    {
     "data": {
      "text/html": [
       "<div>\n",
       "<style scoped>\n",
       "    .dataframe tbody tr th:only-of-type {\n",
       "        vertical-align: middle;\n",
       "    }\n",
       "\n",
       "    .dataframe tbody tr th {\n",
       "        vertical-align: top;\n",
       "    }\n",
       "\n",
       "    .dataframe thead th {\n",
       "        text-align: right;\n",
       "    }\n",
       "</style>\n",
       "<table border=\"1\" class=\"dataframe\">\n",
       "  <thead>\n",
       "    <tr style=\"text-align: right;\">\n",
       "      <th></th>\n",
       "      <th>Parameters</th>\n",
       "      <th>Without Grid Search</th>\n",
       "      <th>With Grid Search</th>\n",
       "    </tr>\n",
       "  </thead>\n",
       "  <tbody>\n",
       "    <tr>\n",
       "      <th>0</th>\n",
       "      <td>Max_Depth</td>\n",
       "      <td>3.0000</td>\n",
       "      <td>None</td>\n",
       "    </tr>\n",
       "    <tr>\n",
       "      <th>1</th>\n",
       "      <td>Max_Feature</td>\n",
       "      <td>4.0000</td>\n",
       "      <td>4</td>\n",
       "    </tr>\n",
       "    <tr>\n",
       "      <th>2</th>\n",
       "      <td>Accuracy Score</td>\n",
       "      <td>0.9300</td>\n",
       "      <td>0.9850</td>\n",
       "    </tr>\n",
       "    <tr>\n",
       "      <th>3</th>\n",
       "      <td>f1 Score for Class0</td>\n",
       "      <td>0.9400</td>\n",
       "      <td>0.9900</td>\n",
       "    </tr>\n",
       "    <tr>\n",
       "      <th>4</th>\n",
       "      <td>f1 Score for Class1</td>\n",
       "      <td>0.9300</td>\n",
       "      <td>0.9800</td>\n",
       "    </tr>\n",
       "    <tr>\n",
       "      <th>5</th>\n",
       "      <td>Specificity</td>\n",
       "      <td>0.9500</td>\n",
       "      <td>0.9900</td>\n",
       "    </tr>\n",
       "    <tr>\n",
       "      <th>6</th>\n",
       "      <td>Sensitivity</td>\n",
       "      <td>0.9200</td>\n",
       "      <td>0.9800</td>\n",
       "    </tr>\n",
       "    <tr>\n",
       "      <th>7</th>\n",
       "      <td>Misclassified</td>\n",
       "      <td>26.0000</td>\n",
       "      <td>6</td>\n",
       "    </tr>\n",
       "  </tbody>\n",
       "</table>\n",
       "</div>"
      ],
      "text/plain": [
       "            Parameters  Without Grid Search With Grid Search\n",
       "0            Max_Depth               3.0000             None\n",
       "1          Max_Feature               4.0000                4\n",
       "2       Accuracy Score               0.9300           0.9850\n",
       "3  f1 Score for Class0               0.9400           0.9900\n",
       "4  f1 Score for Class1               0.9300           0.9800\n",
       "5          Specificity               0.9500           0.9900\n",
       "6          Sensitivity               0.9200           0.9800\n",
       "7        Misclassified              26.0000                6"
      ]
     },
     "execution_count": 60,
     "metadata": {},
     "output_type": "execute_result"
    }
   ],
   "source": [
    "DT_Classifier=[['Max_Depth',3,'None'],['Max_Feature',4,4],['Accuracy Score',0.93,0.985],['f1 Score for Class0',0.94,0.99],['f1 Score for Class1',0.93,0.98],['Specificity',0.95,0.99],['Sensitivity',0.92,0.98],['Misclassified',26,6]]\n",
    "Result_Summary2= pd.DataFrame(DT_Classifier, columns = ['Parameters','Without Grid Search','With Grid Search'])\n",
    "Result_Summary2"
   ]
  },
  {
   "cell_type": "markdown",
   "metadata": {},
   "source": [
    "References:\n",
    "1. https://scikit-learn.org/stable/auto_examples/tree/plot_unveil_tree_structure.html\n",
    "2. https://webfocusinfocenter.informationbuilders.com/wfappent/TLs/TL_rstat/source/DecisionTree47.html\n",
    "3. https://machinelearningmastery.com/classification-and-regression-trees-for-machine-learning/"
   ]
  },
  {
   "cell_type": "markdown",
   "metadata": {},
   "source": [
    "**Model  has 98.5 % Accuracy score after aplying Grid Search which is good but might be chance of Overfitting. This can be vizualized by plotting Decision_Boundary for being more sure about overfitting** "
   ]
  }
 ],
 "metadata": {
  "kernelspec": {
   "display_name": "Python 3",
   "language": "python",
   "name": "python3"
  },
  "language_info": {
   "codemirror_mode": {
    "name": "ipython",
    "version": 3
   },
   "file_extension": ".py",
   "mimetype": "text/x-python",
   "name": "python",
   "nbconvert_exporter": "python",
   "pygments_lexer": "ipython3",
   "version": "3.7.4"
  }
 },
 "nbformat": 4,
 "nbformat_minor": 4
}
